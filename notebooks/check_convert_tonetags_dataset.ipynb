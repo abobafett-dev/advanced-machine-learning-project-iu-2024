{
 "cells": [
  {
   "cell_type": "code",
   "id": "initial_id",
   "metadata": {
    "collapsed": true,
    "ExecuteTime": {
     "end_time": "2024-04-08T18:13:57.155122Z",
     "start_time": "2024-04-08T18:13:57.148435Z"
    }
   },
   "source": [
    "import pandas as pd\n",
    "import numpy as np\n",
    "import copy\n",
    "import re\n",
    "import string\n",
    "import ydata_profiling\n",
    "from langdetect import detect\n",
    "from nltk.corpus import stopwords\n",
    "from nltk import word_tokenize\n",
    "%matplotlib inline\n",
    "\n",
    "from tqdm.auto import tqdm\n",
    "\n",
    "tqdm.pandas()"
   ],
   "outputs": [],
   "execution_count": 33
  },
  {
   "metadata": {
    "ExecuteTime": {
     "end_time": "2024-04-08T16:54:03.488292Z",
     "start_time": "2024-04-08T16:54:03.484521Z"
    }
   },
   "cell_type": "code",
   "source": [
    "path_dataset = \"../datasets/tonetags_dataset_tumblr.csv\""
   ],
   "id": "2b5f07417c54df6c",
   "outputs": [],
   "execution_count": 2
  },
  {
   "metadata": {
    "ExecuteTime": {
     "end_time": "2024-04-08T16:54:03.497223Z",
     "start_time": "2024-04-08T16:54:03.489371Z"
    }
   },
   "cell_type": "code",
   "source": [
    "def str_to_list(value):\n",
    "    list_values = value.strip('[]').split(', ')\n",
    "    cleaned_list_values = [item[1:-1] for item in list_values]\n",
    "    return cleaned_list_values"
   ],
   "id": "996e01130c17672d",
   "outputs": [],
   "execution_count": 3
  },
  {
   "metadata": {
    "ExecuteTime": {
     "end_time": "2024-04-08T16:54:06.978051Z",
     "start_time": "2024-04-08T16:54:03.499228Z"
    }
   },
   "cell_type": "code",
   "source": [
    "df1 = pd.read_csv(path_dataset, index_col=0, converters={\"tags\": str_to_list})\n",
    "# df = pd.read_csv(path_dataset, index_col=0)"
   ],
   "id": "cd698326f229a5ad",
   "outputs": [],
   "execution_count": 4
  },
  {
   "metadata": {
    "ExecuteTime": {
     "end_time": "2024-04-08T16:54:06.986647Z",
     "start_time": "2024-04-08T16:54:06.980561Z"
    }
   },
   "cell_type": "code",
   "source": [
    "df1.shape"
   ],
   "id": "c531bcfd67e04781",
   "outputs": [
    {
     "data": {
      "text/plain": [
       "(379191, 7)"
      ]
     },
     "execution_count": 5,
     "metadata": {},
     "output_type": "execute_result"
    }
   ],
   "execution_count": 5
  },
  {
   "metadata": {
    "ExecuteTime": {
     "end_time": "2024-04-08T16:54:07.004678Z",
     "start_time": "2024-04-08T16:54:06.988748Z"
    }
   },
   "cell_type": "code",
   "source": [
    "df1.head()"
   ],
   "id": "797355ae8dbc74c8",
   "outputs": [
    {
     "data": {
      "text/plain": [
       "   Unnamed: 0                timestamp  \\\n",
       "0         0.0  2024-03-31 14:49:00 GMT   \n",
       "1         1.0  2024-03-31 14:12:40 GMT   \n",
       "2         2.0  2024-03-31 09:08:46 GMT   \n",
       "3         3.0  2024-03-31 05:06:36 GMT   \n",
       "4         4.0  2024-03-31 03:18:52 GMT   \n",
       "\n",
       "                                                 URL                 blogName  \\\n",
       "0  https://two-hearts-beat.tumblr.com/post/746477...          two-hearts-beat   \n",
       "1  https://miniatureketchupbottles.tumblr.com/pos...  miniatureketchupbottles   \n",
       "2  https://www.tumblr.com/blog/view/writtenkiss/7...              writtenkiss   \n",
       "3  https://silly-abro.tumblr.com/post/74644098511...               silly-abro   \n",
       "4  https://www.tumblr.com/blog/view/bet-h/7464342...                    bet-h   \n",
       "\n",
       "  title                                               tags  \\\n",
       "0   NaN                              [🙈, genuine question]   \n",
       "1   NaN  [genuine question, like actually where do peop...   \n",
       "2   NaN  [꒰͡ 𝐒𝐇𝐈𝐓𝐏𝐎𝐒𝐓𝐈𝐍𝐆 — piofiore. 🌱, genuine questio...   \n",
       "3   NaN  [Scene, emo, rawr x3, genuine question, I gues...   \n",
       "4   NaN  [why do tumblr talk in tags, like why, genuine...   \n",
       "\n",
       "                                                text  \n",
       "0  we’ve all talked about the ‘gifted child’ to s...  \n",
       "1  Is the concept of straight girls religiously w...  \n",
       "2  I am sincerely curious. Has some of you ever w...  \n",
       "3  Bro idk how people look so fucking good in the...  \n",
       "4                                             Ur mom  "
      ],
      "text/html": [
       "<div>\n",
       "<style scoped>\n",
       "    .dataframe tbody tr th:only-of-type {\n",
       "        vertical-align: middle;\n",
       "    }\n",
       "\n",
       "    .dataframe tbody tr th {\n",
       "        vertical-align: top;\n",
       "    }\n",
       "\n",
       "    .dataframe thead th {\n",
       "        text-align: right;\n",
       "    }\n",
       "</style>\n",
       "<table border=\"1\" class=\"dataframe\">\n",
       "  <thead>\n",
       "    <tr style=\"text-align: right;\">\n",
       "      <th></th>\n",
       "      <th>Unnamed: 0</th>\n",
       "      <th>timestamp</th>\n",
       "      <th>URL</th>\n",
       "      <th>blogName</th>\n",
       "      <th>title</th>\n",
       "      <th>tags</th>\n",
       "      <th>text</th>\n",
       "    </tr>\n",
       "  </thead>\n",
       "  <tbody>\n",
       "    <tr>\n",
       "      <th>0</th>\n",
       "      <td>0.0</td>\n",
       "      <td>2024-03-31 14:49:00 GMT</td>\n",
       "      <td>https://two-hearts-beat.tumblr.com/post/746477...</td>\n",
       "      <td>two-hearts-beat</td>\n",
       "      <td>NaN</td>\n",
       "      <td>[🙈, genuine question]</td>\n",
       "      <td>we’ve all talked about the ‘gifted child’ to s...</td>\n",
       "    </tr>\n",
       "    <tr>\n",
       "      <th>1</th>\n",
       "      <td>1.0</td>\n",
       "      <td>2024-03-31 14:12:40 GMT</td>\n",
       "      <td>https://miniatureketchupbottles.tumblr.com/pos...</td>\n",
       "      <td>miniatureketchupbottles</td>\n",
       "      <td>NaN</td>\n",
       "      <td>[genuine question, like actually where do peop...</td>\n",
       "      <td>Is the concept of straight girls religiously w...</td>\n",
       "    </tr>\n",
       "    <tr>\n",
       "      <th>2</th>\n",
       "      <td>2.0</td>\n",
       "      <td>2024-03-31 09:08:46 GMT</td>\n",
       "      <td>https://www.tumblr.com/blog/view/writtenkiss/7...</td>\n",
       "      <td>writtenkiss</td>\n",
       "      <td>NaN</td>\n",
       "      <td>[꒰͡ 𝐒𝐇𝐈𝐓𝐏𝐎𝐒𝐓𝐈𝐍𝐆 — piofiore. 🌱, genuine questio...</td>\n",
       "      <td>I am sincerely curious. Has some of you ever w...</td>\n",
       "    </tr>\n",
       "    <tr>\n",
       "      <th>3</th>\n",
       "      <td>3.0</td>\n",
       "      <td>2024-03-31 05:06:36 GMT</td>\n",
       "      <td>https://silly-abro.tumblr.com/post/74644098511...</td>\n",
       "      <td>silly-abro</td>\n",
       "      <td>NaN</td>\n",
       "      <td>[Scene, emo, rawr x3, genuine question, I gues...</td>\n",
       "      <td>Bro idk how people look so fucking good in the...</td>\n",
       "    </tr>\n",
       "    <tr>\n",
       "      <th>4</th>\n",
       "      <td>4.0</td>\n",
       "      <td>2024-03-31 03:18:52 GMT</td>\n",
       "      <td>https://www.tumblr.com/blog/view/bet-h/7464342...</td>\n",
       "      <td>bet-h</td>\n",
       "      <td>NaN</td>\n",
       "      <td>[why do tumblr talk in tags, like why, genuine...</td>\n",
       "      <td>Ur mom</td>\n",
       "    </tr>\n",
       "  </tbody>\n",
       "</table>\n",
       "</div>"
      ]
     },
     "execution_count": 6,
     "metadata": {},
     "output_type": "execute_result"
    }
   ],
   "execution_count": 6
  },
  {
   "metadata": {
    "ExecuteTime": {
     "end_time": "2024-04-08T16:54:07.030160Z",
     "start_time": "2024-04-08T16:54:07.006402Z"
    }
   },
   "cell_type": "code",
   "source": [
    "df2 = df1[['tags', 'text']]"
   ],
   "id": "be7a6a227025bc3",
   "outputs": [],
   "execution_count": 7
  },
  {
   "metadata": {
    "ExecuteTime": {
     "end_time": "2024-04-08T16:54:07.040620Z",
     "start_time": "2024-04-08T16:54:07.031895Z"
    }
   },
   "cell_type": "code",
   "source": [
    "df2.head()"
   ],
   "id": "a7b9ba003b7e37cc",
   "outputs": [
    {
     "data": {
      "text/plain": [
       "                                                tags  \\\n",
       "0                              [🙈, genuine question]   \n",
       "1  [genuine question, like actually where do peop...   \n",
       "2  [꒰͡ 𝐒𝐇𝐈𝐓𝐏𝐎𝐒𝐓𝐈𝐍𝐆 — piofiore. 🌱, genuine questio...   \n",
       "3  [Scene, emo, rawr x3, genuine question, I gues...   \n",
       "4  [why do tumblr talk in tags, like why, genuine...   \n",
       "\n",
       "                                                text  \n",
       "0  we’ve all talked about the ‘gifted child’ to s...  \n",
       "1  Is the concept of straight girls religiously w...  \n",
       "2  I am sincerely curious. Has some of you ever w...  \n",
       "3  Bro idk how people look so fucking good in the...  \n",
       "4                                             Ur mom  "
      ],
      "text/html": [
       "<div>\n",
       "<style scoped>\n",
       "    .dataframe tbody tr th:only-of-type {\n",
       "        vertical-align: middle;\n",
       "    }\n",
       "\n",
       "    .dataframe tbody tr th {\n",
       "        vertical-align: top;\n",
       "    }\n",
       "\n",
       "    .dataframe thead th {\n",
       "        text-align: right;\n",
       "    }\n",
       "</style>\n",
       "<table border=\"1\" class=\"dataframe\">\n",
       "  <thead>\n",
       "    <tr style=\"text-align: right;\">\n",
       "      <th></th>\n",
       "      <th>tags</th>\n",
       "      <th>text</th>\n",
       "    </tr>\n",
       "  </thead>\n",
       "  <tbody>\n",
       "    <tr>\n",
       "      <th>0</th>\n",
       "      <td>[🙈, genuine question]</td>\n",
       "      <td>we’ve all talked about the ‘gifted child’ to s...</td>\n",
       "    </tr>\n",
       "    <tr>\n",
       "      <th>1</th>\n",
       "      <td>[genuine question, like actually where do peop...</td>\n",
       "      <td>Is the concept of straight girls religiously w...</td>\n",
       "    </tr>\n",
       "    <tr>\n",
       "      <th>2</th>\n",
       "      <td>[꒰͡ 𝐒𝐇𝐈𝐓𝐏𝐎𝐒𝐓𝐈𝐍𝐆 — piofiore. 🌱, genuine questio...</td>\n",
       "      <td>I am sincerely curious. Has some of you ever w...</td>\n",
       "    </tr>\n",
       "    <tr>\n",
       "      <th>3</th>\n",
       "      <td>[Scene, emo, rawr x3, genuine question, I gues...</td>\n",
       "      <td>Bro idk how people look so fucking good in the...</td>\n",
       "    </tr>\n",
       "    <tr>\n",
       "      <th>4</th>\n",
       "      <td>[why do tumblr talk in tags, like why, genuine...</td>\n",
       "      <td>Ur mom</td>\n",
       "    </tr>\n",
       "  </tbody>\n",
       "</table>\n",
       "</div>"
      ]
     },
     "execution_count": 8,
     "metadata": {},
     "output_type": "execute_result"
    }
   ],
   "execution_count": 8
  },
  {
   "metadata": {
    "ExecuteTime": {
     "end_time": "2024-04-08T16:54:07.047588Z",
     "start_time": "2024-04-08T16:54:07.041623Z"
    }
   },
   "cell_type": "code",
   "source": [
    "file_path = \"../tonetags.txt\"\n",
    "\n",
    "tone_tags = {}\n",
    "\n",
    "with open(file_path, 'r', encoding='utf-8') as file:\n",
    "\tfor line in file:\n",
    "\t\tkey, value = line.strip().split(':')\n",
    "\t\ttone_tags[key.strip()] = value.strip().split(',')\n",
    "\n",
    "for key, values in tone_tags.items():\n",
    "\tprint(f\"{key}: {values}\")"
   ],
   "id": "245b38e88ba7b627",
   "outputs": [
    {
     "name": "stdout",
     "output_type": "stream",
     "text": [
      "affectionate: ['affectionate', '/a']\n",
      "copypasta: ['copypasta', 'copypaste', 'repeated text', '/c']\n",
      "clickbait: ['clickbait', '/cb']\n",
      "fake: ['fake', '/f']\n",
      "genuine: ['genuine', '/g', '/gen']\n",
      "genuine question: ['genuine question', '/genq']\n",
      "half joking: ['half joking', 'half-joking', 'half joke', 'half-joke', 'halfjoke', '/hf']\n",
      "hyperbole: ['hyperbole', '/hyp']\n",
      "inside joke: ['inside joke', 'insidejoke', 'insidejoking', 'inside-joke', 'inside-joking', '/ij']\n",
      "joking: ['joking', 'joke', '/j']\n",
      "lyrics: ['lyrics', '/l', '/ly']\n",
      "light-hearted: ['light-hearted', 'light hearted', 'lighthearted', '/lh']\n",
      "literal: ['literal', 'literally', '/li']\n",
      "little upset: ['little upset', 'littleupset', 'little-upset', '/lu-a', '/lu']\n",
      "metaphorical: ['metaphorical', '/m']\n",
      "not a vent: ['not a vent', 'notavent', 'not-a-vent', '/nav']\n",
      "nobody here: ['nobodyhere', 'nobody-here', '/nbh']\n",
      "negative connotation: ['negative connotation', 'negetiveconnotation', 'negative-connotation', '/neg', '/ng']\n",
      "neutral connotation: ['neutral connotation', 'neutralconnotation', 'neutral-connotation', '/neu']\n",
      "not forced: ['not forced', 'not-forced', 'notforced', '/nf']\n",
      "not mad: ['not mad', 'not-mad', 'notmad', '/nm']\n",
      "not passive aggressive: ['not passive aggressive', 'not passive-aggressive', 'not-passive-aggressive', 'notpassiveaggressive', '/npa']\n",
      "not subtweeting: ['not subtweeting', 'notsubtweeting', '/nsb']\n",
      "non-serious: ['non-serious', 'non serious', 'nonserious', 'not serious', 'not-serious', 'notserious', '/nsrs']\n",
      "non-sexual intent: ['non-sexual intent', 'not-sexual intent', 'non-sexual-intent', 'nonsexualintent', 'not-sexual-intent', 'notsexualintent', '/nsx', '/nx']\n",
      "platonic: ['platonic', '/p']\n",
      "passive aggressive: ['passive aggressive', 'passive-aggressive', '/pa']\n",
      "positive connotation: ['positive connotation', 'positive-connotation', 'positiveconnotation', '/pos', '/pc']\n",
      "quote: ['quote', '/q']\n",
      "romantic: ['romantic', '/r']\n",
      "reference: ['reference', '/ref']\n",
      "rhetorical: ['rhetorical', 'rhetorical question', 'rhetorical-question', 'rhetoricalquestion', '/rh', '/rt']\n",
      "sarcastic: ['sarcastic', 'sarcasm', '/s']\n",
      "serious: ['serious', '/srs']\n",
      "sexual intent: ['sexual intent', ' sexualintent', 'sexual-intent', '/x', '/sx']\n",
      "teasing: ['teasing', '/t']\n",
      "threat: ['threat', '/th']\n",
      "ironic: ['ironic', '/iron']\n",
      "not at you: ['not at you', 'not-at-you', 'notatyou', '/nay']\n",
      "nothing personal: ['nothing personal', 'nothing-personal', 'nothingpersonal', '/np']\n"
     ]
    }
   ],
   "execution_count": 9
  },
  {
   "metadata": {
    "ExecuteTime": {
     "end_time": "2024-04-08T16:54:07.065611Z",
     "start_time": "2024-04-08T16:54:07.048917Z"
    }
   },
   "cell_type": "code",
   "source": [
    "df3 = df2.copy()"
   ],
   "id": "d33a88080fe3e898",
   "outputs": [],
   "execution_count": 10
  },
  {
   "metadata": {
    "ExecuteTime": {
     "end_time": "2024-04-08T16:54:07.071010Z",
     "start_time": "2024-04-08T16:54:07.066743Z"
    }
   },
   "cell_type": "code",
   "source": [
    "def replace_values(tags_list):\n",
    "    return [key for key, value in tone_tags.items() if any(tag.lower() in value for tag in tags_list)]"
   ],
   "id": "b62fc1383d28b26",
   "outputs": [],
   "execution_count": 11
  },
  {
   "metadata": {
    "ExecuteTime": {
     "end_time": "2024-04-08T16:54:23.683048Z",
     "start_time": "2024-04-08T16:54:07.073104Z"
    }
   },
   "cell_type": "code",
   "source": [
    "df3['tags'] = df2['tags'].apply(replace_values)"
   ],
   "id": "273b8b9076a02949",
   "outputs": [],
   "execution_count": 12
  },
  {
   "metadata": {
    "ExecuteTime": {
     "end_time": "2024-04-08T16:54:23.691139Z",
     "start_time": "2024-04-08T16:54:23.684068Z"
    }
   },
   "cell_type": "code",
   "source": [
    "df3.head()"
   ],
   "id": "1fa33272371b3fb4",
   "outputs": [
    {
     "data": {
      "text/plain": [
       "                 tags                                               text\n",
       "0  [genuine question]  we’ve all talked about the ‘gifted child’ to s...\n",
       "1  [genuine question]  Is the concept of straight girls religiously w...\n",
       "2  [genuine question]  I am sincerely curious. Has some of you ever w...\n",
       "3  [genuine question]  Bro idk how people look so fucking good in the...\n",
       "4  [genuine question]                                             Ur mom"
      ],
      "text/html": [
       "<div>\n",
       "<style scoped>\n",
       "    .dataframe tbody tr th:only-of-type {\n",
       "        vertical-align: middle;\n",
       "    }\n",
       "\n",
       "    .dataframe tbody tr th {\n",
       "        vertical-align: top;\n",
       "    }\n",
       "\n",
       "    .dataframe thead th {\n",
       "        text-align: right;\n",
       "    }\n",
       "</style>\n",
       "<table border=\"1\" class=\"dataframe\">\n",
       "  <thead>\n",
       "    <tr style=\"text-align: right;\">\n",
       "      <th></th>\n",
       "      <th>tags</th>\n",
       "      <th>text</th>\n",
       "    </tr>\n",
       "  </thead>\n",
       "  <tbody>\n",
       "    <tr>\n",
       "      <th>0</th>\n",
       "      <td>[genuine question]</td>\n",
       "      <td>we’ve all talked about the ‘gifted child’ to s...</td>\n",
       "    </tr>\n",
       "    <tr>\n",
       "      <th>1</th>\n",
       "      <td>[genuine question]</td>\n",
       "      <td>Is the concept of straight girls religiously w...</td>\n",
       "    </tr>\n",
       "    <tr>\n",
       "      <th>2</th>\n",
       "      <td>[genuine question]</td>\n",
       "      <td>I am sincerely curious. Has some of you ever w...</td>\n",
       "    </tr>\n",
       "    <tr>\n",
       "      <th>3</th>\n",
       "      <td>[genuine question]</td>\n",
       "      <td>Bro idk how people look so fucking good in the...</td>\n",
       "    </tr>\n",
       "    <tr>\n",
       "      <th>4</th>\n",
       "      <td>[genuine question]</td>\n",
       "      <td>Ur mom</td>\n",
       "    </tr>\n",
       "  </tbody>\n",
       "</table>\n",
       "</div>"
      ]
     },
     "execution_count": 13,
     "metadata": {},
     "output_type": "execute_result"
    }
   ],
   "execution_count": 13
  },
  {
   "metadata": {
    "ExecuteTime": {
     "end_time": "2024-04-08T16:54:23.765382Z",
     "start_time": "2024-04-08T16:54:23.693861Z"
    }
   },
   "cell_type": "code",
   "source": [
    "list_with_empty_tags = df3[df3['tags'].apply(lambda x: len(x) == 0)].index.tolist()\n",
    "list_with_empty_tags"
   ],
   "id": "f9d0688bea4abbb7",
   "outputs": [
    {
     "data": {
      "text/plain": [
       "[1333,\n",
       " 21152,\n",
       " 91564,\n",
       " 1385548,\n",
       " 1700697,\n",
       " 1710109,\n",
       " 1710110,\n",
       " 1710111,\n",
       " 1710112,\n",
       " 1710113,\n",
       " 1710114,\n",
       " 1710115,\n",
       " 1710116,\n",
       " 1710117,\n",
       " 1710118,\n",
       " 1710119,\n",
       " 1710120,\n",
       " 1710121,\n",
       " 1710122,\n",
       " 1710123,\n",
       " 1710124,\n",
       " 1710125,\n",
       " 1710126,\n",
       " 1710127,\n",
       " 1710128,\n",
       " 1710129,\n",
       " 1710130,\n",
       " 1710131,\n",
       " 1710132,\n",
       " 1710133,\n",
       " 1710134,\n",
       " 1710135,\n",
       " 1710136]"
      ]
     },
     "execution_count": 14,
     "metadata": {},
     "output_type": "execute_result"
    }
   ],
   "execution_count": 14
  },
  {
   "metadata": {
    "ExecuteTime": {
     "end_time": "2024-04-08T16:54:23.785732Z",
     "start_time": "2024-04-08T16:54:23.766826Z"
    }
   },
   "cell_type": "code",
   "source": [
    "for id in list_with_empty_tags:\n",
    "    print(id, df1.loc[id]['tags'])"
   ],
   "id": "6879970cd505758e",
   "outputs": [
    {
     "name": "stdout",
     "output_type": "stream",
     "text": [
      "1333 [\"i'm tweaking\"]\n",
      "21152 [\"i'm tweaking\"]\n",
      "91564 [\"i'm tweaking\"]\n",
      "1385548 ['']\n",
      "1700697 [\"yeah alex it's called seasonal depression\", 'this isnt a vent its just a weird babble about this', 'alex babbling']\n",
      "1710109 ['bored', 'nobody here', 'boyfriend', 'boyfriend hoodie', 'hoodie', 'wine', 'sad times']\n",
      "1710110 ['welp', 'nobody here', 'gonna go back to watching digimon']\n",
      "1710111 ['nobody here', '=', 'offline']\n",
      "1710112 ['sunset corp', 'nobody here']\n",
      "1710113 ['Nobody here', 'irl stuff', 'just so angry']\n",
      "1710114 ['me', 'personal', 'work', 'SO SLOW', 'nobody here', 'writing tutor', 'writing workshop', 'writing studio', 'should be', 'making money', 'working']\n",
      "1710115 ['nobody here', 'chris de burgh', 'radiovalerie', 'late night', 'whimsy']\n",
      "1710116 ['blu mar ten', 'nobody here', 'kastle', 'remix', 'could you want me', 'purple']\n",
      "1710117 ['nobody here', 'lady in red', 'graphics', 'chris deburgh']\n",
      "1710118 ['NOBODY HERE', 'audio']\n",
      "1710119 ['Blue Mar Ten', 'Nobody here', 'Kastle']\n",
      "1710120 ['nobody here']\n",
      "1710121 ['Blu Mar Ten', 'nobody here', 'kastle remix', 'drum and bass', 'dnb', 'liquid', 'music']\n",
      "1710122 ['nobody here', 'blu mar ten', 'kastle', 'dubstep', 'amazing']\n",
      "1710123 ['nobody here', 'i go sleep', 'hurr for malaysian time', \"all the fun stuff happens when i'm not around\", 'like jon kissing stana', 'or that benedict dancing video', 'meh...', 'al well', 'imma back in birt time zone in january', \"so i'd better stop rambling and go to sleep\", 'fangirly dreams here i come', 'nanight all', ':D']\n",
      "1710124 ['Nobody Here']\n",
      "1710125 ['Blu Mar Ten', 'Nobody Here', 'Kastle VIP', 'Remix', 'bass', 'dubstep', 'heavy', '2011', 'preview']\n",
      "1710126 ['nobody here', 'vagueblogging sorry', \"seriously though jesus christ are you so self-centered and passive-aggressive that you can't conceive of someone disliking you for a reason\", 'you little TURD']\n",
      "1710127 ['blu mar ten', 'kastle', 'remix', 'nobody here', 'dubstep', 'fucking to dubstep']\n",
      "1710128 ['music', 'blu mar ten', 'nobody here', 'kastle', 'remix', 'dubstep']\n",
      "1710129 ['nobody here', 'just thinking']\n",
      "1710130 ['Blu Mar Ten', 'Nobody Here', 'Kastle remix', 'liquid', 'liquid drum and bass', 'drum n bass', 'drum and bass', 'dnb', 'drum &amp; bass']\n",
      "1710131 ['Nobody Here', 'Things To Remember']\n",
      "1710132 ['dead', 'tumblr', 'nobody here']\n",
      "1710133 ['nobody here', 'sunset corp']\n",
      "1710134 ['sunsetcorp', 'thanks ian', 'nobody here']\n",
      "1710135 ['nobody here', 'lady in red', 'sunsetcorp', 'oneohtrix point never', 'chris D burgh', 'youtube', 'music video', 'music', 'video', 'electronic music', 'experimental', 'eighties']\n",
      "1710136 ['Rainbow Road', 'Nobody Here']\n"
     ]
    }
   ],
   "execution_count": 15
  },
  {
   "metadata": {
    "ExecuteTime": {
     "end_time": "2024-04-08T16:54:23.873583Z",
     "start_time": "2024-04-08T16:54:23.787152Z"
    }
   },
   "cell_type": "code",
   "source": [
    "df4 = df3[df3['tags'].apply(lambda x: len(x) != 0)]"
   ],
   "id": "bdf3df0fc49be265",
   "outputs": [],
   "execution_count": 16
  },
  {
   "metadata": {
    "ExecuteTime": {
     "end_time": "2024-04-08T16:54:24.043407Z",
     "start_time": "2024-04-08T16:54:23.874727Z"
    }
   },
   "cell_type": "code",
   "source": [
    "df5 = df4.explode('tags')"
   ],
   "id": "30cf96cb51140f8f",
   "outputs": [],
   "execution_count": 17
  },
  {
   "metadata": {
    "ExecuteTime": {
     "end_time": "2024-04-08T16:54:24.051748Z",
     "start_time": "2024-04-08T16:54:24.044913Z"
    }
   },
   "cell_type": "code",
   "source": [
    "df5.head()"
   ],
   "id": "ba54f78e100a0903",
   "outputs": [
    {
     "data": {
      "text/plain": [
       "               tags                                               text\n",
       "0  genuine question  we’ve all talked about the ‘gifted child’ to s...\n",
       "1  genuine question  Is the concept of straight girls religiously w...\n",
       "2  genuine question  I am sincerely curious. Has some of you ever w...\n",
       "3  genuine question  Bro idk how people look so fucking good in the...\n",
       "4  genuine question                                             Ur mom"
      ],
      "text/html": [
       "<div>\n",
       "<style scoped>\n",
       "    .dataframe tbody tr th:only-of-type {\n",
       "        vertical-align: middle;\n",
       "    }\n",
       "\n",
       "    .dataframe tbody tr th {\n",
       "        vertical-align: top;\n",
       "    }\n",
       "\n",
       "    .dataframe thead th {\n",
       "        text-align: right;\n",
       "    }\n",
       "</style>\n",
       "<table border=\"1\" class=\"dataframe\">\n",
       "  <thead>\n",
       "    <tr style=\"text-align: right;\">\n",
       "      <th></th>\n",
       "      <th>tags</th>\n",
       "      <th>text</th>\n",
       "    </tr>\n",
       "  </thead>\n",
       "  <tbody>\n",
       "    <tr>\n",
       "      <th>0</th>\n",
       "      <td>genuine question</td>\n",
       "      <td>we’ve all talked about the ‘gifted child’ to s...</td>\n",
       "    </tr>\n",
       "    <tr>\n",
       "      <th>1</th>\n",
       "      <td>genuine question</td>\n",
       "      <td>Is the concept of straight girls religiously w...</td>\n",
       "    </tr>\n",
       "    <tr>\n",
       "      <th>2</th>\n",
       "      <td>genuine question</td>\n",
       "      <td>I am sincerely curious. Has some of you ever w...</td>\n",
       "    </tr>\n",
       "    <tr>\n",
       "      <th>3</th>\n",
       "      <td>genuine question</td>\n",
       "      <td>Bro idk how people look so fucking good in the...</td>\n",
       "    </tr>\n",
       "    <tr>\n",
       "      <th>4</th>\n",
       "      <td>genuine question</td>\n",
       "      <td>Ur mom</td>\n",
       "    </tr>\n",
       "  </tbody>\n",
       "</table>\n",
       "</div>"
      ]
     },
     "execution_count": 18,
     "metadata": {},
     "output_type": "execute_result"
    }
   ],
   "execution_count": 18
  },
  {
   "metadata": {
    "ExecuteTime": {
     "end_time": "2024-04-08T16:54:24.241570Z",
     "start_time": "2024-04-08T16:54:24.052817Z"
    }
   },
   "cell_type": "code",
   "source": [
    "df6 = df5.drop_duplicates()"
   ],
   "id": "193a14d6aa7db408",
   "outputs": [],
   "execution_count": 19
  },
  {
   "metadata": {
    "ExecuteTime": {
     "end_time": "2024-04-08T16:54:24.251338Z",
     "start_time": "2024-04-08T16:54:24.243584Z"
    }
   },
   "cell_type": "code",
   "source": [
    "df6.head()"
   ],
   "id": "2d68ba5c0fcc62d5",
   "outputs": [
    {
     "data": {
      "text/plain": [
       "               tags                                               text\n",
       "0  genuine question  we’ve all talked about the ‘gifted child’ to s...\n",
       "1  genuine question  Is the concept of straight girls religiously w...\n",
       "2  genuine question  I am sincerely curious. Has some of you ever w...\n",
       "3  genuine question  Bro idk how people look so fucking good in the...\n",
       "4  genuine question                                             Ur mom"
      ],
      "text/html": [
       "<div>\n",
       "<style scoped>\n",
       "    .dataframe tbody tr th:only-of-type {\n",
       "        vertical-align: middle;\n",
       "    }\n",
       "\n",
       "    .dataframe tbody tr th {\n",
       "        vertical-align: top;\n",
       "    }\n",
       "\n",
       "    .dataframe thead th {\n",
       "        text-align: right;\n",
       "    }\n",
       "</style>\n",
       "<table border=\"1\" class=\"dataframe\">\n",
       "  <thead>\n",
       "    <tr style=\"text-align: right;\">\n",
       "      <th></th>\n",
       "      <th>tags</th>\n",
       "      <th>text</th>\n",
       "    </tr>\n",
       "  </thead>\n",
       "  <tbody>\n",
       "    <tr>\n",
       "      <th>0</th>\n",
       "      <td>genuine question</td>\n",
       "      <td>we’ve all talked about the ‘gifted child’ to s...</td>\n",
       "    </tr>\n",
       "    <tr>\n",
       "      <th>1</th>\n",
       "      <td>genuine question</td>\n",
       "      <td>Is the concept of straight girls religiously w...</td>\n",
       "    </tr>\n",
       "    <tr>\n",
       "      <th>2</th>\n",
       "      <td>genuine question</td>\n",
       "      <td>I am sincerely curious. Has some of you ever w...</td>\n",
       "    </tr>\n",
       "    <tr>\n",
       "      <th>3</th>\n",
       "      <td>genuine question</td>\n",
       "      <td>Bro idk how people look so fucking good in the...</td>\n",
       "    </tr>\n",
       "    <tr>\n",
       "      <th>4</th>\n",
       "      <td>genuine question</td>\n",
       "      <td>Ur mom</td>\n",
       "    </tr>\n",
       "  </tbody>\n",
       "</table>\n",
       "</div>"
      ]
     },
     "execution_count": 20,
     "metadata": {},
     "output_type": "execute_result"
    }
   ],
   "execution_count": 20
  },
  {
   "metadata": {
    "ExecuteTime": {
     "end_time": "2024-04-08T16:54:24.308933Z",
     "start_time": "2024-04-08T16:54:24.253500Z"
    }
   },
   "cell_type": "code",
   "source": [
    "df7 = df6.dropna(subset=['text'])"
   ],
   "id": "8cc6172c5da3997a",
   "outputs": [],
   "execution_count": 21
  },
  {
   "metadata": {
    "ExecuteTime": {
     "end_time": "2024-04-08T16:54:24.318433Z",
     "start_time": "2024-04-08T16:54:24.309945Z"
    }
   },
   "cell_type": "code",
   "source": [
    "df7.head()"
   ],
   "id": "330d2963c2f04168",
   "outputs": [
    {
     "data": {
      "text/plain": [
       "               tags                                               text\n",
       "0  genuine question  we’ve all talked about the ‘gifted child’ to s...\n",
       "1  genuine question  Is the concept of straight girls religiously w...\n",
       "2  genuine question  I am sincerely curious. Has some of you ever w...\n",
       "3  genuine question  Bro idk how people look so fucking good in the...\n",
       "4  genuine question                                             Ur mom"
      ],
      "text/html": [
       "<div>\n",
       "<style scoped>\n",
       "    .dataframe tbody tr th:only-of-type {\n",
       "        vertical-align: middle;\n",
       "    }\n",
       "\n",
       "    .dataframe tbody tr th {\n",
       "        vertical-align: top;\n",
       "    }\n",
       "\n",
       "    .dataframe thead th {\n",
       "        text-align: right;\n",
       "    }\n",
       "</style>\n",
       "<table border=\"1\" class=\"dataframe\">\n",
       "  <thead>\n",
       "    <tr style=\"text-align: right;\">\n",
       "      <th></th>\n",
       "      <th>tags</th>\n",
       "      <th>text</th>\n",
       "    </tr>\n",
       "  </thead>\n",
       "  <tbody>\n",
       "    <tr>\n",
       "      <th>0</th>\n",
       "      <td>genuine question</td>\n",
       "      <td>we’ve all talked about the ‘gifted child’ to s...</td>\n",
       "    </tr>\n",
       "    <tr>\n",
       "      <th>1</th>\n",
       "      <td>genuine question</td>\n",
       "      <td>Is the concept of straight girls religiously w...</td>\n",
       "    </tr>\n",
       "    <tr>\n",
       "      <th>2</th>\n",
       "      <td>genuine question</td>\n",
       "      <td>I am sincerely curious. Has some of you ever w...</td>\n",
       "    </tr>\n",
       "    <tr>\n",
       "      <th>3</th>\n",
       "      <td>genuine question</td>\n",
       "      <td>Bro idk how people look so fucking good in the...</td>\n",
       "    </tr>\n",
       "    <tr>\n",
       "      <th>4</th>\n",
       "      <td>genuine question</td>\n",
       "      <td>Ur mom</td>\n",
       "    </tr>\n",
       "  </tbody>\n",
       "</table>\n",
       "</div>"
      ]
     },
     "execution_count": 22,
     "metadata": {},
     "output_type": "execute_result"
    }
   ],
   "execution_count": 22
  },
  {
   "cell_type": "code",
   "source": [
    "tag_size = {}\n",
    "\n",
    "for tag in df7.tags.unique().tolist():\n",
    "    tag_size[tag] = df7[df7['tags'] == tag].shape[0]"
   ],
   "metadata": {
    "collapsed": false,
    "ExecuteTime": {
     "end_time": "2024-04-08T16:54:24.752856Z",
     "start_time": "2024-04-08T16:54:24.319460Z"
    }
   },
   "id": "8df4fed36871253d",
   "outputs": [],
   "execution_count": 23
  },
  {
   "cell_type": "code",
   "source": [
    "dict(sorted(tag_size.items(), key=lambda x: x[1]))"
   ],
   "metadata": {
    "collapsed": false,
    "ExecuteTime": {
     "end_time": "2024-04-08T16:54:24.760955Z",
     "start_time": "2024-04-08T16:54:24.753985Z"
    }
   },
   "id": "fd5eb58ed45a0305",
   "outputs": [
    {
     "data": {
      "text/plain": [
       "{'neutral connotation': 1,\n",
       " 'not subtweeting': 6,\n",
       " 'nobody here': 10,\n",
       " 'negative connotation': 29,\n",
       " 'little upset': 40,\n",
       " 'not passive aggressive': 43,\n",
       " 'not at you': 43,\n",
       " 'teasing': 48,\n",
       " 'positive connotation': 53,\n",
       " 'not forced': 61,\n",
       " 'metaphorical': 91,\n",
       " 'non-serious': 209,\n",
       " 'threat': 244,\n",
       " 'hyperbole': 315,\n",
       " 'fake': 322,\n",
       " 'light-hearted': 452,\n",
       " 'affectionate': 843,\n",
       " 'not mad': 1400,\n",
       " 'ironic': 1441,\n",
       " 'not a vent': 1761,\n",
       " 'genuine': 1849,\n",
       " 'clickbait': 2289,\n",
       " 'rhetorical': 2299,\n",
       " 'half joking': 2522,\n",
       " 'sarcastic': 2735,\n",
       " 'copypasta': 2773,\n",
       " 'serious': 4430,\n",
       " 'passive aggressive': 4562,\n",
       " 'nothing personal': 4857,\n",
       " 'romantic': 5228,\n",
       " 'inside joke': 5599,\n",
       " 'genuine question': 7180,\n",
       " 'platonic': 10105,\n",
       " 'reference': 13706,\n",
       " 'joking': 13998,\n",
       " 'lyrics': 18911,\n",
       " 'quote': 35245,\n",
       " 'literal': 61888}"
      ]
     },
     "execution_count": 24,
     "metadata": {},
     "output_type": "execute_result"
    }
   ],
   "execution_count": 24
  },
  {
   "cell_type": "code",
   "source": [
    "printable = set(string.printable)\n",
    "\n",
    "df8 = df7.copy()\n",
    "df8[\"text\"] = df8.text.apply(lambda y: ''.join(filter(lambda x: x in printable, y)))\n",
    "df8.head()"
   ],
   "metadata": {
    "collapsed": false,
    "ExecuteTime": {
     "end_time": "2024-04-08T16:54:30.133555Z",
     "start_time": "2024-04-08T16:54:24.761959Z"
    }
   },
   "id": "5ea9ec7e95e4b5e4",
   "outputs": [
    {
     "data": {
      "text/plain": [
       "               tags                                               text\n",
       "0  genuine question  weve all talked about the gifted child to stru...\n",
       "1  genuine question  Is the concept of straight girls religiously w...\n",
       "2  genuine question  I am sincerely curious. Has some of you ever w...\n",
       "3  genuine question  Bro idk how people look so fucking good in the...\n",
       "4  genuine question                                             Ur mom"
      ],
      "text/html": [
       "<div>\n",
       "<style scoped>\n",
       "    .dataframe tbody tr th:only-of-type {\n",
       "        vertical-align: middle;\n",
       "    }\n",
       "\n",
       "    .dataframe tbody tr th {\n",
       "        vertical-align: top;\n",
       "    }\n",
       "\n",
       "    .dataframe thead th {\n",
       "        text-align: right;\n",
       "    }\n",
       "</style>\n",
       "<table border=\"1\" class=\"dataframe\">\n",
       "  <thead>\n",
       "    <tr style=\"text-align: right;\">\n",
       "      <th></th>\n",
       "      <th>tags</th>\n",
       "      <th>text</th>\n",
       "    </tr>\n",
       "  </thead>\n",
       "  <tbody>\n",
       "    <tr>\n",
       "      <th>0</th>\n",
       "      <td>genuine question</td>\n",
       "      <td>weve all talked about the gifted child to stru...</td>\n",
       "    </tr>\n",
       "    <tr>\n",
       "      <th>1</th>\n",
       "      <td>genuine question</td>\n",
       "      <td>Is the concept of straight girls religiously w...</td>\n",
       "    </tr>\n",
       "    <tr>\n",
       "      <th>2</th>\n",
       "      <td>genuine question</td>\n",
       "      <td>I am sincerely curious. Has some of you ever w...</td>\n",
       "    </tr>\n",
       "    <tr>\n",
       "      <th>3</th>\n",
       "      <td>genuine question</td>\n",
       "      <td>Bro idk how people look so fucking good in the...</td>\n",
       "    </tr>\n",
       "    <tr>\n",
       "      <th>4</th>\n",
       "      <td>genuine question</td>\n",
       "      <td>Ur mom</td>\n",
       "    </tr>\n",
       "  </tbody>\n",
       "</table>\n",
       "</div>"
      ]
     },
     "execution_count": 25,
     "metadata": {},
     "output_type": "execute_result"
    }
   ],
   "execution_count": 25
  },
  {
   "cell_type": "code",
   "source": [
    "def langdetect(text):\n",
    "    try:\n",
    "        lang = detect(text)\n",
    "        if lang != \"en\":\n",
    "            return False\n",
    "        else:\n",
    "            return True\n",
    "    except:\n",
    "        return False"
   ],
   "metadata": {
    "collapsed": false,
    "ExecuteTime": {
     "end_time": "2024-04-08T16:54:30.138888Z",
     "start_time": "2024-04-08T16:54:30.134795Z"
    }
   },
   "id": "2a1948fe7350960a",
   "outputs": [],
   "execution_count": 26
  },
  {
   "cell_type": "code",
   "source": [
    "df9 = df8[df8.text.apply(langdetect)]"
   ],
   "metadata": {
    "collapsed": false,
    "ExecuteTime": {
     "end_time": "2024-04-08T17:05:17.216017Z",
     "start_time": "2024-04-08T16:54:30.139390Z"
    }
   },
   "id": "d49569bedd34c280",
   "outputs": [],
   "execution_count": 27
  },
  {
   "cell_type": "code",
   "source": [
    "df9.head()"
   ],
   "metadata": {
    "collapsed": false,
    "ExecuteTime": {
     "end_time": "2024-04-08T17:05:17.223741Z",
     "start_time": "2024-04-08T17:05:17.217021Z"
    }
   },
   "id": "a6597d4eae7a8c2f",
   "outputs": [
    {
     "data": {
      "text/plain": [
       "               tags                                               text\n",
       "0  genuine question  weve all talked about the gifted child to stru...\n",
       "1  genuine question  Is the concept of straight girls religiously w...\n",
       "2  genuine question  I am sincerely curious. Has some of you ever w...\n",
       "3  genuine question  Bro idk how people look so fucking good in the...\n",
       "5  genuine question  Advice for a beginner witch who has no supplie..."
      ],
      "text/html": [
       "<div>\n",
       "<style scoped>\n",
       "    .dataframe tbody tr th:only-of-type {\n",
       "        vertical-align: middle;\n",
       "    }\n",
       "\n",
       "    .dataframe tbody tr th {\n",
       "        vertical-align: top;\n",
       "    }\n",
       "\n",
       "    .dataframe thead th {\n",
       "        text-align: right;\n",
       "    }\n",
       "</style>\n",
       "<table border=\"1\" class=\"dataframe\">\n",
       "  <thead>\n",
       "    <tr style=\"text-align: right;\">\n",
       "      <th></th>\n",
       "      <th>tags</th>\n",
       "      <th>text</th>\n",
       "    </tr>\n",
       "  </thead>\n",
       "  <tbody>\n",
       "    <tr>\n",
       "      <th>0</th>\n",
       "      <td>genuine question</td>\n",
       "      <td>weve all talked about the gifted child to stru...</td>\n",
       "    </tr>\n",
       "    <tr>\n",
       "      <th>1</th>\n",
       "      <td>genuine question</td>\n",
       "      <td>Is the concept of straight girls religiously w...</td>\n",
       "    </tr>\n",
       "    <tr>\n",
       "      <th>2</th>\n",
       "      <td>genuine question</td>\n",
       "      <td>I am sincerely curious. Has some of you ever w...</td>\n",
       "    </tr>\n",
       "    <tr>\n",
       "      <th>3</th>\n",
       "      <td>genuine question</td>\n",
       "      <td>Bro idk how people look so fucking good in the...</td>\n",
       "    </tr>\n",
       "    <tr>\n",
       "      <th>5</th>\n",
       "      <td>genuine question</td>\n",
       "      <td>Advice for a beginner witch who has no supplie...</td>\n",
       "    </tr>\n",
       "  </tbody>\n",
       "</table>\n",
       "</div>"
      ]
     },
     "execution_count": 28,
     "metadata": {},
     "output_type": "execute_result"
    }
   ],
   "execution_count": 28
  },
  {
   "metadata": {
    "ExecuteTime": {
     "end_time": "2024-04-08T18:19:35.339167Z",
     "start_time": "2024-04-08T18:19:35.308059Z"
    }
   },
   "cell_type": "code",
   "source": "df9_4 = df9[(df9[\"tags\"] != \"quote\") & (df9[\"tags\"] != \"literal\")]",
   "id": "8d6986b27bb81c49",
   "outputs": [],
   "execution_count": 36
  },
  {
   "metadata": {
    "ExecuteTime": {
     "end_time": "2024-04-08T18:19:36.157356Z",
     "start_time": "2024-04-08T18:19:36.096838Z"
    }
   },
   "cell_type": "code",
   "source": [
    "from autocorrect import Speller\n",
    "spell = Speller()\n",
    "\n",
    "def correct_text(text):\n",
    "    return spell(text)"
   ],
   "id": "8361106b4f07727a",
   "outputs": [],
   "execution_count": 37
  },
  {
   "metadata": {
    "ExecuteTime": {
     "end_time": "2024-04-08T19:17:52.841125Z",
     "start_time": "2024-04-08T18:19:36.714981Z"
    }
   },
   "cell_type": "code",
   "source": [
    "df9_5 = df9_4.copy()\n",
    "df9_5['text'] = df9_5[\"text\"].progress_apply(lambda x: correct_text(x))"
   ],
   "id": "c7c84d08e064ab09",
   "outputs": [
    {
     "data": {
      "text/plain": [
       "  0%|          | 0/99979 [00:00<?, ?it/s]"
      ],
      "application/vnd.jupyter.widget-view+json": {
       "version_major": 2,
       "version_minor": 0,
       "model_id": "7c0dd8f9cfee4aa1bf127d122221511f"
      }
     },
     "metadata": {},
     "output_type": "display_data"
    },
    {
     "ename": "KeyboardInterrupt",
     "evalue": "",
     "output_type": "error",
     "traceback": [
      "\u001B[1;31m---------------------------------------------------------------------------\u001B[0m",
      "\u001B[1;31mKeyboardInterrupt\u001B[0m                         Traceback (most recent call last)",
      "Cell \u001B[1;32mIn[38], line 2\u001B[0m\n\u001B[0;32m      1\u001B[0m df9_5 \u001B[38;5;241m=\u001B[39m df9_4\u001B[38;5;241m.\u001B[39mcopy()\n\u001B[1;32m----> 2\u001B[0m df9_5[\u001B[38;5;124m'\u001B[39m\u001B[38;5;124mtext\u001B[39m\u001B[38;5;124m'\u001B[39m] \u001B[38;5;241m=\u001B[39m \u001B[43mdf9_5\u001B[49m\u001B[43m[\u001B[49m\u001B[38;5;124;43m\"\u001B[39;49m\u001B[38;5;124;43mtext\u001B[39;49m\u001B[38;5;124;43m\"\u001B[39;49m\u001B[43m]\u001B[49m\u001B[38;5;241;43m.\u001B[39;49m\u001B[43mprogress_apply\u001B[49m\u001B[43m(\u001B[49m\u001B[38;5;28;43;01mlambda\u001B[39;49;00m\u001B[43m \u001B[49m\u001B[43mx\u001B[49m\u001B[43m:\u001B[49m\u001B[43m \u001B[49m\u001B[43mcorrect_text\u001B[49m\u001B[43m(\u001B[49m\u001B[43mx\u001B[49m\u001B[43m)\u001B[49m\u001B[43m)\u001B[49m\n",
      "File \u001B[1;32m~\\AppData\\Local\\Programs\\Python\\Python311\\Lib\\site-packages\\tqdm\\std.py:920\u001B[0m, in \u001B[0;36mtqdm.pandas.<locals>.inner_generator.<locals>.inner\u001B[1;34m(df, func, *args, **kwargs)\u001B[0m\n\u001B[0;32m    917\u001B[0m \u001B[38;5;66;03m# Apply the provided function (in **kwargs)\u001B[39;00m\n\u001B[0;32m    918\u001B[0m \u001B[38;5;66;03m# on the df using our wrapper (which provides bar updating)\u001B[39;00m\n\u001B[0;32m    919\u001B[0m \u001B[38;5;28;01mtry\u001B[39;00m:\n\u001B[1;32m--> 920\u001B[0m     \u001B[38;5;28;01mreturn\u001B[39;00m \u001B[38;5;28;43mgetattr\u001B[39;49m\u001B[43m(\u001B[49m\u001B[43mdf\u001B[49m\u001B[43m,\u001B[49m\u001B[43m \u001B[49m\u001B[43mdf_function\u001B[49m\u001B[43m)\u001B[49m\u001B[43m(\u001B[49m\u001B[43mwrapper\u001B[49m\u001B[43m,\u001B[49m\u001B[43m \u001B[49m\u001B[38;5;241;43m*\u001B[39;49m\u001B[38;5;241;43m*\u001B[39;49m\u001B[43mkwargs\u001B[49m\u001B[43m)\u001B[49m\n\u001B[0;32m    921\u001B[0m \u001B[38;5;28;01mfinally\u001B[39;00m:\n\u001B[0;32m    922\u001B[0m     t\u001B[38;5;241m.\u001B[39mclose()\n",
      "File \u001B[1;32m~\\AppData\\Local\\Programs\\Python\\Python311\\Lib\\site-packages\\pandas\\core\\series.py:4630\u001B[0m, in \u001B[0;36mSeries.apply\u001B[1;34m(self, func, convert_dtype, args, **kwargs)\u001B[0m\n\u001B[0;32m   4520\u001B[0m \u001B[38;5;28;01mdef\u001B[39;00m \u001B[38;5;21mapply\u001B[39m(\n\u001B[0;32m   4521\u001B[0m     \u001B[38;5;28mself\u001B[39m,\n\u001B[0;32m   4522\u001B[0m     func: AggFuncType,\n\u001B[1;32m   (...)\u001B[0m\n\u001B[0;32m   4525\u001B[0m     \u001B[38;5;241m*\u001B[39m\u001B[38;5;241m*\u001B[39mkwargs,\n\u001B[0;32m   4526\u001B[0m ) \u001B[38;5;241m-\u001B[39m\u001B[38;5;241m>\u001B[39m DataFrame \u001B[38;5;241m|\u001B[39m Series:\n\u001B[0;32m   4527\u001B[0m \u001B[38;5;250m    \u001B[39m\u001B[38;5;124;03m\"\"\"\u001B[39;00m\n\u001B[0;32m   4528\u001B[0m \u001B[38;5;124;03m    Invoke function on values of Series.\u001B[39;00m\n\u001B[0;32m   4529\u001B[0m \n\u001B[1;32m   (...)\u001B[0m\n\u001B[0;32m   4628\u001B[0m \u001B[38;5;124;03m    dtype: float64\u001B[39;00m\n\u001B[0;32m   4629\u001B[0m \u001B[38;5;124;03m    \"\"\"\u001B[39;00m\n\u001B[1;32m-> 4630\u001B[0m     \u001B[38;5;28;01mreturn\u001B[39;00m \u001B[43mSeriesApply\u001B[49m\u001B[43m(\u001B[49m\u001B[38;5;28;43mself\u001B[39;49m\u001B[43m,\u001B[49m\u001B[43m \u001B[49m\u001B[43mfunc\u001B[49m\u001B[43m,\u001B[49m\u001B[43m \u001B[49m\u001B[43mconvert_dtype\u001B[49m\u001B[43m,\u001B[49m\u001B[43m \u001B[49m\u001B[43margs\u001B[49m\u001B[43m,\u001B[49m\u001B[43m \u001B[49m\u001B[43mkwargs\u001B[49m\u001B[43m)\u001B[49m\u001B[38;5;241;43m.\u001B[39;49m\u001B[43mapply\u001B[49m\u001B[43m(\u001B[49m\u001B[43m)\u001B[49m\n",
      "File \u001B[1;32m~\\AppData\\Local\\Programs\\Python\\Python311\\Lib\\site-packages\\pandas\\core\\apply.py:1025\u001B[0m, in \u001B[0;36mSeriesApply.apply\u001B[1;34m(self)\u001B[0m\n\u001B[0;32m   1022\u001B[0m     \u001B[38;5;28;01mreturn\u001B[39;00m \u001B[38;5;28mself\u001B[39m\u001B[38;5;241m.\u001B[39mapply_str()\n\u001B[0;32m   1024\u001B[0m \u001B[38;5;66;03m# self.f is Callable\u001B[39;00m\n\u001B[1;32m-> 1025\u001B[0m \u001B[38;5;28;01mreturn\u001B[39;00m \u001B[38;5;28;43mself\u001B[39;49m\u001B[38;5;241;43m.\u001B[39;49m\u001B[43mapply_standard\u001B[49m\u001B[43m(\u001B[49m\u001B[43m)\u001B[49m\n",
      "File \u001B[1;32m~\\AppData\\Local\\Programs\\Python\\Python311\\Lib\\site-packages\\pandas\\core\\apply.py:1076\u001B[0m, in \u001B[0;36mSeriesApply.apply_standard\u001B[1;34m(self)\u001B[0m\n\u001B[0;32m   1074\u001B[0m     \u001B[38;5;28;01melse\u001B[39;00m:\n\u001B[0;32m   1075\u001B[0m         values \u001B[38;5;241m=\u001B[39m obj\u001B[38;5;241m.\u001B[39mastype(\u001B[38;5;28mobject\u001B[39m)\u001B[38;5;241m.\u001B[39m_values\n\u001B[1;32m-> 1076\u001B[0m         mapped \u001B[38;5;241m=\u001B[39m \u001B[43mlib\u001B[49m\u001B[38;5;241;43m.\u001B[39;49m\u001B[43mmap_infer\u001B[49m\u001B[43m(\u001B[49m\n\u001B[0;32m   1077\u001B[0m \u001B[43m            \u001B[49m\u001B[43mvalues\u001B[49m\u001B[43m,\u001B[49m\n\u001B[0;32m   1078\u001B[0m \u001B[43m            \u001B[49m\u001B[43mf\u001B[49m\u001B[43m,\u001B[49m\n\u001B[0;32m   1079\u001B[0m \u001B[43m            \u001B[49m\u001B[43mconvert\u001B[49m\u001B[38;5;241;43m=\u001B[39;49m\u001B[38;5;28;43mself\u001B[39;49m\u001B[38;5;241;43m.\u001B[39;49m\u001B[43mconvert_dtype\u001B[49m\u001B[43m,\u001B[49m\n\u001B[0;32m   1080\u001B[0m \u001B[43m        \u001B[49m\u001B[43m)\u001B[49m\n\u001B[0;32m   1082\u001B[0m \u001B[38;5;28;01mif\u001B[39;00m \u001B[38;5;28mlen\u001B[39m(mapped) \u001B[38;5;129;01mand\u001B[39;00m \u001B[38;5;28misinstance\u001B[39m(mapped[\u001B[38;5;241m0\u001B[39m], ABCSeries):\n\u001B[0;32m   1083\u001B[0m     \u001B[38;5;66;03m# GH#43986 Need to do list(mapped) in order to get treated as nested\u001B[39;00m\n\u001B[0;32m   1084\u001B[0m     \u001B[38;5;66;03m#  See also GH#25959 regarding EA support\u001B[39;00m\n\u001B[0;32m   1085\u001B[0m     \u001B[38;5;28;01mreturn\u001B[39;00m obj\u001B[38;5;241m.\u001B[39m_constructor_expanddim(\u001B[38;5;28mlist\u001B[39m(mapped), index\u001B[38;5;241m=\u001B[39mobj\u001B[38;5;241m.\u001B[39mindex)\n",
      "File \u001B[1;32m~\\AppData\\Local\\Programs\\Python\\Python311\\Lib\\site-packages\\pandas\\_libs\\lib.pyx:2834\u001B[0m, in \u001B[0;36mpandas._libs.lib.map_infer\u001B[1;34m()\u001B[0m\n",
      "File \u001B[1;32m~\\AppData\\Local\\Programs\\Python\\Python311\\Lib\\site-packages\\tqdm\\std.py:915\u001B[0m, in \u001B[0;36mtqdm.pandas.<locals>.inner_generator.<locals>.inner.<locals>.wrapper\u001B[1;34m(*args, **kwargs)\u001B[0m\n\u001B[0;32m    909\u001B[0m \u001B[38;5;28;01mdef\u001B[39;00m \u001B[38;5;21mwrapper\u001B[39m(\u001B[38;5;241m*\u001B[39margs, \u001B[38;5;241m*\u001B[39m\u001B[38;5;241m*\u001B[39mkwargs):\n\u001B[0;32m    910\u001B[0m     \u001B[38;5;66;03m# update tbar correctly\u001B[39;00m\n\u001B[0;32m    911\u001B[0m     \u001B[38;5;66;03m# it seems `pandas apply` calls `func` twice\u001B[39;00m\n\u001B[0;32m    912\u001B[0m     \u001B[38;5;66;03m# on the first column/row to decide whether it can\u001B[39;00m\n\u001B[0;32m    913\u001B[0m     \u001B[38;5;66;03m# take a fast or slow code path; so stop when t.total==t.n\u001B[39;00m\n\u001B[0;32m    914\u001B[0m     t\u001B[38;5;241m.\u001B[39mupdate(n\u001B[38;5;241m=\u001B[39m\u001B[38;5;241m1\u001B[39m \u001B[38;5;28;01mif\u001B[39;00m \u001B[38;5;129;01mnot\u001B[39;00m t\u001B[38;5;241m.\u001B[39mtotal \u001B[38;5;129;01mor\u001B[39;00m t\u001B[38;5;241m.\u001B[39mn \u001B[38;5;241m<\u001B[39m t\u001B[38;5;241m.\u001B[39mtotal \u001B[38;5;28;01melse\u001B[39;00m \u001B[38;5;241m0\u001B[39m)\n\u001B[1;32m--> 915\u001B[0m     \u001B[38;5;28;01mreturn\u001B[39;00m \u001B[43mfunc\u001B[49m\u001B[43m(\u001B[49m\u001B[38;5;241;43m*\u001B[39;49m\u001B[43margs\u001B[49m\u001B[43m,\u001B[49m\u001B[43m \u001B[49m\u001B[38;5;241;43m*\u001B[39;49m\u001B[38;5;241;43m*\u001B[39;49m\u001B[43mkwargs\u001B[49m\u001B[43m)\u001B[49m\n",
      "Cell \u001B[1;32mIn[38], line 2\u001B[0m, in \u001B[0;36m<lambda>\u001B[1;34m(x)\u001B[0m\n\u001B[0;32m      1\u001B[0m df9_5 \u001B[38;5;241m=\u001B[39m df9_4\u001B[38;5;241m.\u001B[39mcopy()\n\u001B[1;32m----> 2\u001B[0m df9_5[\u001B[38;5;124m'\u001B[39m\u001B[38;5;124mtext\u001B[39m\u001B[38;5;124m'\u001B[39m] \u001B[38;5;241m=\u001B[39m df9_5[\u001B[38;5;124m\"\u001B[39m\u001B[38;5;124mtext\u001B[39m\u001B[38;5;124m\"\u001B[39m]\u001B[38;5;241m.\u001B[39mprogress_apply(\u001B[38;5;28;01mlambda\u001B[39;00m x: \u001B[43mcorrect_text\u001B[49m\u001B[43m(\u001B[49m\u001B[43mx\u001B[49m\u001B[43m)\u001B[49m)\n",
      "Cell \u001B[1;32mIn[37], line 5\u001B[0m, in \u001B[0;36mcorrect_text\u001B[1;34m(text)\u001B[0m\n\u001B[0;32m      4\u001B[0m \u001B[38;5;28;01mdef\u001B[39;00m \u001B[38;5;21mcorrect_text\u001B[39m(text):\n\u001B[1;32m----> 5\u001B[0m     \u001B[38;5;28;01mreturn\u001B[39;00m \u001B[43mspell\u001B[49m\u001B[43m(\u001B[49m\u001B[43mtext\u001B[49m\u001B[43m)\u001B[49m\n",
      "File \u001B[1;32m~\\AppData\\Local\\Programs\\Python\\Python311\\Lib\\site-packages\\autocorrect\\__init__.py:128\u001B[0m, in \u001B[0;36mSpeller.autocorrect_sentence\u001B[1;34m(self, sentence)\u001B[0m\n\u001B[0;32m    127\u001B[0m \u001B[38;5;28;01mdef\u001B[39;00m \u001B[38;5;21mautocorrect_sentence\u001B[39m(\u001B[38;5;28mself\u001B[39m, sentence):\n\u001B[1;32m--> 128\u001B[0m     \u001B[38;5;28;01mreturn\u001B[39;00m \u001B[43mre\u001B[49m\u001B[38;5;241;43m.\u001B[39;49m\u001B[43msub\u001B[49m\u001B[43m(\u001B[49m\n\u001B[0;32m    129\u001B[0m \u001B[43m        \u001B[49m\u001B[43mword_regexes\u001B[49m\u001B[43m[\u001B[49m\u001B[38;5;28;43mself\u001B[39;49m\u001B[38;5;241;43m.\u001B[39;49m\u001B[43mlang\u001B[49m\u001B[43m]\u001B[49m\u001B[43m,\u001B[49m\n\u001B[0;32m    130\u001B[0m \u001B[43m        \u001B[49m\u001B[38;5;28;43;01mlambda\u001B[39;49;00m\u001B[43m \u001B[49m\u001B[43mmatch\u001B[49m\u001B[43m:\u001B[49m\u001B[43m \u001B[49m\u001B[38;5;28;43mself\u001B[39;49m\u001B[38;5;241;43m.\u001B[39;49m\u001B[43mautocorrect_word\u001B[49m\u001B[43m(\u001B[49m\u001B[43mmatch\u001B[49m\u001B[38;5;241;43m.\u001B[39;49m\u001B[43mgroup\u001B[49m\u001B[43m(\u001B[49m\u001B[38;5;241;43m0\u001B[39;49m\u001B[43m)\u001B[49m\u001B[43m)\u001B[49m\u001B[43m,\u001B[49m\n\u001B[0;32m    131\u001B[0m \u001B[43m        \u001B[49m\u001B[43msentence\u001B[49m\u001B[43m,\u001B[49m\n\u001B[0;32m    132\u001B[0m \u001B[43m    \u001B[49m\u001B[43m)\u001B[49m\n",
      "File \u001B[1;32m~\\AppData\\Local\\Programs\\Python\\Python311\\Lib\\re\\__init__.py:185\u001B[0m, in \u001B[0;36msub\u001B[1;34m(pattern, repl, string, count, flags)\u001B[0m\n\u001B[0;32m    178\u001B[0m \u001B[38;5;28;01mdef\u001B[39;00m \u001B[38;5;21msub\u001B[39m(pattern, repl, string, count\u001B[38;5;241m=\u001B[39m\u001B[38;5;241m0\u001B[39m, flags\u001B[38;5;241m=\u001B[39m\u001B[38;5;241m0\u001B[39m):\n\u001B[0;32m    179\u001B[0m \u001B[38;5;250m    \u001B[39m\u001B[38;5;124;03m\"\"\"Return the string obtained by replacing the leftmost\u001B[39;00m\n\u001B[0;32m    180\u001B[0m \u001B[38;5;124;03m    non-overlapping occurrences of the pattern in string by the\u001B[39;00m\n\u001B[0;32m    181\u001B[0m \u001B[38;5;124;03m    replacement repl.  repl can be either a string or a callable;\u001B[39;00m\n\u001B[0;32m    182\u001B[0m \u001B[38;5;124;03m    if a string, backslash escapes in it are processed.  If it is\u001B[39;00m\n\u001B[0;32m    183\u001B[0m \u001B[38;5;124;03m    a callable, it's passed the Match object and must return\u001B[39;00m\n\u001B[0;32m    184\u001B[0m \u001B[38;5;124;03m    a replacement string to be used.\"\"\"\u001B[39;00m\n\u001B[1;32m--> 185\u001B[0m     \u001B[38;5;28;01mreturn\u001B[39;00m \u001B[43m_compile\u001B[49m\u001B[43m(\u001B[49m\u001B[43mpattern\u001B[49m\u001B[43m,\u001B[49m\u001B[43m \u001B[49m\u001B[43mflags\u001B[49m\u001B[43m)\u001B[49m\u001B[38;5;241;43m.\u001B[39;49m\u001B[43msub\u001B[49m\u001B[43m(\u001B[49m\u001B[43mrepl\u001B[49m\u001B[43m,\u001B[49m\u001B[43m \u001B[49m\u001B[43mstring\u001B[49m\u001B[43m,\u001B[49m\u001B[43m \u001B[49m\u001B[43mcount\u001B[49m\u001B[43m)\u001B[49m\n",
      "File \u001B[1;32m~\\AppData\\Local\\Programs\\Python\\Python311\\Lib\\site-packages\\autocorrect\\__init__.py:130\u001B[0m, in \u001B[0;36mSpeller.autocorrect_sentence.<locals>.<lambda>\u001B[1;34m(match)\u001B[0m\n\u001B[0;32m    127\u001B[0m \u001B[38;5;28;01mdef\u001B[39;00m \u001B[38;5;21mautocorrect_sentence\u001B[39m(\u001B[38;5;28mself\u001B[39m, sentence):\n\u001B[0;32m    128\u001B[0m     \u001B[38;5;28;01mreturn\u001B[39;00m re\u001B[38;5;241m.\u001B[39msub(\n\u001B[0;32m    129\u001B[0m         word_regexes[\u001B[38;5;28mself\u001B[39m\u001B[38;5;241m.\u001B[39mlang],\n\u001B[1;32m--> 130\u001B[0m         \u001B[38;5;28;01mlambda\u001B[39;00m match: \u001B[38;5;28;43mself\u001B[39;49m\u001B[38;5;241;43m.\u001B[39;49m\u001B[43mautocorrect_word\u001B[49m\u001B[43m(\u001B[49m\u001B[43mmatch\u001B[49m\u001B[38;5;241;43m.\u001B[39;49m\u001B[43mgroup\u001B[49m\u001B[43m(\u001B[49m\u001B[38;5;241;43m0\u001B[39;49m\u001B[43m)\u001B[49m\u001B[43m)\u001B[49m,\n\u001B[0;32m    131\u001B[0m         sentence,\n\u001B[0;32m    132\u001B[0m     )\n",
      "File \u001B[1;32m~\\AppData\\Local\\Programs\\Python\\Python311\\Lib\\site-packages\\autocorrect\\__init__.py:114\u001B[0m, in \u001B[0;36mSpeller.autocorrect_word\u001B[1;34m(self, word)\u001B[0m\n\u001B[0;32m    111\u001B[0m \u001B[38;5;28;01mif\u001B[39;00m word \u001B[38;5;241m==\u001B[39m \u001B[38;5;124m\"\u001B[39m\u001B[38;5;124m\"\u001B[39m:\n\u001B[0;32m    112\u001B[0m     \u001B[38;5;28;01mreturn\u001B[39;00m \u001B[38;5;124m\"\u001B[39m\u001B[38;5;124m\"\u001B[39m\n\u001B[1;32m--> 114\u001B[0m candidates \u001B[38;5;241m=\u001B[39m \u001B[38;5;28;43mself\u001B[39;49m\u001B[38;5;241;43m.\u001B[39;49m\u001B[43mget_candidates\u001B[49m\u001B[43m(\u001B[49m\u001B[43mword\u001B[49m\u001B[43m)\u001B[49m\n\u001B[0;32m    116\u001B[0m \u001B[38;5;66;03m# in case the word is capitalized\u001B[39;00m\n\u001B[0;32m    117\u001B[0m \u001B[38;5;28;01mif\u001B[39;00m word[\u001B[38;5;241m0\u001B[39m]\u001B[38;5;241m.\u001B[39misupper():\n",
      "File \u001B[1;32m~\\AppData\\Local\\Programs\\Python\\Python311\\Lib\\site-packages\\autocorrect\\__init__.py:104\u001B[0m, in \u001B[0;36mSpeller.get_candidates\u001B[1;34m(self, word)\u001B[0m\n\u001B[0;32m     99\u001B[0m     candidates \u001B[38;5;241m=\u001B[39m \u001B[38;5;28mself\u001B[39m\u001B[38;5;241m.\u001B[39mexisting([word]) \u001B[38;5;129;01mor\u001B[39;00m \u001B[38;5;28mself\u001B[39m\u001B[38;5;241m.\u001B[39mexisting(w\u001B[38;5;241m.\u001B[39mtypos()) \u001B[38;5;129;01mor\u001B[39;00m [word]\n\u001B[0;32m    100\u001B[0m \u001B[38;5;28;01melse\u001B[39;00m:\n\u001B[0;32m    101\u001B[0m     candidates \u001B[38;5;241m=\u001B[39m (\n\u001B[0;32m    102\u001B[0m         \u001B[38;5;28mself\u001B[39m\u001B[38;5;241m.\u001B[39mexisting([word])\n\u001B[0;32m    103\u001B[0m         \u001B[38;5;129;01mor\u001B[39;00m \u001B[38;5;28mself\u001B[39m\u001B[38;5;241m.\u001B[39mexisting(w\u001B[38;5;241m.\u001B[39mtypos())\n\u001B[1;32m--> 104\u001B[0m         \u001B[38;5;129;01mor\u001B[39;00m \u001B[38;5;28;43mself\u001B[39;49m\u001B[38;5;241;43m.\u001B[39;49m\u001B[43mexisting\u001B[49m\u001B[43m(\u001B[49m\u001B[43mw\u001B[49m\u001B[38;5;241;43m.\u001B[39;49m\u001B[43mdouble_typos\u001B[49m\u001B[43m(\u001B[49m\u001B[43m)\u001B[49m\u001B[43m)\u001B[49m\n\u001B[0;32m    105\u001B[0m         \u001B[38;5;129;01mor\u001B[39;00m [word]\n\u001B[0;32m    106\u001B[0m     )\n\u001B[0;32m    107\u001B[0m \u001B[38;5;28;01mreturn\u001B[39;00m [(\u001B[38;5;28mself\u001B[39m\u001B[38;5;241m.\u001B[39mnlp_data\u001B[38;5;241m.\u001B[39mget(c, \u001B[38;5;241m0\u001B[39m), c) \u001B[38;5;28;01mfor\u001B[39;00m c \u001B[38;5;129;01min\u001B[39;00m candidates]\n",
      "File \u001B[1;32m~\\AppData\\Local\\Programs\\Python\\Python311\\Lib\\site-packages\\autocorrect\\__init__.py:94\u001B[0m, in \u001B[0;36mSpeller.existing\u001B[1;34m(self, words)\u001B[0m\n\u001B[0;32m     92\u001B[0m \u001B[38;5;28;01mdef\u001B[39;00m \u001B[38;5;21mexisting\u001B[39m(\u001B[38;5;28mself\u001B[39m, words):\n\u001B[0;32m     93\u001B[0m \u001B[38;5;250m    \u001B[39m\u001B[38;5;124;03m\"\"\"{'the', 'teh'} => {'the'}\"\"\"\u001B[39;00m\n\u001B[1;32m---> 94\u001B[0m     \u001B[38;5;28;01mreturn\u001B[39;00m \u001B[43m{\u001B[49m\u001B[43mword\u001B[49m\u001B[43m \u001B[49m\u001B[38;5;28;43;01mfor\u001B[39;49;00m\u001B[43m \u001B[49m\u001B[43mword\u001B[49m\u001B[43m \u001B[49m\u001B[38;5;129;43;01min\u001B[39;49;00m\u001B[43m \u001B[49m\u001B[43mwords\u001B[49m\u001B[43m \u001B[49m\u001B[38;5;28;43;01mif\u001B[39;49;00m\u001B[43m \u001B[49m\u001B[43mword\u001B[49m\u001B[43m \u001B[49m\u001B[38;5;129;43;01min\u001B[39;49;00m\u001B[43m \u001B[49m\u001B[38;5;28;43mself\u001B[39;49m\u001B[38;5;241;43m.\u001B[39;49m\u001B[43mnlp_data\u001B[49m\u001B[43m}\u001B[49m\n",
      "File \u001B[1;32m~\\AppData\\Local\\Programs\\Python\\Python311\\Lib\\site-packages\\autocorrect\\__init__.py:94\u001B[0m, in \u001B[0;36m<setcomp>\u001B[1;34m(.0)\u001B[0m\n\u001B[0;32m     92\u001B[0m \u001B[38;5;28;01mdef\u001B[39;00m \u001B[38;5;21mexisting\u001B[39m(\u001B[38;5;28mself\u001B[39m, words):\n\u001B[0;32m     93\u001B[0m \u001B[38;5;250m    \u001B[39m\u001B[38;5;124;03m\"\"\"{'the', 'teh'} => {'the'}\"\"\"\u001B[39;00m\n\u001B[1;32m---> 94\u001B[0m     \u001B[38;5;28;01mreturn\u001B[39;00m \u001B[43m{\u001B[49m\u001B[43mword\u001B[49m\u001B[43m \u001B[49m\u001B[38;5;28;43;01mfor\u001B[39;49;00m\u001B[43m \u001B[49m\u001B[43mword\u001B[49m\u001B[43m \u001B[49m\u001B[38;5;129;43;01min\u001B[39;49;00m\u001B[43m \u001B[49m\u001B[43mwords\u001B[49m\u001B[43m \u001B[49m\u001B[38;5;28;43;01mif\u001B[39;49;00m\u001B[43m \u001B[49m\u001B[43mword\u001B[49m\u001B[43m \u001B[49m\u001B[38;5;129;43;01min\u001B[39;49;00m\u001B[43m \u001B[49m\u001B[38;5;28;43mself\u001B[39;49m\u001B[38;5;241;43m.\u001B[39;49m\u001B[43mnlp_data\u001B[49m\u001B[43m}\u001B[49m\n",
      "File \u001B[1;32m~\\AppData\\Local\\Programs\\Python\\Python311\\Lib\\site-packages\\autocorrect\\typos.py:56\u001B[0m, in \u001B[0;36mWord._replaces\u001B[1;34m(self)\u001B[0m\n\u001B[0;32m     54\u001B[0m \u001B[38;5;28;01mfor\u001B[39;00m a, b \u001B[38;5;129;01min\u001B[39;00m \u001B[38;5;28mself\u001B[39m\u001B[38;5;241m.\u001B[39mslices[:\u001B[38;5;241m-\u001B[39m\u001B[38;5;241m1\u001B[39m]:\n\u001B[0;32m     55\u001B[0m     \u001B[38;5;28;01mfor\u001B[39;00m c \u001B[38;5;129;01min\u001B[39;00m \u001B[38;5;28mself\u001B[39m\u001B[38;5;241m.\u001B[39malphabet:\n\u001B[1;32m---> 56\u001B[0m         \u001B[38;5;28;01myield\u001B[39;00m \u001B[38;5;124m\"\u001B[39m\u001B[38;5;124m\"\u001B[39m\u001B[38;5;241m.\u001B[39mjoin((a, c, b[\u001B[38;5;241m1\u001B[39m:]))\n",
      "\u001B[1;31mKeyboardInterrupt\u001B[0m: "
     ]
    }
   ],
   "execution_count": 38
  },
  {
   "cell_type": "code",
   "source": [
    "def remove_stopwords(text):\n",
    "    word_tokens = word_tokenize(text)\n",
    "    stop_words = set(stopwords.words('english'))\n",
    "    return [w for w in word_tokens if not w in stop_words]"
   ],
   "metadata": {
    "collapsed": false
   },
   "id": "a193c813c77b6dbb",
   "outputs": [],
   "execution_count": null
  },
  {
   "cell_type": "code",
   "source": [
    "df10 = df9_5.copy()\n",
    "df10[\"text\"] = df10.text.apply(remove_stopwords)"
   ],
   "metadata": {
    "collapsed": false
   },
   "id": "76591e9bed45e2c1",
   "outputs": [],
   "execution_count": null
  },
  {
   "cell_type": "code",
   "source": [
    "df10.head()"
   ],
   "metadata": {
    "collapsed": false
   },
   "id": "4fa8c41222a224c0",
   "outputs": [],
   "execution_count": null
  },
  {
   "cell_type": "code",
   "source": [
    "def remove(tokens):\n",
    "    if len(tokens) <= 5:\n",
    "        return False\n",
    "    else:\n",
    "        total = 0\n",
    "        total_chars = 0\n",
    "        for token in tokens:\n",
    "            total += len(token)\n",
    "            for char in token:\n",
    "                if char.isalpha():\n",
    "                    total_chars += 1\n",
    "        if total_chars / total >= 0.8:\n",
    "            return True\n",
    "        else:\n",
    "            return False"
   ],
   "metadata": {
    "collapsed": false
   },
   "id": "c05533c872217c26",
   "outputs": [],
   "execution_count": null
  },
  {
   "cell_type": "code",
   "source": [
    "df11 = df10.copy()\n",
    "df11 = df11[df11[\"text\"].apply(remove)]"
   ],
   "metadata": {
    "collapsed": false
   },
   "id": "7f8a6d1246cd6e35",
   "outputs": [],
   "execution_count": null
  },
  {
   "cell_type": "code",
   "source": [
    "df11.shape"
   ],
   "metadata": {
    "collapsed": false
   },
   "id": "bd59768b6e1d921b",
   "outputs": [],
   "execution_count": null
  },
  {
   "cell_type": "code",
   "source": [
    "tag_size = {}\n",
    "\n",
    "for tag in df11.tags.unique().tolist():\n",
    "    tag_size[tag] = df11[df11['tags'] == tag].shape[0]\n",
    "\n",
    "tag_size = dict(sorted(tag_size.items(), key=lambda x: x[1]))\n",
    "tag_size"
   ],
   "metadata": {
    "collapsed": false
   },
   "id": "2c7d892bbb6f175d",
   "outputs": [],
   "execution_count": null
  },
  {
   "cell_type": "code",
   "source": [
    "tag_size = {}\n",
    "\n",
    "for tag in df11.tags.unique().tolist():\n",
    "    tag_size[tag] = df11[df11['tags'] == tag].shape[0]\n",
    "\n",
    "tag_size = dict(sorted(tag_size.items(), key=lambda x: x[1]))\n",
    "tag_size"
   ],
   "metadata": {
    "collapsed": false
   },
   "id": "8e24a8727f8aaeb5",
   "outputs": [],
   "execution_count": null
  },
  {
   "cell_type": "code",
   "source": [
    "df13 = df11.copy()\n",
    "\n",
    "for key, value in tag_size.items():\n",
    "    if value < 1000:\n",
    "        df13 = df13[df13[\"tags\"] != key]"
   ],
   "metadata": {
    "collapsed": false
   },
   "id": "22ab3716a382296b",
   "outputs": [],
   "execution_count": null
  },
  {
   "cell_type": "code",
   "source": [
    "tag_size = {}\n",
    "\n",
    "for tag in df13.tags.unique().tolist():\n",
    "    tag_size[tag] = df13[df13['tags'] == tag].shape[0]\n",
    "\n",
    "tag_size = dict(sorted(tag_size.items(), key=lambda x: x[1]))\n",
    "tag_size"
   ],
   "metadata": {
    "collapsed": false
   },
   "id": "ebc014c9b3cb4fe3",
   "outputs": [],
   "execution_count": null
  },
  {
   "cell_type": "code",
   "source": [
    "df13.shape"
   ],
   "metadata": {
    "collapsed": false
   },
   "id": "22efbc9e654989a4",
   "outputs": [],
   "execution_count": null
  },
  {
   "cell_type": "code",
   "source": [
    "df13.tags"
   ],
   "metadata": {
    "collapsed": false
   },
   "id": "a7be7f3a3bed74aa",
   "outputs": [],
   "execution_count": null
  },
  {
   "cell_type": "code",
   "source": [
    "df13.tags.value_counts() / len(df13) * 100"
   ],
   "metadata": {
    "collapsed": false
   },
   "id": "4d807219bf1f0d25",
   "outputs": [],
   "execution_count": null
  },
  {
   "cell_type": "code",
   "source": "df13.to_csv(\"../datasets/tonetags_dataset_tumblr_clean_corrected_text.csv\", index=False)",
   "metadata": {
    "collapsed": false
   },
   "id": "3fe69ff2cc229216",
   "outputs": [],
   "execution_count": null
  },
  {
   "metadata": {},
   "cell_type": "code",
   "source": "",
   "id": "d8094bac2afbcdde",
   "outputs": [],
   "execution_count": null
  }
 ],
 "metadata": {
  "kernelspec": {
   "display_name": "Python 3",
   "language": "python",
   "name": "python3"
  },
  "language_info": {
   "codemirror_mode": {
    "name": "ipython",
    "version": 2
   },
   "file_extension": ".py",
   "mimetype": "text/x-python",
   "name": "python",
   "nbconvert_exporter": "python",
   "pygments_lexer": "ipython2",
   "version": "2.7.6"
  }
 },
 "nbformat": 4,
 "nbformat_minor": 5
}
