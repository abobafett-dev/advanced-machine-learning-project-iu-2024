{
 "cells": [
  {
   "cell_type": "code",
   "id": "initial_id",
   "metadata": {
    "collapsed": true,
    "ExecuteTime": {
     "end_time": "2024-04-06T20:54:56.348191Z",
     "start_time": "2024-04-06T20:54:53.885378Z"
    }
   },
   "source": [
    "import pandas as pd\n",
    "import numpy as np\n",
    "import copy\n",
    "import re\n",
    "import string\n",
    "import ydata_profiling\n",
    "from langdetect import detect\n",
    "from nltk.corpus import stopwords\n",
    "from nltk import word_tokenize\n",
    "%matplotlib inline"
   ],
   "outputs": [],
   "execution_count": 1
  },
  {
   "metadata": {
    "ExecuteTime": {
     "end_time": "2024-04-06T20:54:56.352148Z",
     "start_time": "2024-04-06T20:54:56.349318Z"
    }
   },
   "cell_type": "code",
   "source": [
    "path_dataset = \"../datasets/tonetags_dataset_tumblr.csv\""
   ],
   "id": "2b5f07417c54df6c",
   "outputs": [],
   "execution_count": 2
  },
  {
   "metadata": {
    "ExecuteTime": {
     "end_time": "2024-04-06T20:54:56.361160Z",
     "start_time": "2024-04-06T20:54:56.353075Z"
    }
   },
   "cell_type": "code",
   "source": [
    "def str_to_list(value):\n",
    "    list_values = value.strip('[]').split(', ')\n",
    "    cleaned_list_values = [item[1:-1] for item in list_values]\n",
    "    return cleaned_list_values"
   ],
   "id": "996e01130c17672d",
   "outputs": [],
   "execution_count": 3
  },
  {
   "metadata": {
    "ExecuteTime": {
     "end_time": "2024-04-06T20:54:58.679635Z",
     "start_time": "2024-04-06T20:54:56.362285Z"
    }
   },
   "cell_type": "code",
   "source": [
    "df1 = pd.read_csv(path_dataset, index_col=0, converters={\"tags\": str_to_list})\n",
    "# df = pd.read_csv(path_dataset, index_col=0)"
   ],
   "id": "cd698326f229a5ad",
   "outputs": [],
   "execution_count": 4
  },
  {
   "metadata": {
    "ExecuteTime": {
     "end_time": "2024-04-06T20:54:58.685272Z",
     "start_time": "2024-04-06T20:54:58.680659Z"
    }
   },
   "cell_type": "code",
   "source": [
    "df1.shape"
   ],
   "id": "c531bcfd67e04781",
   "outputs": [
    {
     "data": {
      "text/plain": "(379191, 7)"
     },
     "execution_count": 5,
     "metadata": {},
     "output_type": "execute_result"
    }
   ],
   "execution_count": 5
  },
  {
   "metadata": {
    "ExecuteTime": {
     "end_time": "2024-04-06T20:54:58.695916Z",
     "start_time": "2024-04-06T20:54:58.686296Z"
    }
   },
   "cell_type": "code",
   "source": [
    "df1.head()"
   ],
   "id": "797355ae8dbc74c8",
   "outputs": [
    {
     "data": {
      "text/plain": "   Unnamed: 0                timestamp  \\\n0         0.0  2024-03-31 14:49:00 GMT   \n1         1.0  2024-03-31 14:12:40 GMT   \n2         2.0  2024-03-31 09:08:46 GMT   \n3         3.0  2024-03-31 05:06:36 GMT   \n4         4.0  2024-03-31 03:18:52 GMT   \n\n                                                 URL                 blogName  \\\n0  https://two-hearts-beat.tumblr.com/post/746477...          two-hearts-beat   \n1  https://miniatureketchupbottles.tumblr.com/pos...  miniatureketchupbottles   \n2  https://www.tumblr.com/blog/view/writtenkiss/7...              writtenkiss   \n3  https://silly-abro.tumblr.com/post/74644098511...               silly-abro   \n4  https://www.tumblr.com/blog/view/bet-h/7464342...                    bet-h   \n\n  title                                               tags  \\\n0   NaN                              [🙈, genuine question]   \n1   NaN  [genuine question, like actually where do peop...   \n2   NaN  [꒰͡ 𝐒𝐇𝐈𝐓𝐏𝐎𝐒𝐓𝐈𝐍𝐆 — piofiore. 🌱, genuine questio...   \n3   NaN  [Scene, emo, rawr x3, genuine question, I gues...   \n4   NaN  [why do tumblr talk in tags, like why, genuine...   \n\n                                                text  \n0  we’ve all talked about the ‘gifted child’ to s...  \n1  Is the concept of straight girls religiously w...  \n2  I am sincerely curious. Has some of you ever w...  \n3  Bro idk how people look so fucking good in the...  \n4                                             Ur mom  ",
      "text/html": "<div>\n<style scoped>\n    .dataframe tbody tr th:only-of-type {\n        vertical-align: middle;\n    }\n\n    .dataframe tbody tr th {\n        vertical-align: top;\n    }\n\n    .dataframe thead th {\n        text-align: right;\n    }\n</style>\n<table border=\"1\" class=\"dataframe\">\n  <thead>\n    <tr style=\"text-align: right;\">\n      <th></th>\n      <th>Unnamed: 0</th>\n      <th>timestamp</th>\n      <th>URL</th>\n      <th>blogName</th>\n      <th>title</th>\n      <th>tags</th>\n      <th>text</th>\n    </tr>\n  </thead>\n  <tbody>\n    <tr>\n      <th>0</th>\n      <td>0.0</td>\n      <td>2024-03-31 14:49:00 GMT</td>\n      <td>https://two-hearts-beat.tumblr.com/post/746477...</td>\n      <td>two-hearts-beat</td>\n      <td>NaN</td>\n      <td>[🙈, genuine question]</td>\n      <td>we’ve all talked about the ‘gifted child’ to s...</td>\n    </tr>\n    <tr>\n      <th>1</th>\n      <td>1.0</td>\n      <td>2024-03-31 14:12:40 GMT</td>\n      <td>https://miniatureketchupbottles.tumblr.com/pos...</td>\n      <td>miniatureketchupbottles</td>\n      <td>NaN</td>\n      <td>[genuine question, like actually where do peop...</td>\n      <td>Is the concept of straight girls religiously w...</td>\n    </tr>\n    <tr>\n      <th>2</th>\n      <td>2.0</td>\n      <td>2024-03-31 09:08:46 GMT</td>\n      <td>https://www.tumblr.com/blog/view/writtenkiss/7...</td>\n      <td>writtenkiss</td>\n      <td>NaN</td>\n      <td>[꒰͡ 𝐒𝐇𝐈𝐓𝐏𝐎𝐒𝐓𝐈𝐍𝐆 — piofiore. 🌱, genuine questio...</td>\n      <td>I am sincerely curious. Has some of you ever w...</td>\n    </tr>\n    <tr>\n      <th>3</th>\n      <td>3.0</td>\n      <td>2024-03-31 05:06:36 GMT</td>\n      <td>https://silly-abro.tumblr.com/post/74644098511...</td>\n      <td>silly-abro</td>\n      <td>NaN</td>\n      <td>[Scene, emo, rawr x3, genuine question, I gues...</td>\n      <td>Bro idk how people look so fucking good in the...</td>\n    </tr>\n    <tr>\n      <th>4</th>\n      <td>4.0</td>\n      <td>2024-03-31 03:18:52 GMT</td>\n      <td>https://www.tumblr.com/blog/view/bet-h/7464342...</td>\n      <td>bet-h</td>\n      <td>NaN</td>\n      <td>[why do tumblr talk in tags, like why, genuine...</td>\n      <td>Ur mom</td>\n    </tr>\n  </tbody>\n</table>\n</div>"
     },
     "execution_count": 6,
     "metadata": {},
     "output_type": "execute_result"
    }
   ],
   "execution_count": 6
  },
  {
   "metadata": {
    "ExecuteTime": {
     "end_time": "2024-04-06T20:54:58.708229Z",
     "start_time": "2024-04-06T20:54:58.696988Z"
    }
   },
   "cell_type": "code",
   "source": [
    "df2 = df1[['tags', 'text']]"
   ],
   "id": "be7a6a227025bc3",
   "outputs": [],
   "execution_count": 7
  },
  {
   "metadata": {
    "ExecuteTime": {
     "end_time": "2024-04-06T20:54:58.715211Z",
     "start_time": "2024-04-06T20:54:58.709251Z"
    }
   },
   "cell_type": "code",
   "source": [
    "df2.head()"
   ],
   "id": "a7b9ba003b7e37cc",
   "outputs": [
    {
     "data": {
      "text/plain": "                                                tags  \\\n0                              [🙈, genuine question]   \n1  [genuine question, like actually where do peop...   \n2  [꒰͡ 𝐒𝐇𝐈𝐓𝐏𝐎𝐒𝐓𝐈𝐍𝐆 — piofiore. 🌱, genuine questio...   \n3  [Scene, emo, rawr x3, genuine question, I gues...   \n4  [why do tumblr talk in tags, like why, genuine...   \n\n                                                text  \n0  we’ve all talked about the ‘gifted child’ to s...  \n1  Is the concept of straight girls religiously w...  \n2  I am sincerely curious. Has some of you ever w...  \n3  Bro idk how people look so fucking good in the...  \n4                                             Ur mom  ",
      "text/html": "<div>\n<style scoped>\n    .dataframe tbody tr th:only-of-type {\n        vertical-align: middle;\n    }\n\n    .dataframe tbody tr th {\n        vertical-align: top;\n    }\n\n    .dataframe thead th {\n        text-align: right;\n    }\n</style>\n<table border=\"1\" class=\"dataframe\">\n  <thead>\n    <tr style=\"text-align: right;\">\n      <th></th>\n      <th>tags</th>\n      <th>text</th>\n    </tr>\n  </thead>\n  <tbody>\n    <tr>\n      <th>0</th>\n      <td>[🙈, genuine question]</td>\n      <td>we’ve all talked about the ‘gifted child’ to s...</td>\n    </tr>\n    <tr>\n      <th>1</th>\n      <td>[genuine question, like actually where do peop...</td>\n      <td>Is the concept of straight girls religiously w...</td>\n    </tr>\n    <tr>\n      <th>2</th>\n      <td>[꒰͡ 𝐒𝐇𝐈𝐓𝐏𝐎𝐒𝐓𝐈𝐍𝐆 — piofiore. 🌱, genuine questio...</td>\n      <td>I am sincerely curious. Has some of you ever w...</td>\n    </tr>\n    <tr>\n      <th>3</th>\n      <td>[Scene, emo, rawr x3, genuine question, I gues...</td>\n      <td>Bro idk how people look so fucking good in the...</td>\n    </tr>\n    <tr>\n      <th>4</th>\n      <td>[why do tumblr talk in tags, like why, genuine...</td>\n      <td>Ur mom</td>\n    </tr>\n  </tbody>\n</table>\n</div>"
     },
     "execution_count": 8,
     "metadata": {},
     "output_type": "execute_result"
    }
   ],
   "execution_count": 8
  },
  {
   "metadata": {
    "ExecuteTime": {
     "end_time": "2024-04-06T20:54:58.721209Z",
     "start_time": "2024-04-06T20:54:58.715211Z"
    }
   },
   "cell_type": "code",
   "source": [
    "file_path = \"../tonetags.txt\"\n",
    "\n",
    "tone_tags = {}\n",
    "\n",
    "with open(file_path, 'r', encoding='utf-8') as file:\n",
    "\tfor line in file:\n",
    "\t\tkey, value = line.strip().split(':')\n",
    "\t\ttone_tags[key.strip()] = value.strip().split(',')\n",
    "\n",
    "for key, values in tone_tags.items():\n",
    "\tprint(f\"{key}: {values}\")"
   ],
   "id": "245b38e88ba7b627",
   "outputs": [
    {
     "name": "stdout",
     "output_type": "stream",
     "text": [
      "affectionate: ['affectionate', '/a']\n",
      "copypasta: ['copypasta', 'copypaste', 'repeated text', '/c']\n",
      "clickbait: ['clickbait', '/cb']\n",
      "fake: ['fake', '/f']\n",
      "genuine: ['genuine', '/g', '/gen']\n",
      "genuine question: ['genuine question', '/genq']\n",
      "half joking: ['half joking', 'half-joking', 'half joke', 'half-joke', 'halfjoke', '/hf']\n",
      "hyperbole: ['hyperbole', '/hyp']\n",
      "inside joke: ['inside joke', 'insidejoke', 'insidejoking', 'inside-joke', 'inside-joking', '/ij']\n",
      "joking: ['joking', 'joke', '/j']\n",
      "lyrics: ['lyrics', '/l', '/ly']\n",
      "light-hearted: ['light-hearted', 'light hearted', 'lighthearted', '/lh']\n",
      "literal: ['literal', 'literally', '/li']\n",
      "little upset: ['little upset', 'littleupset', 'little-upset', '/lu-a', '/lu']\n",
      "metaphorical: ['metaphorical', '/m']\n",
      "not a vent: ['not a vent', 'notavent', 'not-a-vent', '/nav']\n",
      "nobody here: ['nobodyhere', 'nobody-here', '/nbh']\n",
      "negative connotation: ['negative connotation', 'negetiveconnotation', 'negative-connotation', '/neg', '/ng']\n",
      "neutral connotation: ['neutral connotation', 'neutralconnotation', 'neutral-connotation', '/neu']\n",
      "not forced: ['not forced', 'not-forced', 'notforced', '/nf']\n",
      "not mad: ['not mad', 'not-mad', 'notmad', '/nm']\n",
      "not passive aggressive: ['not passive aggressive', 'not passive-aggressive', 'not-passive-aggressive', 'notpassiveaggressive', '/npa']\n",
      "not subtweeting: ['not subtweeting', 'notsubtweeting', '/nsb']\n",
      "non-serious: ['non-serious', 'non serious', 'nonserious', 'not serious', 'not-serious', 'notserious', '/nsrs']\n",
      "non-sexual intent: ['non-sexual intent', 'not-sexual intent', 'non-sexual-intent', 'nonsexualintent', 'not-sexual-intent', 'notsexualintent', '/nsx', '/nx']\n",
      "platonic: ['platonic', '/p']\n",
      "passive aggressive: ['passive aggressive', 'passive-aggressive', '/pa']\n",
      "positive connotation: ['positive connotation', 'positive-connotation', 'positiveconnotation', '/pos', '/pc']\n",
      "quote: ['quote', '/q']\n",
      "romantic: ['romantic', '/r']\n",
      "reference: ['reference', '/ref']\n",
      "rhetorical: ['rhetorical', 'rhetorical question', 'rhetorical-question', 'rhetoricalquestion', '/rh', '/rt']\n",
      "sarcastic: ['sarcastic', 'sarcasm', '/s']\n",
      "serious: ['serious', '/srs']\n",
      "sexual intent: ['sexual intent', ' sexualintent', 'sexual-intent', '/x', '/sx']\n",
      "teasing: ['teasing', '/t']\n",
      "threat: ['threat', '/th']\n",
      "ironic: ['ironic', '/iron']\n",
      "not at you: ['not at you', 'not-at-you', 'notatyou', '/nay']\n",
      "nothing personal: ['nothing personal', 'nothing-personal', 'nothingpersonal', '/np']\n"
     ]
    }
   ],
   "execution_count": 9
  },
  {
   "metadata": {
    "ExecuteTime": {
     "end_time": "2024-04-06T20:54:58.731598Z",
     "start_time": "2024-04-06T20:54:58.722372Z"
    }
   },
   "cell_type": "code",
   "source": [
    "df3 = df2.copy()"
   ],
   "id": "d33a88080fe3e898",
   "outputs": [],
   "execution_count": 10
  },
  {
   "metadata": {
    "ExecuteTime": {
     "end_time": "2024-04-06T20:54:58.735407Z",
     "start_time": "2024-04-06T20:54:58.732679Z"
    }
   },
   "cell_type": "code",
   "source": [
    "def replace_values(tags_list):\n",
    "    return [key for key, value in tone_tags.items() if any(tag.lower() in value for tag in tags_list)]"
   ],
   "id": "b62fc1383d28b26",
   "outputs": [],
   "execution_count": 11
  },
  {
   "metadata": {
    "ExecuteTime": {
     "end_time": "2024-04-06T20:55:11.233967Z",
     "start_time": "2024-04-06T20:54:58.736528Z"
    }
   },
   "cell_type": "code",
   "source": [
    "df3['tags'] = df2['tags'].apply(replace_values)"
   ],
   "id": "273b8b9076a02949",
   "outputs": [],
   "execution_count": 12
  },
  {
   "metadata": {
    "ExecuteTime": {
     "end_time": "2024-04-06T20:55:11.240167Z",
     "start_time": "2024-04-06T20:55:11.234978Z"
    }
   },
   "cell_type": "code",
   "source": [
    "df3.head()"
   ],
   "id": "1fa33272371b3fb4",
   "outputs": [
    {
     "data": {
      "text/plain": "                 tags                                               text\n0  [genuine question]  we’ve all talked about the ‘gifted child’ to s...\n1  [genuine question]  Is the concept of straight girls religiously w...\n2  [genuine question]  I am sincerely curious. Has some of you ever w...\n3  [genuine question]  Bro idk how people look so fucking good in the...\n4  [genuine question]                                             Ur mom",
      "text/html": "<div>\n<style scoped>\n    .dataframe tbody tr th:only-of-type {\n        vertical-align: middle;\n    }\n\n    .dataframe tbody tr th {\n        vertical-align: top;\n    }\n\n    .dataframe thead th {\n        text-align: right;\n    }\n</style>\n<table border=\"1\" class=\"dataframe\">\n  <thead>\n    <tr style=\"text-align: right;\">\n      <th></th>\n      <th>tags</th>\n      <th>text</th>\n    </tr>\n  </thead>\n  <tbody>\n    <tr>\n      <th>0</th>\n      <td>[genuine question]</td>\n      <td>we’ve all talked about the ‘gifted child’ to s...</td>\n    </tr>\n    <tr>\n      <th>1</th>\n      <td>[genuine question]</td>\n      <td>Is the concept of straight girls religiously w...</td>\n    </tr>\n    <tr>\n      <th>2</th>\n      <td>[genuine question]</td>\n      <td>I am sincerely curious. Has some of you ever w...</td>\n    </tr>\n    <tr>\n      <th>3</th>\n      <td>[genuine question]</td>\n      <td>Bro idk how people look so fucking good in the...</td>\n    </tr>\n    <tr>\n      <th>4</th>\n      <td>[genuine question]</td>\n      <td>Ur mom</td>\n    </tr>\n  </tbody>\n</table>\n</div>"
     },
     "execution_count": 13,
     "metadata": {},
     "output_type": "execute_result"
    }
   ],
   "execution_count": 13
  },
  {
   "metadata": {
    "ExecuteTime": {
     "end_time": "2024-04-06T20:55:11.288052Z",
     "start_time": "2024-04-06T20:55:11.241172Z"
    }
   },
   "cell_type": "code",
   "source": [
    "list_with_empty_tags = df3[df3['tags'].apply(lambda x: len(x) == 0)].index.tolist()\n",
    "list_with_empty_tags"
   ],
   "id": "f9d0688bea4abbb7",
   "outputs": [
    {
     "data": {
      "text/plain": "[1333,\n 21152,\n 91564,\n 1385548,\n 1700697,\n 1710109,\n 1710110,\n 1710111,\n 1710112,\n 1710113,\n 1710114,\n 1710115,\n 1710116,\n 1710117,\n 1710118,\n 1710119,\n 1710120,\n 1710121,\n 1710122,\n 1710123,\n 1710124,\n 1710125,\n 1710126,\n 1710127,\n 1710128,\n 1710129,\n 1710130,\n 1710131,\n 1710132,\n 1710133,\n 1710134,\n 1710135,\n 1710136]"
     },
     "execution_count": 14,
     "metadata": {},
     "output_type": "execute_result"
    }
   ],
   "execution_count": 14
  },
  {
   "metadata": {
    "ExecuteTime": {
     "end_time": "2024-04-06T20:55:11.299109Z",
     "start_time": "2024-04-06T20:55:11.288052Z"
    }
   },
   "cell_type": "code",
   "source": [
    "for id in list_with_empty_tags:\n",
    "    print(id, df1.loc[id]['tags'])"
   ],
   "id": "6879970cd505758e",
   "outputs": [
    {
     "name": "stdout",
     "output_type": "stream",
     "text": [
      "1333 [\"i'm tweaking\"]\n",
      "21152 [\"i'm tweaking\"]\n",
      "91564 [\"i'm tweaking\"]\n",
      "1385548 ['']\n",
      "1700697 [\"yeah alex it's called seasonal depression\", 'this isnt a vent its just a weird babble about this', 'alex babbling']\n",
      "1710109 ['bored', 'nobody here', 'boyfriend', 'boyfriend hoodie', 'hoodie', 'wine', 'sad times']\n",
      "1710110 ['welp', 'nobody here', 'gonna go back to watching digimon']\n",
      "1710111 ['nobody here', '=', 'offline']\n",
      "1710112 ['sunset corp', 'nobody here']\n",
      "1710113 ['Nobody here', 'irl stuff', 'just so angry']\n",
      "1710114 ['me', 'personal', 'work', 'SO SLOW', 'nobody here', 'writing tutor', 'writing workshop', 'writing studio', 'should be', 'making money', 'working']\n",
      "1710115 ['nobody here', 'chris de burgh', 'radiovalerie', 'late night', 'whimsy']\n",
      "1710116 ['blu mar ten', 'nobody here', 'kastle', 'remix', 'could you want me', 'purple']\n",
      "1710117 ['nobody here', 'lady in red', 'graphics', 'chris deburgh']\n",
      "1710118 ['NOBODY HERE', 'audio']\n",
      "1710119 ['Blue Mar Ten', 'Nobody here', 'Kastle']\n",
      "1710120 ['nobody here']\n",
      "1710121 ['Blu Mar Ten', 'nobody here', 'kastle remix', 'drum and bass', 'dnb', 'liquid', 'music']\n",
      "1710122 ['nobody here', 'blu mar ten', 'kastle', 'dubstep', 'amazing']\n",
      "1710123 ['nobody here', 'i go sleep', 'hurr for malaysian time', \"all the fun stuff happens when i'm not around\", 'like jon kissing stana', 'or that benedict dancing video', 'meh...', 'al well', 'imma back in birt time zone in january', \"so i'd better stop rambling and go to sleep\", 'fangirly dreams here i come', 'nanight all', ':D']\n",
      "1710124 ['Nobody Here']\n",
      "1710125 ['Blu Mar Ten', 'Nobody Here', 'Kastle VIP', 'Remix', 'bass', 'dubstep', 'heavy', '2011', 'preview']\n",
      "1710126 ['nobody here', 'vagueblogging sorry', \"seriously though jesus christ are you so self-centered and passive-aggressive that you can't conceive of someone disliking you for a reason\", 'you little TURD']\n",
      "1710127 ['blu mar ten', 'kastle', 'remix', 'nobody here', 'dubstep', 'fucking to dubstep']\n",
      "1710128 ['music', 'blu mar ten', 'nobody here', 'kastle', 'remix', 'dubstep']\n",
      "1710129 ['nobody here', 'just thinking']\n",
      "1710130 ['Blu Mar Ten', 'Nobody Here', 'Kastle remix', 'liquid', 'liquid drum and bass', 'drum n bass', 'drum and bass', 'dnb', 'drum &amp; bass']\n",
      "1710131 ['Nobody Here', 'Things To Remember']\n",
      "1710132 ['dead', 'tumblr', 'nobody here']\n",
      "1710133 ['nobody here', 'sunset corp']\n",
      "1710134 ['sunsetcorp', 'thanks ian', 'nobody here']\n",
      "1710135 ['nobody here', 'lady in red', 'sunsetcorp', 'oneohtrix point never', 'chris D burgh', 'youtube', 'music video', 'music', 'video', 'electronic music', 'experimental', 'eighties']\n",
      "1710136 ['Rainbow Road', 'Nobody Here']\n"
     ]
    }
   ],
   "execution_count": 15
  },
  {
   "metadata": {
    "ExecuteTime": {
     "end_time": "2024-04-06T20:55:11.356012Z",
     "start_time": "2024-04-06T20:55:11.300114Z"
    }
   },
   "cell_type": "code",
   "source": [
    "df4 = df3[df3['tags'].apply(lambda x: len(x) != 0)]"
   ],
   "id": "bdf3df0fc49be265",
   "outputs": [],
   "execution_count": 16
  },
  {
   "metadata": {
    "ExecuteTime": {
     "end_time": "2024-04-06T20:55:11.441303Z",
     "start_time": "2024-04-06T20:55:11.357017Z"
    }
   },
   "cell_type": "code",
   "source": [
    "df5 = df4.explode('tags')"
   ],
   "id": "30cf96cb51140f8f",
   "outputs": [],
   "execution_count": 17
  },
  {
   "metadata": {
    "ExecuteTime": {
     "end_time": "2024-04-06T20:55:11.447339Z",
     "start_time": "2024-04-06T20:55:11.442307Z"
    }
   },
   "cell_type": "code",
   "source": [
    "df5.head()"
   ],
   "id": "ba54f78e100a0903",
   "outputs": [
    {
     "data": {
      "text/plain": "               tags                                               text\n0  genuine question  we’ve all talked about the ‘gifted child’ to s...\n1  genuine question  Is the concept of straight girls religiously w...\n2  genuine question  I am sincerely curious. Has some of you ever w...\n3  genuine question  Bro idk how people look so fucking good in the...\n4  genuine question                                             Ur mom",
      "text/html": "<div>\n<style scoped>\n    .dataframe tbody tr th:only-of-type {\n        vertical-align: middle;\n    }\n\n    .dataframe tbody tr th {\n        vertical-align: top;\n    }\n\n    .dataframe thead th {\n        text-align: right;\n    }\n</style>\n<table border=\"1\" class=\"dataframe\">\n  <thead>\n    <tr style=\"text-align: right;\">\n      <th></th>\n      <th>tags</th>\n      <th>text</th>\n    </tr>\n  </thead>\n  <tbody>\n    <tr>\n      <th>0</th>\n      <td>genuine question</td>\n      <td>we’ve all talked about the ‘gifted child’ to s...</td>\n    </tr>\n    <tr>\n      <th>1</th>\n      <td>genuine question</td>\n      <td>Is the concept of straight girls religiously w...</td>\n    </tr>\n    <tr>\n      <th>2</th>\n      <td>genuine question</td>\n      <td>I am sincerely curious. Has some of you ever w...</td>\n    </tr>\n    <tr>\n      <th>3</th>\n      <td>genuine question</td>\n      <td>Bro idk how people look so fucking good in the...</td>\n    </tr>\n    <tr>\n      <th>4</th>\n      <td>genuine question</td>\n      <td>Ur mom</td>\n    </tr>\n  </tbody>\n</table>\n</div>"
     },
     "execution_count": 18,
     "metadata": {},
     "output_type": "execute_result"
    }
   ],
   "execution_count": 18
  },
  {
   "metadata": {
    "ExecuteTime": {
     "end_time": "2024-04-06T20:55:11.539311Z",
     "start_time": "2024-04-06T20:55:11.448345Z"
    }
   },
   "cell_type": "code",
   "source": [
    "df6 = df5.drop_duplicates()"
   ],
   "id": "193a14d6aa7db408",
   "outputs": [],
   "execution_count": 19
  },
  {
   "metadata": {
    "ExecuteTime": {
     "end_time": "2024-04-06T20:55:11.545087Z",
     "start_time": "2024-04-06T20:55:11.539311Z"
    }
   },
   "cell_type": "code",
   "source": [
    "df6.head()"
   ],
   "id": "2d68ba5c0fcc62d5",
   "outputs": [
    {
     "data": {
      "text/plain": "               tags                                               text\n0  genuine question  we’ve all talked about the ‘gifted child’ to s...\n1  genuine question  Is the concept of straight girls religiously w...\n2  genuine question  I am sincerely curious. Has some of you ever w...\n3  genuine question  Bro idk how people look so fucking good in the...\n4  genuine question                                             Ur mom",
      "text/html": "<div>\n<style scoped>\n    .dataframe tbody tr th:only-of-type {\n        vertical-align: middle;\n    }\n\n    .dataframe tbody tr th {\n        vertical-align: top;\n    }\n\n    .dataframe thead th {\n        text-align: right;\n    }\n</style>\n<table border=\"1\" class=\"dataframe\">\n  <thead>\n    <tr style=\"text-align: right;\">\n      <th></th>\n      <th>tags</th>\n      <th>text</th>\n    </tr>\n  </thead>\n  <tbody>\n    <tr>\n      <th>0</th>\n      <td>genuine question</td>\n      <td>we’ve all talked about the ‘gifted child’ to s...</td>\n    </tr>\n    <tr>\n      <th>1</th>\n      <td>genuine question</td>\n      <td>Is the concept of straight girls religiously w...</td>\n    </tr>\n    <tr>\n      <th>2</th>\n      <td>genuine question</td>\n      <td>I am sincerely curious. Has some of you ever w...</td>\n    </tr>\n    <tr>\n      <th>3</th>\n      <td>genuine question</td>\n      <td>Bro idk how people look so fucking good in the...</td>\n    </tr>\n    <tr>\n      <th>4</th>\n      <td>genuine question</td>\n      <td>Ur mom</td>\n    </tr>\n  </tbody>\n</table>\n</div>"
     },
     "execution_count": 20,
     "metadata": {},
     "output_type": "execute_result"
    }
   ],
   "execution_count": 20
  },
  {
   "metadata": {
    "ExecuteTime": {
     "end_time": "2024-04-06T20:55:11.568887Z",
     "start_time": "2024-04-06T20:55:11.545087Z"
    }
   },
   "cell_type": "code",
   "source": [
    "df7 = df6.dropna(subset=['text'])"
   ],
   "id": "8cc6172c5da3997a",
   "outputs": [],
   "execution_count": 21
  },
  {
   "metadata": {
    "ExecuteTime": {
     "end_time": "2024-04-06T20:55:11.575122Z",
     "start_time": "2024-04-06T20:55:11.568887Z"
    }
   },
   "cell_type": "code",
   "source": [
    "df7.head()"
   ],
   "id": "330d2963c2f04168",
   "outputs": [
    {
     "data": {
      "text/plain": "               tags                                               text\n0  genuine question  we’ve all talked about the ‘gifted child’ to s...\n1  genuine question  Is the concept of straight girls religiously w...\n2  genuine question  I am sincerely curious. Has some of you ever w...\n3  genuine question  Bro idk how people look so fucking good in the...\n4  genuine question                                             Ur mom",
      "text/html": "<div>\n<style scoped>\n    .dataframe tbody tr th:only-of-type {\n        vertical-align: middle;\n    }\n\n    .dataframe tbody tr th {\n        vertical-align: top;\n    }\n\n    .dataframe thead th {\n        text-align: right;\n    }\n</style>\n<table border=\"1\" class=\"dataframe\">\n  <thead>\n    <tr style=\"text-align: right;\">\n      <th></th>\n      <th>tags</th>\n      <th>text</th>\n    </tr>\n  </thead>\n  <tbody>\n    <tr>\n      <th>0</th>\n      <td>genuine question</td>\n      <td>we’ve all talked about the ‘gifted child’ to s...</td>\n    </tr>\n    <tr>\n      <th>1</th>\n      <td>genuine question</td>\n      <td>Is the concept of straight girls religiously w...</td>\n    </tr>\n    <tr>\n      <th>2</th>\n      <td>genuine question</td>\n      <td>I am sincerely curious. Has some of you ever w...</td>\n    </tr>\n    <tr>\n      <th>3</th>\n      <td>genuine question</td>\n      <td>Bro idk how people look so fucking good in the...</td>\n    </tr>\n    <tr>\n      <th>4</th>\n      <td>genuine question</td>\n      <td>Ur mom</td>\n    </tr>\n  </tbody>\n</table>\n</div>"
     },
     "execution_count": 22,
     "metadata": {},
     "output_type": "execute_result"
    }
   ],
   "execution_count": 22
  },
  {
   "cell_type": "code",
   "outputs": [],
   "source": [
    "tag_size = {}\n",
    "\n",
    "for tag in df7.tags.unique().tolist():\n",
    "    tag_size[tag] = df7[df7['tags'] == tag].shape[0]"
   ],
   "metadata": {
    "collapsed": false,
    "ExecuteTime": {
     "end_time": "2024-04-06T20:55:11.816547Z",
     "start_time": "2024-04-06T20:55:11.576127Z"
    }
   },
   "id": "8df4fed36871253d",
   "execution_count": 23
  },
  {
   "cell_type": "code",
   "outputs": [
    {
     "data": {
      "text/plain": "{'neutral connotation': 1,\n 'not subtweeting': 6,\n 'nobody here': 10,\n 'negative connotation': 29,\n 'little upset': 40,\n 'not passive aggressive': 43,\n 'not at you': 43,\n 'teasing': 48,\n 'positive connotation': 53,\n 'not forced': 61,\n 'metaphorical': 91,\n 'non-serious': 209,\n 'threat': 244,\n 'hyperbole': 315,\n 'fake': 322,\n 'light-hearted': 452,\n 'affectionate': 843,\n 'not mad': 1400,\n 'ironic': 1441,\n 'not a vent': 1761,\n 'genuine': 1849,\n 'clickbait': 2289,\n 'rhetorical': 2299,\n 'half joking': 2522,\n 'sarcastic': 2735,\n 'copypasta': 2773,\n 'serious': 4430,\n 'passive aggressive': 4562,\n 'nothing personal': 4857,\n 'romantic': 5228,\n 'inside joke': 5599,\n 'genuine question': 7180,\n 'platonic': 10105,\n 'reference': 13706,\n 'joking': 13998,\n 'lyrics': 18911,\n 'quote': 35245,\n 'literal': 61888}"
     },
     "execution_count": 24,
     "metadata": {},
     "output_type": "execute_result"
    }
   ],
   "source": [
    "dict(sorted(tag_size.items(), key=lambda x: x[1]))"
   ],
   "metadata": {
    "collapsed": false,
    "ExecuteTime": {
     "end_time": "2024-04-06T20:55:11.821850Z",
     "start_time": "2024-04-06T20:55:11.817551Z"
    }
   },
   "id": "fd5eb58ed45a0305",
   "execution_count": 24
  },
  {
   "cell_type": "code",
   "outputs": [
    {
     "data": {
      "text/plain": "               tags                                               text\n0  genuine question  weve all talked about the gifted child to stru...\n1  genuine question  Is the concept of straight girls religiously w...\n2  genuine question  I am sincerely curious. Has some of you ever w...\n3  genuine question  Bro idk how people look so fucking good in the...\n4  genuine question                                             Ur mom",
      "text/html": "<div>\n<style scoped>\n    .dataframe tbody tr th:only-of-type {\n        vertical-align: middle;\n    }\n\n    .dataframe tbody tr th {\n        vertical-align: top;\n    }\n\n    .dataframe thead th {\n        text-align: right;\n    }\n</style>\n<table border=\"1\" class=\"dataframe\">\n  <thead>\n    <tr style=\"text-align: right;\">\n      <th></th>\n      <th>tags</th>\n      <th>text</th>\n    </tr>\n  </thead>\n  <tbody>\n    <tr>\n      <th>0</th>\n      <td>genuine question</td>\n      <td>weve all talked about the gifted child to stru...</td>\n    </tr>\n    <tr>\n      <th>1</th>\n      <td>genuine question</td>\n      <td>Is the concept of straight girls religiously w...</td>\n    </tr>\n    <tr>\n      <th>2</th>\n      <td>genuine question</td>\n      <td>I am sincerely curious. Has some of you ever w...</td>\n    </tr>\n    <tr>\n      <th>3</th>\n      <td>genuine question</td>\n      <td>Bro idk how people look so fucking good in the...</td>\n    </tr>\n    <tr>\n      <th>4</th>\n      <td>genuine question</td>\n      <td>Ur mom</td>\n    </tr>\n  </tbody>\n</table>\n</div>"
     },
     "execution_count": 25,
     "metadata": {},
     "output_type": "execute_result"
    }
   ],
   "source": [
    "printable = set(string.printable)\n",
    "\n",
    "df8 = df7.copy()\n",
    "df8[\"text\"] = df8.text.apply(lambda y: ''.join(filter(lambda x: x in printable, y)))\n",
    "df8.head()"
   ],
   "metadata": {
    "collapsed": false,
    "ExecuteTime": {
     "end_time": "2024-04-06T20:55:15.020089Z",
     "start_time": "2024-04-06T20:55:11.823059Z"
    }
   },
   "id": "5ea9ec7e95e4b5e4",
   "execution_count": 25
  },
  {
   "cell_type": "code",
   "outputs": [],
   "source": [
    "def langdetect(text):\n",
    "    try:\n",
    "        lang = detect(text)\n",
    "        if lang != \"en\":\n",
    "            return False\n",
    "        else:\n",
    "            return True\n",
    "    except:\n",
    "        return False"
   ],
   "metadata": {
    "collapsed": false,
    "ExecuteTime": {
     "end_time": "2024-04-06T20:55:15.023914Z",
     "start_time": "2024-04-06T20:55:15.021178Z"
    }
   },
   "id": "2a1948fe7350960a",
   "execution_count": 26
  },
  {
   "cell_type": "code",
   "outputs": [],
   "source": [
    "df9 = df8[df8.text.apply(langdetect)]"
   ],
   "metadata": {
    "collapsed": false,
    "ExecuteTime": {
     "end_time": "2024-04-06T21:02:40.578178Z",
     "start_time": "2024-04-06T20:55:15.025014Z"
    }
   },
   "id": "d49569bedd34c280",
   "execution_count": 27
  },
  {
   "cell_type": "code",
   "outputs": [
    {
     "data": {
      "text/plain": "               tags                                               text\n0  genuine question  weve all talked about the gifted child to stru...\n1  genuine question  Is the concept of straight girls religiously w...\n2  genuine question  I am sincerely curious. Has some of you ever w...\n3  genuine question  Bro idk how people look so fucking good in the...\n5  genuine question  Advice for a beginner witch who has no supplie...",
      "text/html": "<div>\n<style scoped>\n    .dataframe tbody tr th:only-of-type {\n        vertical-align: middle;\n    }\n\n    .dataframe tbody tr th {\n        vertical-align: top;\n    }\n\n    .dataframe thead th {\n        text-align: right;\n    }\n</style>\n<table border=\"1\" class=\"dataframe\">\n  <thead>\n    <tr style=\"text-align: right;\">\n      <th></th>\n      <th>tags</th>\n      <th>text</th>\n    </tr>\n  </thead>\n  <tbody>\n    <tr>\n      <th>0</th>\n      <td>genuine question</td>\n      <td>weve all talked about the gifted child to stru...</td>\n    </tr>\n    <tr>\n      <th>1</th>\n      <td>genuine question</td>\n      <td>Is the concept of straight girls religiously w...</td>\n    </tr>\n    <tr>\n      <th>2</th>\n      <td>genuine question</td>\n      <td>I am sincerely curious. Has some of you ever w...</td>\n    </tr>\n    <tr>\n      <th>3</th>\n      <td>genuine question</td>\n      <td>Bro idk how people look so fucking good in the...</td>\n    </tr>\n    <tr>\n      <th>5</th>\n      <td>genuine question</td>\n      <td>Advice for a beginner witch who has no supplie...</td>\n    </tr>\n  </tbody>\n</table>\n</div>"
     },
     "execution_count": 28,
     "metadata": {},
     "output_type": "execute_result"
    }
   ],
   "source": [
    "df9.head()"
   ],
   "metadata": {
    "collapsed": false,
    "ExecuteTime": {
     "end_time": "2024-04-06T21:02:40.585904Z",
     "start_time": "2024-04-06T21:02:40.579964Z"
    }
   },
   "id": "a6597d4eae7a8c2f",
   "execution_count": 28
  },
  {
   "cell_type": "code",
   "outputs": [],
   "source": [
    "def remove_stopwords(text):\n",
    "    word_tokens = word_tokenize(text)\n",
    "    stop_words = set(stopwords.words('english'))\n",
    "    return [w for w in word_tokens if not w in stop_words]"
   ],
   "metadata": {
    "collapsed": false,
    "ExecuteTime": {
     "end_time": "2024-04-06T21:02:40.590989Z",
     "start_time": "2024-04-06T21:02:40.586908Z"
    }
   },
   "id": "a193c813c77b6dbb",
   "execution_count": 29
  },
  {
   "cell_type": "code",
   "outputs": [],
   "source": [
    "df10 = df9.copy()\n",
    "df10[\"text\"] = df10.text.apply(remove_stopwords)"
   ],
   "metadata": {
    "collapsed": false,
    "ExecuteTime": {
     "end_time": "2024-04-06T21:03:50.513233Z",
     "start_time": "2024-04-06T21:02:40.591994Z"
    }
   },
   "id": "76591e9bed45e2c1",
   "execution_count": 30
  },
  {
   "cell_type": "code",
   "outputs": [
    {
     "data": {
      "text/plain": "               tags                                               text\n0  genuine question  [weve, talked, gifted, child, struggling, adul...\n1  genuine question  [Is, concept, straight, girls, religiously, wa...\n2  genuine question  [I, sincerely, curious, ., Has, ever, written,...\n3  genuine question  [Bro, idk, people, look, fucking, good, fake, ...\n5  genuine question  [Advice, beginner, witch, supplies, deal, peri...",
      "text/html": "<div>\n<style scoped>\n    .dataframe tbody tr th:only-of-type {\n        vertical-align: middle;\n    }\n\n    .dataframe tbody tr th {\n        vertical-align: top;\n    }\n\n    .dataframe thead th {\n        text-align: right;\n    }\n</style>\n<table border=\"1\" class=\"dataframe\">\n  <thead>\n    <tr style=\"text-align: right;\">\n      <th></th>\n      <th>tags</th>\n      <th>text</th>\n    </tr>\n  </thead>\n  <tbody>\n    <tr>\n      <th>0</th>\n      <td>genuine question</td>\n      <td>[weve, talked, gifted, child, struggling, adul...</td>\n    </tr>\n    <tr>\n      <th>1</th>\n      <td>genuine question</td>\n      <td>[Is, concept, straight, girls, religiously, wa...</td>\n    </tr>\n    <tr>\n      <th>2</th>\n      <td>genuine question</td>\n      <td>[I, sincerely, curious, ., Has, ever, written,...</td>\n    </tr>\n    <tr>\n      <th>3</th>\n      <td>genuine question</td>\n      <td>[Bro, idk, people, look, fucking, good, fake, ...</td>\n    </tr>\n    <tr>\n      <th>5</th>\n      <td>genuine question</td>\n      <td>[Advice, beginner, witch, supplies, deal, peri...</td>\n    </tr>\n  </tbody>\n</table>\n</div>"
     },
     "execution_count": 31,
     "metadata": {},
     "output_type": "execute_result"
    }
   ],
   "source": [
    "df10.head()"
   ],
   "metadata": {
    "collapsed": false,
    "ExecuteTime": {
     "end_time": "2024-04-06T21:03:50.520479Z",
     "start_time": "2024-04-06T21:03:50.514246Z"
    }
   },
   "id": "4fa8c41222a224c0",
   "execution_count": 31
  },
  {
   "cell_type": "code",
   "outputs": [],
   "source": [
    "def remove(tokens):\n",
    "    if len(tokens) <= 5:\n",
    "        return False\n",
    "    else:\n",
    "        total = 0\n",
    "        total_chars = 0\n",
    "        for token in tokens:\n",
    "            total += len(token)\n",
    "            for char in token:\n",
    "                if char.isalpha():\n",
    "                    total_chars += 1\n",
    "        if total_chars / total >= 0.8:\n",
    "            return True\n",
    "        else:\n",
    "            return False"
   ],
   "metadata": {
    "collapsed": false,
    "ExecuteTime": {
     "end_time": "2024-04-06T21:03:50.524340Z",
     "start_time": "2024-04-06T21:03:50.520479Z"
    }
   },
   "id": "c05533c872217c26",
   "execution_count": 32
  },
  {
   "cell_type": "code",
   "outputs": [],
   "source": [
    "df11 = df10.copy()\n",
    "df11 = df11[df11[\"text\"].apply(remove)]"
   ],
   "metadata": {
    "collapsed": false,
    "ExecuteTime": {
     "end_time": "2024-04-06T21:05:56.713822Z",
     "start_time": "2024-04-06T21:05:54.841073Z"
    }
   },
   "id": "7f8a6d1246cd6e35",
   "execution_count": 34
  },
  {
   "cell_type": "code",
   "outputs": [
    {
     "data": {
      "text/plain": "(164184, 2)"
     },
     "execution_count": 36,
     "metadata": {},
     "output_type": "execute_result"
    }
   ],
   "source": [
    "df11.shape"
   ],
   "metadata": {
    "collapsed": false,
    "ExecuteTime": {
     "end_time": "2024-04-06T21:06:06.948104Z",
     "start_time": "2024-04-06T21:06:06.943641Z"
    }
   },
   "id": "bd59768b6e1d921b",
   "execution_count": 36
  },
  {
   "cell_type": "code",
   "outputs": [
    {
     "data": {
      "text/plain": "{'not subtweeting': 5,\n 'nobody here': 6,\n 'negative connotation': 20,\n 'teasing': 29,\n 'little upset': 30,\n 'not at you': 31,\n 'not passive aggressive': 38,\n 'positive connotation': 44,\n 'not forced': 49,\n 'metaphorical': 76,\n 'non-serious': 172,\n 'threat': 176,\n 'fake': 226,\n 'hyperbole': 287,\n 'light-hearted': 414,\n 'affectionate': 583,\n 'not mad': 1162,\n 'ironic': 1189,\n 'not a vent': 1405,\n 'genuine': 1571,\n 'clickbait': 1862,\n 'rhetorical': 1915,\n 'half joking': 2207,\n 'sarcastic': 2341,\n 'copypasta': 2489,\n 'romantic': 3310,\n 'inside joke': 3585,\n 'serious': 4024,\n 'nothing personal': 4027,\n 'passive aggressive': 4104,\n 'genuine question': 6016,\n 'platonic': 8821,\n 'joking': 10312,\n 'reference': 10570,\n 'lyrics': 14394,\n 'quote': 27861,\n 'literal': 48833}"
     },
     "execution_count": 47,
     "metadata": {},
     "output_type": "execute_result"
    }
   ],
   "source": [
    "tag_size = {}\n",
    "\n",
    "for tag in df11.tags.unique().tolist():\n",
    "    tag_size[tag] = df11[df11['tags'] == tag].shape[0]\n",
    "\n",
    "tag_size = dict(sorted(tag_size.items(), key=lambda x: x[1]))\n",
    "tag_size"
   ],
   "metadata": {
    "collapsed": false,
    "ExecuteTime": {
     "end_time": "2024-04-06T21:12:55.690528Z",
     "start_time": "2024-04-06T21:12:55.510500Z"
    }
   },
   "id": "2c7d892bbb6f175d",
   "execution_count": 47
  },
  {
   "cell_type": "code",
   "outputs": [],
   "source": [
    "df12 = df11[(df11[\"tags\"] != \"quote\") & (df11[\"tags\"] != \"literal\")]"
   ],
   "metadata": {
    "collapsed": false,
    "ExecuteTime": {
     "end_time": "2024-04-06T21:11:15.211394Z",
     "start_time": "2024-04-06T21:11:15.182518Z"
    }
   },
   "id": "355b2f97fe3e40bc",
   "execution_count": 42
  },
  {
   "cell_type": "code",
   "outputs": [
    {
     "data": {
      "text/plain": "{'not subtweeting': 5,\n 'nobody here': 6,\n 'negative connotation': 20,\n 'teasing': 29,\n 'little upset': 30,\n 'not at you': 31,\n 'not passive aggressive': 38,\n 'positive connotation': 44,\n 'not forced': 49,\n 'metaphorical': 76,\n 'non-serious': 172,\n 'threat': 176,\n 'fake': 226,\n 'hyperbole': 287,\n 'light-hearted': 414,\n 'affectionate': 583,\n 'not mad': 1162,\n 'ironic': 1189,\n 'not a vent': 1405,\n 'genuine': 1571,\n 'clickbait': 1862,\n 'rhetorical': 1915,\n 'half joking': 2207,\n 'sarcastic': 2341,\n 'copypasta': 2489,\n 'romantic': 3310,\n 'inside joke': 3585,\n 'serious': 4024,\n 'nothing personal': 4027,\n 'passive aggressive': 4104,\n 'genuine question': 6016,\n 'platonic': 8821,\n 'joking': 10312,\n 'reference': 10570,\n 'lyrics': 14394}"
     },
     "execution_count": 51,
     "metadata": {},
     "output_type": "execute_result"
    }
   ],
   "source": [
    "tag_size = {}\n",
    "\n",
    "for tag in df12.tags.unique().tolist():\n",
    "    tag_size[tag] = df12[df12['tags'] == tag].shape[0]\n",
    "\n",
    "tag_size = dict(sorted(tag_size.items(), key=lambda x: x[1]))\n",
    "tag_size"
   ],
   "metadata": {
    "collapsed": false,
    "ExecuteTime": {
     "end_time": "2024-04-06T21:19:29.885537Z",
     "start_time": "2024-04-06T21:19:29.790091Z"
    }
   },
   "id": "8e24a8727f8aaeb5",
   "execution_count": 51
  },
  {
   "cell_type": "code",
   "outputs": [],
   "source": [
    "df13 = df12.copy()\n",
    "\n",
    "for key, value in tag_size.items():\n",
    "    if value < 1000:\n",
    "        df13 = df13[df13[\"tags\"] != key]"
   ],
   "metadata": {
    "collapsed": false,
    "ExecuteTime": {
     "end_time": "2024-04-06T21:21:49.550251Z",
     "start_time": "2024-04-06T21:21:49.459314Z"
    }
   },
   "id": "22ab3716a382296b",
   "execution_count": 53
  },
  {
   "cell_type": "code",
   "outputs": [
    {
     "data": {
      "text/plain": "{'not mad': 1162,\n 'ironic': 1189,\n 'not a vent': 1405,\n 'genuine': 1571,\n 'clickbait': 1862,\n 'rhetorical': 1915,\n 'half joking': 2207,\n 'sarcastic': 2341,\n 'copypasta': 2489,\n 'romantic': 3310,\n 'inside joke': 3585,\n 'serious': 4024,\n 'nothing personal': 4027,\n 'passive aggressive': 4104,\n 'genuine question': 6016,\n 'platonic': 8821,\n 'joking': 10312,\n 'reference': 10570,\n 'lyrics': 14394}"
     },
     "execution_count": 54,
     "metadata": {},
     "output_type": "execute_result"
    }
   ],
   "source": [
    "tag_size = {}\n",
    "\n",
    "for tag in df13.tags.unique().tolist():\n",
    "    tag_size[tag] = df13[df13['tags'] == tag].shape[0]\n",
    "\n",
    "tag_size = dict(sorted(tag_size.items(), key=lambda x: x[1]))\n",
    "tag_size"
   ],
   "metadata": {
    "collapsed": false,
    "ExecuteTime": {
     "end_time": "2024-04-06T21:21:49.852165Z",
     "start_time": "2024-04-06T21:21:49.795013Z"
    }
   },
   "id": "ebc014c9b3cb4fe3",
   "execution_count": 54
  },
  {
   "cell_type": "code",
   "outputs": [
    {
     "data": {
      "text/plain": "(85304, 2)"
     },
     "execution_count": 55,
     "metadata": {},
     "output_type": "execute_result"
    }
   ],
   "source": [
    "df13.shape"
   ],
   "metadata": {
    "collapsed": false,
    "ExecuteTime": {
     "end_time": "2024-04-06T21:22:05.826886Z",
     "start_time": "2024-04-06T21:22:05.823353Z"
    }
   },
   "id": "22efbc9e654989a4",
   "execution_count": 55
  },
  {
   "cell_type": "code",
   "outputs": [
    {
     "data": {
      "text/plain": "0          genuine question\n1          genuine question\n2          genuine question\n3          genuine question\n5          genuine question\n                 ...       \n3542681    nothing personal\n3542683    nothing personal\n3542685    nothing personal\n3542700    nothing personal\n3604576    nothing personal\nName: tags, Length: 85304, dtype: object"
     },
     "execution_count": 56,
     "metadata": {},
     "output_type": "execute_result"
    }
   ],
   "source": [
    "df13.tags"
   ],
   "metadata": {
    "collapsed": false,
    "ExecuteTime": {
     "end_time": "2024-04-06T21:22:39.240968Z",
     "start_time": "2024-04-06T21:22:39.234883Z"
    }
   },
   "id": "a7be7f3a3bed74aa",
   "execution_count": 56
  },
  {
   "cell_type": "code",
   "outputs": [
    {
     "data": {
      "text/plain": "tags\nlyrics                16.873769\nreference             12.390978\njoking                12.088530\nplatonic              10.340664\ngenuine question       7.052424\npassive aggressive     4.811029\nnothing personal       4.720763\nserious                4.717247\ninside joke            4.202617\nromantic               3.880240\ncopypasta              2.917800\nsarcastic              2.744303\nhalf joking            2.587217\nrhetorical             2.244912\nclickbait              2.182782\ngenuine                1.841649\nnot a vent             1.647051\nironic                 1.393839\nnot mad                1.362187\nName: count, dtype: float64"
     },
     "execution_count": 64,
     "metadata": {},
     "output_type": "execute_result"
    }
   ],
   "source": [
    "df13.tags.value_counts() / len(df13) * 100"
   ],
   "metadata": {
    "collapsed": false,
    "ExecuteTime": {
     "end_time": "2024-04-06T21:26:23.117746Z",
     "start_time": "2024-04-06T21:26:23.110927Z"
    }
   },
   "id": "4d807219bf1f0d25",
   "execution_count": 64
  },
  {
   "cell_type": "code",
   "outputs": [],
   "source": [
    "df13.to_csv(\"../datasets/tonetags_dataset_tumblr_clean.csv\", index=False)"
   ],
   "metadata": {
    "collapsed": false,
    "ExecuteTime": {
     "end_time": "2024-04-06T21:28:10.848270Z",
     "start_time": "2024-04-06T21:28:09.728230Z"
    }
   },
   "id": "3fe69ff2cc229216",
   "execution_count": 66
  },
  {
   "cell_type": "code",
   "outputs": [],
   "source": [],
   "metadata": {
    "collapsed": false
   },
   "id": "e66e18d898df4f99"
  }
 ],
 "metadata": {
  "kernelspec": {
   "display_name": "Python 3",
   "language": "python",
   "name": "python3"
  },
  "language_info": {
   "codemirror_mode": {
    "name": "ipython",
    "version": 2
   },
   "file_extension": ".py",
   "mimetype": "text/x-python",
   "name": "python",
   "nbconvert_exporter": "python",
   "pygments_lexer": "ipython2",
   "version": "2.7.6"
  }
 },
 "nbformat": 4,
 "nbformat_minor": 5
}
