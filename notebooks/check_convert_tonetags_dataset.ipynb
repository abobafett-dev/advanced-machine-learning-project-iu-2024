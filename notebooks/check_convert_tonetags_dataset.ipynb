{
 "cells": [
  {
   "metadata": {
    "ExecuteTime": {
     "end_time": "2024-04-06T18:21:40.910338Z",
     "start_time": "2024-04-06T18:21:37.265852Z"
    }
   },
   "cell_type": "code",
   "source": "!pip install matplotlib==3.7.3",
   "id": "70450f10c98cd6cc",
   "outputs": [
    {
     "name": "stdout",
     "output_type": "stream",
     "text": [
      "Requirement already satisfied: matplotlib==3.7.3 in c:\\users\\me\\appdata\\local\\programs\\python\\python311\\lib\\site-packages (3.7.3)\n",
      "Requirement already satisfied: contourpy>=1.0.1 in c:\\users\\me\\appdata\\local\\programs\\python\\python311\\lib\\site-packages (from matplotlib==3.7.3) (1.1.1)\n",
      "Requirement already satisfied: cycler>=0.10 in c:\\users\\me\\appdata\\local\\programs\\python\\python311\\lib\\site-packages (from matplotlib==3.7.3) (0.12.0)\n",
      "Requirement already satisfied: fonttools>=4.22.0 in c:\\users\\me\\appdata\\local\\programs\\python\\python311\\lib\\site-packages (from matplotlib==3.7.3) (4.43.0)\n",
      "Requirement already satisfied: kiwisolver>=1.0.1 in c:\\users\\me\\appdata\\local\\programs\\python\\python311\\lib\\site-packages (from matplotlib==3.7.3) (1.4.5)\n",
      "Requirement already satisfied: numpy<2,>=1.20 in c:\\users\\me\\appdata\\roaming\\python\\python311\\site-packages (from matplotlib==3.7.3) (1.23.5)\n",
      "Requirement already satisfied: packaging>=20.0 in c:\\users\\me\\appdata\\local\\programs\\python\\python311\\lib\\site-packages (from matplotlib==3.7.3) (23.1)\n",
      "Requirement already satisfied: pillow>=6.2.0 in c:\\users\\me\\appdata\\local\\programs\\python\\python311\\lib\\site-packages (from matplotlib==3.7.3) (10.0.1)\n",
      "Requirement already satisfied: pyparsing>=2.3.1 in c:\\users\\me\\appdata\\local\\programs\\python\\python311\\lib\\site-packages (from matplotlib==3.7.3) (3.1.1)\n",
      "Requirement already satisfied: python-dateutil>=2.7 in c:\\users\\me\\appdata\\local\\programs\\python\\python311\\lib\\site-packages (from matplotlib==3.7.3) (2.8.2)\n",
      "Requirement already satisfied: six>=1.5 in c:\\users\\me\\appdata\\local\\programs\\python\\python311\\lib\\site-packages (from python-dateutil>=2.7->matplotlib==3.7.3) (1.16.0)\n"
     ]
    }
   ],
   "execution_count": 194
  },
  {
   "metadata": {
    "jupyter": {
     "is_executing": true
    },
    "ExecuteTime": {
     "start_time": "2024-04-06T18:21:41.847803Z"
    }
   },
   "cell_type": "code",
   "source": "!pip install ydata_profiling==4.5.1",
   "id": "241b92b47cc589ab",
   "outputs": [],
   "execution_count": null
  },
  {
   "cell_type": "code",
   "id": "initial_id",
   "metadata": {
    "collapsed": true,
    "ExecuteTime": {
     "end_time": "2024-04-06T18:21:05.323180Z",
     "start_time": "2024-04-06T18:21:04.523872Z"
    }
   },
   "source": [
    "import pandas as pd\n",
    "import numpy as np\n",
    "import copy\n",
    "%matplotlib inline"
   ],
   "outputs": [],
   "execution_count": 192
  },
  {
   "metadata": {
    "ExecuteTime": {
     "end_time": "2024-04-06T18:21:10.929675Z",
     "start_time": "2024-04-06T18:21:05.324298Z"
    }
   },
   "cell_type": "code",
   "source": "import ydata_profiling",
   "id": "c795eeabca9e6af5",
   "outputs": [
    {
     "name": "stderr",
     "output_type": "stream",
     "text": [
      "C:\\Users\\Me\\AppData\\Local\\Programs\\Python\\Python311\\Lib\\site-packages\\numba\\core\\decorators.py:262: NumbaDeprecationWarning: \u001B[1mnumba.generated_jit is deprecated. Please see the documentation at: https://numba.readthedocs.io/en/stable/reference/deprecation.html#deprecation-of-generated-jit for more information and advice on a suitable replacement.\u001B[0m\n",
      "  warnings.warn(msg, NumbaDeprecationWarning)\n",
      "C:\\Users\\Me\\AppData\\Roaming\\Python\\Python311\\site-packages\\visions\\backends\\shared\\nan_handling.py:50: NumbaDeprecationWarning: \u001B[1mThe 'nopython' keyword argument was not supplied to the 'numba.jit' decorator. The implicit default value for this argument is currently False, but it will be changed to True in Numba 0.59.0. See https://numba.readthedocs.io/en/stable/reference/deprecation.html#deprecation-of-object-mode-fall-back-behaviour-when-using-jit for details.\u001B[0m\n",
      "  @nb.jit\n"
     ]
    }
   ],
   "execution_count": 193
  },
  {
   "metadata": {
    "ExecuteTime": {
     "end_time": "2024-04-06T18:05:49.460430Z",
     "start_time": "2024-04-06T18:05:49.455726Z"
    }
   },
   "cell_type": "code",
   "source": "path_dataset = \"../datasets/tonetags_dataset_tumblr.csv\"",
   "id": "2b5f07417c54df6c",
   "outputs": [],
   "execution_count": 164
  },
  {
   "metadata": {
    "ExecuteTime": {
     "end_time": "2024-04-06T18:05:49.467409Z",
     "start_time": "2024-04-06T18:05:49.462437Z"
    }
   },
   "cell_type": "code",
   "source": [
    "def str_to_list(value):\n",
    "    list_values = value.strip('[]').split(', ')\n",
    "    cleaned_list_values = [item[1:-1] for item in list_values]\n",
    "    return cleaned_list_values"
   ],
   "id": "996e01130c17672d",
   "outputs": [],
   "execution_count": 165
  },
  {
   "metadata": {
    "ExecuteTime": {
     "end_time": "2024-04-06T18:05:53.805865Z",
     "start_time": "2024-04-06T18:05:49.473940Z"
    }
   },
   "cell_type": "code",
   "source": [
    "df1 = pd.read_csv(path_dataset, index_col=0, converters={\"tags\": str_to_list})\n",
    "# df = pd.read_csv(path_dataset, index_col=0)"
   ],
   "id": "cd698326f229a5ad",
   "outputs": [],
   "execution_count": 166
  },
  {
   "metadata": {
    "ExecuteTime": {
     "end_time": "2024-04-06T18:05:53.811795Z",
     "start_time": "2024-04-06T18:05:53.806880Z"
    }
   },
   "cell_type": "code",
   "source": "df1.shape",
   "id": "c531bcfd67e04781",
   "outputs": [
    {
     "data": {
      "text/plain": [
       "(379191, 7)"
      ]
     },
     "execution_count": 167,
     "metadata": {},
     "output_type": "execute_result"
    }
   ],
   "execution_count": 167
  },
  {
   "metadata": {
    "ExecuteTime": {
     "end_time": "2024-04-06T18:05:53.823965Z",
     "start_time": "2024-04-06T18:05:53.812803Z"
    }
   },
   "cell_type": "code",
   "source": "df1.head()",
   "id": "797355ae8dbc74c8",
   "outputs": [
    {
     "data": {
      "text/plain": [
       "   Unnamed: 0                timestamp  \\\n",
       "0         0.0  2024-03-31 14:49:00 GMT   \n",
       "1         1.0  2024-03-31 14:12:40 GMT   \n",
       "2         2.0  2024-03-31 09:08:46 GMT   \n",
       "3         3.0  2024-03-31 05:06:36 GMT   \n",
       "4         4.0  2024-03-31 03:18:52 GMT   \n",
       "\n",
       "                                                 URL                 blogName  \\\n",
       "0  https://two-hearts-beat.tumblr.com/post/746477...          two-hearts-beat   \n",
       "1  https://miniatureketchupbottles.tumblr.com/pos...  miniatureketchupbottles   \n",
       "2  https://www.tumblr.com/blog/view/writtenkiss/7...              writtenkiss   \n",
       "3  https://silly-abro.tumblr.com/post/74644098511...               silly-abro   \n",
       "4  https://www.tumblr.com/blog/view/bet-h/7464342...                    bet-h   \n",
       "\n",
       "  title                                               tags  \\\n",
       "0   NaN                              [🙈, genuine question]   \n",
       "1   NaN  [genuine question, like actually where do peop...   \n",
       "2   NaN  [꒰͡ 𝐒𝐇𝐈𝐓𝐏𝐎𝐒𝐓𝐈𝐍𝐆 — piofiore. 🌱, genuine questio...   \n",
       "3   NaN  [Scene, emo, rawr x3, genuine question, I gues...   \n",
       "4   NaN  [why do tumblr talk in tags, like why, genuine...   \n",
       "\n",
       "                                                text  \n",
       "0  we’ve all talked about the ‘gifted child’ to s...  \n",
       "1  Is the concept of straight girls religiously w...  \n",
       "2  I am sincerely curious. Has some of you ever w...  \n",
       "3  Bro idk how people look so fucking good in the...  \n",
       "4                                             Ur mom  "
      ],
      "text/html": [
       "<div>\n",
       "<style scoped>\n",
       "    .dataframe tbody tr th:only-of-type {\n",
       "        vertical-align: middle;\n",
       "    }\n",
       "\n",
       "    .dataframe tbody tr th {\n",
       "        vertical-align: top;\n",
       "    }\n",
       "\n",
       "    .dataframe thead th {\n",
       "        text-align: right;\n",
       "    }\n",
       "</style>\n",
       "<table border=\"1\" class=\"dataframe\">\n",
       "  <thead>\n",
       "    <tr style=\"text-align: right;\">\n",
       "      <th></th>\n",
       "      <th>Unnamed: 0</th>\n",
       "      <th>timestamp</th>\n",
       "      <th>URL</th>\n",
       "      <th>blogName</th>\n",
       "      <th>title</th>\n",
       "      <th>tags</th>\n",
       "      <th>text</th>\n",
       "    </tr>\n",
       "  </thead>\n",
       "  <tbody>\n",
       "    <tr>\n",
       "      <th>0</th>\n",
       "      <td>0.0</td>\n",
       "      <td>2024-03-31 14:49:00 GMT</td>\n",
       "      <td>https://two-hearts-beat.tumblr.com/post/746477...</td>\n",
       "      <td>two-hearts-beat</td>\n",
       "      <td>NaN</td>\n",
       "      <td>[🙈, genuine question]</td>\n",
       "      <td>we’ve all talked about the ‘gifted child’ to s...</td>\n",
       "    </tr>\n",
       "    <tr>\n",
       "      <th>1</th>\n",
       "      <td>1.0</td>\n",
       "      <td>2024-03-31 14:12:40 GMT</td>\n",
       "      <td>https://miniatureketchupbottles.tumblr.com/pos...</td>\n",
       "      <td>miniatureketchupbottles</td>\n",
       "      <td>NaN</td>\n",
       "      <td>[genuine question, like actually where do peop...</td>\n",
       "      <td>Is the concept of straight girls religiously w...</td>\n",
       "    </tr>\n",
       "    <tr>\n",
       "      <th>2</th>\n",
       "      <td>2.0</td>\n",
       "      <td>2024-03-31 09:08:46 GMT</td>\n",
       "      <td>https://www.tumblr.com/blog/view/writtenkiss/7...</td>\n",
       "      <td>writtenkiss</td>\n",
       "      <td>NaN</td>\n",
       "      <td>[꒰͡ 𝐒𝐇𝐈𝐓𝐏𝐎𝐒𝐓𝐈𝐍𝐆 — piofiore. 🌱, genuine questio...</td>\n",
       "      <td>I am sincerely curious. Has some of you ever w...</td>\n",
       "    </tr>\n",
       "    <tr>\n",
       "      <th>3</th>\n",
       "      <td>3.0</td>\n",
       "      <td>2024-03-31 05:06:36 GMT</td>\n",
       "      <td>https://silly-abro.tumblr.com/post/74644098511...</td>\n",
       "      <td>silly-abro</td>\n",
       "      <td>NaN</td>\n",
       "      <td>[Scene, emo, rawr x3, genuine question, I gues...</td>\n",
       "      <td>Bro idk how people look so fucking good in the...</td>\n",
       "    </tr>\n",
       "    <tr>\n",
       "      <th>4</th>\n",
       "      <td>4.0</td>\n",
       "      <td>2024-03-31 03:18:52 GMT</td>\n",
       "      <td>https://www.tumblr.com/blog/view/bet-h/7464342...</td>\n",
       "      <td>bet-h</td>\n",
       "      <td>NaN</td>\n",
       "      <td>[why do tumblr talk in tags, like why, genuine...</td>\n",
       "      <td>Ur mom</td>\n",
       "    </tr>\n",
       "  </tbody>\n",
       "</table>\n",
       "</div>"
      ]
     },
     "execution_count": 168,
     "metadata": {},
     "output_type": "execute_result"
    }
   ],
   "execution_count": 168
  },
  {
   "metadata": {
    "ExecuteTime": {
     "end_time": "2024-04-06T18:05:53.849792Z",
     "start_time": "2024-04-06T18:05:53.826094Z"
    }
   },
   "cell_type": "code",
   "source": "df2 = df1[['tags', 'text']]",
   "id": "be7a6a227025bc3",
   "outputs": [],
   "execution_count": 169
  },
  {
   "metadata": {
    "ExecuteTime": {
     "end_time": "2024-04-06T18:05:53.858631Z",
     "start_time": "2024-04-06T18:05:53.849792Z"
    }
   },
   "cell_type": "code",
   "source": "df2.head()",
   "id": "a7b9ba003b7e37cc",
   "outputs": [
    {
     "data": {
      "text/plain": [
       "                                                tags  \\\n",
       "0                              [🙈, genuine question]   \n",
       "1  [genuine question, like actually where do peop...   \n",
       "2  [꒰͡ 𝐒𝐇𝐈𝐓𝐏𝐎𝐒𝐓𝐈𝐍𝐆 — piofiore. 🌱, genuine questio...   \n",
       "3  [Scene, emo, rawr x3, genuine question, I gues...   \n",
       "4  [why do tumblr talk in tags, like why, genuine...   \n",
       "\n",
       "                                                text  \n",
       "0  we’ve all talked about the ‘gifted child’ to s...  \n",
       "1  Is the concept of straight girls religiously w...  \n",
       "2  I am sincerely curious. Has some of you ever w...  \n",
       "3  Bro idk how people look so fucking good in the...  \n",
       "4                                             Ur mom  "
      ],
      "text/html": [
       "<div>\n",
       "<style scoped>\n",
       "    .dataframe tbody tr th:only-of-type {\n",
       "        vertical-align: middle;\n",
       "    }\n",
       "\n",
       "    .dataframe tbody tr th {\n",
       "        vertical-align: top;\n",
       "    }\n",
       "\n",
       "    .dataframe thead th {\n",
       "        text-align: right;\n",
       "    }\n",
       "</style>\n",
       "<table border=\"1\" class=\"dataframe\">\n",
       "  <thead>\n",
       "    <tr style=\"text-align: right;\">\n",
       "      <th></th>\n",
       "      <th>tags</th>\n",
       "      <th>text</th>\n",
       "    </tr>\n",
       "  </thead>\n",
       "  <tbody>\n",
       "    <tr>\n",
       "      <th>0</th>\n",
       "      <td>[🙈, genuine question]</td>\n",
       "      <td>we’ve all talked about the ‘gifted child’ to s...</td>\n",
       "    </tr>\n",
       "    <tr>\n",
       "      <th>1</th>\n",
       "      <td>[genuine question, like actually where do peop...</td>\n",
       "      <td>Is the concept of straight girls religiously w...</td>\n",
       "    </tr>\n",
       "    <tr>\n",
       "      <th>2</th>\n",
       "      <td>[꒰͡ 𝐒𝐇𝐈𝐓𝐏𝐎𝐒𝐓𝐈𝐍𝐆 — piofiore. 🌱, genuine questio...</td>\n",
       "      <td>I am sincerely curious. Has some of you ever w...</td>\n",
       "    </tr>\n",
       "    <tr>\n",
       "      <th>3</th>\n",
       "      <td>[Scene, emo, rawr x3, genuine question, I gues...</td>\n",
       "      <td>Bro idk how people look so fucking good in the...</td>\n",
       "    </tr>\n",
       "    <tr>\n",
       "      <th>4</th>\n",
       "      <td>[why do tumblr talk in tags, like why, genuine...</td>\n",
       "      <td>Ur mom</td>\n",
       "    </tr>\n",
       "  </tbody>\n",
       "</table>\n",
       "</div>"
      ]
     },
     "execution_count": 170,
     "metadata": {},
     "output_type": "execute_result"
    }
   ],
   "execution_count": 170
  },
  {
   "metadata": {
    "ExecuteTime": {
     "end_time": "2024-04-06T18:05:53.866129Z",
     "start_time": "2024-04-06T18:05:53.859829Z"
    }
   },
   "cell_type": "code",
   "source": [
    "file_path = \"../tonetags.txt\"\n",
    "\n",
    "tone_tags = {}\n",
    "\n",
    "with open(file_path, 'r', encoding='utf-8') as file:\n",
    "\tfor line in file:\n",
    "\t\tkey, value = line.strip().split(':')\n",
    "\t\ttone_tags[key.strip()] = value.strip().split(',')\n",
    "\n",
    "for key, values in tone_tags.items():\n",
    "\tprint(f\"{key}: {values}\")"
   ],
   "id": "245b38e88ba7b627",
   "outputs": [
    {
     "name": "stdout",
     "output_type": "stream",
     "text": [
      "affectionate: ['affectionate', '/a']\n",
      "copypasta: ['copypasta', 'copypaste', 'repeated text', '/c']\n",
      "clickbait: ['clickbait', '/cb']\n",
      "fake: ['fake', '/f']\n",
      "genuine: ['genuine', '/g', '/gen']\n",
      "genuine question: ['genuine question', '/genq']\n",
      "half joking: ['half joking', 'half-joking', 'half joke', 'half-joke', 'halfjoke', '/hf']\n",
      "hyperbole: ['hyperbole', '/hyp']\n",
      "inside joke: ['inside joke', 'insidejoke', 'insidejoking', 'inside-joke', 'inside-joking', '/ij']\n",
      "joking: ['joking', 'joke', '/j']\n",
      "lyrics: ['lyrics', '/l', '/ly']\n",
      "light-hearted: ['light-hearted', 'light hearted', 'lighthearted', '/lh']\n",
      "literal: ['literal', 'literally', '/li']\n",
      "little upset: ['little upset', 'littleupset', 'little-upset', '/lu-a', '/lu']\n",
      "metaphorical: ['metaphorical', '/m']\n",
      "not a vent: ['not a vent', 'notavent', 'not-a-vent', '/nav']\n",
      "nobody here: ['nobodyhere', 'nobody-here', '/nbh']\n",
      "negative connotation: ['negative connotation', 'negetiveconnotation', 'negative-connotation', '/neg', '/ng']\n",
      "neutral connotation: ['neutral connotation', 'neutralconnotation', 'neutral-connotation', '/neu']\n",
      "not forced: ['not forced', 'not-forced', 'notforced', '/nf']\n",
      "not mad: ['not mad', 'not-mad', 'notmad', '/nm']\n",
      "not passive aggressive: ['not passive aggressive', 'not passive-aggressive', 'not-passive-aggressive', 'notpassiveaggressive', '/npa']\n",
      "not subtweeting: ['not subtweeting', 'notsubtweeting', '/nsb']\n",
      "non-serious: ['non-serious', 'non serious', 'nonserious', 'not serious', 'not-serious', 'notserious', '/nsrs']\n",
      "non-sexual intent: ['non-sexual intent', 'not-sexual intent', 'non-sexual-intent', 'nonsexualintent', 'not-sexual-intent', 'notsexualintent', '/nsx', '/nx']\n",
      "platonic: ['platonic', '/p']\n",
      "passive aggressive: ['passive aggressive', 'passive-aggressive', '/pa']\n",
      "positive connotation: ['positive connotation', 'positive-connotation', 'positiveconnotation', '/pos', '/pc']\n",
      "quote: ['quote', '/q']\n",
      "romantic: ['romantic', '/r']\n",
      "reference: ['reference', '/ref']\n",
      "rhetorical: ['rhetorical', 'rhetorical question', 'rhetorical-question', 'rhetoricalquestion', '/rh', '/rt']\n",
      "sarcastic: ['sarcastic', 'sarcasm', '/s']\n",
      "serious: ['serious', '/srs']\n",
      "sexual intent: ['sexual intent', ' sexualintent', 'sexual-intent', '/x', '/sx']\n",
      "teasing: ['teasing', '/t']\n",
      "threat: ['threat', '/th']\n",
      "ironic: ['ironic', '/iron']\n",
      "not at you: ['not at you', 'not-at-you', 'notatyou', '/nay']\n",
      "nothing personal: ['nothing personal', 'nothing-personal', 'nothingpersonal', '/np']\n"
     ]
    }
   ],
   "execution_count": 171
  },
  {
   "metadata": {
    "ExecuteTime": {
     "end_time": "2024-04-06T18:05:53.883152Z",
     "start_time": "2024-04-06T18:05:53.867517Z"
    }
   },
   "cell_type": "code",
   "source": "df3 = df2.copy()",
   "id": "d33a88080fe3e898",
   "outputs": [],
   "execution_count": 172
  },
  {
   "metadata": {
    "ExecuteTime": {
     "end_time": "2024-04-06T18:05:53.889154Z",
     "start_time": "2024-04-06T18:05:53.884497Z"
    }
   },
   "cell_type": "code",
   "source": [
    "def replace_values(tags_list):\n",
    "    return [key for key, value in tone_tags.items() if any(tag.lower() in value for tag in tags_list)]"
   ],
   "id": "b62fc1383d28b26",
   "outputs": [],
   "execution_count": 173
  },
  {
   "metadata": {
    "ExecuteTime": {
     "end_time": "2024-04-06T18:06:09.885856Z",
     "start_time": "2024-04-06T18:05:53.890619Z"
    }
   },
   "cell_type": "code",
   "source": "df3['tags'] = df2['tags'].apply(replace_values)",
   "id": "273b8b9076a02949",
   "outputs": [],
   "execution_count": 174
  },
  {
   "metadata": {
    "ExecuteTime": {
     "end_time": "2024-04-06T18:06:09.898016Z",
     "start_time": "2024-04-06T18:06:09.887872Z"
    }
   },
   "cell_type": "code",
   "source": "df3",
   "id": "1fa33272371b3fb4",
   "outputs": [
    {
     "data": {
      "text/plain": [
       "                               tags  \\\n",
       "0                [genuine question]   \n",
       "1                [genuine question]   \n",
       "2                [genuine question]   \n",
       "3                [genuine question]   \n",
       "4                [genuine question]   \n",
       "...                             ...   \n",
       "3604575  [lyrics, nothing personal]   \n",
       "3604576          [nothing personal]   \n",
       "3604577          [nothing personal]   \n",
       "3604578          [nothing personal]   \n",
       "3604579          [nothing personal]   \n",
       "\n",
       "                                                      text  \n",
       "0        we’ve all talked about the ‘gifted child’ to s...  \n",
       "1        Is the concept of straight girls religiously w...  \n",
       "2        I am sincerely curious. Has some of you ever w...  \n",
       "3        Bro idk how people look so fucking good in the...  \n",
       "4                                                   Ur mom  \n",
       "...                                                    ...  \n",
       "3604575                                                NaN  \n",
       "3604576  Posted on AlterThePress.com on Thursday Septem...  \n",
       "3604577                             Couldn't Get Post Body  \n",
       "3604578                             Couldn't Get Post Body  \n",
       "3604579                             Couldn't Get Post Body  \n",
       "\n",
       "[379191 rows x 2 columns]"
      ],
      "text/html": [
       "<div>\n",
       "<style scoped>\n",
       "    .dataframe tbody tr th:only-of-type {\n",
       "        vertical-align: middle;\n",
       "    }\n",
       "\n",
       "    .dataframe tbody tr th {\n",
       "        vertical-align: top;\n",
       "    }\n",
       "\n",
       "    .dataframe thead th {\n",
       "        text-align: right;\n",
       "    }\n",
       "</style>\n",
       "<table border=\"1\" class=\"dataframe\">\n",
       "  <thead>\n",
       "    <tr style=\"text-align: right;\">\n",
       "      <th></th>\n",
       "      <th>tags</th>\n",
       "      <th>text</th>\n",
       "    </tr>\n",
       "  </thead>\n",
       "  <tbody>\n",
       "    <tr>\n",
       "      <th>0</th>\n",
       "      <td>[genuine question]</td>\n",
       "      <td>we’ve all talked about the ‘gifted child’ to s...</td>\n",
       "    </tr>\n",
       "    <tr>\n",
       "      <th>1</th>\n",
       "      <td>[genuine question]</td>\n",
       "      <td>Is the concept of straight girls religiously w...</td>\n",
       "    </tr>\n",
       "    <tr>\n",
       "      <th>2</th>\n",
       "      <td>[genuine question]</td>\n",
       "      <td>I am sincerely curious. Has some of you ever w...</td>\n",
       "    </tr>\n",
       "    <tr>\n",
       "      <th>3</th>\n",
       "      <td>[genuine question]</td>\n",
       "      <td>Bro idk how people look so fucking good in the...</td>\n",
       "    </tr>\n",
       "    <tr>\n",
       "      <th>4</th>\n",
       "      <td>[genuine question]</td>\n",
       "      <td>Ur mom</td>\n",
       "    </tr>\n",
       "    <tr>\n",
       "      <th>...</th>\n",
       "      <td>...</td>\n",
       "      <td>...</td>\n",
       "    </tr>\n",
       "    <tr>\n",
       "      <th>3604575</th>\n",
       "      <td>[lyrics, nothing personal]</td>\n",
       "      <td>NaN</td>\n",
       "    </tr>\n",
       "    <tr>\n",
       "      <th>3604576</th>\n",
       "      <td>[nothing personal]</td>\n",
       "      <td>Posted on AlterThePress.com on Thursday Septem...</td>\n",
       "    </tr>\n",
       "    <tr>\n",
       "      <th>3604577</th>\n",
       "      <td>[nothing personal]</td>\n",
       "      <td>Couldn't Get Post Body</td>\n",
       "    </tr>\n",
       "    <tr>\n",
       "      <th>3604578</th>\n",
       "      <td>[nothing personal]</td>\n",
       "      <td>Couldn't Get Post Body</td>\n",
       "    </tr>\n",
       "    <tr>\n",
       "      <th>3604579</th>\n",
       "      <td>[nothing personal]</td>\n",
       "      <td>Couldn't Get Post Body</td>\n",
       "    </tr>\n",
       "  </tbody>\n",
       "</table>\n",
       "<p>379191 rows × 2 columns</p>\n",
       "</div>"
      ]
     },
     "execution_count": 175,
     "metadata": {},
     "output_type": "execute_result"
    }
   ],
   "execution_count": 175
  },
  {
   "metadata": {
    "ExecuteTime": {
     "end_time": "2024-04-06T18:06:09.964820Z",
     "start_time": "2024-04-06T18:06:09.899019Z"
    }
   },
   "cell_type": "code",
   "source": [
    "list_with_empty_tags = df3[df3['tags'].apply(lambda x: len(x) == 0)].index.tolist()\n",
    "list_with_empty_tags"
   ],
   "id": "f9d0688bea4abbb7",
   "outputs": [
    {
     "data": {
      "text/plain": [
       "[1333,\n",
       " 21152,\n",
       " 91564,\n",
       " 1385548,\n",
       " 1700697,\n",
       " 1710109,\n",
       " 1710110,\n",
       " 1710111,\n",
       " 1710112,\n",
       " 1710113,\n",
       " 1710114,\n",
       " 1710115,\n",
       " 1710116,\n",
       " 1710117,\n",
       " 1710118,\n",
       " 1710119,\n",
       " 1710120,\n",
       " 1710121,\n",
       " 1710122,\n",
       " 1710123,\n",
       " 1710124,\n",
       " 1710125,\n",
       " 1710126,\n",
       " 1710127,\n",
       " 1710128,\n",
       " 1710129,\n",
       " 1710130,\n",
       " 1710131,\n",
       " 1710132,\n",
       " 1710133,\n",
       " 1710134,\n",
       " 1710135,\n",
       " 1710136]"
      ]
     },
     "execution_count": 176,
     "metadata": {},
     "output_type": "execute_result"
    }
   ],
   "execution_count": 176
  },
  {
   "metadata": {
    "ExecuteTime": {
     "end_time": "2024-04-06T18:06:09.983954Z",
     "start_time": "2024-04-06T18:06:09.966202Z"
    }
   },
   "cell_type": "code",
   "source": [
    "for id in list_with_empty_tags:\n",
    "    print(id, df1.loc[id]['tags'])"
   ],
   "id": "6879970cd505758e",
   "outputs": [
    {
     "name": "stdout",
     "output_type": "stream",
     "text": [
      "1333 [\"i'm tweaking\"]\n",
      "21152 [\"i'm tweaking\"]\n",
      "91564 [\"i'm tweaking\"]\n",
      "1385548 ['']\n",
      "1700697 [\"yeah alex it's called seasonal depression\", 'this isnt a vent its just a weird babble about this', 'alex babbling']\n",
      "1710109 ['bored', 'nobody here', 'boyfriend', 'boyfriend hoodie', 'hoodie', 'wine', 'sad times']\n",
      "1710110 ['welp', 'nobody here', 'gonna go back to watching digimon']\n",
      "1710111 ['nobody here', '=', 'offline']\n",
      "1710112 ['sunset corp', 'nobody here']\n",
      "1710113 ['Nobody here', 'irl stuff', 'just so angry']\n",
      "1710114 ['me', 'personal', 'work', 'SO SLOW', 'nobody here', 'writing tutor', 'writing workshop', 'writing studio', 'should be', 'making money', 'working']\n",
      "1710115 ['nobody here', 'chris de burgh', 'radiovalerie', 'late night', 'whimsy']\n",
      "1710116 ['blu mar ten', 'nobody here', 'kastle', 'remix', 'could you want me', 'purple']\n",
      "1710117 ['nobody here', 'lady in red', 'graphics', 'chris deburgh']\n",
      "1710118 ['NOBODY HERE', 'audio']\n",
      "1710119 ['Blue Mar Ten', 'Nobody here', 'Kastle']\n",
      "1710120 ['nobody here']\n",
      "1710121 ['Blu Mar Ten', 'nobody here', 'kastle remix', 'drum and bass', 'dnb', 'liquid', 'music']\n",
      "1710122 ['nobody here', 'blu mar ten', 'kastle', 'dubstep', 'amazing']\n",
      "1710123 ['nobody here', 'i go sleep', 'hurr for malaysian time', \"all the fun stuff happens when i'm not around\", 'like jon kissing stana', 'or that benedict dancing video', 'meh...', 'al well', 'imma back in birt time zone in january', \"so i'd better stop rambling and go to sleep\", 'fangirly dreams here i come', 'nanight all', ':D']\n",
      "1710124 ['Nobody Here']\n",
      "1710125 ['Blu Mar Ten', 'Nobody Here', 'Kastle VIP', 'Remix', 'bass', 'dubstep', 'heavy', '2011', 'preview']\n",
      "1710126 ['nobody here', 'vagueblogging sorry', \"seriously though jesus christ are you so self-centered and passive-aggressive that you can't conceive of someone disliking you for a reason\", 'you little TURD']\n",
      "1710127 ['blu mar ten', 'kastle', 'remix', 'nobody here', 'dubstep', 'fucking to dubstep']\n",
      "1710128 ['music', 'blu mar ten', 'nobody here', 'kastle', 'remix', 'dubstep']\n",
      "1710129 ['nobody here', 'just thinking']\n",
      "1710130 ['Blu Mar Ten', 'Nobody Here', 'Kastle remix', 'liquid', 'liquid drum and bass', 'drum n bass', 'drum and bass', 'dnb', 'drum &amp; bass']\n",
      "1710131 ['Nobody Here', 'Things To Remember']\n",
      "1710132 ['dead', 'tumblr', 'nobody here']\n",
      "1710133 ['nobody here', 'sunset corp']\n",
      "1710134 ['sunsetcorp', 'thanks ian', 'nobody here']\n",
      "1710135 ['nobody here', 'lady in red', 'sunsetcorp', 'oneohtrix point never', 'chris D burgh', 'youtube', 'music video', 'music', 'video', 'electronic music', 'experimental', 'eighties']\n",
      "1710136 ['Rainbow Road', 'Nobody Here']\n"
     ]
    }
   ],
   "execution_count": 177
  },
  {
   "metadata": {
    "ExecuteTime": {
     "end_time": "2024-04-06T18:06:10.069825Z",
     "start_time": "2024-04-06T18:06:09.984960Z"
    }
   },
   "cell_type": "code",
   "source": "df4 = df3[df3['tags'].apply(lambda x: len(x) != 0)]",
   "id": "bdf3df0fc49be265",
   "outputs": [],
   "execution_count": 178
  },
  {
   "metadata": {
    "ExecuteTime": {
     "end_time": "2024-04-06T18:10:55.887656Z",
     "start_time": "2024-04-06T18:10:55.727664Z"
    }
   },
   "cell_type": "code",
   "source": "df5 = df4.explode('tags')",
   "id": "30cf96cb51140f8f",
   "outputs": [],
   "execution_count": 181
  },
  {
   "metadata": {
    "ExecuteTime": {
     "end_time": "2024-04-06T18:11:00.430890Z",
     "start_time": "2024-04-06T18:11:00.422988Z"
    }
   },
   "cell_type": "code",
   "source": "df5",
   "id": "ba54f78e100a0903",
   "outputs": [
    {
     "data": {
      "text/plain": [
       "                     tags                                               text\n",
       "0        genuine question  we’ve all talked about the ‘gifted child’ to s...\n",
       "1        genuine question  Is the concept of straight girls religiously w...\n",
       "2        genuine question  I am sincerely curious. Has some of you ever w...\n",
       "3        genuine question  Bro idk how people look so fucking good in the...\n",
       "4        genuine question                                             Ur mom\n",
       "...                   ...                                                ...\n",
       "3604575  nothing personal                                                NaN\n",
       "3604576  nothing personal  Posted on AlterThePress.com on Thursday Septem...\n",
       "3604577  nothing personal                             Couldn't Get Post Body\n",
       "3604578  nothing personal                             Couldn't Get Post Body\n",
       "3604579  nothing personal                             Couldn't Get Post Body\n",
       "\n",
       "[388180 rows x 2 columns]"
      ],
      "text/html": [
       "<div>\n",
       "<style scoped>\n",
       "    .dataframe tbody tr th:only-of-type {\n",
       "        vertical-align: middle;\n",
       "    }\n",
       "\n",
       "    .dataframe tbody tr th {\n",
       "        vertical-align: top;\n",
       "    }\n",
       "\n",
       "    .dataframe thead th {\n",
       "        text-align: right;\n",
       "    }\n",
       "</style>\n",
       "<table border=\"1\" class=\"dataframe\">\n",
       "  <thead>\n",
       "    <tr style=\"text-align: right;\">\n",
       "      <th></th>\n",
       "      <th>tags</th>\n",
       "      <th>text</th>\n",
       "    </tr>\n",
       "  </thead>\n",
       "  <tbody>\n",
       "    <tr>\n",
       "      <th>0</th>\n",
       "      <td>genuine question</td>\n",
       "      <td>we’ve all talked about the ‘gifted child’ to s...</td>\n",
       "    </tr>\n",
       "    <tr>\n",
       "      <th>1</th>\n",
       "      <td>genuine question</td>\n",
       "      <td>Is the concept of straight girls religiously w...</td>\n",
       "    </tr>\n",
       "    <tr>\n",
       "      <th>2</th>\n",
       "      <td>genuine question</td>\n",
       "      <td>I am sincerely curious. Has some of you ever w...</td>\n",
       "    </tr>\n",
       "    <tr>\n",
       "      <th>3</th>\n",
       "      <td>genuine question</td>\n",
       "      <td>Bro idk how people look so fucking good in the...</td>\n",
       "    </tr>\n",
       "    <tr>\n",
       "      <th>4</th>\n",
       "      <td>genuine question</td>\n",
       "      <td>Ur mom</td>\n",
       "    </tr>\n",
       "    <tr>\n",
       "      <th>...</th>\n",
       "      <td>...</td>\n",
       "      <td>...</td>\n",
       "    </tr>\n",
       "    <tr>\n",
       "      <th>3604575</th>\n",
       "      <td>nothing personal</td>\n",
       "      <td>NaN</td>\n",
       "    </tr>\n",
       "    <tr>\n",
       "      <th>3604576</th>\n",
       "      <td>nothing personal</td>\n",
       "      <td>Posted on AlterThePress.com on Thursday Septem...</td>\n",
       "    </tr>\n",
       "    <tr>\n",
       "      <th>3604577</th>\n",
       "      <td>nothing personal</td>\n",
       "      <td>Couldn't Get Post Body</td>\n",
       "    </tr>\n",
       "    <tr>\n",
       "      <th>3604578</th>\n",
       "      <td>nothing personal</td>\n",
       "      <td>Couldn't Get Post Body</td>\n",
       "    </tr>\n",
       "    <tr>\n",
       "      <th>3604579</th>\n",
       "      <td>nothing personal</td>\n",
       "      <td>Couldn't Get Post Body</td>\n",
       "    </tr>\n",
       "  </tbody>\n",
       "</table>\n",
       "<p>388180 rows × 2 columns</p>\n",
       "</div>"
      ]
     },
     "execution_count": 182,
     "metadata": {},
     "output_type": "execute_result"
    }
   ],
   "execution_count": 182
  },
  {
   "metadata": {
    "ExecuteTime": {
     "end_time": "2024-04-06T18:13:03.227770Z",
     "start_time": "2024-04-06T18:13:03.079802Z"
    }
   },
   "cell_type": "code",
   "source": "df6 = df5.drop_duplicates()",
   "id": "193a14d6aa7db408",
   "outputs": [],
   "execution_count": 183
  },
  {
   "metadata": {
    "ExecuteTime": {
     "end_time": "2024-04-06T18:13:05.366169Z",
     "start_time": "2024-04-06T18:13:05.357632Z"
    }
   },
   "cell_type": "code",
   "source": "df6",
   "id": "2d68ba5c0fcc62d5",
   "outputs": [
    {
     "data": {
      "text/plain": [
       "                     tags                                               text\n",
       "0        genuine question  we’ve all talked about the ‘gifted child’ to s...\n",
       "1        genuine question  Is the concept of straight girls religiously w...\n",
       "2        genuine question  I am sincerely curious. Has some of you ever w...\n",
       "3        genuine question  Bro idk how people look so fucking good in the...\n",
       "4        genuine question                                             Ur mom\n",
       "...                   ...                                                ...\n",
       "3542685  nothing personal  Nothing Personal. Because their voices are mor...\n",
       "3542686  nothing personal                               You’re a douche bag.\n",
       "3542700  nothing personal  Last year at this time I listened to them twen...\n",
       "3604568  nothing personal                GIVING YOUR FUCKING BEST IS ENOUGH.\n",
       "3604576  nothing personal  Posted on AlterThePress.com on Thursday Septem...\n",
       "\n",
       "[207623 rows x 2 columns]"
      ],
      "text/html": [
       "<div>\n",
       "<style scoped>\n",
       "    .dataframe tbody tr th:only-of-type {\n",
       "        vertical-align: middle;\n",
       "    }\n",
       "\n",
       "    .dataframe tbody tr th {\n",
       "        vertical-align: top;\n",
       "    }\n",
       "\n",
       "    .dataframe thead th {\n",
       "        text-align: right;\n",
       "    }\n",
       "</style>\n",
       "<table border=\"1\" class=\"dataframe\">\n",
       "  <thead>\n",
       "    <tr style=\"text-align: right;\">\n",
       "      <th></th>\n",
       "      <th>tags</th>\n",
       "      <th>text</th>\n",
       "    </tr>\n",
       "  </thead>\n",
       "  <tbody>\n",
       "    <tr>\n",
       "      <th>0</th>\n",
       "      <td>genuine question</td>\n",
       "      <td>we’ve all talked about the ‘gifted child’ to s...</td>\n",
       "    </tr>\n",
       "    <tr>\n",
       "      <th>1</th>\n",
       "      <td>genuine question</td>\n",
       "      <td>Is the concept of straight girls religiously w...</td>\n",
       "    </tr>\n",
       "    <tr>\n",
       "      <th>2</th>\n",
       "      <td>genuine question</td>\n",
       "      <td>I am sincerely curious. Has some of you ever w...</td>\n",
       "    </tr>\n",
       "    <tr>\n",
       "      <th>3</th>\n",
       "      <td>genuine question</td>\n",
       "      <td>Bro idk how people look so fucking good in the...</td>\n",
       "    </tr>\n",
       "    <tr>\n",
       "      <th>4</th>\n",
       "      <td>genuine question</td>\n",
       "      <td>Ur mom</td>\n",
       "    </tr>\n",
       "    <tr>\n",
       "      <th>...</th>\n",
       "      <td>...</td>\n",
       "      <td>...</td>\n",
       "    </tr>\n",
       "    <tr>\n",
       "      <th>3542685</th>\n",
       "      <td>nothing personal</td>\n",
       "      <td>Nothing Personal. Because their voices are mor...</td>\n",
       "    </tr>\n",
       "    <tr>\n",
       "      <th>3542686</th>\n",
       "      <td>nothing personal</td>\n",
       "      <td>You’re a douche bag.</td>\n",
       "    </tr>\n",
       "    <tr>\n",
       "      <th>3542700</th>\n",
       "      <td>nothing personal</td>\n",
       "      <td>Last year at this time I listened to them twen...</td>\n",
       "    </tr>\n",
       "    <tr>\n",
       "      <th>3604568</th>\n",
       "      <td>nothing personal</td>\n",
       "      <td>GIVING YOUR FUCKING BEST IS ENOUGH.</td>\n",
       "    </tr>\n",
       "    <tr>\n",
       "      <th>3604576</th>\n",
       "      <td>nothing personal</td>\n",
       "      <td>Posted on AlterThePress.com on Thursday Septem...</td>\n",
       "    </tr>\n",
       "  </tbody>\n",
       "</table>\n",
       "<p>207623 rows × 2 columns</p>\n",
       "</div>"
      ]
     },
     "execution_count": 184,
     "metadata": {},
     "output_type": "execute_result"
    }
   ],
   "execution_count": 184
  },
  {
   "metadata": {
    "ExecuteTime": {
     "end_time": "2024-04-06T18:15:42.975959Z",
     "start_time": "2024-04-06T18:15:42.926793Z"
    }
   },
   "cell_type": "code",
   "source": "df7 = df6.dropna(subset=['text'])",
   "id": "8cc6172c5da3997a",
   "outputs": [],
   "execution_count": 188
  },
  {
   "metadata": {
    "ExecuteTime": {
     "end_time": "2024-04-06T18:15:44.634472Z",
     "start_time": "2024-04-06T18:15:44.625436Z"
    }
   },
   "cell_type": "code",
   "source": "df7",
   "id": "330d2963c2f04168",
   "outputs": [
    {
     "data": {
      "text/plain": [
       "                     tags                                               text\n",
       "0        genuine question  we’ve all talked about the ‘gifted child’ to s...\n",
       "1        genuine question  Is the concept of straight girls religiously w...\n",
       "2        genuine question  I am sincerely curious. Has some of you ever w...\n",
       "3        genuine question  Bro idk how people look so fucking good in the...\n",
       "4        genuine question                                             Ur mom\n",
       "...                   ...                                                ...\n",
       "3542685  nothing personal  Nothing Personal. Because their voices are mor...\n",
       "3542686  nothing personal                               You’re a douche bag.\n",
       "3542700  nothing personal  Last year at this time I listened to them twen...\n",
       "3604568  nothing personal                GIVING YOUR FUCKING BEST IS ENOUGH.\n",
       "3604576  nothing personal  Posted on AlterThePress.com on Thursday Septem...\n",
       "\n",
       "[207588 rows x 2 columns]"
      ],
      "text/html": [
       "<div>\n",
       "<style scoped>\n",
       "    .dataframe tbody tr th:only-of-type {\n",
       "        vertical-align: middle;\n",
       "    }\n",
       "\n",
       "    .dataframe tbody tr th {\n",
       "        vertical-align: top;\n",
       "    }\n",
       "\n",
       "    .dataframe thead th {\n",
       "        text-align: right;\n",
       "    }\n",
       "</style>\n",
       "<table border=\"1\" class=\"dataframe\">\n",
       "  <thead>\n",
       "    <tr style=\"text-align: right;\">\n",
       "      <th></th>\n",
       "      <th>tags</th>\n",
       "      <th>text</th>\n",
       "    </tr>\n",
       "  </thead>\n",
       "  <tbody>\n",
       "    <tr>\n",
       "      <th>0</th>\n",
       "      <td>genuine question</td>\n",
       "      <td>we’ve all talked about the ‘gifted child’ to s...</td>\n",
       "    </tr>\n",
       "    <tr>\n",
       "      <th>1</th>\n",
       "      <td>genuine question</td>\n",
       "      <td>Is the concept of straight girls religiously w...</td>\n",
       "    </tr>\n",
       "    <tr>\n",
       "      <th>2</th>\n",
       "      <td>genuine question</td>\n",
       "      <td>I am sincerely curious. Has some of you ever w...</td>\n",
       "    </tr>\n",
       "    <tr>\n",
       "      <th>3</th>\n",
       "      <td>genuine question</td>\n",
       "      <td>Bro idk how people look so fucking good in the...</td>\n",
       "    </tr>\n",
       "    <tr>\n",
       "      <th>4</th>\n",
       "      <td>genuine question</td>\n",
       "      <td>Ur mom</td>\n",
       "    </tr>\n",
       "    <tr>\n",
       "      <th>...</th>\n",
       "      <td>...</td>\n",
       "      <td>...</td>\n",
       "    </tr>\n",
       "    <tr>\n",
       "      <th>3542685</th>\n",
       "      <td>nothing personal</td>\n",
       "      <td>Nothing Personal. Because their voices are mor...</td>\n",
       "    </tr>\n",
       "    <tr>\n",
       "      <th>3542686</th>\n",
       "      <td>nothing personal</td>\n",
       "      <td>You’re a douche bag.</td>\n",
       "    </tr>\n",
       "    <tr>\n",
       "      <th>3542700</th>\n",
       "      <td>nothing personal</td>\n",
       "      <td>Last year at this time I listened to them twen...</td>\n",
       "    </tr>\n",
       "    <tr>\n",
       "      <th>3604568</th>\n",
       "      <td>nothing personal</td>\n",
       "      <td>GIVING YOUR FUCKING BEST IS ENOUGH.</td>\n",
       "    </tr>\n",
       "    <tr>\n",
       "      <th>3604576</th>\n",
       "      <td>nothing personal</td>\n",
       "      <td>Posted on AlterThePress.com on Thursday Septem...</td>\n",
       "    </tr>\n",
       "  </tbody>\n",
       "</table>\n",
       "<p>207588 rows × 2 columns</p>\n",
       "</div>"
      ]
     },
     "execution_count": 189,
     "metadata": {},
     "output_type": "execute_result"
    }
   ],
   "execution_count": 189
  },
  {
   "metadata": {},
   "cell_type": "code",
   "outputs": [],
   "execution_count": null,
   "source": "df7_profile_report = ydata_profiling.profile_report.ProfileReport(df7)",
   "id": "4fe08a02a94602c8"
  }
 ],
 "metadata": {
  "kernelspec": {
   "display_name": "Python 3",
   "language": "python",
   "name": "python3"
  },
  "language_info": {
   "codemirror_mode": {
    "name": "ipython",
    "version": 2
   },
   "file_extension": ".py",
   "mimetype": "text/x-python",
   "name": "python",
   "nbconvert_exporter": "python",
   "pygments_lexer": "ipython2",
   "version": "2.7.6"
  }
 },
 "nbformat": 4,
 "nbformat_minor": 5
}
