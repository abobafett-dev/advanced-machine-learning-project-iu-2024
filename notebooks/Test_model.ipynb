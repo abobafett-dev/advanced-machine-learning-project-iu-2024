{
 "cells": [
  {
   "cell_type": "code",
   "execution_count": 1,
   "id": "initial_id",
   "metadata": {
    "collapsed": true,
    "ExecuteTime": {
     "end_time": "2024-04-14T19:35:03.888417Z",
     "start_time": "2024-04-14T19:35:01.311266Z"
    }
   },
   "outputs": [],
   "source": [
    "import pandas as pd\n",
    "import numpy as np\n",
    "import torch\n",
    "import torch.nn.functional as F\n",
    "import torch.nn as nn\n",
    "import torchtext\n",
    "from torch.utils.data import DataLoader\n",
    "from sklearn.model_selection import train_test_split\n",
    "from torch.utils.data import Dataset\n",
    "\n",
    "from tqdm.auto import tqdm"
   ]
  },
  {
   "cell_type": "code",
   "outputs": [],
   "source": [
    "def str_to_list(value):\n",
    "    list_values = value.strip('[]').split(', ')\n",
    "    cleaned_list_values = [item[1:-1] for item in list_values]\n",
    "    return cleaned_list_values"
   ],
   "metadata": {
    "collapsed": false,
    "ExecuteTime": {
     "end_time": "2024-04-14T19:35:03.893504Z",
     "start_time": "2024-04-14T19:35:03.889546Z"
    }
   },
   "id": "c65c044a65454f1f",
   "execution_count": 2
  },
  {
   "cell_type": "code",
   "outputs": [],
   "source": [
    "dataset = pd.read_csv(\"../datasets/tonetags_wsd_1.csv\", index_col=0, converters={\"text\": str_to_list})"
   ],
   "metadata": {
    "collapsed": false,
    "ExecuteTime": {
     "end_time": "2024-04-14T19:35:07.485061Z",
     "start_time": "2024-04-14T19:35:03.894020Z"
    }
   },
   "id": "e6c2f633b75d7bf5",
   "execution_count": 3
  },
  {
   "cell_type": "code",
   "outputs": [],
   "source": [
    "labels = dataset.tags.unique().tolist()\n",
    "dataset.tags = dataset.tags.apply(labels.index)"
   ],
   "metadata": {
    "collapsed": false,
    "ExecuteTime": {
     "end_time": "2024-04-14T19:35:07.510110Z",
     "start_time": "2024-04-14T19:35:07.486178Z"
    }
   },
   "id": "cb412c80a2d5654e",
   "execution_count": 4
  },
  {
   "cell_type": "code",
   "outputs": [],
   "source": [
    "vocab = torchtext.vocab.GloVe(name='6B', dim=50).stoi\n",
    "vocab[\"<unk>\"] = len(vocab)\n",
    "vocab[\"<pad>\"] = len(vocab)"
   ],
   "metadata": {
    "collapsed": false,
    "ExecuteTime": {
     "end_time": "2024-04-14T19:35:07.751892Z",
     "start_time": "2024-04-14T19:35:07.511215Z"
    }
   },
   "id": "2a5ca6e795d87b9a",
   "execution_count": 5
  },
  {
   "cell_type": "code",
   "outputs": [],
   "source": [
    "max_length = 4096"
   ],
   "metadata": {
    "collapsed": false,
    "ExecuteTime": {
     "end_time": "2024-04-14T19:35:07.757161Z",
     "start_time": "2024-04-14T19:35:07.753273Z"
    }
   },
   "id": "7fdea20e8253a596",
   "execution_count": 6
  },
  {
   "cell_type": "code",
   "outputs": [],
   "source": [
    "class myDataset(Dataset):\n",
    "    def __init__(self, dataset):\n",
    "        self.data = []\n",
    "        for sentence in dataset.text:\n",
    "            if len(sentence) > max_length:\n",
    "                continue\n",
    "            sentence_ids = []\n",
    "            for token in sentence:\n",
    "                try:\n",
    "                    sentence_ids.append(vocab[token])\n",
    "                except KeyError:\n",
    "                    sentence_ids.append(vocab[\"<unk>\"])\n",
    "            self.data.append(sentence_ids)\n",
    "        self.labels = dataset.tags\n",
    "        \n",
    "    def __len__(self):\n",
    "        return len(self.data)\n",
    "        \n",
    "    def __getitem__(self, idx):\n",
    "        return self.data[idx], torch.tensor(self.labels.iloc[idx])"
   ],
   "metadata": {
    "collapsed": false,
    "ExecuteTime": {
     "end_time": "2024-04-14T19:35:07.780857Z",
     "start_time": "2024-04-14T19:35:07.758249Z"
    }
   },
   "id": "9f445b35dd5d44cc",
   "execution_count": 7
  },
  {
   "cell_type": "code",
   "outputs": [],
   "source": [
    "def collate_fn(batch):\n",
    "    data_ids = []\n",
    "    labels = []\n",
    "    for dat in batch:\n",
    "        data_ids.append(dat[0])\n",
    "        labels.append(dat[1])\n",
    "    \n",
    "    for i in range(len(data_ids)):\n",
    "        while len(data_ids[i]) < max_length:\n",
    "            data_ids[i].append(vocab[\"<pad>\"])\n",
    "    \n",
    "    return data_ids, labels"
   ],
   "metadata": {
    "collapsed": false,
    "ExecuteTime": {
     "end_time": "2024-04-14T19:35:07.785673Z",
     "start_time": "2024-04-14T19:35:07.781946Z"
    }
   },
   "id": "e0cbdb1f68dcd930",
   "execution_count": 8
  },
  {
   "cell_type": "code",
   "outputs": [],
   "source": [
    "train, test = train_test_split(dataset, test_size=0.2, shuffle=False)"
   ],
   "metadata": {
    "collapsed": false,
    "ExecuteTime": {
     "end_time": "2024-04-14T19:35:07.793733Z",
     "start_time": "2024-04-14T19:35:07.786777Z"
    }
   },
   "id": "9c2fea4ab7191c21",
   "execution_count": 9
  },
  {
   "cell_type": "code",
   "outputs": [],
   "source": [
    "train_dataset = myDataset(train)\n",
    "test_dataset = myDataset(test)"
   ],
   "metadata": {
    "collapsed": false,
    "ExecuteTime": {
     "end_time": "2024-04-14T19:35:09.852288Z",
     "start_time": "2024-04-14T19:35:07.794922Z"
    }
   },
   "id": "b6d505604a8eea15",
   "execution_count": 10
  },
  {
   "cell_type": "code",
   "outputs": [],
   "source": [
    "batch_size = 64"
   ],
   "metadata": {
    "collapsed": false,
    "ExecuteTime": {
     "end_time": "2024-04-14T19:35:09.855877Z",
     "start_time": "2024-04-14T19:35:09.853407Z"
    }
   },
   "id": "cb15c218600f6655",
   "execution_count": 11
  },
  {
   "cell_type": "code",
   "outputs": [],
   "source": [
    "train_dataloader = DataLoader(train_dataset, batch_size=batch_size, shuffle=True, collate_fn=collate_fn)\n",
    "test_dataloader = DataLoader(test, batch_size=batch_size, shuffle=True, collate_fn=collate_fn)"
   ],
   "metadata": {
    "collapsed": false,
    "ExecuteTime": {
     "end_time": "2024-04-14T19:35:09.865081Z",
     "start_time": "2024-04-14T19:35:09.855877Z"
    }
   },
   "id": "6b0694c779e43867",
   "execution_count": 12
  },
  {
   "cell_type": "markdown",
   "source": [],
   "metadata": {
    "collapsed": false
   },
   "id": "67f92da9b901d6d5"
  },
  {
   "cell_type": "code",
   "outputs": [
    {
     "data": {
      "text/plain": "  0%|          | 0/1057 [00:00<?, ?it/s]",
      "application/vnd.jupyter.widget-view+json": {
       "version_major": 2,
       "version_minor": 0,
       "model_id": "bf5b57c352f4406cbc16538783ef60fc"
      }
     },
     "metadata": {},
     "output_type": "display_data"
    }
   ],
   "source": [
    "for batch in tqdm(train_dataloader):\n",
    "    embedded_tokens = batch[0]\n",
    "    labels = batch[1]"
   ],
   "metadata": {
    "collapsed": false,
    "ExecuteTime": {
     "end_time": "2024-04-14T19:35:29.522662Z",
     "start_time": "2024-04-14T19:35:09.866158Z"
    }
   },
   "id": "91b1cd1f9f591eec",
   "execution_count": 13
  },
  {
   "cell_type": "code",
   "outputs": [],
   "source": [
    "vec = torchtext.vocab.GloVe('6B', dim=50).vectors.numpy()\n",
    "vec = np.append(vec, np.zeros(50)).reshape(-1, 50)\n",
    "vec = np.append(vec, np.ones(50)).reshape(-1, 50)"
   ],
   "metadata": {
    "collapsed": false,
    "ExecuteTime": {
     "end_time": "2024-04-14T19:35:29.818811Z",
     "start_time": "2024-04-14T19:35:29.523757Z"
    }
   },
   "id": "f3c19d06f79a2c5c",
   "execution_count": 14
  },
  {
   "cell_type": "code",
   "outputs": [],
   "source": [
    "embed_tensor = torch.tensor(vec, dtype=torch.float)"
   ],
   "metadata": {
    "collapsed": false,
    "ExecuteTime": {
     "end_time": "2024-04-14T19:35:29.831044Z",
     "start_time": "2024-04-14T19:35:29.819914Z"
    }
   },
   "id": "70e6961e0be09d92",
   "execution_count": 15
  },
  {
   "cell_type": "code",
   "outputs": [],
   "source": [
    "embed = nn.Embedding.from_pretrained(embed_tensor, freeze=True)"
   ],
   "metadata": {
    "collapsed": false,
    "ExecuteTime": {
     "end_time": "2024-04-14T19:35:29.835711Z",
     "start_time": "2024-04-14T19:35:29.832130Z"
    }
   },
   "id": "5ba182a485933338",
   "execution_count": 16
  },
  {
   "cell_type": "code",
   "outputs": [],
   "source": [],
   "metadata": {
    "collapsed": false,
    "ExecuteTime": {
     "end_time": "2024-04-14T19:35:29.839646Z",
     "start_time": "2024-04-14T19:35:29.837760Z"
    }
   },
   "id": "8c89d0af9888a648",
   "execution_count": 16
  }
 ],
 "metadata": {
  "kernelspec": {
   "display_name": "Python 3",
   "language": "python",
   "name": "python3"
  },
  "language_info": {
   "codemirror_mode": {
    "name": "ipython",
    "version": 2
   },
   "file_extension": ".py",
   "mimetype": "text/x-python",
   "name": "python",
   "nbconvert_exporter": "python",
   "pygments_lexer": "ipython2",
   "version": "2.7.6"
  }
 },
 "nbformat": 4,
 "nbformat_minor": 5
}
