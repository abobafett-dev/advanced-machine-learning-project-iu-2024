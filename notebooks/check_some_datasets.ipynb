{
 "cells": [
  {
   "cell_type": "code",
   "metadata": {
    "collapsed": true,
    "ExecuteTime": {
     "end_time": "2024-05-10T00:01:38.221441Z",
     "start_time": "2024-05-10T00:01:35.909258Z"
    }
   },
   "source": [
    "import pandas as pd\n",
    "import numpy as np\n",
    "import zipfile\n",
    "import os"
   ],
   "outputs": [],
   "execution_count": 2
  },
  {
   "cell_type": "code",
   "source": [
    "# archive_path = '../datasets/Sentiment-Analysis-Dataset.zip'\n",
    "# \n",
    "# extraction_path = '../datasets/'\n",
    "# \n",
    "# with zipfile.ZipFile(archive_path, 'r') as zip_ref:\n",
    "#     zip_ref.extractall(extraction_path)\n",
    "# \n",
    "# extracted_files = os.listdir(extraction_path)\n",
    "# \n",
    "# csv_file_path = os.path.join(extraction_path, 'Sentiment Analysis Dataset.csv')\n",
    "# df = pd.read_csv(csv_file_path, usecols=['ItemID', 'Sentiment', 'SentimentSource', 'SentimentText'])\n",
    "# \n",
    "# messages = df['SentimentText']\n",
    "# \n",
    "# regex_pattern = '\\s\\/[a-zA-Z]\\s'\n",
    "# filtered_df = df[df['SentimentText'].str.contains(regex_pattern)]\n",
    "# \n",
    "# print(filtered_df.shape)\n",
    "# filtered_df"
   ],
   "metadata": {
    "collapsed": false,
    "ExecuteTime": {
     "end_time": "2024-05-10T00:01:38.227833Z",
     "start_time": "2024-05-10T00:01:38.224124Z"
    }
   },
   "outputs": [],
   "execution_count": 3
  },
  {
   "cell_type": "code",
   "source": [
    "# archive_path = '../datasets/archive.zip'\n",
    "# \n",
    "# extraction_path = '../datasets/'\n",
    "# \n",
    "# with zipfile.ZipFile(archive_path, 'r') as zip_ref:\n",
    "#     zip_ref.extractall(extraction_path)\n",
    "# \n",
    "# csv_file_path = os.path.join(extraction_path, 'covid19_tweets.csv')\n",
    "# df = pd.read_csv(csv_file_path)\n",
    "# \n",
    "# regex_pattern = '\\s\\/[a-zA-Z]\\s'\n",
    "# filtered_df = df[df['text'].str.contains(regex_pattern)]\n",
    "# \n",
    "# print(filtered_df.shape)\n",
    "# filtered_df"
   ],
   "metadata": {
    "collapsed": false,
    "ExecuteTime": {
     "end_time": "2024-05-10T00:01:38.233417Z",
     "start_time": "2024-05-10T00:01:38.229847Z"
    }
   },
   "outputs": [],
   "execution_count": 4
  },
  {
   "cell_type": "code",
   "source": [
    "# from datasets import load_dataset\n",
    "# \n",
    "# dataset_emotions = load_dataset(\"go_emotions\", \"raw\")"
   ],
   "metadata": {
    "collapsed": false,
    "ExecuteTime": {
     "end_time": "2024-05-10T00:01:38.239125Z",
     "start_time": "2024-05-10T00:01:38.235422Z"
    }
   },
   "outputs": [],
   "execution_count": 5
  },
  {
   "cell_type": "code",
   "source": "# dataset_emotions",
   "metadata": {
    "collapsed": false,
    "ExecuteTime": {
     "end_time": "2024-05-10T00:01:38.245365Z",
     "start_time": "2024-05-10T00:01:38.241129Z"
    }
   },
   "outputs": [],
   "execution_count": 6
  },
  {
   "cell_type": "code",
   "source": [
    "# for raw in dataset_emotions['train']:\n",
    "#     print(raw)\n",
    "#     break"
   ],
   "metadata": {
    "collapsed": false,
    "ExecuteTime": {
     "end_time": "2024-05-10T00:01:38.250105Z",
     "start_time": "2024-05-10T00:01:38.246387Z"
    }
   },
   "outputs": [],
   "execution_count": 7
  },
  {
   "cell_type": "code",
   "source": [
    "# emotions = {\n",
    "#     'admiration': 0,\n",
    "#     'amusement': 0,\n",
    "#     'anger': 0,\n",
    "#     'annoyance': 0,\n",
    "#     'approval': 0,\n",
    "#     'caring': 0,\n",
    "#     'confusion': 0,\n",
    "#     'curiosity': 0,\n",
    "#     'desire': 0,\n",
    "#     'disappointment': 0,\n",
    "#     'disapproval': 0,\n",
    "#     'disgust': 0,\n",
    "#     'embarrassment': 0,\n",
    "#     'excitement': 0,\n",
    "#     'fear': 0,\n",
    "#     'gratitude': 0,\n",
    "#     'grief': 0,\n",
    "#     'joy': 0,\n",
    "#     'love': 0,\n",
    "#     'nervousness': 0,\n",
    "#     'optimism': 0,\n",
    "#     'pride': 0,\n",
    "#     'realization': 0,\n",
    "#     'relief': 0,\n",
    "#     'remorse': 0,\n",
    "#     'sadness': 1,\n",
    "#     'surprise': 0,\n",
    "#     'neutral': 0\n",
    "# }"
   ],
   "metadata": {
    "collapsed": false,
    "ExecuteTime": {
     "end_time": "2024-05-10T00:01:38.255790Z",
     "start_time": "2024-05-10T00:01:38.251522Z"
    }
   },
   "outputs": [],
   "execution_count": 8
  },
  {
   "cell_type": "code",
   "source": [
    "# emtions_ru = {\n",
    "#     'восхищение': 0,\n",
    "#     'на веселе': 0,\n",
    "#     'гнев': 0,\n",
    "#     'раздражение': 0,\n",
    "#     'одобрение': 0,\n",
    "#     'забота': 0,\n",
    "#     'растерянность': 0,\n",
    "#     'любопытство': 0,\n",
    "#     'желание': 0,\n",
    "#     'разочарование': 0,\n",
    "#     'неодобрение': 0,\n",
    "#     'отвращение': 0,\n",
    "#     'смущение': 0,\n",
    "#     'волнение': 0,\n",
    "#     'страх': 0,\n",
    "#     'благодарность': 0,\n",
    "#     'горе': 0,\n",
    "#     'радость': 0,\n",
    "#     'любовь': 0,\n",
    "#     'нервозность': 0,\n",
    "#     'оптимизм': 0,\n",
    "#     'гордость': 0,\n",
    "#     'осознание': 0,\n",
    "#     'облегчение': 0,\n",
    "#     'раскаяние': 0,\n",
    "#     'грусть': 1,\n",
    "#     'удивление': 0,\n",
    "#     'нейтральный': 0,\n",
    "# }"
   ],
   "metadata": {
    "collapsed": false,
    "ExecuteTime": {
     "end_time": "2024-05-10T00:01:38.261704Z",
     "start_time": "2024-05-10T00:01:38.257235Z"
    }
   },
   "outputs": [],
   "execution_count": 9
  },
  {
   "metadata": {
    "ExecuteTime": {
     "end_time": "2024-05-10T00:02:10.186088Z",
     "start_time": "2024-05-10T00:02:09.664192Z"
    }
   },
   "cell_type": "code",
   "source": "df13 = pd.read_csv(\"../datasets/tonetags_dataset_tumblr_clean.csv\")",
   "outputs": [],
   "execution_count": 11
  },
  {
   "metadata": {
    "ExecuteTime": {
     "end_time": "2024-05-10T00:02:17.745799Z",
     "start_time": "2024-05-10T00:02:17.742198Z"
    }
   },
   "cell_type": "code",
   "source": "# df13",
   "outputs": [],
   "execution_count": 13
  },
  {
   "metadata": {
    "ExecuteTime": {
     "end_time": "2024-05-10T00:02:18.544293Z",
     "start_time": "2024-05-10T00:02:18.397663Z"
    }
   },
   "cell_type": "code",
   "source": [
    "tag_size = {}\n",
    "\n",
    "for tag in df13.tags.unique().tolist():\n",
    "    tag_size[tag] = df13[df13['tags'] == tag].shape[0]\n",
    "\n",
    "tag_size = dict(sorted(tag_size.items(), key=lambda x: x[1]))\n",
    "tag_size\n",
    "df13.shape\n",
    "df13.tags\n",
    "df13.tags.value_counts() / len(df13) * 100"
   ],
   "outputs": [
    {
     "data": {
      "text/plain": [
       "tags\n",
       "lyrics                16.873769\n",
       "reference             12.390978\n",
       "joking                12.088530\n",
       "platonic              10.340664\n",
       "genuine question       7.052424\n",
       "passive aggressive     4.811029\n",
       "nothing personal       4.720763\n",
       "serious                4.717247\n",
       "inside joke            4.202617\n",
       "romantic               3.880240\n",
       "copypasta              2.917800\n",
       "sarcastic              2.744303\n",
       "half joking            2.587217\n",
       "rhetorical             2.244912\n",
       "clickbait              2.182782\n",
       "genuine                1.841649\n",
       "not a vent             1.647051\n",
       "ironic                 1.393839\n",
       "not mad                1.362187\n",
       "Name: count, dtype: float64"
      ]
     },
     "execution_count": 14,
     "metadata": {},
     "output_type": "execute_result"
    }
   ],
   "execution_count": 14
  },
  {
   "metadata": {},
   "cell_type": "code",
   "outputs": [],
   "execution_count": null,
   "source": ""
  }
 ],
 "metadata": {
  "kernelspec": {
   "display_name": "Python 3",
   "language": "python",
   "name": "python3"
  },
  "language_info": {
   "codemirror_mode": {
    "name": "ipython",
    "version": 2
   },
   "file_extension": ".py",
   "mimetype": "text/x-python",
   "name": "python",
   "nbconvert_exporter": "python",
   "pygments_lexer": "ipython2",
   "version": "2.7.6"
  }
 },
 "nbformat": 4,
 "nbformat_minor": 0
}
