{
 "cells": [
  {
   "cell_type": "code",
   "execution_count": 14,
   "outputs": [],
   "source": [
    "# https://github.com/boilingpenguin/tumblr-scraper\n",
    "# https://github.com/tumblr/docs/blob/master/api.md"
   ],
   "metadata": {
    "collapsed": false
   }
  },
  {
   "cell_type": "code",
   "execution_count": 15,
   "outputs": [
    {
     "name": "stdout",
     "output_type": "stream",
     "text": [
      "dict_keys(['OAuth', 'SecretKeyOAuth'])\n"
     ]
    }
   ],
   "source": [
    "keys = {}\n",
    "\n",
    "with open('../OAuth.keys', 'r') as file:\n",
    "\tfor line_key in file:\n",
    "\t\tparts = line_key.strip().split(':')\n",
    "\t\tkeys[parts[0]] = parts[1]\n",
    "print(keys.keys())"
   ],
   "metadata": {
    "collapsed": false
   }
  },
  {
   "cell_type": "code",
   "execution_count": 16,
   "outputs": [
    {
     "name": "stdout",
     "output_type": "stream",
     "text": [
      "Requirement already satisfied: pytumblr in c:\\users\\me\\appdata\\local\\programs\\python\\python311\\lib\\site-packages (0.1.2)\n",
      "Requirement already satisfied: future in c:\\users\\me\\appdata\\local\\programs\\python\\python311\\lib\\site-packages (from pytumblr) (1.0.0)\n",
      "Requirement already satisfied: requests-oauthlib in c:\\users\\me\\appdata\\roaming\\python\\python311\\site-packages (from pytumblr) (1.3.1)\n",
      "Requirement already satisfied: oauthlib>=3.0.0 in c:\\users\\me\\appdata\\roaming\\python\\python311\\site-packages (from requests-oauthlib->pytumblr) (3.2.2)\n",
      "Requirement already satisfied: requests>=2.0.0 in c:\\users\\me\\appdata\\local\\programs\\python\\python311\\lib\\site-packages (from requests-oauthlib->pytumblr) (2.31.0)\n",
      "Requirement already satisfied: charset-normalizer<4,>=2 in c:\\users\\me\\appdata\\local\\programs\\python\\python311\\lib\\site-packages (from requests>=2.0.0->requests-oauthlib->pytumblr) (3.3.0)\n",
      "Requirement already satisfied: idna<4,>=2.5 in c:\\users\\me\\appdata\\local\\programs\\python\\python311\\lib\\site-packages (from requests>=2.0.0->requests-oauthlib->pytumblr) (3.4)\n",
      "Requirement already satisfied: urllib3<3,>=1.21.1 in c:\\users\\me\\appdata\\roaming\\python\\python311\\site-packages (from requests>=2.0.0->requests-oauthlib->pytumblr) (2.0.5)\n",
      "Requirement already satisfied: certifi>=2017.4.17 in c:\\users\\me\\appdata\\local\\programs\\python\\python311\\lib\\site-packages (from requests>=2.0.0->requests-oauthlib->pytumblr) (2023.7.22)\n",
      "Requirement already satisfied: unicodecsv in c:\\users\\me\\appdata\\local\\programs\\python\\python311\\lib\\site-packages (0.14.1)\n",
      "Requirement already satisfied: unidecode in c:\\users\\me\\appdata\\local\\programs\\python\\python311\\lib\\site-packages (1.3.8)\n"
     ]
    }
   ],
   "source": [
    "!pip install pytumblr\n",
    "!pip install unicodecsv\n",
    "!pip install unidecode"
   ],
   "metadata": {
    "collapsed": false
   }
  },
  {
   "cell_type": "code",
   "execution_count": 17,
   "outputs": [],
   "source": [
    "import pytumblr, datetime\n",
    "import csv\n",
    "from unidecode import unidecode\n",
    "import calendar\n",
    "import time\n",
    "\n",
    "import pandas as pd\n",
    "import numpy as np\n",
    "import os"
   ],
   "metadata": {
    "collapsed": false
   }
  },
  {
   "cell_type": "code",
   "execution_count": 19,
   "outputs": [
    {
     "name": "stdout",
     "output_type": "stream",
     "text": [
      "Searching Tumblr for 100 posts tagged 'half-joke'\n",
      "Batch 1 of 5\n",
      "20 results retreived\n",
      "Successfully Wrote Row for post from 2024-03-30 01:18:08 GMT\n",
      "Successfully Wrote Row for post from 2024-03-29 09:26:46 GMT\n",
      "Successfully Wrote Row for post from 2024-03-26 08:45:26 GMT\n",
      "Successfully Wrote Row for post from 2024-03-26 05:20:45 GMT\n",
      "Successfully Wrote Row for post from 2024-03-21 07:15:09 GMT\n",
      "Successfully Wrote Row for post from 2024-03-18 11:52:37 GMT\n",
      "Successfully Wrote Row for post from 2024-03-12 01:04:08 GMT\n",
      "Successfully Wrote Row for post from 2024-03-06 22:24:43 GMT\n",
      "Successfully Wrote Row for post from 2024-03-01 15:19:33 GMT\n",
      "Successfully Wrote Row for post from 2024-02-25 22:31:53 GMT\n",
      "Successfully Wrote Row for post from 2024-02-22 04:48:43 GMT\n",
      "Successfully Wrote Row for post from 2024-02-21 04:23:38 GMT\n",
      "Successfully Wrote Row for post from 2024-02-18 13:13:03 GMT\n",
      "Successfully Wrote Row for post from 2024-02-17 12:25:51 GMT\n",
      "Successfully Wrote Row for post from 2024-02-16 12:24:44 GMT\n",
      "Successfully Wrote Row for post from 2024-02-14 01:59:29 GMT\n",
      "Successfully Wrote Row for post from 2024-02-13 03:17:26 GMT\n",
      "Successfully Wrote Row for post from 2024-02-11 17:23:51 GMT\n",
      "Successfully Wrote Row for post from 2024-02-07 20:06:44 GMT\n",
      "Successfully Wrote Row for post from 2024-02-05 04:56:26 GMT\n",
      "Batch 2 of 5\n",
      "20 results retreived\n",
      "Successfully Wrote Row for post from 2024-02-04 18:57:45 GMT\n",
      "Successfully Wrote Row for post from 2024-02-04 03:15:39 GMT\n",
      "Successfully Wrote Row for post from 2024-02-01 07:55:39 GMT\n",
      "Successfully Wrote Row for post from 2024-01-29 09:08:01 GMT\n",
      "Successfully Wrote Row for post from 2024-01-26 21:16:52 GMT\n",
      "Successfully Wrote Row for post from 2024-01-26 19:10:10 GMT\n",
      "Successfully Wrote Row for post from 2024-01-24 22:07:36 GMT\n",
      "Successfully Wrote Row for post from 2024-01-23 04:10:38 GMT\n",
      "Successfully Wrote Row for post from 2024-01-16 17:43:15 GMT\n",
      "Successfully Wrote Row for post from 2024-01-13 03:49:45 GMT\n",
      "Successfully Wrote Row for post from 2024-01-12 20:05:19 GMT\n",
      "Successfully Wrote Row for post from 2024-01-04 03:38:04 GMT\n",
      "Successfully Wrote Row for post from 2024-01-03 04:23:58 GMT\n",
      "Successfully Wrote Row for post from 2024-01-03 01:09:08 GMT\n",
      "Successfully Wrote Row for post from 2024-01-02 12:59:40 GMT\n",
      "Successfully Wrote Row for post from 2024-01-01 10:20:43 GMT\n",
      "Successfully Wrote Row for post from 2023-12-27 06:56:08 GMT\n",
      "Successfully Wrote Row for post from 2023-12-23 22:38:39 GMT\n",
      "Successfully Wrote Row for post from 2023-12-21 22:41:22 GMT\n",
      "Successfully Wrote Row for post from 2023-12-21 19:18:12 GMT\n",
      "Batch 3 of 5\n",
      "20 results retreived\n",
      "Successfully Wrote Row for post from 2023-12-16 23:52:02 GMT\n",
      "Successfully Wrote Row for post from 2023-12-16 04:09:35 GMT\n",
      "Successfully Wrote Row for post from 2023-12-12 12:05:01 GMT\n",
      "Successfully Wrote Row for post from 2023-12-11 02:05:44 GMT\n",
      "Successfully Wrote Row for post from 2023-12-03 01:16:21 GMT\n",
      "Successfully Wrote Row for post from 2023-11-27 16:10:25 GMT\n",
      "Successfully Wrote Row for post from 2023-11-27 10:03:23 GMT\n",
      "Successfully Wrote Row for post from 2023-11-16 14:15:26 GMT\n",
      "Successfully Wrote Row for post from 2023-11-15 16:00:26 GMT\n",
      "Successfully Wrote Row for post from 2023-11-13 17:56:01 GMT\n",
      "Successfully Wrote Row for post from 2023-11-11 22:13:09 GMT\n",
      "Successfully Wrote Row for post from 2023-11-08 17:08:30 GMT\n",
      "Successfully Wrote Row for post from 2023-11-08 02:59:15 GMT\n",
      "Successfully Wrote Row for post from 2023-11-07 12:02:28 GMT\n",
      "Successfully Wrote Row for post from 2023-11-02 21:02:57 GMT\n",
      "Successfully Wrote Row for post from 2023-10-25 00:32:22 GMT\n",
      "Successfully Wrote Row for post from 2023-10-24 02:45:27 GMT\n",
      "Successfully Wrote Row for post from 2023-10-22 18:59:13 GMT\n",
      "Successfully Wrote Row for post from 2023-10-18 22:44:21 GMT\n",
      "Successfully Wrote Row for post from 2023-10-16 01:13:59 GMT\n",
      "Batch 4 of 5\n",
      "20 results retreived\n",
      "Successfully Wrote Row for post from 2023-10-13 11:19:55 GMT\n",
      "Successfully Wrote Row for post from 2023-10-11 13:08:48 GMT\n",
      "Successfully Wrote Row for post from 2023-10-10 07:34:49 GMT\n",
      "Successfully Wrote Row for post from 2023-10-10 06:02:37 GMT\n",
      "Successfully Wrote Row for post from 2023-10-09 18:27:50 GMT\n",
      "Successfully Wrote Row for post from 2023-10-08 18:16:07 GMT\n",
      "Successfully Wrote Row for post from 2023-10-03 16:33:57 GMT\n",
      "Successfully Wrote Row for post from 2023-09-30 19:15:52 GMT\n",
      "Successfully Wrote Row for post from 2023-09-30 07:18:33 GMT\n",
      "Successfully Wrote Row for post from 2023-09-28 23:46:05 GMT\n",
      "Successfully Wrote Row for post from 2023-09-21 03:28:14 GMT\n",
      "Successfully Wrote Row for post from 2023-09-18 22:20:22 GMT\n",
      "Successfully Wrote Row for post from 2023-09-18 20:02:06 GMT\n",
      "Successfully Wrote Row for post from 2023-09-16 02:58:32 GMT\n",
      "Successfully Wrote Row for post from 2023-09-09 05:10:47 GMT\n",
      "Successfully Wrote Row for post from 2023-09-07 21:21:18 GMT\n",
      "Successfully Wrote Row for post from 2023-09-07 05:12:51 GMT\n",
      "Successfully Wrote Row for post from 2023-09-03 19:14:25 GMT\n",
      "Successfully Wrote Row for post from 2023-09-02 16:56:50 GMT\n",
      "Successfully Wrote Row for post from 2023-09-02 06:50:31 GMT\n",
      "Finished!\n",
      "Saved CSV to ../datasets/data_from_tumblr/TumblrSearch-1711901453-half-joke.csv\n"
     ]
    }
   ],
   "source": [
    "# Enter your Tumblr API key here:\n",
    "tumblr = pytumblr.TumblrRestClient(\n",
    "    f'{keys[\"OAuth\"]}'\n",
    ")\n",
    "\n",
    "# Set search parameters here:\n",
    "#\n",
    "# Tumblr's API only supports searching for a single tag at a time\n",
    "# Filter options are text, html, or raw\n",
    "# Before - only search for posts before this time - in seconds past the epoch\n",
    "# use calendar.timegm(time.gmtime()) to use the current epoch\n",
    "tag = 'half-joke'\n",
    "filter = 'text'\n",
    "before = calendar.timegm(time.gmtime())\n",
    "\n",
    "#Set output file here:\n",
    "outputPath = '../datasets/data_from_tumblr/'\n",
    "\n",
    "\n",
    "filePath = outputPath + 'TumblrSearch-' + str(before) + '-' + tag.replace('\\\\', '') + '.csv'\n",
    "with open(filePath, mode='a', encoding='utf-8', newline='') as results_file:\n",
    "\t\tresults_writer = csv.writer(results_file, delimiter=',', quotechar='\"', quoting=csv.QUOTE_ALL)\n",
    "\t\tresults_writer.writerow([\"timeStamp\", \"URL\", \"blogName\", \"title\", \"tags\", \"body\"])\n",
    "\n",
    "\n",
    "print(\"Searching Tumblr for 100 posts tagged \\'\" + tag + \"\\'\")\n",
    "\n",
    "j = 1\n",
    "\n",
    "#If you really wanted to, you could increase this number here to increase the number of batches\n",
    "#Tumblr's API limits you to 20 results at a time, but we can loop through the search multiple times\n",
    "#BUT I'd be cautious about making this number too big - to avoid running into api call limits\n",
    "\n",
    "while j < 5:\n",
    "\t#Run the tag search and snag the results\n",
    "\tsearchResults = tumblr.tagged(tag, filter=filter, before=before)\n",
    "\tprint(\"Batch \" + str(j) + \" of 5\")\n",
    "\tprint(str(len(searchResults)) + \" results retreived\")\n",
    "\tfor i in searchResults:\n",
    "\t\tblog_name = (i)['blog_name']\n",
    "\t\tdate = (i)['date']\n",
    "\n",
    "\t\turl = (i)['post_url']\n",
    "\n",
    "\t\ttry:\n",
    "\t\t\ttitle = (i)['title']\n",
    "\t\texcept:\n",
    "\t\t\ttitle = \"Couldn't Get Title\"\n",
    "\t\ttry:\n",
    "\t\t\ttags = (i)['tags']\n",
    "\t\texcept:\n",
    "\t\t\ttags = \"Couldn't Get tags\"\n",
    "\t\ttry:\n",
    "\t\t\tbody = (i)['body']\n",
    "\t\texcept:\n",
    "\t\t\tbody = \"Couldn't Get Post Body\"\n",
    "\t\twith open(filePath, mode='a', encoding='utf-8', newline='') as results_file:\n",
    "\t\t\tresults_writer = csv.writer(results_file, delimiter=',', quotechar='\"', quoting=csv.QUOTE_ALL)\n",
    "\t\t\ttry:\n",
    "\t\t\t\tresults_writer.writerow([date, unidecode(url), blog_name, title, tags, body])\n",
    "\t\t\t\tprint(\"Successfully Wrote Row for post from \" + date)\n",
    "\t\t\texcept:\n",
    "\t\t\t\tprint(\"Error Writing Row\")\n",
    "\t#Next we make note of the oldest timestamp\n",
    "\t\toldestTime = (i)['timestamp']\n",
    "\tbefore = oldestTime\n",
    "\tj = j + 1\n",
    "print(\"Finished!\")\n",
    "print(\"Saved CSV to \" + filePath)"
   ],
   "metadata": {
    "collapsed": false
   }
  },
  {
   "cell_type": "code",
   "execution_count": 18,
   "outputs": [],
   "source": [],
   "metadata": {
    "collapsed": false
   }
  }
 ],
 "metadata": {
  "kernelspec": {
   "display_name": "Python 3",
   "language": "python",
   "name": "python3"
  },
  "language_info": {
   "codemirror_mode": {
    "name": "ipython",
    "version": 2
   },
   "file_extension": ".py",
   "mimetype": "text/x-python",
   "name": "python",
   "nbconvert_exporter": "python",
   "pygments_lexer": "ipython2",
   "version": "2.7.6"
  }
 },
 "nbformat": 4,
 "nbformat_minor": 0
}
