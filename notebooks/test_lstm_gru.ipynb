{
 "cells": [
  {
   "cell_type": "markdown",
   "source": [
    "# 1. imports"
   ],
   "metadata": {
    "collapsed": false
   },
   "id": "1ae10d82612724b0"
  },
  {
   "cell_type": "code",
   "execution_count": 9,
   "id": "initial_id",
   "metadata": {
    "collapsed": true,
    "ExecuteTime": {
     "end_time": "2024-04-19T14:15:38.251687Z",
     "start_time": "2024-04-19T14:15:38.245603Z"
    }
   },
   "outputs": [],
   "source": [
    "import pandas as pd\n",
    "import numpy as np\n",
    "import torch\n",
    "import torch.nn as nn\n",
    "import torch.optim as optim\n",
    "import torchtext\n",
    "import torchmetrics\n",
    "from torch.utils.data import DataLoader\n",
    "from sklearn.model_selection import train_test_split\n",
    "from torch.utils.data import Dataset\n",
    "import gc\n",
    "import matplotlib.pyplot as plt\n",
    "from tqdm import tqdm\n",
    "import datetime\n",
    "import csv\n",
    "\n",
    "%matplotlib inline"
   ]
  },
  {
   "cell_type": "markdown",
   "source": [
    "# 2. function convert str of text to list when we upload data"
   ],
   "metadata": {
    "collapsed": false
   },
   "id": "b6d5c3c79342a365"
  },
  {
   "cell_type": "code",
   "outputs": [],
   "source": [
    "def str_text_to_list(value):\n",
    "    list_values = value.strip('[]').split(', ')\n",
    "    cleaned_list_values = [item[1:-1] for item in list_values]\n",
    "    return cleaned_list_values"
   ],
   "metadata": {
    "collapsed": false,
    "ExecuteTime": {
     "end_time": "2024-04-19T14:15:38.497109Z",
     "start_time": "2024-04-19T14:15:38.493038Z"
    }
   },
   "id": "52965d7484f14b07",
   "execution_count": 10
  },
  {
   "cell_type": "markdown",
   "source": [
    "# 3. take labels from data"
   ],
   "metadata": {
    "collapsed": false
   },
   "id": "20941a577f66a2f3"
  },
  {
   "cell_type": "code",
   "outputs": [
    {
     "data": {
      "text/plain": "0"
     },
     "execution_count": 11,
     "metadata": {},
     "output_type": "execute_result"
    }
   ],
   "source": [
    "dataset_wsd_1 = pd.read_csv(\"../datasets/tonetags_wsd_1.csv\", index_col=0, converters={\"text\": str_text_to_list})\n",
    "\n",
    "labels = dataset_wsd_1.tags.unique().tolist()\n",
    "\n",
    "del dataset_wsd_1\n",
    "gc.collect()"
   ],
   "metadata": {
    "collapsed": false,
    "ExecuteTime": {
     "end_time": "2024-04-19T14:15:45.564612Z",
     "start_time": "2024-04-19T14:15:38.545983Z"
    }
   },
   "id": "a70bdfc7e3d78174",
   "execution_count": 11
  },
  {
   "cell_type": "markdown",
   "source": [
    "# 4. create vocab and embedding by some pretrained embedding"
   ],
   "metadata": {
    "collapsed": false
   },
   "id": "d751d71c63545642"
  },
  {
   "cell_type": "code",
   "outputs": [],
   "source": [
    "glove_6b_50 = torchtext.vocab.GloVe(name='6B', dim=50)"
   ],
   "metadata": {
    "collapsed": false,
    "ExecuteTime": {
     "end_time": "2024-04-19T14:15:45.887811Z",
     "start_time": "2024-04-19T14:15:45.565612Z"
    }
   },
   "id": "40baed9771b7a9a8",
   "execution_count": 12
  },
  {
   "cell_type": "code",
   "outputs": [],
   "source": [
    "vocab = glove_6b_50.stoi\n",
    "vocab[\"<unk>\"] = len(vocab)\n",
    "vocab[\"<pad>\"] = len(vocab)"
   ],
   "metadata": {
    "collapsed": false,
    "ExecuteTime": {
     "end_time": "2024-04-19T14:15:45.892133Z",
     "start_time": "2024-04-19T14:15:45.888810Z"
    }
   },
   "id": "da89eb00882c7f4a",
   "execution_count": 13
  },
  {
   "cell_type": "code",
   "outputs": [],
   "source": [
    "embedding_vector = glove_6b_50.vectors.numpy()\n",
    "embedding_vector = np.append(embedding_vector, np.zeros(50)).reshape(-1, 50) # vector for unknown value in vocab\n",
    "embedding_vector = np.append(embedding_vector, np.ones(50)).reshape(-1, 50) # vector for padding value in vocab"
   ],
   "metadata": {
    "collapsed": false,
    "ExecuteTime": {
     "end_time": "2024-04-19T14:15:45.984595Z",
     "start_time": "2024-04-19T14:15:45.894131Z"
    }
   },
   "id": "36374af168ed4cfb",
   "execution_count": 14
  },
  {
   "cell_type": "code",
   "outputs": [],
   "source": [
    "embedding_tensor = torch.tensor(embedding_vector, dtype=torch.float)"
   ],
   "metadata": {
    "collapsed": false,
    "ExecuteTime": {
     "end_time": "2024-04-19T14:15:46.020325Z",
     "start_time": "2024-04-19T14:15:45.987588Z"
    }
   },
   "id": "c5575c42a0d7d78b",
   "execution_count": 15
  },
  {
   "cell_type": "code",
   "outputs": [
    {
     "data": {
      "text/plain": "Embedding(400002, 50)"
     },
     "execution_count": 16,
     "metadata": {},
     "output_type": "execute_result"
    }
   ],
   "source": [
    "nn.Embedding.from_pretrained(embedding_tensor, freeze=True)"
   ],
   "metadata": {
    "collapsed": false,
    "ExecuteTime": {
     "end_time": "2024-04-19T14:15:46.027245Z",
     "start_time": "2024-04-19T14:15:46.021324Z"
    }
   },
   "id": "2e55c14934bb66f9",
   "execution_count": 16
  },
  {
   "cell_type": "markdown",
   "source": [
    "# 5. create class of datasets"
   ],
   "metadata": {
    "collapsed": false
   },
   "id": "2d930e7341c017ce"
  },
  {
   "cell_type": "code",
   "outputs": [],
   "source": [
    "max_length = 4096"
   ],
   "metadata": {
    "collapsed": false,
    "ExecuteTime": {
     "end_time": "2024-04-19T14:15:46.032330Z",
     "start_time": "2024-04-19T14:15:46.028245Z"
    }
   },
   "id": "1725596913a6421a",
   "execution_count": 17
  },
  {
   "cell_type": "code",
   "outputs": [],
   "source": [
    "class myDataset(Dataset):\n",
    "    def __init__(self, dataset):\n",
    "        self.data = []\n",
    "        for sentence in dataset.text:\n",
    "            if len(sentence) > max_length:\n",
    "                continue\n",
    "            sentence_ids = []\n",
    "            for token in sentence:\n",
    "                try:\n",
    "                    sentence_ids.append(vocab[token])\n",
    "                except KeyError:\n",
    "                    sentence_ids.append(vocab[\"<unk>\"])\n",
    "            self.data.append(sentence_ids)\n",
    "        self.labels = dataset.tags\n",
    "\n",
    "        self.context = None\n",
    "\n",
    "        if 'context' in dataset.columns:\n",
    "            self.context = dataset.context\n",
    "\n",
    "    def __len__(self):\n",
    "        return len(self.data)\n",
    "\n",
    "    def __getitem__(self, idx):\n",
    "        if self.context is None:\n",
    "            return self.data[idx], torch.tensor(self.labels.iloc[idx])\n",
    "        else:\n",
    "            return self.data[idx], torch.tensor(self.labels.iloc[idx]), self.context.iloc[idx]"
   ],
   "metadata": {
    "collapsed": false,
    "ExecuteTime": {
     "end_time": "2024-04-19T14:15:46.047727Z",
     "start_time": "2024-04-19T14:15:46.033330Z"
    }
   },
   "id": "23e46798d9c1d0d1",
   "execution_count": 18
  },
  {
   "cell_type": "markdown",
   "source": [
    "# 6. Dataloader part"
   ],
   "metadata": {
    "collapsed": false
   },
   "id": "3d48b4d00affba2b"
  },
  {
   "cell_type": "code",
   "outputs": [],
   "source": [
    "batch_size = 32"
   ],
   "metadata": {
    "collapsed": false,
    "ExecuteTime": {
     "end_time": "2024-04-19T14:15:46.052495Z",
     "start_time": "2024-04-19T14:15:46.048728Z"
    }
   },
   "id": "cab82a0f63f84b3e",
   "execution_count": 19
  },
  {
   "cell_type": "code",
   "outputs": [],
   "source": [
    "def collate_fn(batch):\n",
    "    data_ids = []\n",
    "    labels = []\n",
    "    contexts = []\n",
    "\n",
    "    for dat in batch:\n",
    "\n",
    "        data_ids.append(dat[0])\n",
    "        labels.append(dat[1])\n",
    "\n",
    "        if len(dat) >= 3:\n",
    "            contexts.append(dat[2])\n",
    "\n",
    "    for i in range(len(data_ids)):\n",
    "        while len(data_ids[i]) < max_length:\n",
    "            data_ids[i].append(vocab[\"<pad>\"])\n",
    "\n",
    "    return torch.tensor(data_ids), torch.tensor(contexts), torch.tensor(labels)"
   ],
   "metadata": {
    "collapsed": false,
    "ExecuteTime": {
     "end_time": "2024-04-19T14:15:46.062085Z",
     "start_time": "2024-04-19T14:15:46.055490Z"
    }
   },
   "id": "285237bf0a0cec60",
   "execution_count": 20
  },
  {
   "cell_type": "markdown",
   "source": [
    "# 7. Create model"
   ],
   "metadata": {
    "collapsed": false
   },
   "id": "d758415087f4b73e"
  },
  {
   "cell_type": "markdown",
   "source": [
    "## 7.1. lstm for wsd_1, clean and clean_corrected datasets"
   ],
   "metadata": {
    "collapsed": false
   },
   "id": "cac40074f8574adc"
  },
  {
   "cell_type": "code",
   "outputs": [],
   "source": [
    "class ToneTagsLSTM(nn.Module):\n",
    "    def __init__(self, vocab_size, embedding, hidden_dim, output_size, num_layers, dropout):\n",
    "        super(ToneTagsLSTM, self).__init__()\n",
    "        # vocab_size = 400002\n",
    "        # embedding_dim = 50\n",
    "        # hidden_dim_lstm = 30\n",
    "        \n",
    "        # output_size = 19\n",
    "\n",
    "        self.embedding = embedding\n",
    "\n",
    "        self.lstm = nn.LSTM(self.embedding.embedding_dim, hidden_dim, num_layers=num_layers, bidirectional=True, dropout=dropout, batch_first=True)\n",
    "\n",
    "        self.fc1 = nn.Linear(hidden_dim * max_length * 2, 1024)\n",
    "        self.fc2 = nn.Linear(1024, 512)\n",
    "        self.fc3 = nn.Linear(512, output_size)\n",
    "        # self.out = nn.Softmax(output_size, dim=1)\n",
    "\n",
    "\n",
    "    def forward(self, x):\n",
    "\n",
    "        embedded = self.embedding(x)\n",
    "        output, (hidden, cell) = self.lstm(embedded)\n",
    "\n",
    "\n",
    "        lstm_out = output.reshape(batch_size, -1)\n",
    "\n",
    "        fc1_out = self.fc1(lstm_out)\n",
    "\n",
    "\n",
    "        fc2_out = self.fc2(fc1_out)\n",
    "        out = self.fc3(fc2_out)\n",
    "        # out = self.out(fc3_out)\n",
    "\n",
    "        return out"
   ],
   "metadata": {
    "collapsed": false,
    "ExecuteTime": {
     "end_time": "2024-04-19T14:15:46.071008Z",
     "start_time": "2024-04-19T14:15:46.063086Z"
    }
   },
   "id": "b80ccda661e22f31",
   "execution_count": 21
  },
  {
   "cell_type": "markdown",
   "source": [
    "## 7.2. parameters of this model"
   ],
   "metadata": {
    "collapsed": false
   },
   "id": "7081088a87e4b136"
  },
  {
   "cell_type": "code",
   "outputs": [],
   "source": [
    "vocab_size = len(vocab) # 4000002\n",
    "embedding = nn.Embedding.from_pretrained(embedding_tensor, freeze=True)\n",
    "hidden_dim = 30 # 30\n",
    "output_size = len(labels) # 19\n",
    "num_layers = 4\n",
    "dropout = 0.2\n",
    "device = torch.device(\"cuda\" if torch.cuda.is_available() else \"cpu\")\n",
    "lr = 5e-4\n",
    "\n",
    "n_epochs = 20\n",
    "\n",
    "\n",
    "criterion = nn.CrossEntropyLoss()"
   ],
   "metadata": {
    "collapsed": false,
    "ExecuteTime": {
     "end_time": "2024-04-19T14:15:46.103088Z",
     "start_time": "2024-04-19T14:15:46.072008Z"
    }
   },
   "id": "d0efae4d5f9679bc",
   "execution_count": 22
  },
  {
   "cell_type": "markdown",
   "source": [
    "# 8. accuracy function"
   ],
   "metadata": {
    "collapsed": false
   },
   "id": "986a731f3b8f920b"
  },
  {
   "cell_type": "code",
   "outputs": [],
   "source": [
    "def get_accuracy(prediction, label):\n",
    "    batch_size, _ = prediction.shape\n",
    "    predicted_classes = prediction.argmax(dim=-1)\n",
    "    correct_predictions = predicted_classes.eq(label).sum()\n",
    "    accuracy = correct_predictions / batch_size\n",
    "    return accuracy"
   ],
   "metadata": {
    "collapsed": false,
    "ExecuteTime": {
     "end_time": "2024-04-19T14:15:46.109408Z",
     "start_time": "2024-04-19T14:15:46.104083Z"
    }
   },
   "id": "dbeeb0994d03eb48",
   "execution_count": 23
  },
  {
   "cell_type": "markdown",
   "source": [
    "# 9. wsd_1 dataset"
   ],
   "metadata": {
    "collapsed": false
   },
   "id": "96bc2ed98dbe8f17"
  },
  {
   "cell_type": "markdown",
   "source": [
    "## 9.1. upload dataset"
   ],
   "metadata": {
    "collapsed": false
   },
   "id": "5655512665aed631"
  },
  {
   "cell_type": "code",
   "outputs": [],
   "source": [
    "dataset_wsd_1 = pd.read_csv(\"../datasets/tonetags_wsd_1.csv\", index_col=0, converters={\"text\": str_text_to_list})"
   ],
   "metadata": {
    "collapsed": false,
    "ExecuteTime": {
     "end_time": "2024-04-17T16:46:23.220187Z",
     "start_time": "2024-04-17T16:46:18.161724Z"
    }
   },
   "id": "4074872f85decba7",
   "execution_count": 16
  },
  {
   "cell_type": "markdown",
   "source": [
    "## 9.2. encode labels"
   ],
   "metadata": {
    "collapsed": false
   },
   "id": "57e92483a0d469f1"
  },
  {
   "cell_type": "code",
   "outputs": [],
   "source": [
    "dataset_wsd_1.tags = dataset_wsd_1.tags.apply(labels.index)"
   ],
   "metadata": {
    "collapsed": false,
    "ExecuteTime": {
     "end_time": "2024-04-17T16:46:23.248686Z",
     "start_time": "2024-04-17T16:46:23.221161Z"
    }
   },
   "id": "82b15ca4fc9615cc",
   "execution_count": 17
  },
  {
   "cell_type": "markdown",
   "source": [
    "## 9.3. split"
   ],
   "metadata": {
    "collapsed": false
   },
   "id": "e33cb2340e138a36"
  },
  {
   "cell_type": "code",
   "outputs": [],
   "source": [
    "train_wsd_1, test_wsd_1 = train_test_split(dataset_wsd_1, stratify=dataset_wsd_1['tags'], test_size=0.2, random_state=42)"
   ],
   "metadata": {
    "collapsed": false,
    "ExecuteTime": {
     "end_time": "2024-04-17T16:46:23.280344Z",
     "start_time": "2024-04-17T16:46:23.249687Z"
    }
   },
   "id": "3161f71e01893b01",
   "execution_count": 18
  },
  {
   "cell_type": "markdown",
   "source": [
    "## 9.4. create datasets"
   ],
   "metadata": {
    "collapsed": false
   },
   "id": "87a4d853c40820b3"
  },
  {
   "cell_type": "code",
   "outputs": [],
   "source": [
    "train_dataset_wsd_1, test_dataset_wsd_1 = myDataset(train_wsd_1), myDataset(test_wsd_1)"
   ],
   "metadata": {
    "collapsed": false,
    "ExecuteTime": {
     "end_time": "2024-04-17T16:46:26.233690Z",
     "start_time": "2024-04-17T16:46:23.281344Z"
    }
   },
   "id": "cd7a9d8076736b9c",
   "execution_count": 19
  },
  {
   "cell_type": "markdown",
   "source": [
    "## 9.5. create dataloaders"
   ],
   "metadata": {
    "collapsed": false
   },
   "id": "69f41f0c5ad1df2b"
  },
  {
   "cell_type": "code",
   "outputs": [],
   "source": [
    "train_dataloader_wsd_1 = DataLoader(train_dataset_wsd_1, batch_size=batch_size, shuffle=True, collate_fn=collate_fn, drop_last=True)\n",
    "\n",
    "test_dataloader_wsd_1 = DataLoader(test_dataset_wsd_1, batch_size=batch_size, shuffle=True, collate_fn=collate_fn, drop_last=True)"
   ],
   "metadata": {
    "collapsed": false,
    "ExecuteTime": {
     "end_time": "2024-04-17T16:46:26.238392Z",
     "start_time": "2024-04-17T16:46:26.234252Z"
    }
   },
   "id": "41bf6580a9e5deed",
   "execution_count": 20
  },
  {
   "cell_type": "markdown",
   "source": [
    "## 9.6. create instance of model and optimizer"
   ],
   "metadata": {
    "collapsed": false
   },
   "id": "7f0559634f1c9b43"
  },
  {
   "cell_type": "code",
   "outputs": [],
   "source": [
    "# train_dataloader_wsd_1\n",
    "# test_dataloader_wsd_1\n",
    "\n",
    "model_wsd_1 = ToneTagsLSTM(\n",
    "    vocab_size=vocab_size,\n",
    "    embedding=embedding,\n",
    "    hidden_dim=hidden_dim,\n",
    "    output_size=output_size,\n",
    "    num_layers=num_layers,\n",
    "    dropout=dropout\n",
    ").to(device)\n",
    "\n",
    "optimizer_wsd_1 = optim.Adam(model_wsd_1.parameters(), lr=lr)"
   ],
   "metadata": {
    "collapsed": false,
    "ExecuteTime": {
     "end_time": "2024-04-17T16:46:29.229484Z",
     "start_time": "2024-04-17T16:46:26.239385Z"
    }
   },
   "id": "815f82b866e750d0",
   "execution_count": 21
  },
  {
   "cell_type": "markdown",
   "source": [
    "## 9.7. train and test model for wsd_1 dataloader"
   ],
   "metadata": {
    "collapsed": false
   },
   "id": "896756b354c43a26"
  },
  {
   "cell_type": "code",
   "outputs": [
    {
     "name": "stderr",
     "output_type": "stream",
     "text": [
      "training...: 100%|██████████| 2113/2113 [06:06<00:00,  5.76it/s]\n"
     ]
    },
    {
     "name": "stdout",
     "output_type": "stream",
     "text": [
      "[Train Epoch 1] Loss: 2.913261704912019, Accuracy: 0.15722610033128254\n"
     ]
    },
    {
     "name": "stderr",
     "output_type": "stream",
     "text": [
      "testing...: 100%|██████████| 528/528 [00:34<00:00, 15.37it/s]\n"
     ]
    },
    {
     "name": "stdout",
     "output_type": "stream",
     "text": [
      "[Test Epoch 1] Loss: 2.660635395483537, Accuracy: 0.16915246212121213\n"
     ]
    },
    {
     "name": "stderr",
     "output_type": "stream",
     "text": [
      "training...: 100%|██████████| 2113/2113 [05:51<00:00,  6.01it/s]\n"
     ]
    },
    {
     "name": "stdout",
     "output_type": "stream",
     "text": [
      "[Train Epoch 2] Loss: 2.6689528331224013, Accuracy: 0.16465037860861334\n"
     ]
    },
    {
     "name": "stderr",
     "output_type": "stream",
     "text": [
      "testing...: 100%|██████████| 528/528 [00:27<00:00, 19.26it/s]\n"
     ]
    },
    {
     "name": "stdout",
     "output_type": "stream",
     "text": [
      "[Test Epoch 2] Loss: 2.657520623821201, Accuracy: 0.16909327651515152\n"
     ]
    },
    {
     "name": "stderr",
     "output_type": "stream",
     "text": [
      "training...: 100%|██████████| 2113/2113 [05:55<00:00,  5.95it/s]\n"
     ]
    },
    {
     "name": "stdout",
     "output_type": "stream",
     "text": [
      "[Train Epoch 3] Loss: 2.6645597944426638, Accuracy: 0.16769699479413155\n"
     ]
    },
    {
     "name": "stderr",
     "output_type": "stream",
     "text": [
      "testing...: 100%|██████████| 528/528 [00:27<00:00, 19.06it/s]\n"
     ]
    },
    {
     "name": "stdout",
     "output_type": "stream",
     "text": [
      "[Test Epoch 3] Loss: 2.6610316087802253, Accuracy: 0.1689157196969697\n"
     ]
    },
    {
     "name": "stderr",
     "output_type": "stream",
     "text": [
      "training...: 100%|██████████| 2113/2113 [05:57<00:00,  5.91it/s]\n"
     ]
    },
    {
     "name": "stdout",
     "output_type": "stream",
     "text": [
      "[Train Epoch 4] Loss: 2.6589075664857864, Accuracy: 0.1685695693327023\n"
     ]
    },
    {
     "name": "stderr",
     "output_type": "stream",
     "text": [
      "testing...: 100%|██████████| 528/528 [00:28<00:00, 18.85it/s]\n"
     ]
    },
    {
     "name": "stdout",
     "output_type": "stream",
     "text": [
      "[Test Epoch 4] Loss: 2.6568025905977595, Accuracy: 0.16909327651515152\n"
     ]
    },
    {
     "name": "stderr",
     "output_type": "stream",
     "text": [
      "training...: 100%|██████████| 2113/2113 [06:00<00:00,  5.86it/s]\n"
     ]
    },
    {
     "name": "stdout",
     "output_type": "stream",
     "text": [
      "[Train Epoch 5] Loss: 2.6569144759649808, Accuracy: 0.16879141031708472\n"
     ]
    },
    {
     "name": "stderr",
     "output_type": "stream",
     "text": [
      "testing...: 100%|██████████| 528/528 [00:28<00:00, 18.73it/s]\n"
     ]
    },
    {
     "name": "stdout",
     "output_type": "stream",
     "text": [
      "[Test Epoch 5] Loss: 2.655668235637925, Accuracy: 0.1690340909090909\n"
     ]
    },
    {
     "name": "stderr",
     "output_type": "stream",
     "text": [
      "training...: 100%|██████████| 2113/2113 [06:03<00:00,  5.81it/s]\n"
     ]
    },
    {
     "name": "stdout",
     "output_type": "stream",
     "text": [
      "[Train Epoch 6] Loss: 2.6564796513649056, Accuracy: 0.16885056791292002\n"
     ]
    },
    {
     "name": "stderr",
     "output_type": "stream",
     "text": [
      "testing...: 100%|██████████| 528/528 [00:28<00:00, 18.77it/s]\n"
     ]
    },
    {
     "name": "stdout",
     "output_type": "stream",
     "text": [
      "[Test Epoch 6] Loss: 2.6550624068036224, Accuracy: 0.1690340909090909\n"
     ]
    },
    {
     "name": "stderr",
     "output_type": "stream",
     "text": [
      "training...: 100%|██████████| 2113/2113 [06:04<00:00,  5.79it/s]\n"
     ]
    },
    {
     "name": "stdout",
     "output_type": "stream",
     "text": [
      "[Train Epoch 7] Loss: 2.656090522004257, Accuracy: 0.16885056791292002\n"
     ]
    },
    {
     "name": "stderr",
     "output_type": "stream",
     "text": [
      "testing...: 100%|██████████| 528/528 [00:28<00:00, 18.81it/s]\n"
     ]
    },
    {
     "name": "stdout",
     "output_type": "stream",
     "text": [
      "[Test Epoch 7] Loss: 2.6556961260961764, Accuracy: 0.1689749053030303\n"
     ]
    },
    {
     "name": "stderr",
     "output_type": "stream",
     "text": [
      "training...: 100%|██████████| 2113/2113 [06:05<00:00,  5.78it/s]\n"
     ]
    },
    {
     "name": "stdout",
     "output_type": "stream",
     "text": [
      "[Train Epoch 8] Loss: 2.6558653516223294, Accuracy: 0.16885056791292002\n"
     ]
    },
    {
     "name": "stderr",
     "output_type": "stream",
     "text": [
      "testing...: 100%|██████████| 528/528 [00:28<00:00, 18.64it/s]\n"
     ]
    },
    {
     "name": "stdout",
     "output_type": "stream",
     "text": [
      "[Test Epoch 8] Loss: 2.655858191576871, Accuracy: 0.16909327651515152\n"
     ]
    },
    {
     "name": "stderr",
     "output_type": "stream",
     "text": [
      "training...: 100%|██████████| 2113/2113 [06:04<00:00,  5.79it/s]\n"
     ]
    },
    {
     "name": "stdout",
     "output_type": "stream",
     "text": [
      "[Train Epoch 9] Loss: 2.6558013263608515, Accuracy: 0.16882098911500237\n"
     ]
    },
    {
     "name": "stderr",
     "output_type": "stream",
     "text": [
      "testing...: 100%|██████████| 528/528 [00:28<00:00, 18.57it/s]\n"
     ]
    },
    {
     "name": "stdout",
     "output_type": "stream",
     "text": [
      "[Test Epoch 9] Loss: 2.6546322920105676, Accuracy: 0.1690340909090909\n"
     ]
    },
    {
     "name": "stderr",
     "output_type": "stream",
     "text": [
      "training...: 100%|██████████| 2113/2113 [06:03<00:00,  5.81it/s]\n"
     ]
    },
    {
     "name": "stdout",
     "output_type": "stream",
     "text": [
      "[Train Epoch 10] Loss: 2.6556951629568264, Accuracy: 0.1686730951254141\n"
     ]
    },
    {
     "name": "stderr",
     "output_type": "stream",
     "text": [
      "testing...: 100%|██████████| 528/528 [00:28<00:00, 18.80it/s]\n"
     ]
    },
    {
     "name": "stdout",
     "output_type": "stream",
     "text": [
      "[Test Epoch 10] Loss: 2.6556819889581567, Accuracy: 0.16909327651515152\n"
     ]
    },
    {
     "name": "stderr",
     "output_type": "stream",
     "text": [
      "training...: 100%|██████████| 2113/2113 [06:03<00:00,  5.82it/s]\n"
     ]
    },
    {
     "name": "stdout",
     "output_type": "stream",
     "text": [
      "[Train Epoch 11] Loss: 2.6556015043985317, Accuracy: 0.16886535731187885\n"
     ]
    },
    {
     "name": "stderr",
     "output_type": "stream",
     "text": [
      "testing...: 100%|██████████| 528/528 [00:28<00:00, 18.52it/s]\n"
     ]
    },
    {
     "name": "stdout",
     "output_type": "stream",
     "text": [
      "[Test Epoch 11] Loss: 2.654790259671934, Accuracy: 0.1690340909090909\n"
     ]
    },
    {
     "name": "stderr",
     "output_type": "stream",
     "text": [
      "training...: 100%|██████████| 2113/2113 [06:04<00:00,  5.80it/s]\n"
     ]
    },
    {
     "name": "stdout",
     "output_type": "stream",
     "text": [
      "[Train Epoch 12] Loss: 2.6556154660460964, Accuracy: 0.1688357785139612\n"
     ]
    },
    {
     "name": "stderr",
     "output_type": "stream",
     "text": [
      "testing...: 100%|██████████| 528/528 [00:28<00:00, 18.73it/s]\n"
     ]
    },
    {
     "name": "stdout",
     "output_type": "stream",
     "text": [
      "[Test Epoch 12] Loss: 2.65681435845115, Accuracy: 0.1689749053030303\n"
     ]
    },
    {
     "name": "stderr",
     "output_type": "stream",
     "text": [
      "training...: 100%|██████████| 2113/2113 [06:05<00:00,  5.78it/s]\n"
     ]
    },
    {
     "name": "stdout",
     "output_type": "stream",
     "text": [
      "[Train Epoch 13] Loss: 2.655526649427256, Accuracy: 0.1688357785139612\n"
     ]
    },
    {
     "name": "stderr",
     "output_type": "stream",
     "text": [
      "testing...: 100%|██████████| 528/528 [00:28<00:00, 18.69it/s]\n"
     ]
    },
    {
     "name": "stdout",
     "output_type": "stream",
     "text": [
      "[Test Epoch 13] Loss: 2.65469197296735, Accuracy: 0.16909327651515152\n"
     ]
    },
    {
     "name": "stderr",
     "output_type": "stream",
     "text": [
      "training...: 100%|██████████| 2113/2113 [06:02<00:00,  5.83it/s]\n"
     ]
    },
    {
     "name": "stdout",
     "output_type": "stream",
     "text": [
      "[Train Epoch 14] Loss: 2.655625357539858, Accuracy: 0.16886535731187885\n"
     ]
    },
    {
     "name": "stderr",
     "output_type": "stream",
     "text": [
      "testing...: 100%|██████████| 528/528 [00:28<00:00, 18.59it/s]\n"
     ]
    },
    {
     "name": "stdout",
     "output_type": "stream",
     "text": [
      "[Test Epoch 14] Loss: 2.654523374456348, Accuracy: 0.1689157196969697\n"
     ]
    },
    {
     "name": "stderr",
     "output_type": "stream",
     "text": [
      "training...: 100%|██████████| 2113/2113 [06:03<00:00,  5.81it/s]\n"
     ]
    },
    {
     "name": "stdout",
     "output_type": "stream",
     "text": [
      "[Train Epoch 15] Loss: 2.6550873081886084, Accuracy: 0.16888014671083768\n"
     ]
    },
    {
     "name": "stderr",
     "output_type": "stream",
     "text": [
      "testing...: 100%|██████████| 528/528 [00:28<00:00, 18.59it/s]\n"
     ]
    },
    {
     "name": "stdout",
     "output_type": "stream",
     "text": [
      "[Test Epoch 15] Loss: 2.6550651969331684, Accuracy: 0.16909327651515152\n"
     ]
    },
    {
     "name": "stderr",
     "output_type": "stream",
     "text": [
      "training...: 100%|██████████| 2113/2113 [06:03<00:00,  5.82it/s]\n"
     ]
    },
    {
     "name": "stdout",
     "output_type": "stream",
     "text": [
      "[Train Epoch 16] Loss: 2.6554424652148354, Accuracy: 0.1688357785139612\n"
     ]
    },
    {
     "name": "stderr",
     "output_type": "stream",
     "text": [
      "testing...: 100%|██████████| 528/528 [00:28<00:00, 18.58it/s]\n"
     ]
    },
    {
     "name": "stdout",
     "output_type": "stream",
     "text": [
      "[Test Epoch 16] Loss: 2.6552539973547966, Accuracy: 0.1689749053030303\n"
     ]
    },
    {
     "name": "stderr",
     "output_type": "stream",
     "text": [
      "training...: 100%|██████████| 2113/2113 [06:04<00:00,  5.80it/s]\n"
     ]
    },
    {
     "name": "stdout",
     "output_type": "stream",
     "text": [
      "[Train Epoch 17] Loss: 2.6555573518277344, Accuracy: 0.16879141031708472\n"
     ]
    },
    {
     "name": "stderr",
     "output_type": "stream",
     "text": [
      "testing...: 100%|██████████| 528/528 [00:28<00:00, 18.51it/s]\n"
     ]
    },
    {
     "name": "stdout",
     "output_type": "stream",
     "text": [
      "[Test Epoch 17] Loss: 2.654757516402187, Accuracy: 0.1689749053030303\n"
     ]
    },
    {
     "name": "stderr",
     "output_type": "stream",
     "text": [
      "training...: 100%|██████████| 2113/2113 [06:03<00:00,  5.81it/s]\n"
     ]
    },
    {
     "name": "stdout",
     "output_type": "stream",
     "text": [
      "[Train Epoch 18] Loss: 2.6553002572770485, Accuracy: 0.16885056791292002\n"
     ]
    },
    {
     "name": "stderr",
     "output_type": "stream",
     "text": [
      "testing...: 100%|██████████| 528/528 [00:28<00:00, 18.46it/s]\n"
     ]
    },
    {
     "name": "stdout",
     "output_type": "stream",
     "text": [
      "[Test Epoch 18] Loss: 2.654193636142846, Accuracy: 0.1689749053030303\n"
     ]
    },
    {
     "name": "stderr",
     "output_type": "stream",
     "text": [
      "training...: 100%|██████████| 2113/2113 [06:05<00:00,  5.79it/s]\n"
     ]
    },
    {
     "name": "stdout",
     "output_type": "stream",
     "text": [
      "[Train Epoch 19] Loss: 2.6552882210315825, Accuracy: 0.16886535731187885\n"
     ]
    },
    {
     "name": "stderr",
     "output_type": "stream",
     "text": [
      "testing...: 100%|██████████| 528/528 [00:28<00:00, 18.66it/s]\n"
     ]
    },
    {
     "name": "stdout",
     "output_type": "stream",
     "text": [
      "[Test Epoch 19] Loss: 2.6545120346726794, Accuracy: 0.1688565340909091\n"
     ]
    },
    {
     "name": "stderr",
     "output_type": "stream",
     "text": [
      "training...: 100%|██████████| 2113/2113 [06:02<00:00,  5.83it/s]\n"
     ]
    },
    {
     "name": "stdout",
     "output_type": "stream",
     "text": [
      "[Train Epoch 20] Loss: 2.655223280572237, Accuracy: 0.1688949361097965\n"
     ]
    },
    {
     "name": "stderr",
     "output_type": "stream",
     "text": [
      "testing...: 100%|██████████| 528/528 [00:28<00:00, 18.67it/s]\n"
     ]
    },
    {
     "name": "stdout",
     "output_type": "stream",
     "text": [
      "[Test Epoch 20] Loss: 2.6550082781098108, Accuracy: 0.16909327651515152\n",
      "\n",
      "CPU times: total: 2h 11min 23s\n",
      "Wall time: 2h 11min 15s\n"
     ]
    }
   ],
   "source": [
    "%%time\n",
    "\n",
    "losses_train_wsd_1 = []\n",
    "accuracies_train_wsd_1 = []\n",
    "\n",
    "losses_test_wsd_1 = []\n",
    "accuracies_test_wsd_1 = []\n",
    "\n",
    "for ep in range(1, n_epochs + 1):\n",
    "\n",
    "    model_wsd_1.train()\n",
    "    epoch_losses_train = []\n",
    "    epoch_accuracies_train = []\n",
    "\n",
    "\n",
    "    for tokens, contexts, tags in tqdm(train_dataloader_wsd_1, desc=\"training...\"):\n",
    "        optimizer_wsd_1.zero_grad()\n",
    "\n",
    "        tokens = tokens.to(device)\n",
    "        tags = tags.to(device)\n",
    "\n",
    "        predictions = model_wsd_1(tokens)\n",
    "\n",
    "        loss = criterion(predictions, tags)\n",
    "        accuracy = get_accuracy(predictions, tags)\n",
    "\n",
    "        loss.backward()\n",
    "        optimizer_wsd_1.step()\n",
    "\n",
    "        epoch_losses_train.append(loss.item())\n",
    "        epoch_accuracies_train.append(accuracy.item())\n",
    "\n",
    "    del tokens\n",
    "    del tags\n",
    "    \n",
    "    gc.collect()\n",
    "    torch.cuda.empty_cache()\n",
    "\n",
    "    losses_train_wsd_1.append(np.mean(epoch_losses_train))\n",
    "    accuracies_train_wsd_1.append(np.mean(epoch_accuracies_train))\n",
    "    \n",
    "    print(f'[Train Epoch {ep}] Loss: {np.mean(epoch_losses_train)}, Accuracy: {np.mean(epoch_accuracies_train)}')\n",
    "\n",
    "\n",
    "    model_wsd_1.eval()\n",
    "    epoch_losses_test = []\n",
    "    epoch_accuracies_test = []\n",
    "\n",
    "    with torch.no_grad():\n",
    "        for tokens, contexts, tags in tqdm(test_dataloader_wsd_1, desc=\"testing...\"):\n",
    "            tokens = tokens.to(device)\n",
    "            tags = tags.to(device)\n",
    "\n",
    "            predictions = model_wsd_1(tokens)\n",
    "\n",
    "            loss = criterion(predictions, tags)\n",
    "            accuracy = get_accuracy(predictions, tags)\n",
    "\n",
    "            epoch_losses_test.append(loss.item())\n",
    "            epoch_accuracies_test.append(accuracy.item())\n",
    "\n",
    "        del tokens\n",
    "        del tags\n",
    "    \n",
    "        gc.collect()\n",
    "        torch.cuda.empty_cache()\n",
    "\n",
    "        losses_test_wsd_1.append(np.mean(epoch_losses_test))\n",
    "        accuracies_test_wsd_1.append(np.mean(epoch_accuracies_test))\n",
    "        \n",
    "        print(f'[Test Epoch {ep}] Loss: {np.mean(epoch_losses_test)}, Accuracy: {np.mean(epoch_accuracies_test)}\\n')"
   ],
   "metadata": {
    "collapsed": false,
    "ExecuteTime": {
     "end_time": "2024-04-17T18:57:44.479027Z",
     "start_time": "2024-04-17T16:46:29.230454Z"
    }
   },
   "id": "d1951ad900a8b0c6",
   "execution_count": 22
  },
  {
   "cell_type": "markdown",
   "source": [
    "## 9.8. delete some data"
   ],
   "metadata": {
    "collapsed": false
   },
   "id": "98390faf942e0209"
  },
  {
   "cell_type": "code",
   "outputs": [],
   "source": [
    "del train_dataloader_wsd_1\n",
    "del test_dataloader_wsd_1\n",
    "del train_dataset_wsd_1\n",
    "del test_dataset_wsd_1\n",
    "del train_wsd_1\n",
    "del test_wsd_1\n",
    "del dataset_wsd_1\n",
    "\n",
    "del model_wsd_1\n",
    "del optimizer_wsd_1\n",
    "gc.collect()\n",
    "torch.cuda.empty_cache()"
   ],
   "metadata": {
    "collapsed": false,
    "ExecuteTime": {
     "end_time": "2024-04-17T18:57:58.498655Z",
     "start_time": "2024-04-17T18:57:44.480020Z"
    }
   },
   "id": "577d7b5f88f218d9",
   "execution_count": 23
  },
  {
   "cell_type": "markdown",
   "source": [
    "# 10. clean dataset"
   ],
   "metadata": {
    "collapsed": false
   },
   "id": "148c13df5b4938cc"
  },
  {
   "cell_type": "markdown",
   "source": [
    "## 10.1. upload dataset"
   ],
   "metadata": {
    "collapsed": false
   },
   "id": "e99c9fae810ce8af"
  },
  {
   "cell_type": "code",
   "outputs": [],
   "source": [
    "dataset_clean = pd.read_csv(\"../datasets/tonetags_dataset_tumblr_clean.csv\", converters={\"text\": str_text_to_list})"
   ],
   "metadata": {
    "collapsed": false,
    "ExecuteTime": {
     "end_time": "2024-04-17T18:57:59.840414Z",
     "start_time": "2024-04-17T18:57:58.499645Z"
    }
   },
   "id": "dfe3a8a7dc8f4c2f",
   "execution_count": 24
  },
  {
   "cell_type": "markdown",
   "source": [
    "## 10.2. encode labels"
   ],
   "metadata": {
    "collapsed": false
   },
   "id": "9646187b3c79e8c6"
  },
  {
   "cell_type": "code",
   "outputs": [],
   "source": [
    "dataset_clean.tags = dataset_clean.tags.apply(labels.index)"
   ],
   "metadata": {
    "collapsed": false,
    "ExecuteTime": {
     "end_time": "2024-04-17T18:57:59.869876Z",
     "start_time": "2024-04-17T18:57:59.841416Z"
    }
   },
   "id": "df7c64febf719511",
   "execution_count": 25
  },
  {
   "cell_type": "markdown",
   "source": [
    "## 10.3. split"
   ],
   "metadata": {
    "collapsed": false
   },
   "id": "7926095dcb6f7387"
  },
  {
   "cell_type": "code",
   "outputs": [],
   "source": [
    "train_clean, test_clean = train_test_split(dataset_clean, stratify=dataset_clean['tags'], test_size=0.2, random_state=42)"
   ],
   "metadata": {
    "collapsed": false,
    "ExecuteTime": {
     "end_time": "2024-04-17T18:57:59.906056Z",
     "start_time": "2024-04-17T18:57:59.870468Z"
    }
   },
   "id": "7bf71191bc71e567",
   "execution_count": 26
  },
  {
   "cell_type": "markdown",
   "source": [
    "## 10.4. create datasets"
   ],
   "metadata": {
    "collapsed": false
   },
   "id": "78f4c3118a0f20a5"
  },
  {
   "cell_type": "code",
   "outputs": [],
   "source": [
    "train_dataset_clean, test_dataset_clean = myDataset(train_clean), myDataset(test_clean)"
   ],
   "metadata": {
    "collapsed": false,
    "ExecuteTime": {
     "end_time": "2024-04-17T18:58:01.464724Z",
     "start_time": "2024-04-17T18:57:59.907040Z"
    }
   },
   "id": "1cb2c3dc5bcf5dd7",
   "execution_count": 27
  },
  {
   "cell_type": "markdown",
   "source": [
    "## 10.5. create dataloaders"
   ],
   "metadata": {
    "collapsed": false
   },
   "id": "30b4d31ff5fb11f0"
  },
  {
   "cell_type": "code",
   "outputs": [],
   "source": [
    "train_dataloader_clean = DataLoader(train_dataset_clean, batch_size=batch_size, shuffle=True, collate_fn=collate_fn, drop_last=True)\n",
    "\n",
    "test_dataloader_clean = DataLoader(test_dataset_clean, batch_size=batch_size, shuffle=True, collate_fn=collate_fn, drop_last=True)"
   ],
   "metadata": {
    "collapsed": false,
    "ExecuteTime": {
     "end_time": "2024-04-17T18:58:01.468725Z",
     "start_time": "2024-04-17T18:58:01.465713Z"
    }
   },
   "id": "605ad2cccdb7fa4c",
   "execution_count": 28
  },
  {
   "cell_type": "markdown",
   "source": [
    "## 10.6. create instance of model and optimizer for clean dataloader"
   ],
   "metadata": {
    "collapsed": false
   },
   "id": "5aafceb28782949f"
  },
  {
   "cell_type": "code",
   "outputs": [],
   "source": [
    "# train_dataloader_clean\n",
    "# test_dataloader_clean\n",
    "\n",
    "model_clean = ToneTagsLSTM(\n",
    "    vocab_size=vocab_size,\n",
    "    embedding=embedding,\n",
    "    hidden_dim=hidden_dim,\n",
    "    output_size=output_size,\n",
    "    num_layers=num_layers,\n",
    "    dropout=dropout\n",
    ").to(device)\n",
    "\n",
    "optimizer_clean = optim.Adam(model_clean.parameters(), lr=lr)"
   ],
   "metadata": {
    "collapsed": false,
    "ExecuteTime": {
     "end_time": "2024-04-17T18:58:02.812334Z",
     "start_time": "2024-04-17T18:58:01.469714Z"
    }
   },
   "id": "8671bbe1faeccfd6",
   "execution_count": 29
  },
  {
   "cell_type": "markdown",
   "source": [
    "## 10.7. train and test model of clean dataloader"
   ],
   "metadata": {
    "collapsed": false
   },
   "id": "79a775b2c39136b3"
  },
  {
   "cell_type": "code",
   "outputs": [
    {
     "name": "stderr",
     "output_type": "stream",
     "text": [
      "training...: 100%|██████████| 2131/2131 [06:36<00:00,  5.37it/s]\n"
     ]
    },
    {
     "name": "stdout",
     "output_type": "stream",
     "text": [
      "[Train Epoch 1] Loss: 2.8315150484911213, Accuracy: 0.15937353355232287\n"
     ]
    },
    {
     "name": "stderr",
     "output_type": "stream",
     "text": [
      "testing...: 100%|██████████| 532/532 [00:35<00:00, 15.05it/s]\n"
     ]
    },
    {
     "name": "stdout",
     "output_type": "stream",
     "text": [
      "[Test Epoch 1] Loss: 2.660612985155636, Accuracy: 0.16882048872180452\n"
     ]
    },
    {
     "name": "stderr",
     "output_type": "stream",
     "text": [
      "training...: 100%|██████████| 2131/2131 [06:02<00:00,  5.88it/s]\n"
     ]
    },
    {
     "name": "stdout",
     "output_type": "stream",
     "text": [
      "[Train Epoch 2] Loss: 2.6695288607124317, Accuracy: 0.16460875175973722\n"
     ]
    },
    {
     "name": "stderr",
     "output_type": "stream",
     "text": [
      "testing...: 100%|██████████| 532/532 [00:27<00:00, 19.14it/s]\n"
     ]
    },
    {
     "name": "stdout",
     "output_type": "stream",
     "text": [
      "[Test Epoch 2] Loss: 2.6559410319292454, Accuracy: 0.16876174812030076\n"
     ]
    },
    {
     "name": "stderr",
     "output_type": "stream",
     "text": [
      "training...: 100%|██████████| 2131/2131 [06:02<00:00,  5.88it/s]\n"
     ]
    },
    {
     "name": "stdout",
     "output_type": "stream",
     "text": [
      "[Train Epoch 3] Loss: 2.6626768561944556, Accuracy: 0.16688174565931488\n"
     ]
    },
    {
     "name": "stderr",
     "output_type": "stream",
     "text": [
      "testing...: 100%|██████████| 532/532 [00:28<00:00, 18.99it/s]\n"
     ]
    },
    {
     "name": "stdout",
     "output_type": "stream",
     "text": [
      "[Test Epoch 3] Loss: 2.6562303672159526, Accuracy: 0.1689967105263158\n"
     ]
    },
    {
     "name": "stderr",
     "output_type": "stream",
     "text": [
      "training...: 100%|██████████| 2131/2131 [06:05<00:00,  5.83it/s]\n"
     ]
    },
    {
     "name": "stdout",
     "output_type": "stream",
     "text": [
      "[Train Epoch 4] Loss: 2.6579822135721223, Accuracy: 0.1687441342092914\n"
     ]
    },
    {
     "name": "stderr",
     "output_type": "stream",
     "text": [
      "testing...: 100%|██████████| 532/532 [00:28<00:00, 18.63it/s]\n"
     ]
    },
    {
     "name": "stdout",
     "output_type": "stream",
     "text": [
      "[Test Epoch 4] Loss: 2.6556190776645687, Accuracy: 0.16887922932330826\n"
     ]
    },
    {
     "name": "stderr",
     "output_type": "stream",
     "text": [
      "training...: 100%|██████████| 2131/2131 [06:06<00:00,  5.82it/s]\n"
     ]
    },
    {
     "name": "stdout",
     "output_type": "stream",
     "text": [
      "[Train Epoch 5] Loss: 2.6568248095170035, Accuracy: 0.168700140778977\n"
     ]
    },
    {
     "name": "stderr",
     "output_type": "stream",
     "text": [
      "testing...: 100%|██████████| 532/532 [00:28<00:00, 18.69it/s]\n"
     ]
    },
    {
     "name": "stdout",
     "output_type": "stream",
     "text": [
      "[Test Epoch 5] Loss: 2.6552143943937203, Accuracy: 0.168703007518797\n"
     ]
    },
    {
     "name": "stderr",
     "output_type": "stream",
     "text": [
      "training...: 100%|██████████| 2131/2131 [06:06<00:00,  5.81it/s]\n"
     ]
    },
    {
     "name": "stdout",
     "output_type": "stream",
     "text": [
      "[Train Epoch 6] Loss: 2.656622636155979, Accuracy: 0.16867081182543406\n"
     ]
    },
    {
     "name": "stderr",
     "output_type": "stream",
     "text": [
      "testing...: 100%|██████████| 532/532 [00:28<00:00, 18.60it/s]\n"
     ]
    },
    {
     "name": "stdout",
     "output_type": "stream",
     "text": [
      "[Test Epoch 6] Loss: 2.654723636189798, Accuracy: 0.16887922932330826\n"
     ]
    },
    {
     "name": "stderr",
     "output_type": "stream",
     "text": [
      "training...: 100%|██████████| 2131/2131 [06:06<00:00,  5.81it/s]\n"
     ]
    },
    {
     "name": "stdout",
     "output_type": "stream",
     "text": [
      "[Train Epoch 7] Loss: 2.656135870894598, Accuracy: 0.168700140778977\n"
     ]
    },
    {
     "name": "stderr",
     "output_type": "stream",
     "text": [
      "testing...: 100%|██████████| 532/532 [00:28<00:00, 18.84it/s]\n"
     ]
    },
    {
     "name": "stdout",
     "output_type": "stream",
     "text": [
      "[Test Epoch 7] Loss: 2.6611015339543047, Accuracy: 0.16876174812030076\n"
     ]
    },
    {
     "name": "stderr",
     "output_type": "stream",
     "text": [
      "training...: 100%|██████████| 2131/2131 [06:06<00:00,  5.81it/s]\n"
     ]
    },
    {
     "name": "stdout",
     "output_type": "stream",
     "text": [
      "[Train Epoch 8] Loss: 2.655995133112205, Accuracy: 0.168700140778977\n"
     ]
    },
    {
     "name": "stderr",
     "output_type": "stream",
     "text": [
      "testing...: 100%|██████████| 532/532 [00:28<00:00, 18.64it/s]\n"
     ]
    },
    {
     "name": "stdout",
     "output_type": "stream",
     "text": [
      "[Test Epoch 8] Loss: 2.6557001296738934, Accuracy: 0.16876174812030076\n"
     ]
    },
    {
     "name": "stderr",
     "output_type": "stream",
     "text": [
      "training...: 100%|██████████| 2131/2131 [06:06<00:00,  5.81it/s]\n"
     ]
    },
    {
     "name": "stdout",
     "output_type": "stream",
     "text": [
      "[Train Epoch 9] Loss: 2.656120442381939, Accuracy: 0.1687441342092914\n"
     ]
    },
    {
     "name": "stderr",
     "output_type": "stream",
     "text": [
      "testing...: 100%|██████████| 532/532 [00:28<00:00, 18.62it/s]\n"
     ]
    },
    {
     "name": "stdout",
     "output_type": "stream",
     "text": [
      "[Test Epoch 9] Loss: 2.6554055021221474, Accuracy: 0.16882048872180452\n"
     ]
    },
    {
     "name": "stderr",
     "output_type": "stream",
     "text": [
      "training...: 100%|██████████| 2131/2131 [06:06<00:00,  5.82it/s]\n"
     ]
    },
    {
     "name": "stdout",
     "output_type": "stream",
     "text": [
      "[Train Epoch 10] Loss: 2.655841737999596, Accuracy: 0.16868547630220554\n"
     ]
    },
    {
     "name": "stderr",
     "output_type": "stream",
     "text": [
      "testing...: 100%|██████████| 532/532 [00:28<00:00, 18.66it/s]\n"
     ]
    },
    {
     "name": "stdout",
     "output_type": "stream",
     "text": [
      "[Test Epoch 10] Loss: 2.6551921013602637, Accuracy: 0.16893796992481203\n"
     ]
    },
    {
     "name": "stderr",
     "output_type": "stream",
     "text": [
      "training...: 100%|██████████| 2131/2131 [06:07<00:00,  5.80it/s]\n"
     ]
    },
    {
     "name": "stdout",
     "output_type": "stream",
     "text": [
      "[Train Epoch 11] Loss: 2.656083968031412, Accuracy: 0.16849483810417645\n"
     ]
    },
    {
     "name": "stderr",
     "output_type": "stream",
     "text": [
      "testing...: 100%|██████████| 532/532 [00:28<00:00, 18.67it/s]\n"
     ]
    },
    {
     "name": "stdout",
     "output_type": "stream",
     "text": [
      "[Test Epoch 11] Loss: 2.6547276655534158, Accuracy: 0.16882048872180452\n"
     ]
    },
    {
     "name": "stderr",
     "output_type": "stream",
     "text": [
      "training...: 100%|██████████| 2131/2131 [06:05<00:00,  5.84it/s]\n"
     ]
    },
    {
     "name": "stdout",
     "output_type": "stream",
     "text": [
      "[Train Epoch 12] Loss: 2.6557643800652233, Accuracy: 0.168700140778977\n"
     ]
    },
    {
     "name": "stderr",
     "output_type": "stream",
     "text": [
      "testing...: 100%|██████████| 532/532 [00:28<00:00, 18.77it/s]\n"
     ]
    },
    {
     "name": "stdout",
     "output_type": "stream",
     "text": [
      "[Test Epoch 12] Loss: 2.655550176935985, Accuracy: 0.16876174812030076\n"
     ]
    },
    {
     "name": "stderr",
     "output_type": "stream",
     "text": [
      "training...: 100%|██████████| 2131/2131 [06:06<00:00,  5.81it/s]\n"
     ]
    },
    {
     "name": "stdout",
     "output_type": "stream",
     "text": [
      "[Train Epoch 13] Loss: 2.655688178086158, Accuracy: 0.16871480525574847\n"
     ]
    },
    {
     "name": "stderr",
     "output_type": "stream",
     "text": [
      "testing...: 100%|██████████| 532/532 [00:28<00:00, 18.57it/s]\n"
     ]
    },
    {
     "name": "stdout",
     "output_type": "stream",
     "text": [
      "[Test Epoch 13] Loss: 2.654464508805956, Accuracy: 0.168703007518797\n"
     ]
    },
    {
     "name": "stderr",
     "output_type": "stream",
     "text": [
      "training...: 100%|██████████| 2131/2131 [06:06<00:00,  5.82it/s]\n"
     ]
    },
    {
     "name": "stdout",
     "output_type": "stream",
     "text": [
      "[Train Epoch 14] Loss: 2.655777979434124, Accuracy: 0.1686561473486626\n"
     ]
    },
    {
     "name": "stderr",
     "output_type": "stream",
     "text": [
      "testing...: 100%|██████████| 532/532 [00:28<00:00, 18.47it/s]\n"
     ]
    },
    {
     "name": "stdout",
     "output_type": "stream",
     "text": [
      "[Test Epoch 14] Loss: 2.654597048024486, Accuracy: 0.16893796992481203\n"
     ]
    },
    {
     "name": "stderr",
     "output_type": "stream",
     "text": [
      "training...: 100%|██████████| 2131/2131 [06:10<00:00,  5.75it/s]\n"
     ]
    },
    {
     "name": "stdout",
     "output_type": "stream",
     "text": [
      "[Train Epoch 15] Loss: 2.6555955658379657, Accuracy: 0.16872946973251995\n"
     ]
    },
    {
     "name": "stderr",
     "output_type": "stream",
     "text": [
      "testing...: 100%|██████████| 532/532 [00:28<00:00, 18.53it/s]\n"
     ]
    },
    {
     "name": "stdout",
     "output_type": "stream",
     "text": [
      "[Test Epoch 15] Loss: 2.6542045218603953, Accuracy: 0.16905545112781956\n"
     ]
    },
    {
     "name": "stderr",
     "output_type": "stream",
     "text": [
      "training...: 100%|██████████| 2131/2131 [06:06<00:00,  5.81it/s]\n"
     ]
    },
    {
     "name": "stdout",
     "output_type": "stream",
     "text": [
      "[Train Epoch 16] Loss: 2.6554840122349996, Accuracy: 0.16868547630220554\n"
     ]
    },
    {
     "name": "stderr",
     "output_type": "stream",
     "text": [
      "testing...: 100%|██████████| 532/532 [00:28<00:00, 18.57it/s]\n"
     ]
    },
    {
     "name": "stdout",
     "output_type": "stream",
     "text": [
      "[Test Epoch 16] Loss: 2.6554340733621355, Accuracy: 0.16893796992481203\n"
     ]
    },
    {
     "name": "stderr",
     "output_type": "stream",
     "text": [
      "training...: 100%|██████████| 2131/2131 [06:10<00:00,  5.75it/s]\n"
     ]
    },
    {
     "name": "stdout",
     "output_type": "stream",
     "text": [
      "[Train Epoch 17] Loss: 2.6555084804031894, Accuracy: 0.16868547630220554\n"
     ]
    },
    {
     "name": "stderr",
     "output_type": "stream",
     "text": [
      "testing...: 100%|██████████| 532/532 [00:28<00:00, 18.51it/s]\n"
     ]
    },
    {
     "name": "stdout",
     "output_type": "stream",
     "text": [
      "[Test Epoch 17] Loss: 2.655212239663404, Accuracy: 0.16876174812030076\n"
     ]
    },
    {
     "name": "stderr",
     "output_type": "stream",
     "text": [
      "training...: 100%|██████████| 2131/2131 [06:07<00:00,  5.80it/s]\n"
     ]
    },
    {
     "name": "stdout",
     "output_type": "stream",
     "text": [
      "[Train Epoch 18] Loss: 2.6554088556727353, Accuracy: 0.1686561473486626\n"
     ]
    },
    {
     "name": "stderr",
     "output_type": "stream",
     "text": [
      "testing...: 100%|██████████| 532/532 [00:28<00:00, 18.50it/s]\n"
     ]
    },
    {
     "name": "stdout",
     "output_type": "stream",
     "text": [
      "[Test Epoch 18] Loss: 2.655583784096223, Accuracy: 0.168703007518797\n"
     ]
    },
    {
     "name": "stderr",
     "output_type": "stream",
     "text": [
      "training...: 100%|██████████| 2131/2131 [06:06<00:00,  5.82it/s]\n"
     ]
    },
    {
     "name": "stdout",
     "output_type": "stream",
     "text": [
      "[Train Epoch 19] Loss: 2.655613036404077, Accuracy: 0.168700140778977\n"
     ]
    },
    {
     "name": "stderr",
     "output_type": "stream",
     "text": [
      "testing...: 100%|██████████| 532/532 [00:28<00:00, 18.42it/s]\n"
     ]
    },
    {
     "name": "stdout",
     "output_type": "stream",
     "text": [
      "[Test Epoch 19] Loss: 2.6543842751280704, Accuracy: 0.1689967105263158\n"
     ]
    },
    {
     "name": "stderr",
     "output_type": "stream",
     "text": [
      "training...: 100%|██████████| 2131/2131 [06:06<00:00,  5.81it/s]\n"
     ]
    },
    {
     "name": "stdout",
     "output_type": "stream",
     "text": [
      "[Train Epoch 20] Loss: 2.655440668162467, Accuracy: 0.16868547630220554\n"
     ]
    },
    {
     "name": "stderr",
     "output_type": "stream",
     "text": [
      "testing...: 100%|██████████| 532/532 [00:28<00:00, 18.51it/s]\n"
     ]
    },
    {
     "name": "stdout",
     "output_type": "stream",
     "text": [
      "[Test Epoch 20] Loss: 2.6552534766663287, Accuracy: 0.168703007518797\n",
      "\n",
      "CPU times: total: 2h 13min 13s\n",
      "Wall time: 2h 13min 3s\n"
     ]
    }
   ],
   "source": [
    "%%time\n",
    "\n",
    "losses_train_clean = []\n",
    "accuracies_train_clean = []\n",
    "\n",
    "losses_test_clean = []\n",
    "accuracies_test_clean = []\n",
    "\n",
    "for ep in range(1, n_epochs + 1):\n",
    "\n",
    "    model_clean.train()\n",
    "    epoch_losses_train = []\n",
    "    epoch_accuracies_train = []\n",
    "\n",
    "\n",
    "    for tokens, contexts, tags in tqdm(train_dataloader_clean, desc=\"training...\"):\n",
    "        optimizer_clean.zero_grad()\n",
    "\n",
    "        tokens = tokens.to(device)\n",
    "        tags = tags.to(device)\n",
    "\n",
    "        predictions = model_clean(tokens)\n",
    "\n",
    "        loss = criterion(predictions, tags)\n",
    "        accuracy = get_accuracy(predictions, tags)\n",
    "\n",
    "        loss.backward()\n",
    "        optimizer_clean.step()\n",
    "\n",
    "        epoch_losses_train.append(loss.item())\n",
    "        epoch_accuracies_train.append(accuracy.item())\n",
    "\n",
    "    del tokens\n",
    "    del tags\n",
    "\n",
    "    gc.collect()\n",
    "    torch.cuda.empty_cache()\n",
    "\n",
    "    losses_train_clean.append(np.mean(epoch_losses_train))\n",
    "    accuracies_train_clean.append(np.mean(epoch_accuracies_train))\n",
    "\n",
    "    print(f'[Train Epoch {ep}] Loss: {np.mean(epoch_losses_train)}, Accuracy: {np.mean(epoch_accuracies_train)}')\n",
    "\n",
    "\n",
    "    model_clean.eval()\n",
    "    epoch_losses_test = []\n",
    "    epoch_accuracies_test = []\n",
    "\n",
    "    with torch.no_grad():\n",
    "        for tokens, contexts, tags in tqdm(test_dataloader_clean, desc=\"testing...\"):\n",
    "\n",
    "            tokens = tokens.to(device)\n",
    "            tags = tags.to(device)\n",
    "\n",
    "            predictions = model_clean(tokens)\n",
    "\n",
    "            loss = criterion(predictions, tags)\n",
    "            accuracy = get_accuracy(predictions, tags)\n",
    "\n",
    "            epoch_losses_test.append(loss.item())\n",
    "            epoch_accuracies_test.append(accuracy.item())\n",
    "\n",
    "        del tokens\n",
    "        del tags\n",
    "    \n",
    "        gc.collect()\n",
    "        torch.cuda.empty_cache()\n",
    "\n",
    "        losses_test_clean.append(np.mean(epoch_losses_test))\n",
    "        accuracies_test_clean.append(np.mean(epoch_accuracies_test))\n",
    "\n",
    "        print(f'[Test Epoch {ep}] Loss: {np.mean(epoch_losses_test)}, Accuracy: {np.mean(epoch_accuracies_test)}\\n')"
   ],
   "metadata": {
    "collapsed": false,
    "ExecuteTime": {
     "end_time": "2024-04-17T21:11:05.868431Z",
     "start_time": "2024-04-17T18:58:02.813315Z"
    }
   },
   "id": "d67077145c116a1f",
   "execution_count": 30
  },
  {
   "cell_type": "markdown",
   "source": [
    "## 10.8. delete some data"
   ],
   "metadata": {
    "collapsed": false
   },
   "id": "59b99f1ebaf97d00"
  },
  {
   "cell_type": "code",
   "outputs": [],
   "source": [
    "del train_dataloader_clean\n",
    "del test_dataloader_clean\n",
    "del train_dataset_clean\n",
    "del test_dataset_clean\n",
    "del train_clean\n",
    "del test_clean\n",
    "del dataset_clean\n",
    "\n",
    "del model_clean\n",
    "del optimizer_clean\n",
    "gc.collect()\n",
    "torch.cuda.empty_cache()"
   ],
   "metadata": {
    "collapsed": false,
    "ExecuteTime": {
     "end_time": "2024-04-17T21:11:21.373247Z",
     "start_time": "2024-04-17T21:11:05.868945Z"
    }
   },
   "id": "724f20e5b5fe214",
   "execution_count": 31
  },
  {
   "cell_type": "markdown",
   "source": [
    "# 11. clean_corrected dataset"
   ],
   "metadata": {
    "collapsed": false
   },
   "id": "8fd77bfdb93f112a"
  },
  {
   "cell_type": "markdown",
   "source": [
    "## 11.1. upload dataset"
   ],
   "metadata": {
    "collapsed": false
   },
   "id": "a3d980e28e65f0b4"
  },
  {
   "cell_type": "code",
   "outputs": [],
   "source": [
    "dataset_clean_corrected = pd.read_csv(\"../datasets/tonetags_dataset_tumblr_clean_corrected_text.csv\", converters={\"text\": str_text_to_list})"
   ],
   "metadata": {
    "collapsed": false,
    "ExecuteTime": {
     "end_time": "2024-04-17T21:11:22.650849Z",
     "start_time": "2024-04-17T21:11:21.374241Z"
    }
   },
   "id": "6f130d1c0a0c49a8",
   "execution_count": 32
  },
  {
   "cell_type": "markdown",
   "source": [
    "## 11.2. encode labels"
   ],
   "metadata": {
    "collapsed": false
   },
   "id": "b63155a31762ea77"
  },
  {
   "cell_type": "code",
   "outputs": [],
   "source": [
    "dataset_clean_corrected.tags =dataset_clean_corrected.tags.apply(labels.index)"
   ],
   "metadata": {
    "collapsed": false,
    "ExecuteTime": {
     "end_time": "2024-04-17T21:11:22.680530Z",
     "start_time": "2024-04-17T21:11:22.651832Z"
    }
   },
   "id": "cedc3148bec2b596",
   "execution_count": 33
  },
  {
   "cell_type": "markdown",
   "source": [
    "## 11.3. split"
   ],
   "metadata": {
    "collapsed": false
   },
   "id": "37b6a39e2fd33c8e"
  },
  {
   "cell_type": "code",
   "outputs": [],
   "source": [
    "train_clean_corrected, test_clean_corrected = train_test_split(dataset_clean_corrected, stratify=dataset_clean_corrected['tags'], test_size=0.2, random_state=42)"
   ],
   "metadata": {
    "collapsed": false,
    "ExecuteTime": {
     "end_time": "2024-04-17T21:11:22.718981Z",
     "start_time": "2024-04-17T21:11:22.681520Z"
    }
   },
   "id": "74c02a17a8458504",
   "execution_count": 34
  },
  {
   "cell_type": "markdown",
   "source": [
    "## 11.4. create datasets"
   ],
   "metadata": {
    "collapsed": false
   },
   "id": "3e8c19270cb61169"
  },
  {
   "cell_type": "code",
   "outputs": [],
   "source": [
    "train_dataset_clean_corrected, test_dataset_clean_corrected = myDataset(train_clean_corrected), myDataset(test_clean_corrected)"
   ],
   "metadata": {
    "collapsed": false,
    "ExecuteTime": {
     "end_time": "2024-04-17T21:11:24.195301Z",
     "start_time": "2024-04-17T21:11:22.719980Z"
    }
   },
   "id": "1b79de00f647d176",
   "execution_count": 35
  },
  {
   "cell_type": "markdown",
   "source": [
    "## 11.5. create dataloaders"
   ],
   "metadata": {
    "collapsed": false
   },
   "id": "2af42bfa2d1b4d3c"
  },
  {
   "cell_type": "code",
   "outputs": [],
   "source": [
    "train_dataloader_clean_corrected = DataLoader(train_dataset_clean_corrected, batch_size=batch_size, shuffle=True, collate_fn=collate_fn, drop_last=True)\n",
    "\n",
    "test_dataloader_clean_corrected = DataLoader(test_dataset_clean_corrected, batch_size=batch_size, shuffle=True, collate_fn=collate_fn, drop_last=True)"
   ],
   "metadata": {
    "collapsed": false,
    "ExecuteTime": {
     "end_time": "2024-04-17T21:11:24.200295Z",
     "start_time": "2024-04-17T21:11:24.196293Z"
    }
   },
   "id": "55de8c2e95d9ccd3",
   "execution_count": 36
  },
  {
   "cell_type": "markdown",
   "source": [
    "## 11.6. create instance of model and optimizer for clean_corrected data"
   ],
   "metadata": {
    "collapsed": false
   },
   "id": "c5ac149fa6a44677"
  },
  {
   "cell_type": "code",
   "outputs": [],
   "source": [
    "# train_dataloader_clean_corrected\n",
    "# test_dataloader_clean_corrected\n",
    "\n",
    "model_clean_corrected = ToneTagsLSTM(\n",
    "    vocab_size=vocab_size,\n",
    "    embedding=embedding,\n",
    "    hidden_dim=hidden_dim,\n",
    "    output_size=output_size,\n",
    "    num_layers=num_layers,\n",
    "    dropout=dropout\n",
    ").to(device)\n",
    "\n",
    "optimizer_clean_corrected = optim.Adam(model_clean_corrected.parameters(), lr=lr)"
   ],
   "metadata": {
    "collapsed": false,
    "ExecuteTime": {
     "end_time": "2024-04-17T21:11:25.543224Z",
     "start_time": "2024-04-17T21:11:24.201286Z"
    }
   },
   "id": "309ea6046adce41f",
   "execution_count": 37
  },
  {
   "cell_type": "markdown",
   "source": [
    "## 11.7. train and test for clean_corrected dataloader"
   ],
   "metadata": {
    "collapsed": false
   },
   "id": "4eaa9d7e7a2b8549"
  },
  {
   "cell_type": "code",
   "outputs": [
    {
     "name": "stderr",
     "output_type": "stream",
     "text": [
      "training...: 100%|██████████| 2127/2127 [06:33<00:00,  5.41it/s]\n"
     ]
    },
    {
     "name": "stdout",
     "output_type": "stream",
     "text": [
      "[Train Epoch 1] Loss: 2.867332976919191, Accuracy: 0.15996708979783733\n"
     ]
    },
    {
     "name": "stderr",
     "output_type": "stream",
     "text": [
      "testing...: 100%|██████████| 531/531 [00:33<00:00, 15.66it/s]\n"
     ]
    },
    {
     "name": "stdout",
     "output_type": "stream",
     "text": [
      "[Test Epoch 1] Loss: 2.6920747334898754, Accuracy: 0.1686087570621469\n"
     ]
    },
    {
     "name": "stderr",
     "output_type": "stream",
     "text": [
      "training...: 100%|██████████| 2127/2127 [05:59<00:00,  5.92it/s]\n"
     ]
    },
    {
     "name": "stdout",
     "output_type": "stream",
     "text": [
      "[Train Epoch 2] Loss: 2.669497440160582, Accuracy: 0.16475669957686884\n"
     ]
    },
    {
     "name": "stderr",
     "output_type": "stream",
     "text": [
      "testing...: 100%|██████████| 531/531 [00:27<00:00, 19.27it/s]\n"
     ]
    },
    {
     "name": "stdout",
     "output_type": "stream",
     "text": [
      "[Test Epoch 2] Loss: 2.660750300197278, Accuracy: 0.16854990583804144\n"
     ]
    },
    {
     "name": "stderr",
     "output_type": "stream",
     "text": [
      "training...: 100%|██████████| 2127/2127 [05:57<00:00,  5.96it/s]\n"
     ]
    },
    {
     "name": "stdout",
     "output_type": "stream",
     "text": [
      "[Train Epoch 3] Loss: 2.6635161996392167, Accuracy: 0.16653443817583452\n"
     ]
    },
    {
     "name": "stderr",
     "output_type": "stream",
     "text": [
      "testing...: 100%|██████████| 531/531 [00:27<00:00, 19.26it/s]\n"
     ]
    },
    {
     "name": "stdout",
     "output_type": "stream",
     "text": [
      "[Test Epoch 3] Loss: 2.6698927551564076, Accuracy: 0.1686087570621469\n"
     ]
    },
    {
     "name": "stderr",
     "output_type": "stream",
     "text": [
      "training...: 100%|██████████| 2127/2127 [06:00<00:00,  5.90it/s]\n"
     ]
    },
    {
     "name": "stdout",
     "output_type": "stream",
     "text": [
      "[Train Epoch 4] Loss: 2.6588087775755445, Accuracy: 0.16845909732016925\n"
     ]
    },
    {
     "name": "stderr",
     "output_type": "stream",
     "text": [
      "testing...: 100%|██████████| 531/531 [00:28<00:00, 18.96it/s]\n"
     ]
    },
    {
     "name": "stdout",
     "output_type": "stream",
     "text": [
      "[Test Epoch 4] Loss: 2.6588526611723244, Accuracy: 0.1687264595103578\n"
     ]
    },
    {
     "name": "stderr",
     "output_type": "stream",
     "text": [
      "training...: 100%|██████████| 2127/2127 [06:05<00:00,  5.83it/s]\n"
     ]
    },
    {
     "name": "stdout",
     "output_type": "stream",
     "text": [
      "[Train Epoch 5] Loss: 2.656979988705232, Accuracy: 0.16866478608368593\n"
     ]
    },
    {
     "name": "stderr",
     "output_type": "stream",
     "text": [
      "testing...: 100%|██████████| 531/531 [00:28<00:00, 18.72it/s]\n"
     ]
    },
    {
     "name": "stdout",
     "output_type": "stream",
     "text": [
      "[Test Epoch 5] Loss: 2.6561095094950185, Accuracy: 0.1687853107344633\n"
     ]
    },
    {
     "name": "stderr",
     "output_type": "stream",
     "text": [
      "training...: 100%|██████████| 2127/2127 [06:04<00:00,  5.83it/s]\n"
     ]
    },
    {
     "name": "stdout",
     "output_type": "stream",
     "text": [
      "[Train Epoch 6] Loss: 2.656262342617105, Accuracy: 0.16865009402914904\n"
     ]
    },
    {
     "name": "stderr",
     "output_type": "stream",
     "text": [
      "testing...: 100%|██████████| 531/531 [00:28<00:00, 18.37it/s]\n"
     ]
    },
    {
     "name": "stdout",
     "output_type": "stream",
     "text": [
      "[Test Epoch 6] Loss: 2.659278284582939, Accuracy: 0.16849105461393596\n"
     ]
    },
    {
     "name": "stderr",
     "output_type": "stream",
     "text": [
      "training...: 100%|██████████| 2127/2127 [06:04<00:00,  5.83it/s]\n"
     ]
    },
    {
     "name": "stdout",
     "output_type": "stream",
     "text": [
      "[Train Epoch 7] Loss: 2.6562484662522716, Accuracy: 0.16865009402914904\n"
     ]
    },
    {
     "name": "stderr",
     "output_type": "stream",
     "text": [
      "testing...: 100%|██████████| 531/531 [00:28<00:00, 18.76it/s]\n"
     ]
    },
    {
     "name": "stdout",
     "output_type": "stream",
     "text": [
      "[Test Epoch 7] Loss: 2.6555182174998713, Accuracy: 0.1686087570621469\n"
     ]
    },
    {
     "name": "stderr",
     "output_type": "stream",
     "text": [
      "training...: 100%|██████████| 2127/2127 [06:04<00:00,  5.83it/s]\n"
     ]
    },
    {
     "name": "stdout",
     "output_type": "stream",
     "text": [
      "[Train Epoch 8] Loss: 2.656013451106794, Accuracy: 0.16865009402914904\n"
     ]
    },
    {
     "name": "stderr",
     "output_type": "stream",
     "text": [
      "testing...: 100%|██████████| 531/531 [00:28<00:00, 18.67it/s]\n"
     ]
    },
    {
     "name": "stdout",
     "output_type": "stream",
     "text": [
      "[Test Epoch 8] Loss: 2.6606971957140275, Accuracy: 0.16849105461393596\n"
     ]
    },
    {
     "name": "stderr",
     "output_type": "stream",
     "text": [
      "training...: 100%|██████████| 2127/2127 [06:05<00:00,  5.82it/s]\n"
     ]
    },
    {
     "name": "stdout",
     "output_type": "stream",
     "text": [
      "[Train Epoch 9] Loss: 2.6557941213705534, Accuracy: 0.16866478608368593\n"
     ]
    },
    {
     "name": "stderr",
     "output_type": "stream",
     "text": [
      "testing...: 100%|██████████| 531/531 [00:28<00:00, 18.66it/s]\n"
     ]
    },
    {
     "name": "stdout",
     "output_type": "stream",
     "text": [
      "[Test Epoch 9] Loss: 2.6546868806504933, Accuracy: 0.16866760828625235\n"
     ]
    },
    {
     "name": "stderr",
     "output_type": "stream",
     "text": [
      "training...: 100%|██████████| 2127/2127 [06:04<00:00,  5.83it/s]\n"
     ]
    },
    {
     "name": "stdout",
     "output_type": "stream",
     "text": [
      "[Train Epoch 10] Loss: 2.6556092240073954, Accuracy: 0.16866478608368593\n"
     ]
    },
    {
     "name": "stderr",
     "output_type": "stream",
     "text": [
      "testing...: 100%|██████████| 531/531 [00:28<00:00, 18.80it/s]\n"
     ]
    },
    {
     "name": "stdout",
     "output_type": "stream",
     "text": [
      "[Test Epoch 10] Loss: 2.6555680797598455, Accuracy: 0.16866760828625235\n"
     ]
    },
    {
     "name": "stderr",
     "output_type": "stream",
     "text": [
      "training...: 100%|██████████| 2127/2127 [06:05<00:00,  5.81it/s]\n"
     ]
    },
    {
     "name": "stdout",
     "output_type": "stream",
     "text": [
      "[Train Epoch 11] Loss: 2.6558096905409254, Accuracy: 0.16866478608368593\n"
     ]
    },
    {
     "name": "stderr",
     "output_type": "stream",
     "text": [
      "testing...: 100%|██████████| 531/531 [00:28<00:00, 18.85it/s]\n"
     ]
    },
    {
     "name": "stdout",
     "output_type": "stream",
     "text": [
      "[Test Epoch 11] Loss: 2.655644368766167, Accuracy: 0.1684322033898305\n"
     ]
    },
    {
     "name": "stderr",
     "output_type": "stream",
     "text": [
      "training...: 100%|██████████| 2127/2127 [06:05<00:00,  5.82it/s]\n"
     ]
    },
    {
     "name": "stdout",
     "output_type": "stream",
     "text": [
      "[Train Epoch 12] Loss: 2.6554717460483466, Accuracy: 0.16866478608368593\n"
     ]
    },
    {
     "name": "stderr",
     "output_type": "stream",
     "text": [
      "testing...: 100%|██████████| 531/531 [00:28<00:00, 18.71it/s]\n"
     ]
    },
    {
     "name": "stdout",
     "output_type": "stream",
     "text": [
      "[Test Epoch 12] Loss: 2.6554735528547213, Accuracy: 0.1684322033898305\n"
     ]
    },
    {
     "name": "stderr",
     "output_type": "stream",
     "text": [
      "training...: 100%|██████████| 2127/2127 [06:05<00:00,  5.81it/s]\n"
     ]
    },
    {
     "name": "stdout",
     "output_type": "stream",
     "text": [
      "[Train Epoch 13] Loss: 2.6555037704722446, Accuracy: 0.16865009402914904\n"
     ]
    },
    {
     "name": "stderr",
     "output_type": "stream",
     "text": [
      "testing...: 100%|██████████| 531/531 [00:28<00:00, 18.57it/s]\n"
     ]
    },
    {
     "name": "stdout",
     "output_type": "stream",
     "text": [
      "[Test Epoch 13] Loss: 2.654139587434672, Accuracy: 0.1687264595103578\n"
     ]
    },
    {
     "name": "stderr",
     "output_type": "stream",
     "text": [
      "training...: 100%|██████████| 2127/2127 [06:10<00:00,  5.75it/s]\n"
     ]
    },
    {
     "name": "stdout",
     "output_type": "stream",
     "text": [
      "[Train Epoch 14] Loss: 2.6556086518924786, Accuracy: 0.16866478608368593\n"
     ]
    },
    {
     "name": "stderr",
     "output_type": "stream",
     "text": [
      "testing...: 100%|██████████| 531/531 [00:28<00:00, 18.78it/s]\n"
     ]
    },
    {
     "name": "stdout",
     "output_type": "stream",
     "text": [
      "[Test Epoch 14] Loss: 2.6547022058914385, Accuracy: 0.16866760828625235\n"
     ]
    },
    {
     "name": "stderr",
     "output_type": "stream",
     "text": [
      "training...: 100%|██████████| 2127/2127 [06:05<00:00,  5.82it/s]\n"
     ]
    },
    {
     "name": "stdout",
     "output_type": "stream",
     "text": [
      "[Train Epoch 15] Loss: 2.6554391951307648, Accuracy: 0.16866478608368593\n"
     ]
    },
    {
     "name": "stderr",
     "output_type": "stream",
     "text": [
      "testing...: 100%|██████████| 531/531 [00:28<00:00, 18.52it/s]\n"
     ]
    },
    {
     "name": "stdout",
     "output_type": "stream",
     "text": [
      "[Test Epoch 15] Loss: 2.657083814427004, Accuracy: 0.16866760828625235\n"
     ]
    },
    {
     "name": "stderr",
     "output_type": "stream",
     "text": [
      "training...: 100%|██████████| 2127/2127 [06:05<00:00,  5.82it/s]\n"
     ]
    },
    {
     "name": "stdout",
     "output_type": "stream",
     "text": [
      "[Train Epoch 16] Loss: 2.6554566865579368, Accuracy: 0.16866478608368593\n"
     ]
    },
    {
     "name": "stderr",
     "output_type": "stream",
     "text": [
      "testing...: 100%|██████████| 531/531 [00:28<00:00, 18.57it/s]\n"
     ]
    },
    {
     "name": "stdout",
     "output_type": "stream",
     "text": [
      "[Test Epoch 16] Loss: 2.65433667384074, Accuracy: 0.1686087570621469\n"
     ]
    },
    {
     "name": "stderr",
     "output_type": "stream",
     "text": [
      "training...: 100%|██████████| 2127/2127 [06:05<00:00,  5.82it/s]\n"
     ]
    },
    {
     "name": "stdout",
     "output_type": "stream",
     "text": [
      "[Train Epoch 17] Loss: 2.655362123158486, Accuracy: 0.16866478608368593\n"
     ]
    },
    {
     "name": "stderr",
     "output_type": "stream",
     "text": [
      "testing...: 100%|██████████| 531/531 [00:28<00:00, 18.55it/s]\n"
     ]
    },
    {
     "name": "stdout",
     "output_type": "stream",
     "text": [
      "[Test Epoch 17] Loss: 2.654036956991853, Accuracy: 0.1687853107344633\n"
     ]
    },
    {
     "name": "stderr",
     "output_type": "stream",
     "text": [
      "training...: 100%|██████████| 2127/2127 [06:04<00:00,  5.83it/s]\n"
     ]
    },
    {
     "name": "stdout",
     "output_type": "stream",
     "text": [
      "[Train Epoch 18] Loss: 2.6551673609604003, Accuracy: 0.16863540197461213\n"
     ]
    },
    {
     "name": "stderr",
     "output_type": "stream",
     "text": [
      "testing...: 100%|██████████| 531/531 [00:28<00:00, 18.51it/s]\n"
     ]
    },
    {
     "name": "stdout",
     "output_type": "stream",
     "text": [
      "[Test Epoch 18] Loss: 2.6552834358143493, Accuracy: 0.1687264595103578\n"
     ]
    },
    {
     "name": "stderr",
     "output_type": "stream",
     "text": [
      "training...: 100%|██████████| 2127/2127 [06:04<00:00,  5.83it/s]\n"
     ]
    },
    {
     "name": "stdout",
     "output_type": "stream",
     "text": [
      "[Train Epoch 19] Loss: 2.6551536520602395, Accuracy: 0.16866478608368593\n"
     ]
    },
    {
     "name": "stderr",
     "output_type": "stream",
     "text": [
      "testing...: 100%|██████████| 531/531 [00:28<00:00, 18.61it/s]\n"
     ]
    },
    {
     "name": "stdout",
     "output_type": "stream",
     "text": [
      "[Test Epoch 19] Loss: 2.655793872032237, Accuracy: 0.1687264595103578\n"
     ]
    },
    {
     "name": "stderr",
     "output_type": "stream",
     "text": [
      "training...: 100%|██████████| 2127/2127 [06:02<00:00,  5.86it/s]\n"
     ]
    },
    {
     "name": "stdout",
     "output_type": "stream",
     "text": [
      "[Train Epoch 20] Loss: 2.655194757799616, Accuracy: 0.16866478608368593\n"
     ]
    },
    {
     "name": "stderr",
     "output_type": "stream",
     "text": [
      "testing...: 100%|██████████| 531/531 [00:28<00:00, 18.63it/s]\n"
     ]
    },
    {
     "name": "stdout",
     "output_type": "stream",
     "text": [
      "[Test Epoch 20] Loss: 2.6581589443759954, Accuracy: 0.16866760828625235\n",
      "\n",
      "CPU times: total: 2h 12min 27s\n",
      "Wall time: 2h 12min 14s\n"
     ]
    }
   ],
   "source": [
    "%%time\n",
    "\n",
    "losses_train_clean_corrected = []\n",
    "accuracies_train_clean_corrected = []\n",
    "\n",
    "losses_test_clean_corrected = []\n",
    "accuracies_test_clean_corrected = []\n",
    "\n",
    "for ep in range(1, n_epochs + 1):\n",
    "\n",
    "    model_clean_corrected.train()\n",
    "    epoch_losses_train = []\n",
    "    epoch_accuracies_train = []\n",
    "\n",
    "\n",
    "    for tokens, contexts, tags in tqdm(train_dataloader_clean_corrected, desc=\"training...\"):\n",
    "        optimizer_clean_corrected.zero_grad()\n",
    "\n",
    "        tokens = tokens.to(device)\n",
    "        tags = tags.to(device)\n",
    "\n",
    "        predictions = model_clean_corrected(tokens)\n",
    "\n",
    "        loss = criterion(predictions, tags)\n",
    "        accuracy = get_accuracy(predictions, tags)\n",
    "\n",
    "        loss.backward()\n",
    "        optimizer_clean_corrected.step()\n",
    "\n",
    "        epoch_losses_train.append(loss.item())\n",
    "        epoch_accuracies_train.append(accuracy.item())\n",
    "\n",
    "    del tokens\n",
    "    del tags\n",
    "\n",
    "    gc.collect()\n",
    "    torch.cuda.empty_cache()\n",
    "\n",
    "    losses_train_clean_corrected.append(np.mean(epoch_losses_train))\n",
    "    accuracies_train_clean_corrected.append(np.mean(epoch_accuracies_train))\n",
    "\n",
    "    print(f'[Train Epoch {ep}] Loss: {np.mean(epoch_losses_train)}, Accuracy: {np.mean(epoch_accuracies_train)}')\n",
    "\n",
    "\n",
    "    model_clean_corrected.eval()\n",
    "    epoch_losses_test = []\n",
    "    epoch_accuracies_test = []\n",
    "\n",
    "    with torch.no_grad():\n",
    "        for tokens, contexts, tags in tqdm(test_dataloader_clean_corrected, desc=\"testing...\"):\n",
    "\n",
    "            tokens = tokens.to(device)\n",
    "            tags = tags.to(device)\n",
    "\n",
    "            predictions = model_clean_corrected(tokens)\n",
    "\n",
    "            loss = criterion(predictions, tags)\n",
    "            accuracy = get_accuracy(predictions, tags)\n",
    "\n",
    "            epoch_losses_test.append(loss.item())\n",
    "            epoch_accuracies_test.append(accuracy.item())\n",
    "\n",
    "        del tokens\n",
    "        del tags\n",
    "    \n",
    "        gc.collect()\n",
    "        torch.cuda.empty_cache()\n",
    "\n",
    "        losses_test_clean_corrected.append(np.mean(epoch_losses_test))\n",
    "        accuracies_test_clean_corrected.append(np.mean(epoch_accuracies_test))\n",
    "\n",
    "        print(f'[Test Epoch {ep}] Loss: {np.mean(epoch_losses_test)}, Accuracy: {np.mean(epoch_accuracies_test)}\\n')"
   ],
   "metadata": {
    "collapsed": false,
    "ExecuteTime": {
     "end_time": "2024-04-17T23:23:39.811109Z",
     "start_time": "2024-04-17T21:11:25.544218Z"
    }
   },
   "id": "93a421a20aaa8cc7",
   "execution_count": 38
  },
  {
   "cell_type": "markdown",
   "source": [
    "## 11.8. delete some data"
   ],
   "metadata": {
    "collapsed": false
   },
   "id": "d80203680b8490b"
  },
  {
   "cell_type": "code",
   "outputs": [],
   "source": [
    "del train_dataloader_clean_corrected\n",
    "del test_dataloader_clean_corrected\n",
    "del train_dataset_clean_corrected\n",
    "del test_dataset_clean_corrected\n",
    "del train_clean_corrected\n",
    "del test_clean_corrected\n",
    "del dataset_clean_corrected\n",
    "\n",
    "del model_clean_corrected\n",
    "del optimizer_clean_corrected\n",
    "gc.collect()\n",
    "torch.cuda.empty_cache()"
   ],
   "metadata": {
    "collapsed": false,
    "ExecuteTime": {
     "end_time": "2024-04-17T23:23:54.988969Z",
     "start_time": "2024-04-17T23:23:39.812103Z"
    }
   },
   "id": "9578d39e4617cf61",
   "execution_count": 39
  },
  {
   "cell_type": "markdown",
   "source": [
    "# 12. wsd_2 dataset (from tonetags_dataset_tumblr_clean with glove.6b.50d)"
   ],
   "metadata": {
    "collapsed": false
   },
   "id": "9dc4a5487fcea416"
  },
  {
   "cell_type": "markdown",
   "source": [
    "## 12.1. function to convert str of context to list when we upload dataset "
   ],
   "metadata": {
    "collapsed": false
   },
   "id": "ed3555d3b5b8569e"
  },
  {
   "cell_type": "code",
   "outputs": [],
   "source": [
    "def str_context_to_list(value):\n",
    "    list_values = value.strip('[]').split(' ')\n",
    "    cleaned_list_values = []\n",
    "    for item in list_values:\n",
    "        item.strip()\n",
    "        # if '\\n' in item:\n",
    "        #     item.replace('\\n', '')\n",
    "        if item != \"\":\n",
    "            cleaned_list_values.append(float(item))\n",
    "    return cleaned_list_values"
   ],
   "metadata": {
    "collapsed": false,
    "ExecuteTime": {
     "end_time": "2024-04-17T23:23:54.993630Z",
     "start_time": "2024-04-17T23:23:54.989959Z"
    }
   },
   "id": "bcff7cc688c059c8",
   "execution_count": 40
  },
  {
   "cell_type": "markdown",
   "source": [
    "## 12.2. upload dataset"
   ],
   "metadata": {
    "collapsed": false
   },
   "id": "5a67b67120fd563a"
  },
  {
   "cell_type": "code",
   "outputs": [],
   "source": [
    "# dataset_wsd_2 = pd.read_csv(\"../datasets/tonetags_wsd_2.csv\", index_col=0, converters={\"text\": str_text_to_list, 'context': str_context_to_list})\n",
    "dataset_wsd_2 = pd.read_csv(\"../datasets/tonetags_wsd_2.csv\", index_col=0, converters={\"text\": str_text_to_list})"
   ],
   "metadata": {
    "collapsed": false,
    "ExecuteTime": {
     "end_time": "2024-04-17T23:23:56.822912Z",
     "start_time": "2024-04-17T23:23:54.998616Z"
    }
   },
   "id": "611509b133a6df7",
   "execution_count": 41
  },
  {
   "cell_type": "code",
   "outputs": [],
   "source": [
    "dataset_wsd_2 = dataset_wsd_2.dropna()"
   ],
   "metadata": {
    "collapsed": false,
    "ExecuteTime": {
     "end_time": "2024-04-17T23:23:56.857075Z",
     "start_time": "2024-04-17T23:23:56.823795Z"
    }
   },
   "id": "d71035816045f2cb",
   "execution_count": 42
  },
  {
   "cell_type": "code",
   "outputs": [],
   "source": [
    "dataset_wsd_2.context = dataset_wsd_2.context.apply(str_context_to_list)"
   ],
   "metadata": {
    "collapsed": false,
    "ExecuteTime": {
     "end_time": "2024-04-17T23:23:58.590688Z",
     "start_time": "2024-04-17T23:23:56.858069Z"
    }
   },
   "id": "46e5cbc3524d4834",
   "execution_count": 43
  },
  {
   "cell_type": "markdown",
   "source": [
    "## 12.3. encode labels"
   ],
   "metadata": {
    "collapsed": false
   },
   "id": "79b215f80dde7b87"
  },
  {
   "cell_type": "code",
   "outputs": [],
   "source": [
    "dataset_wsd_2.tags = dataset_wsd_2.tags.apply(labels.index)"
   ],
   "metadata": {
    "collapsed": false,
    "ExecuteTime": {
     "end_time": "2024-04-17T23:23:58.619616Z",
     "start_time": "2024-04-17T23:23:58.591690Z"
    }
   },
   "id": "b633e31f5438ce3d",
   "execution_count": 44
  },
  {
   "cell_type": "markdown",
   "source": [
    "## 12.4. split"
   ],
   "metadata": {
    "collapsed": false
   },
   "id": "c61ace554e750cd6"
  },
  {
   "cell_type": "code",
   "outputs": [],
   "source": [
    "train_wsd_2, test_wsd_2 = train_test_split(dataset_wsd_2, stratify=dataset_wsd_2['tags'], test_size=0.2, random_state=42)"
   ],
   "metadata": {
    "collapsed": false,
    "ExecuteTime": {
     "end_time": "2024-04-17T23:23:58.658898Z",
     "start_time": "2024-04-17T23:23:58.620593Z"
    }
   },
   "id": "1ccbcace0fb0b275",
   "execution_count": 45
  },
  {
   "cell_type": "markdown",
   "source": [
    "## 12.5. create datasets"
   ],
   "metadata": {
    "collapsed": false
   },
   "id": "34bcb45136297960"
  },
  {
   "cell_type": "code",
   "outputs": [],
   "source": [
    "train_dataset_wsd_2, test_dataset_wsd_2 = myDataset(train_wsd_2), myDataset(test_wsd_2)"
   ],
   "metadata": {
    "collapsed": false,
    "ExecuteTime": {
     "end_time": "2024-04-17T23:24:00.223739Z",
     "start_time": "2024-04-17T23:23:58.659895Z"
    }
   },
   "id": "50d4db0cb3f5c214",
   "execution_count": 46
  },
  {
   "cell_type": "markdown",
   "source": [
    "## 12.6. create dataloaders"
   ],
   "metadata": {
    "collapsed": false
   },
   "id": "7b121332d4a3606"
  },
  {
   "cell_type": "code",
   "outputs": [],
   "source": [
    "train_dataloader_wsd_2 = DataLoader(train_dataset_wsd_2, batch_size=batch_size, shuffle=True, collate_fn=collate_fn, drop_last=True)\n",
    "\n",
    "test_dataloader_wsd_2 = DataLoader(test_dataset_wsd_2, batch_size=batch_size, shuffle=True, collate_fn=collate_fn, drop_last=True)"
   ],
   "metadata": {
    "collapsed": false,
    "ExecuteTime": {
     "end_time": "2024-04-17T23:24:00.228394Z",
     "start_time": "2024-04-17T23:24:00.224728Z"
    }
   },
   "id": "da32fad1b818c2c9",
   "execution_count": 47
  },
  {
   "cell_type": "markdown",
   "source": [
    "## 12.7. class of model for wsd_2 data"
   ],
   "metadata": {
    "collapsed": false
   },
   "id": "14bf0905b8ebeb61"
  },
  {
   "cell_type": "code",
   "outputs": [],
   "source": [
    "class ToneTagsLSTM_wsd_2(nn.Module):\n",
    "    def __init__(self, vocab_size, embedding, hidden_dim, context_dim, output_size, num_layers, dropout):\n",
    "        super(ToneTagsLSTM_wsd_2, self).__init__()\n",
    "        # vocab_size = 400002\n",
    "        # embedding_dim = 50\n",
    "        # hidden_dim_lstm = 30\n",
    "        # context_dim = 50\n",
    "        \n",
    "        # output_size = 19\n",
    "\n",
    "        self.embedding = embedding\n",
    "\n",
    "        self.lstm = nn.LSTM(self.embedding.embedding_dim, hidden_dim, num_layers=num_layers, bidirectional=True, dropout=dropout, batch_first=True)\n",
    "\n",
    "        self.fc1 = nn.Linear(hidden_dim * max_length * 2 + context_dim, 1024)\n",
    "        self.fc2 = nn.Linear(1024, 512)\n",
    "        self.fc3 = nn.Linear(512, output_size)\n",
    "        # self.out = nn.Softmax(output_size, dim=1)\n",
    "\n",
    "\n",
    "    def forward(self, tokens, contexts):\n",
    "\n",
    "        embedded = self.embedding(tokens)\n",
    "        output, (hidden, cell) = self.lstm(embedded)\n",
    "\n",
    "        lstm_out = torch.cat((output.reshape(batch_size, -1), contexts), dim=1)\n",
    "\n",
    "        fc1_out = self.fc1(lstm_out)\n",
    "\n",
    "\n",
    "        fc2_out = self.fc2(fc1_out)\n",
    "        out = self.fc3(fc2_out)\n",
    "        # out = self.out(fc3_out)\n",
    "\n",
    "        return out"
   ],
   "metadata": {
    "collapsed": false,
    "ExecuteTime": {
     "end_time": "2024-04-17T23:24:00.235151Z",
     "start_time": "2024-04-17T23:24:00.229391Z"
    }
   },
   "id": "e686c792d6480866",
   "execution_count": 48
  },
  {
   "cell_type": "markdown",
   "source": [
    "## 12.8. parameters for wsd_2"
   ],
   "metadata": {
    "collapsed": false
   },
   "id": "7cc5bd51fbda8fb7"
  },
  {
   "cell_type": "code",
   "outputs": [],
   "source": [
    "# train_dataloader_wsd_2\n",
    "# test_dataloader_wsd_2\n",
    "\n",
    "vocab_size = len(vocab) # 4000002\n",
    "embedding = nn.Embedding.from_pretrained(embedding_tensor, freeze=True)\n",
    "hidden_dim = 30 # 30\n",
    "context_dim = 50 # 50\n",
    "output_size = len(labels) # 19\n",
    "num_layers = 4\n",
    "dropout = 0.2\n",
    "device = torch.device(\"cuda\" if torch.cuda.is_available() else \"cpu\")\n",
    "lr = 5e-4\n",
    "\n",
    "criterion = nn.CrossEntropyLoss()"
   ],
   "metadata": {
    "collapsed": false,
    "ExecuteTime": {
     "end_time": "2024-04-17T23:24:00.240471Z",
     "start_time": "2024-04-17T23:24:00.236146Z"
    }
   },
   "id": "f0df28ad4db73e4f",
   "execution_count": 49
  },
  {
   "cell_type": "markdown",
   "source": [
    "## 12.9. create instance of model and optimizer to wsd_2 data"
   ],
   "metadata": {
    "collapsed": false
   },
   "id": "186f980fea38dda"
  },
  {
   "cell_type": "code",
   "outputs": [],
   "source": [
    "# train_dataloader_wsd_2\n",
    "# test_dataloader_wsd_2\n",
    "\n",
    "model_wsd_2 = ToneTagsLSTM_wsd_2(\n",
    "    vocab_size=vocab_size,\n",
    "    embedding=embedding,\n",
    "    hidden_dim=hidden_dim,\n",
    "    context_dim=context_dim,\n",
    "    output_size=output_size,\n",
    "    num_layers=num_layers,\n",
    "    dropout=dropout\n",
    ").to(device)\n",
    "\n",
    "optimizer_wsd_2 = optim.Adam(model_wsd_2.parameters(), lr=lr)"
   ],
   "metadata": {
    "collapsed": false,
    "ExecuteTime": {
     "end_time": "2024-04-17T23:24:01.947114Z",
     "start_time": "2024-04-17T23:24:00.241466Z"
    }
   },
   "id": "3ed0471ff0ed1dba",
   "execution_count": 50
  },
  {
   "cell_type": "markdown",
   "source": [
    "## 12.10. train and test to wsd_2"
   ],
   "metadata": {
    "collapsed": false
   },
   "id": "94d2091ba8969719"
  },
  {
   "cell_type": "code",
   "outputs": [
    {
     "name": "stderr",
     "output_type": "stream",
     "text": [
      "training...: 100%|██████████| 2088/2088 [06:22<00:00,  5.46it/s]\n"
     ]
    },
    {
     "name": "stdout",
     "output_type": "stream",
     "text": [
      "[Train Epoch 1] Loss: 2.7729311896580846, Accuracy: 0.21286817528735633\n"
     ]
    },
    {
     "name": "stderr",
     "output_type": "stream",
     "text": [
      "testing...: 100%|██████████| 521/521 [00:33<00:00, 15.40it/s]\n"
     ]
    },
    {
     "name": "stdout",
     "output_type": "stream",
     "text": [
      "[Test Epoch 1] Loss: 2.5304856908984927, Accuracy: 0.24676103646833014\n"
     ]
    },
    {
     "name": "stderr",
     "output_type": "stream",
     "text": [
      "training...: 100%|██████████| 2088/2088 [05:53<00:00,  5.90it/s]\n"
     ]
    },
    {
     "name": "stdout",
     "output_type": "stream",
     "text": [
      "[Train Epoch 2] Loss: 2.510059374045595, Accuracy: 0.25396611590038315\n"
     ]
    },
    {
     "name": "stderr",
     "output_type": "stream",
     "text": [
      "testing...: 100%|██████████| 521/521 [00:27<00:00, 18.89it/s]\n"
     ]
    },
    {
     "name": "stdout",
     "output_type": "stream",
     "text": [
      "[Test Epoch 2] Loss: 2.5006420145565627, Accuracy: 0.2635556621880998\n"
     ]
    },
    {
     "name": "stderr",
     "output_type": "stream",
     "text": [
      "training...: 100%|██████████| 2088/2088 [05:57<00:00,  5.84it/s]\n"
     ]
    },
    {
     "name": "stdout",
     "output_type": "stream",
     "text": [
      "[Train Epoch 3] Loss: 2.4782175702610236, Accuracy: 0.26861829501915707\n"
     ]
    },
    {
     "name": "stderr",
     "output_type": "stream",
     "text": [
      "testing...: 100%|██████████| 521/521 [00:28<00:00, 18.29it/s]\n"
     ]
    },
    {
     "name": "stdout",
     "output_type": "stream",
     "text": [
      "[Test Epoch 3] Loss: 2.491744541160891, Accuracy: 0.26643474088291746\n"
     ]
    },
    {
     "name": "stderr",
     "output_type": "stream",
     "text": [
      "training...: 100%|██████████| 2088/2088 [06:00<00:00,  5.80it/s]\n"
     ]
    },
    {
     "name": "stdout",
     "output_type": "stream",
     "text": [
      "[Train Epoch 4] Loss: 2.46720535105444, Accuracy: 0.2740810584291188\n"
     ]
    },
    {
     "name": "stderr",
     "output_type": "stream",
     "text": [
      "testing...: 100%|██████████| 521/521 [00:28<00:00, 18.29it/s]\n"
     ]
    },
    {
     "name": "stdout",
     "output_type": "stream",
     "text": [
      "[Test Epoch 4] Loss: 2.4919720453401446, Accuracy: 0.27537188099808063\n"
     ]
    },
    {
     "name": "stderr",
     "output_type": "stream",
     "text": [
      "training...: 100%|██████████| 2088/2088 [06:00<00:00,  5.79it/s]\n"
     ]
    },
    {
     "name": "stdout",
     "output_type": "stream",
     "text": [
      "[Train Epoch 5] Loss: 2.4626206459327675, Accuracy: 0.27565253831417624\n"
     ]
    },
    {
     "name": "stderr",
     "output_type": "stream",
     "text": [
      "testing...: 100%|██████████| 521/521 [00:28<00:00, 18.40it/s]\n"
     ]
    },
    {
     "name": "stdout",
     "output_type": "stream",
     "text": [
      "[Test Epoch 5] Loss: 2.493969754385628, Accuracy: 0.2670345489443378\n"
     ]
    },
    {
     "name": "stderr",
     "output_type": "stream",
     "text": [
      "training...: 100%|██████████| 2088/2088 [06:01<00:00,  5.78it/s]\n"
     ]
    },
    {
     "name": "stdout",
     "output_type": "stream",
     "text": [
      "[Train Epoch 6] Loss: 2.4531589137868406, Accuracy: 0.277553280651341\n"
     ]
    },
    {
     "name": "stderr",
     "output_type": "stream",
     "text": [
      "testing...: 100%|██████████| 521/521 [00:28<00:00, 18.48it/s]\n"
     ]
    },
    {
     "name": "stdout",
     "output_type": "stream",
     "text": [
      "[Test Epoch 6] Loss: 2.4886844929257648, Accuracy: 0.2720729366602687\n"
     ]
    },
    {
     "name": "stderr",
     "output_type": "stream",
     "text": [
      "training...: 100%|██████████| 2088/2088 [06:00<00:00,  5.79it/s]\n"
     ]
    },
    {
     "name": "stdout",
     "output_type": "stream",
     "text": [
      "[Train Epoch 7] Loss: 2.437468414048582, Accuracy: 0.2803969109195402\n"
     ]
    },
    {
     "name": "stderr",
     "output_type": "stream",
     "text": [
      "testing...: 100%|██████████| 521/521 [00:28<00:00, 18.32it/s]\n"
     ]
    },
    {
     "name": "stdout",
     "output_type": "stream",
     "text": [
      "[Test Epoch 7] Loss: 2.508978922627938, Accuracy: 0.2594169865642994\n"
     ]
    },
    {
     "name": "stderr",
     "output_type": "stream",
     "text": [
      "training...: 100%|██████████| 2088/2088 [06:00<00:00,  5.79it/s]\n"
     ]
    },
    {
     "name": "stdout",
     "output_type": "stream",
     "text": [
      "[Train Epoch 8] Loss: 2.4122712931299577, Accuracy: 0.2887631704980843\n"
     ]
    },
    {
     "name": "stderr",
     "output_type": "stream",
     "text": [
      "testing...: 100%|██████████| 521/521 [00:28<00:00, 18.19it/s]\n"
     ]
    },
    {
     "name": "stdout",
     "output_type": "stream",
     "text": [
      "[Test Epoch 8] Loss: 2.506417667110685, Accuracy: 0.26697456813819576\n"
     ]
    },
    {
     "name": "stderr",
     "output_type": "stream",
     "text": [
      "training...: 100%|██████████| 2088/2088 [06:00<00:00,  5.80it/s]\n"
     ]
    },
    {
     "name": "stdout",
     "output_type": "stream",
     "text": [
      "[Train Epoch 9] Loss: 2.3758388346639174, Accuracy: 0.29569264846743293\n"
     ]
    },
    {
     "name": "stderr",
     "output_type": "stream",
     "text": [
      "testing...: 100%|██████████| 521/521 [00:28<00:00, 18.40it/s]\n"
     ]
    },
    {
     "name": "stdout",
     "output_type": "stream",
     "text": [
      "[Test Epoch 9] Loss: 2.555811862341502, Accuracy: 0.2564179462571977\n"
     ]
    },
    {
     "name": "stderr",
     "output_type": "stream",
     "text": [
      "training...: 100%|██████████| 2088/2088 [06:00<00:00,  5.79it/s]\n"
     ]
    },
    {
     "name": "stdout",
     "output_type": "stream",
     "text": [
      "[Train Epoch 10] Loss: 2.3344915849495664, Accuracy: 0.30537595785440613\n"
     ]
    },
    {
     "name": "stderr",
     "output_type": "stream",
     "text": [
      "testing...: 100%|██████████| 521/521 [00:28<00:00, 18.22it/s]\n"
     ]
    },
    {
     "name": "stdout",
     "output_type": "stream",
     "text": [
      "[Test Epoch 10] Loss: 2.572202576785536, Accuracy: 0.25491842610364684\n"
     ]
    },
    {
     "name": "stderr",
     "output_type": "stream",
     "text": [
      "training...: 100%|██████████| 2088/2088 [06:01<00:00,  5.78it/s]\n"
     ]
    },
    {
     "name": "stdout",
     "output_type": "stream",
     "text": [
      "[Train Epoch 11] Loss: 2.2896288006470122, Accuracy: 0.3180226293103448\n"
     ]
    },
    {
     "name": "stderr",
     "output_type": "stream",
     "text": [
      "testing...: 100%|██████████| 521/521 [00:28<00:00, 18.27it/s]\n"
     ]
    },
    {
     "name": "stdout",
     "output_type": "stream",
     "text": [
      "[Test Epoch 11] Loss: 2.668058953678768, Accuracy: 0.24370201535508637\n"
     ]
    },
    {
     "name": "stderr",
     "output_type": "stream",
     "text": [
      "training...: 100%|██████████| 2088/2088 [06:02<00:00,  5.76it/s]\n"
     ]
    },
    {
     "name": "stdout",
     "output_type": "stream",
     "text": [
      "[Train Epoch 12] Loss: 2.2439019143923944, Accuracy: 0.3313128591954023\n"
     ]
    },
    {
     "name": "stderr",
     "output_type": "stream",
     "text": [
      "testing...: 100%|██████████| 521/521 [00:28<00:00, 18.12it/s]\n"
     ]
    },
    {
     "name": "stdout",
     "output_type": "stream",
     "text": [
      "[Test Epoch 12] Loss: 2.6543822883415586, Accuracy: 0.24796065259117084\n"
     ]
    },
    {
     "name": "stderr",
     "output_type": "stream",
     "text": [
      "training...: 100%|██████████| 2088/2088 [06:00<00:00,  5.79it/s]\n"
     ]
    },
    {
     "name": "stdout",
     "output_type": "stream",
     "text": [
      "[Train Epoch 13] Loss: 2.198508955452634, Accuracy: 0.3429867097701149\n"
     ]
    },
    {
     "name": "stderr",
     "output_type": "stream",
     "text": [
      "testing...: 100%|██████████| 521/521 [00:28<00:00, 18.14it/s]\n"
     ]
    },
    {
     "name": "stdout",
     "output_type": "stream",
     "text": [
      "[Test Epoch 13] Loss: 2.729535543529635, Accuracy: 0.24070297504798466\n"
     ]
    },
    {
     "name": "stderr",
     "output_type": "stream",
     "text": [
      "training...: 100%|██████████| 2088/2088 [06:02<00:00,  5.76it/s]\n"
     ]
    },
    {
     "name": "stdout",
     "output_type": "stream",
     "text": [
      "[Train Epoch 14] Loss: 2.1626963668513572, Accuracy: 0.3541666666666667\n"
     ]
    },
    {
     "name": "stderr",
     "output_type": "stream",
     "text": [
      "testing...: 100%|██████████| 521/521 [00:28<00:00, 18.28it/s]\n"
     ]
    },
    {
     "name": "stdout",
     "output_type": "stream",
     "text": [
      "[Test Epoch 14] Loss: 2.7994831189541807, Accuracy: 0.24238243761996162\n"
     ]
    },
    {
     "name": "stderr",
     "output_type": "stream",
     "text": [
      "training...: 100%|██████████| 2088/2088 [05:59<00:00,  5.80it/s]\n"
     ]
    },
    {
     "name": "stdout",
     "output_type": "stream",
     "text": [
      "[Train Epoch 15] Loss: 2.1198780018821988, Accuracy: 0.3654663553639847\n"
     ]
    },
    {
     "name": "stderr",
     "output_type": "stream",
     "text": [
      "testing...: 100%|██████████| 521/521 [00:28<00:00, 18.24it/s]\n"
     ]
    },
    {
     "name": "stdout",
     "output_type": "stream",
     "text": [
      "[Test Epoch 15] Loss: 2.898018862601663, Accuracy: 0.22840690978886757\n"
     ]
    },
    {
     "name": "stderr",
     "output_type": "stream",
     "text": [
      "training...: 100%|██████████| 2088/2088 [06:06<00:00,  5.70it/s]\n"
     ]
    },
    {
     "name": "stdout",
     "output_type": "stream",
     "text": [
      "[Train Epoch 16] Loss: 2.087606757422517, Accuracy: 0.37374281609195403\n"
     ]
    },
    {
     "name": "stderr",
     "output_type": "stream",
     "text": [
      "testing...: 100%|██████████| 521/521 [00:28<00:00, 18.35it/s]\n"
     ]
    },
    {
     "name": "stdout",
     "output_type": "stream",
     "text": [
      "[Test Epoch 16] Loss: 2.9941214686849524, Accuracy: 0.22336852207293667\n"
     ]
    },
    {
     "name": "stderr",
     "output_type": "stream",
     "text": [
      "training...: 100%|██████████| 2088/2088 [06:01<00:00,  5.77it/s]\n"
     ]
    },
    {
     "name": "stdout",
     "output_type": "stream",
     "text": [
      "[Train Epoch 17] Loss: 2.059171115701226, Accuracy: 0.37993893678160917\n"
     ]
    },
    {
     "name": "stderr",
     "output_type": "stream",
     "text": [
      "testing...: 100%|██████████| 521/521 [00:28<00:00, 18.23it/s]\n"
     ]
    },
    {
     "name": "stdout",
     "output_type": "stream",
     "text": [
      "[Test Epoch 17] Loss: 3.050214696067766, Accuracy: 0.22072936660268713\n"
     ]
    },
    {
     "name": "stderr",
     "output_type": "stream",
     "text": [
      "training...: 100%|██████████| 2088/2088 [06:00<00:00,  5.80it/s]\n"
     ]
    },
    {
     "name": "stdout",
     "output_type": "stream",
     "text": [
      "[Train Epoch 18] Loss: 2.0259774004705107, Accuracy: 0.3914780890804598\n"
     ]
    },
    {
     "name": "stderr",
     "output_type": "stream",
     "text": [
      "testing...: 100%|██████████| 521/521 [00:28<00:00, 18.38it/s]\n"
     ]
    },
    {
     "name": "stdout",
     "output_type": "stream",
     "text": [
      "[Test Epoch 18] Loss: 3.1652000357688275, Accuracy: 0.2210292706333973\n"
     ]
    },
    {
     "name": "stderr",
     "output_type": "stream",
     "text": [
      "training...: 100%|██████████| 2088/2088 [06:01<00:00,  5.78it/s]\n"
     ]
    },
    {
     "name": "stdout",
     "output_type": "stream",
     "text": [
      "[Train Epoch 19] Loss: 2.009481402477999, Accuracy: 0.3964020593869732\n"
     ]
    },
    {
     "name": "stderr",
     "output_type": "stream",
     "text": [
      "testing...: 100%|██████████| 521/521 [00:28<00:00, 18.30it/s]\n"
     ]
    },
    {
     "name": "stdout",
     "output_type": "stream",
     "text": [
      "[Test Epoch 19] Loss: 3.1553226739110967, Accuracy: 0.2215091170825336\n"
     ]
    },
    {
     "name": "stderr",
     "output_type": "stream",
     "text": [
      "training...: 100%|██████████| 2088/2088 [06:00<00:00,  5.79it/s]\n"
     ]
    },
    {
     "name": "stdout",
     "output_type": "stream",
     "text": [
      "[Train Epoch 20] Loss: 1.978488385334782, Accuracy: 0.4008022030651341\n"
     ]
    },
    {
     "name": "stderr",
     "output_type": "stream",
     "text": [
      "testing...: 100%|██████████| 521/521 [00:28<00:00, 18.22it/s]"
     ]
    },
    {
     "name": "stdout",
     "output_type": "stream",
     "text": [
      "[Test Epoch 20] Loss: 3.238733973933273, Accuracy: 0.21515115163147794\n",
      "\n",
      "CPU times: total: 2h 11min 3s\n",
      "Wall time: 2h 10min 54s\n"
     ]
    },
    {
     "name": "stderr",
     "output_type": "stream",
     "text": [
      "\n"
     ]
    }
   ],
   "source": [
    "%%time\n",
    "\n",
    "losses_train_wsd_2 = []\n",
    "accuracies_train_wsd_2 = []\n",
    "\n",
    "losses_test_wsd_2 = []\n",
    "accuracies_test_wsd_2 = []\n",
    "\n",
    "for ep in range(1, n_epochs + 1):\n",
    "\n",
    "    model_wsd_2.train()\n",
    "    epoch_losses_train = []\n",
    "    epoch_accuracies_train = []\n",
    "\n",
    "\n",
    "    for tokens, contexts, tags in tqdm(train_dataloader_wsd_2, desc=\"training...\"):\n",
    "        optimizer_wsd_2.zero_grad()\n",
    "\n",
    "        tokens = tokens.to(device)\n",
    "        contexts = contexts.to(device)\n",
    "        tags = tags.to(device)\n",
    "\n",
    "        predictions = model_wsd_2(tokens, contexts)\n",
    "\n",
    "        loss = criterion(predictions, tags)\n",
    "        accuracy = get_accuracy(predictions, tags)\n",
    "\n",
    "        loss.backward()\n",
    "        optimizer_wsd_2.step()\n",
    "\n",
    "        epoch_losses_train.append(loss.item())\n",
    "        epoch_accuracies_train.append(accuracy.item())\n",
    "\n",
    "    del tokens\n",
    "    del contexts\n",
    "    del tags\n",
    "\n",
    "    gc.collect()\n",
    "    torch.cuda.empty_cache()\n",
    "\n",
    "    losses_train_wsd_2.append(np.mean(epoch_losses_train))\n",
    "    accuracies_train_wsd_2.append(np.mean(epoch_accuracies_train))\n",
    "\n",
    "    print(f'[Train Epoch {ep}] Loss: {np.mean(epoch_losses_train)}, Accuracy: {np.mean(epoch_accuracies_train)}')\n",
    "\n",
    "\n",
    "    model_wsd_2.eval()\n",
    "    epoch_losses_test = []\n",
    "    epoch_accuracies_test = []\n",
    "\n",
    "    with torch.no_grad():\n",
    "        for tokens, contexts, tags in tqdm(test_dataloader_wsd_2, desc=\"testing...\"):\n",
    "\n",
    "            tokens = tokens.to(device)\n",
    "            contexts = contexts.to(device)\n",
    "            tags = tags.to(device)\n",
    "\n",
    "            predictions = model_wsd_2(tokens, contexts)\n",
    "\n",
    "            loss = criterion(predictions, tags)\n",
    "            accuracy = get_accuracy(predictions, tags)\n",
    "\n",
    "            epoch_losses_test.append(loss.item())\n",
    "            epoch_accuracies_test.append(accuracy.item())\n",
    "\n",
    "        del tokens\n",
    "        del contexts\n",
    "        del tags\n",
    "    \n",
    "        gc.collect()\n",
    "        torch.cuda.empty_cache()\n",
    "\n",
    "\n",
    "        losses_test_wsd_2.append(np.mean(epoch_losses_test))\n",
    "        accuracies_test_wsd_2.append(np.mean(epoch_accuracies_test))\n",
    "\n",
    "        print(f'[Test Epoch {ep}] Loss: {np.mean(epoch_losses_test)}, Accuracy: {np.mean(epoch_accuracies_test)}\\n')"
   ],
   "metadata": {
    "collapsed": false,
    "ExecuteTime": {
     "end_time": "2024-04-18T01:34:56.179174Z",
     "start_time": "2024-04-17T23:24:01.948096Z"
    }
   },
   "id": "a27bb6a3b5a4e015",
   "execution_count": 51
  },
  {
   "cell_type": "markdown",
   "source": [
    "## 12.11. delete some data"
   ],
   "metadata": {
    "collapsed": false
   },
   "id": "638e75cfa4913faf"
  },
  {
   "cell_type": "code",
   "outputs": [],
   "source": [
    "del train_dataloader_wsd_2\n",
    "del test_dataloader_wsd_2\n",
    "del train_dataset_wsd_2\n",
    "del test_dataset_wsd_2\n",
    "del train_wsd_2\n",
    "del test_wsd_2\n",
    "del dataset_wsd_2\n",
    "\n",
    "del model_wsd_2\n",
    "del optimizer_wsd_2\n",
    "gc.collect()\n",
    "torch.cuda.empty_cache()"
   ],
   "metadata": {
    "collapsed": false,
    "ExecuteTime": {
     "end_time": "2024-04-18T01:35:11.122146Z",
     "start_time": "2024-04-18T01:34:56.179684Z"
    }
   },
   "id": "3cd31b1f01722b7e",
   "execution_count": 52
  },
  {
   "cell_type": "markdown",
   "source": [
    "# 13. Compare results"
   ],
   "metadata": {
    "collapsed": false
   },
   "id": "93c521277f895ca2"
  },
  {
   "cell_type": "code",
   "outputs": [],
   "source": [
    "# x\n",
    "number_of_epochs = [ep for ep in range(n_epochs)]\n",
    "# \n",
    "# \n",
    "## y train:\n",
    "# losses_train_clean\n",
    "# losses_train_clean_corrected\n",
    "# losses_train_wsd_1\n",
    "# losses_train_wsd_2\n",
    "# \n",
    "# accuracies_train_clean\n",
    "# accuracies_train_clean_corrected\n",
    "# accuracies_train_wsd_1\n",
    "# accuracies_train_wsd_2\n",
    "# \n",
    "#\n",
    "## y test\n",
    "# losses_test_clean\n",
    "# losses_test_clean_corrected\n",
    "# losses_test_wsd_1\n",
    "# losses_test_wsd_2\n",
    "# \n",
    "# accuracies_test_clean\n",
    "# accuracies_test_clean_corrected\n",
    "# accuracies_test_wsd_1\n",
    "# accuracies_test_wsd_2"
   ],
   "metadata": {
    "collapsed": false,
    "ExecuteTime": {
     "end_time": "2024-04-19T14:15:50.862229Z",
     "start_time": "2024-04-19T14:15:50.858789Z"
    }
   },
   "id": "d611da94454ba610",
   "execution_count": 24
  },
  {
   "cell_type": "markdown",
   "source": [
    "## export results"
   ],
   "metadata": {
    "collapsed": false
   },
   "id": "d061b6303e7bba21"
  },
  {
   "cell_type": "code",
   "outputs": [],
   "source": [
    "export_time = int(datetime.datetime.now().timestamp())"
   ],
   "metadata": {
    "collapsed": false,
    "ExecuteTime": {
     "end_time": "2024-04-19T14:15:51.558926Z",
     "start_time": "2024-04-19T14:15:51.556044Z"
    }
   },
   "id": "8c3e19c329a72b4a",
   "execution_count": 25
  },
  {
   "cell_type": "markdown",
   "source": [
    "### Accuracy"
   ],
   "metadata": {
    "collapsed": false
   },
   "id": "3425fcaf842317f2"
  },
  {
   "cell_type": "code",
   "outputs": [
    {
     "ename": "NameError",
     "evalue": "name 'accuracies_train_wsd_1' is not defined",
     "output_type": "error",
     "traceback": [
      "\u001B[1;31m---------------------------------------------------------------------------\u001B[0m",
      "\u001B[1;31mNameError\u001B[0m                                 Traceback (most recent call last)",
      "Cell \u001B[1;32mIn[26], line 3\u001B[0m\n\u001B[0;32m      1\u001B[0m path \u001B[38;5;241m=\u001B[39m \u001B[38;5;124m'\u001B[39m\u001B[38;5;124m../results_metrics/\u001B[39m\u001B[38;5;124m'\u001B[39m\n\u001B[0;32m      2\u001B[0m filename \u001B[38;5;241m=\u001B[39m \u001B[38;5;124mf\u001B[39m\u001B[38;5;124m'\u001B[39m\u001B[38;5;132;01m{\u001B[39;00mexport_time\u001B[38;5;132;01m}\u001B[39;00m\u001B[38;5;124m_accuracy.csv\u001B[39m\u001B[38;5;124m'\u001B[39m\n\u001B[1;32m----> 3\u001B[0m data_lists_to_export \u001B[38;5;241m=\u001B[39m \u001B[38;5;28mzip\u001B[39m(accuracies_train_clean, accuracies_test_clean, accuracies_train_clean_corrected, accuracies_test_clean_corrected, \u001B[43maccuracies_train_wsd_1\u001B[49m, accuracies_test_wsd_1, accuracies_train_wsd_2, accuracies_test_wsd_2)\n\u001B[0;32m      5\u001B[0m \u001B[38;5;28;01mwith\u001B[39;00m \u001B[38;5;28mopen\u001B[39m(path \u001B[38;5;241m+\u001B[39m filename, \u001B[38;5;124m'\u001B[39m\u001B[38;5;124mw\u001B[39m\u001B[38;5;124m'\u001B[39m, newline\u001B[38;5;241m=\u001B[39m\u001B[38;5;124m'\u001B[39m\u001B[38;5;124m'\u001B[39m) \u001B[38;5;28;01mas\u001B[39;00m csvfile:\n\u001B[0;32m      6\u001B[0m     writer \u001B[38;5;241m=\u001B[39m csv\u001B[38;5;241m.\u001B[39mwriter(csvfile)\n",
      "\u001B[1;31mNameError\u001B[0m: name 'accuracies_train_wsd_1' is not defined"
     ]
    }
   ],
   "source": [
    "path = '../results_metrics/'\n",
    "filename = f'{export_time}_accuracy.csv'\n",
    "data_lists_to_export = zip(accuracies_train_clean, accuracies_test_clean, accuracies_train_clean_corrected, accuracies_test_clean_corrected, accuracies_train_wsd_1, accuracies_test_wsd_1, accuracies_train_wsd_2, accuracies_test_wsd_2)\n",
    "\n",
    "with open(path + filename, 'w', newline='') as csvfile:\n",
    "    writer = csv.writer(csvfile)\n",
    "\n",
    "    writer.writerow(['accuracies_train_clean', 'accuracies_test_clean', 'accuracies_train_clean_corrected', 'accuracies_test_clean_corrected', 'accuracies_train_wsd_1', 'accuracies_test_wsd_1', 'accuracies_train_wsd_2_glove_6b_50d', 'accuracies_test_wsd_2_glove_6b_50d'])\n",
    "\n",
    "    for row in data_lists_to_export:\n",
    "        writer.writerow(row)"
   ],
   "metadata": {
    "collapsed": false,
    "ExecuteTime": {
     "end_time": "2024-04-19T14:15:51.975300Z",
     "start_time": "2024-04-19T14:15:51.952108Z"
    }
   },
   "id": "f0148c038ab2040d",
   "execution_count": 26
  },
  {
   "cell_type": "markdown",
   "source": [
    "### Loss"
   ],
   "metadata": {
    "collapsed": false
   },
   "id": "3442a2d1eeb10260"
  },
  {
   "cell_type": "code",
   "outputs": [
    {
     "ename": "NameError",
     "evalue": "name 'losses_train_wsd_1' is not defined",
     "output_type": "error",
     "traceback": [
      "\u001B[1;31m---------------------------------------------------------------------------\u001B[0m",
      "\u001B[1;31mNameError\u001B[0m                                 Traceback (most recent call last)",
      "Cell \u001B[1;32mIn[27], line 3\u001B[0m\n\u001B[0;32m      1\u001B[0m path \u001B[38;5;241m=\u001B[39m \u001B[38;5;124m'\u001B[39m\u001B[38;5;124m../results_metrics/\u001B[39m\u001B[38;5;124m'\u001B[39m\n\u001B[0;32m      2\u001B[0m filename \u001B[38;5;241m=\u001B[39m \u001B[38;5;124mf\u001B[39m\u001B[38;5;124m'\u001B[39m\u001B[38;5;132;01m{\u001B[39;00mexport_time\u001B[38;5;132;01m}\u001B[39;00m\u001B[38;5;124m_loss.csv\u001B[39m\u001B[38;5;124m'\u001B[39m\n\u001B[1;32m----> 3\u001B[0m data_lists_to_export \u001B[38;5;241m=\u001B[39m \u001B[38;5;28mzip\u001B[39m(losses_train_clean, losses_test_clean, losses_train_clean_corrected, losses_test_clean_corrected, \u001B[43mlosses_train_wsd_1\u001B[49m, losses_test_wsd_1, losses_train_wsd_2, losses_test_wsd_2)\n\u001B[0;32m      5\u001B[0m \u001B[38;5;28;01mwith\u001B[39;00m \u001B[38;5;28mopen\u001B[39m(path \u001B[38;5;241m+\u001B[39m filename, \u001B[38;5;124m'\u001B[39m\u001B[38;5;124mw\u001B[39m\u001B[38;5;124m'\u001B[39m, newline\u001B[38;5;241m=\u001B[39m\u001B[38;5;124m'\u001B[39m\u001B[38;5;124m'\u001B[39m) \u001B[38;5;28;01mas\u001B[39;00m csvfile:\n\u001B[0;32m      6\u001B[0m     writer \u001B[38;5;241m=\u001B[39m csv\u001B[38;5;241m.\u001B[39mwriter(csvfile)\n",
      "\u001B[1;31mNameError\u001B[0m: name 'losses_train_wsd_1' is not defined"
     ]
    }
   ],
   "source": [
    "path = '../results_metrics/'\n",
    "filename = f'{export_time}_loss.csv'\n",
    "data_lists_to_export = zip(losses_train_clean, losses_test_clean, losses_train_clean_corrected, losses_test_clean_corrected, losses_train_wsd_1, losses_test_wsd_1, losses_train_wsd_2, losses_test_wsd_2)\n",
    "\n",
    "with open(path + filename, 'w', newline='') as csvfile:\n",
    "    writer = csv.writer(csvfile)\n",
    "\n",
    "    writer.writerow(['losses_train_clean', 'losses_test_clean', 'losses_train_clean_corrected', 'losses_test_clean_corrected', 'losses_train_wsd_1', 'losses_test_wsd_1', 'losses_train_wsd_2_glove_6b_50d', 'losses_test_wsd_2_glove_6b_50d'])\n",
    "\n",
    "    for row in data_lists_to_export:\n",
    "        writer.writerow(row)"
   ],
   "metadata": {
    "collapsed": false,
    "ExecuteTime": {
     "end_time": "2024-04-19T14:15:52.414579Z",
     "start_time": "2024-04-19T14:15:52.388974Z"
    }
   },
   "id": "bc5eae9c48d7b325",
   "execution_count": 27
  },
  {
   "cell_type": "markdown",
   "source": [
    "## import results"
   ],
   "metadata": {
    "collapsed": false
   },
   "id": "a82e7a43beb93b34"
  },
  {
   "cell_type": "code",
   "outputs": [],
   "source": [
    "# accuracy_df = pd.read_csv(f\"../results_metrics/{export_time}_accuracy.csv\")\n",
    "# loss_df = pd.read_csv(f\"../results_metrics/{export_time}_loss.csv\")"
   ],
   "metadata": {
    "collapsed": false,
    "ExecuteTime": {
     "end_time": "2024-04-19T14:15:52.913470Z",
     "start_time": "2024-04-19T14:15:52.909903Z"
    }
   },
   "id": "2caf07f969529d5b",
   "execution_count": 28
  },
  {
   "cell_type": "code",
   "outputs": [],
   "source": [
    "accuracy_df = pd.read_csv(f\"../results_metrics/1713535050_accuracy.csv\")\n",
    "loss_df = pd.read_csv(f\"../results_metrics/1713535050_loss.csv\")"
   ],
   "metadata": {
    "collapsed": false,
    "ExecuteTime": {
     "end_time": "2024-04-19T14:21:18.467870Z",
     "start_time": "2024-04-19T14:21:18.462014Z"
    }
   },
   "id": "691e5a3202fa774f",
   "execution_count": 35
  },
  {
   "cell_type": "markdown",
   "source": [
    "\n",
    "## clean dataset results"
   ],
   "metadata": {
    "collapsed": false
   },
   "id": "548b590747ec7ff1"
  },
  {
   "cell_type": "code",
   "outputs": [
    {
     "data": {
      "text/plain": "<Figure size 2000x600 with 1 Axes>",
      "image/png": "[encoded data removed]"
     },
     "metadata": {},
     "output_type": "display_data"
    },
    {
     "data": {
      "text/plain": "<Figure size 2000x600 with 1 Axes>",
      "image/png": "[encoded data removed]"
     },
     "metadata": {},
     "output_type": "display_data"
    }
   ],
   "source": [
    "accuracies_train_clean = accuracy_df['accuracies_train_clean'].tolist()\n",
    "accuracies_test_clean = accuracy_df['accuracies_test_clean'].tolist()\n",
    "\n",
    "losses_train_clean = loss_df['losses_train_clean'].tolist()\n",
    "losses_test_clean = loss_df['losses_test_clean'].tolist()\n",
    "\n",
    "\n",
    "plt.figure(figsize=(20, 6))\n",
    "\n",
    "plt.plot(number_of_epochs, accuracies_train_clean, label=f'Train', linewidth=3, color='green')\n",
    "plt.plot(number_of_epochs, accuracies_test_clean, label='Test', linewidth=3, color='purple')\n",
    "\n",
    "\n",
    "plt.xticks(range(min(number_of_epochs), max(number_of_epochs) + 1, 1))\n",
    "plt.ylim(min(accuracies_train_clean + accuracies_test_clean) - 0.002, max(accuracies_train_clean + accuracies_test_clean) + 0.002)\n",
    "\n",
    "plt.legend(loc='lower right')\n",
    "plt.grid(linestyle='--')\n",
    "\n",
    "\n",
    "plt.xlabel('Number of epochs', fontsize=20)\n",
    "plt.ylabel('Accuracy value', fontsize=20)\n",
    "plt.title(f'LSTM Accuracy train vs. test for clean dataset', fontsize=20)\n",
    "\n",
    "plt.show()\n",
    "\n",
    "\n",
    "plt.figure(figsize=(20, 6))\n",
    "\n",
    "\n",
    "plt.plot(number_of_epochs, losses_train_clean, label=f'Train', linewidth=3, color='green')\n",
    "plt.plot(number_of_epochs, losses_test_clean, label='Test', linewidth=3, color='purple')\n",
    "\n",
    "plt.xticks(range(min(number_of_epochs), max(number_of_epochs) + 1, 1))\n",
    "plt.ylim(min(losses_train_clean + losses_test_clean) - 0.02, max(losses_train_clean + losses_test_clean) + 0.02)\n",
    "\n",
    "plt.legend(loc='upper right')\n",
    "plt.grid(linestyle='--')\n",
    "\n",
    "\n",
    "plt.xlabel('Number of epochs', fontsize=20)\n",
    "plt.ylabel('Loss value', fontsize=20)\n",
    "plt.title(f'LSTM Loss train vs. test for clean dataset', fontsize=20)\n",
    "\n",
    "plt.show()"
   ],
   "metadata": {
    "collapsed": false,
    "ExecuteTime": {
     "end_time": "2024-04-19T14:21:19.756830Z",
     "start_time": "2024-04-19T14:21:19.273111Z"
    }
   },
   "id": "669e07dda497aea0",
   "execution_count": 36
  },
  {
   "cell_type": "markdown",
   "source": [
    "## clean_corrected dataset results"
   ],
   "metadata": {
    "collapsed": false
   },
   "id": "381a6bab7e46f9a5"
  },
  {
   "cell_type": "code",
   "outputs": [
    {
     "data": {
      "text/plain": "<Figure size 2000x600 with 1 Axes>",
      "image/png": "[encoded data removed]"
     },
     "metadata": {},
     "output_type": "display_data"
    },
    {
     "data": {
      "text/plain": "<Figure size 2000x600 with 1 Axes>",
      "image/png": "[encoded data removed]"
     },
     "metadata": {},
     "output_type": "display_data"
    }
   ],
   "source": [
    "accuracies_train_clean_corrected = accuracy_df['accuracies_train_clean_corrected'].tolist()\n",
    "accuracies_test_clean_corrected = accuracy_df['accuracies_test_clean_corrected'].tolist()\n",
    "\n",
    "losses_train_clean_corrected = loss_df['losses_train_clean_corrected'].tolist()\n",
    "losses_test_clean_corrected = loss_df['losses_test_clean_corrected'].tolist()\n",
    "\n",
    "\n",
    "plt.figure(figsize=(20, 6))\n",
    "\n",
    "plt.plot(number_of_epochs, accuracies_train_clean_corrected, label=f'Train', linewidth=3, color='green')\n",
    "plt.plot(number_of_epochs, accuracies_test_clean_corrected, label='Test', linewidth=3, color='purple')\n",
    "\n",
    "\n",
    "plt.xticks(range(min(number_of_epochs), max(number_of_epochs) + 1, 1))\n",
    "plt.ylim(min(accuracies_train_clean_corrected + accuracies_test_clean_corrected) - 0.002, max(accuracies_train_clean_corrected + accuracies_test_clean_corrected) + 0.002)\n",
    "\n",
    "plt.legend(loc='lower right')\n",
    "plt.grid(linestyle='--')\n",
    "\n",
    "\n",
    "plt.xlabel('Number of epochs', fontsize=20)\n",
    "plt.ylabel('Accuracy value', fontsize=20)\n",
    "plt.title(f'LSTM Accuracy train vs. test for clean corrected dataset', fontsize=20)\n",
    "\n",
    "plt.show()\n",
    "\n",
    "\n",
    "plt.figure(figsize=(20, 6))\n",
    "\n",
    "\n",
    "plt.plot(number_of_epochs, losses_train_clean_corrected, label=f'Train', linewidth=3, color='green')\n",
    "plt.plot(number_of_epochs, losses_test_clean_corrected, label='Test', linewidth=3, color='purple')\n",
    "\n",
    "plt.xticks(range(min(number_of_epochs), max(number_of_epochs) + 1, 1))\n",
    "plt.ylim(min(losses_train_clean_corrected + losses_test_clean_corrected) - 0.02, max(losses_train_clean_corrected + losses_test_clean_corrected) + 0.02)\n",
    "\n",
    "plt.legend(loc='upper right')\n",
    "plt.grid(linestyle='--')\n",
    "\n",
    "\n",
    "plt.xlabel('Number of epochs', fontsize=20)\n",
    "plt.ylabel('Loss value', fontsize=20)\n",
    "plt.title(f'LSTM Loss train vs. test for clean corrected dataset', fontsize=20)\n",
    "\n",
    "plt.show()"
   ],
   "metadata": {
    "collapsed": false,
    "ExecuteTime": {
     "end_time": "2024-04-19T14:21:20.654120Z",
     "start_time": "2024-04-19T14:21:20.189470Z"
    }
   },
   "id": "53da442acf82e9a1",
   "execution_count": 37
  },
  {
   "cell_type": "markdown",
   "source": [
    "## clean dataset after wsd_1 algorithm results"
   ],
   "metadata": {
    "collapsed": false
   },
   "id": "c4cac0810d46623"
  },
  {
   "cell_type": "code",
   "outputs": [
    {
     "data": {
      "text/plain": "<Figure size 2000x600 with 1 Axes>",
      "image/png": "[encoded data removed]"
     },
     "metadata": {},
     "output_type": "display_data"
    },
    {
     "data": {
      "text/plain": "<Figure size 2000x600 with 1 Axes>",
      "image/png": "[encoded data removed]"
     },
     "metadata": {},
     "output_type": "display_data"
    }
   ],
   "source": [
    "accuracies_train_wsd_1 = accuracy_df['accuracies_train_wsd_1'].tolist()\n",
    "accuracies_test_wsd_1 = accuracy_df['accuracies_test_wsd_1'].tolist()\n",
    "\n",
    "losses_train_wsd_1 = loss_df['losses_train_wsd_1'].tolist()\n",
    "losses_test_wsd_1 = loss_df['losses_test_wsd_1'].tolist()\n",
    "\n",
    "\n",
    "plt.figure(figsize=(20, 6))\n",
    "\n",
    "plt.plot(number_of_epochs, accuracies_train_wsd_1, label=f'Train', linewidth=3, color='green')\n",
    "plt.plot(number_of_epochs, accuracies_test_wsd_1, label='Test', linewidth=3, color='purple')\n",
    "\n",
    "\n",
    "plt.xticks(range(min(number_of_epochs), max(number_of_epochs) + 1, 1))\n",
    "plt.ylim(min(accuracies_train_wsd_1 + accuracies_test_wsd_1) - 0.002, max(accuracies_train_wsd_1 + accuracies_test_wsd_1) + 0.002)\n",
    "\n",
    "plt.legend(loc='lower right')\n",
    "plt.grid(linestyle='--')\n",
    "\n",
    "\n",
    "plt.xlabel('Number of epochs', fontsize=20)\n",
    "plt.ylabel('Accuracy value', fontsize=20)\n",
    "plt.title(f'LSTM Accuracy train vs. test for clean dataset after wsd_1', fontsize=20)\n",
    "\n",
    "plt.show()\n",
    "\n",
    "\n",
    "\n",
    "plt.figure(figsize=(20, 6))\n",
    "\n",
    "\n",
    "plt.plot(number_of_epochs, losses_train_wsd_1, label=f'Train', linewidth=3, color='green')\n",
    "plt.plot(number_of_epochs, losses_test_wsd_1, label='Test', linewidth=3, color='purple')\n",
    "\n",
    "plt.xticks(range(min(number_of_epochs), max(number_of_epochs) + 1, 1))\n",
    "plt.ylim(min(losses_train_wsd_1 + losses_test_wsd_1) - 0.02, max(losses_train_wsd_1 + losses_test_wsd_1) + 0.02)\n",
    "\n",
    "plt.legend(loc='upper right')\n",
    "plt.grid(linestyle='--')\n",
    "\n",
    "\n",
    "plt.xlabel('Number of epochs', fontsize=20)\n",
    "plt.ylabel('Loss value', fontsize=20)\n",
    "plt.title(f'LSTM Loss train vs. test for clean dataset after wsd_1', fontsize=20)\n",
    "\n",
    "plt.show()"
   ],
   "metadata": {
    "collapsed": false,
    "ExecuteTime": {
     "end_time": "2024-04-19T14:21:22.313205Z",
     "start_time": "2024-04-19T14:21:21.883166Z"
    }
   },
   "id": "d4bc4b6381c6b704",
   "execution_count": 38
  },
  {
   "cell_type": "markdown",
   "source": [
    "## clean corrected dataset after wsd_2 (glove.6b.50d) algorithm "
   ],
   "metadata": {
    "collapsed": false
   },
   "id": "6f327465bc340682"
  },
  {
   "cell_type": "code",
   "outputs": [
    {
     "data": {
      "text/plain": "<Figure size 2000x600 with 1 Axes>",
      "image/png": "[encoded data removed]"
     },
     "metadata": {},
     "output_type": "display_data"
    },
    {
     "data": {
      "text/plain": "<Figure size 2000x600 with 1 Axes>",
      "image/png": "[encoded data removed]"
     },
     "metadata": {},
     "output_type": "display_data"
    }
   ],
   "source": [
    "accuracies_train_wsd_2 = accuracy_df['accuracies_train_wsd_2_glove_6b_50d'].tolist()\n",
    "accuracies_test_wsd_2 = accuracy_df['accuracies_test_wsd_2_glove_6b_50d'].tolist()\n",
    "\n",
    "losses_train_wsd_2 = loss_df['losses_train_wsd_2_glove_6b_50d'].tolist()\n",
    "losses_test_wsd_2 = loss_df['losses_test_wsd_2_glove_6b_50d'].tolist()\n",
    "\n",
    "\n",
    "plt.figure(figsize=(20, 6))\n",
    "\n",
    "plt.plot(number_of_epochs, accuracies_train_wsd_2, label=f'Train', linewidth=3, color='green')\n",
    "plt.plot(number_of_epochs, accuracies_test_wsd_2, label='Test', linewidth=3, color='purple')\n",
    "\n",
    "\n",
    "plt.xticks(range(min(number_of_epochs), max(number_of_epochs) + 1, 1))\n",
    "plt.ylim(min(accuracies_train_wsd_2 + accuracies_test_wsd_2) - 0.002, max(accuracies_train_wsd_2 + accuracies_test_wsd_2) + 0.002)\n",
    "\n",
    "plt.legend(loc='upper left')\n",
    "plt.grid(linestyle='--')\n",
    "\n",
    "\n",
    "plt.xlabel('Number of epochs', fontsize=20)\n",
    "plt.ylabel('Accuracy value', fontsize=20)\n",
    "plt.title(f'LSTM Accuracy train vs. test for clean corrected dataset wsd_2 (glove.6b.50d)', fontsize=20)\n",
    "\n",
    "plt.show()\n",
    "\n",
    "\n",
    "\n",
    "plt.figure(figsize=(20, 6))\n",
    "\n",
    "\n",
    "plt.plot(number_of_epochs, losses_train_wsd_2, label=f'Train', linewidth=3, color='green')\n",
    "plt.plot(number_of_epochs, losses_test_wsd_2, label='Test', linewidth=3, color='purple')\n",
    "\n",
    "plt.xticks(range(min(number_of_epochs), max(number_of_epochs) + 1, 1))\n",
    "plt.ylim(min(losses_train_wsd_2 + losses_test_wsd_2) - 0.02, max(losses_train_wsd_2 + losses_test_wsd_2) + 0.02)\n",
    "\n",
    "plt.legend(loc='upper left')\n",
    "plt.grid(linestyle='--')\n",
    "\n",
    "\n",
    "plt.xlabel('Number of epochs', fontsize=20)\n",
    "plt.ylabel('Loss value', fontsize=20)\n",
    "plt.title(f'LSTM Loss train vs. test for clean corrected dataset wsd_2 (glove.6b.50d)', fontsize=20)\n",
    "\n",
    "plt.show()"
   ],
   "metadata": {
    "collapsed": false,
    "ExecuteTime": {
     "end_time": "2024-04-19T14:21:23.924493Z",
     "start_time": "2024-04-19T14:21:23.452321Z"
    }
   },
   "id": "771fb1627cba7882",
   "execution_count": 39
  },
  {
   "cell_type": "code",
   "outputs": [],
   "source": [],
   "metadata": {
    "collapsed": false,
    "ExecuteTime": {
     "end_time": "2024-04-19T14:16:13.611534Z",
     "start_time": "2024-04-19T14:16:13.608851Z"
    }
   },
   "id": "970460a3a63fb255",
   "execution_count": 34
  }
 ],
 "metadata": {
  "kernelspec": {
   "display_name": "Python 3",
   "language": "python",
   "name": "python3"
  },
  "language_info": {
   "codemirror_mode": {
    "name": "ipython",
    "version": 2
   },
   "file_extension": ".py",
   "mimetype": "text/x-python",
   "name": "python",
   "nbconvert_exporter": "python",
   "pygments_lexer": "ipython2",
   "version": "2.7.6"
  }
 },
 "nbformat": 4,
 "nbformat_minor": 5
}
