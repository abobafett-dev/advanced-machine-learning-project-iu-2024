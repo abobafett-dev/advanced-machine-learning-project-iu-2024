{
 "cells": [
  {
   "cell_type": "markdown",
   "source": [
    "# 1. imports"
   ],
   "metadata": {
    "collapsed": false
   },
   "id": "1ae10d82612724b0"
  },
  {
   "cell_type": "code",
   "id": "initial_id",
   "metadata": {
    "collapsed": true,
    "ExecuteTime": {
     "end_time": "2024-04-22T15:28:23.581580Z",
     "start_time": "2024-04-22T15:28:23.566566Z"
    }
   },
   "source": [
    "import pandas as pd\n",
    "import numpy as np\n",
    "import torch\n",
    "import torch.nn as nn\n",
    "import torch.optim as optim\n",
    "import torchtext\n",
    "from torch.utils.data import DataLoader\n",
    "from sklearn.model_selection import train_test_split\n",
    "from torch.utils.data import Dataset\n",
    "import gc\n",
    "from tqdm import tqdm\n",
    "import csv\n",
    "import os\n",
    "\n",
    "%matplotlib inline"
   ],
   "outputs": [],
   "execution_count": 4
  },
  {
   "cell_type": "markdown",
   "source": [
    "# 2. function convert str of text to list when we upload data"
   ],
   "metadata": {
    "collapsed": false
   },
   "id": "b6d5c3c79342a365"
  },
  {
   "cell_type": "code",
   "source": [
    "def str_text_to_list(value):\n",
    "    list_values = value.strip('[]').split(', ')\n",
    "    cleaned_list_values = [item[1:-1] for item in list_values]\n",
    "    return cleaned_list_values"
   ],
   "metadata": {
    "collapsed": false,
    "ExecuteTime": {
     "end_time": "2024-04-22T15:28:24.060399Z",
     "start_time": "2024-04-22T15:28:24.053115Z"
    }
   },
   "id": "52965d7484f14b07",
   "outputs": [],
   "execution_count": 5
  },
  {
   "cell_type": "markdown",
   "source": [
    "# 3. take labels from data"
   ],
   "metadata": {
    "collapsed": false
   },
   "id": "20941a577f66a2f3"
  },
  {
   "cell_type": "code",
   "source": [
    "dataset_wsd_1 = pd.read_csv(\"../datasets/tonetags_wsd_1.csv\", index_col=0, converters={\"text\": str_text_to_list})\n",
    "\n",
    "labels = dataset_wsd_1.tags.unique().tolist()\n",
    "\n",
    "del dataset_wsd_1\n",
    "gc.collect()"
   ],
   "metadata": {
    "collapsed": false,
    "ExecuteTime": {
     "end_time": "2024-04-22T15:28:42.727429Z",
     "start_time": "2024-04-22T15:28:24.235343Z"
    }
   },
   "id": "a70bdfc7e3d78174",
   "outputs": [
    {
     "data": {
      "text/plain": [
       "0"
      ]
     },
     "execution_count": 6,
     "metadata": {},
     "output_type": "execute_result"
    }
   ],
   "execution_count": 6
  },
  {
   "metadata": {
    "ExecuteTime": {
     "end_time": "2024-04-22T15:28:42.745727Z",
     "start_time": "2024-04-22T15:28:42.732820Z"
    }
   },
   "cell_type": "code",
   "source": "labels",
   "id": "dec4efa3f64c65de",
   "outputs": [
    {
     "data": {
      "text/plain": [
       "['genuine question',\n",
       " 'half joking',\n",
       " 'genuine',\n",
       " 'not a vent',\n",
       " 'reference',\n",
       " 'serious',\n",
       " 'platonic',\n",
       " 'inside joke',\n",
       " 'sarcastic',\n",
       " 'joking',\n",
       " 'romantic',\n",
       " 'passive aggressive',\n",
       " 'copypasta',\n",
       " 'ironic',\n",
       " 'clickbait',\n",
       " 'lyrics',\n",
       " 'nothing personal',\n",
       " 'not mad',\n",
       " 'rhetorical']"
      ]
     },
     "execution_count": 7,
     "metadata": {},
     "output_type": "execute_result"
    }
   ],
   "execution_count": 7
  },
  {
   "cell_type": "markdown",
   "source": [
    "# 4. create vocab and embedding by some pretrained embedding"
   ],
   "metadata": {
    "collapsed": false
   },
   "id": "d751d71c63545642"
  },
  {
   "cell_type": "code",
   "source": [
    "glove_twitter_27B = torchtext.vocab.GloVe(name='twitter.27B', dim=50)"
   ],
   "metadata": {
    "collapsed": false,
    "ExecuteTime": {
     "end_time": "2024-04-21T17:24:59.122592Z",
     "start_time": "2024-04-21T17:24:57.694783Z"
    }
   },
   "id": "40baed9771b7a9a8",
   "outputs": [],
   "execution_count": 4
  },
  {
   "cell_type": "code",
   "source": [
    "vocab = glove_twitter_27B.stoi\n",
    "vocab[\"<unk>\"] = len(vocab)\n",
    "vocab[\"<pad>\"] = len(vocab)"
   ],
   "metadata": {
    "collapsed": false,
    "ExecuteTime": {
     "end_time": "2024-04-21T17:24:59.129281Z",
     "start_time": "2024-04-21T17:24:59.125577Z"
    }
   },
   "id": "da89eb00882c7f4a",
   "outputs": [],
   "execution_count": 5
  },
  {
   "cell_type": "code",
   "source": [
    "embedding_vector = glove_twitter_27B.vectors.numpy()\n",
    "embedding_vector = np.append(embedding_vector, np.zeros(50)).reshape(-1, 50) # vector for unknown value in vocab\n",
    "embedding_vector = np.append(embedding_vector, np.ones(50)).reshape(-1, 50) # vector for padding value in vocab"
   ],
   "metadata": {
    "collapsed": false,
    "ExecuteTime": {
     "end_time": "2024-04-21T17:24:59.366487Z",
     "start_time": "2024-04-21T17:24:59.130276Z"
    }
   },
   "id": "36374af168ed4cfb",
   "outputs": [],
   "execution_count": 6
  },
  {
   "cell_type": "code",
   "source": [
    "embedding_tensor = torch.tensor(embedding_vector, dtype=torch.float)"
   ],
   "metadata": {
    "collapsed": false,
    "ExecuteTime": {
     "end_time": "2024-04-21T17:24:59.447062Z",
     "start_time": "2024-04-21T17:24:59.367482Z"
    }
   },
   "id": "c5575c42a0d7d78b",
   "outputs": [],
   "execution_count": 7
  },
  {
   "cell_type": "code",
   "source": [
    "nn.Embedding.from_pretrained(embedding_tensor, freeze=True)"
   ],
   "metadata": {
    "collapsed": false,
    "ExecuteTime": {
     "end_time": "2024-04-21T17:24:59.454520Z",
     "start_time": "2024-04-21T17:24:59.448057Z"
    }
   },
   "id": "2e55c14934bb66f9",
   "outputs": [
    {
     "data": {
      "text/plain": [
       "Embedding(1193516, 50)"
      ]
     },
     "execution_count": 8,
     "metadata": {},
     "output_type": "execute_result"
    }
   ],
   "execution_count": 8
  },
  {
   "cell_type": "markdown",
   "source": [
    "# 5. create class of datasets"
   ],
   "metadata": {
    "collapsed": false
   },
   "id": "2d930e7341c017ce"
  },
  {
   "cell_type": "code",
   "source": [
    "max_length = 4096"
   ],
   "metadata": {
    "collapsed": false,
    "ExecuteTime": {
     "end_time": "2024-04-21T17:24:59.459968Z",
     "start_time": "2024-04-21T17:24:59.455510Z"
    }
   },
   "id": "1725596913a6421a",
   "outputs": [],
   "execution_count": 9
  },
  {
   "cell_type": "code",
   "source": [
    "class myDataset(Dataset):\n",
    "    def __init__(self, dataset):\n",
    "        self.data = []\n",
    "        for sentence in dataset.text:\n",
    "            if len(sentence) > max_length:\n",
    "                continue\n",
    "            sentence_ids = []\n",
    "            for token in sentence:\n",
    "                try:\n",
    "                    sentence_ids.append(vocab[token])\n",
    "                except KeyError:\n",
    "                    sentence_ids.append(vocab[\"<unk>\"])\n",
    "            self.data.append(sentence_ids)\n",
    "        self.labels = dataset.tags\n",
    "\n",
    "        self.context = None\n",
    "\n",
    "        if 'context' in dataset.columns:\n",
    "            self.context = dataset.context\n",
    "\n",
    "    def __len__(self):\n",
    "        return len(self.data)\n",
    "\n",
    "    def __getitem__(self, idx):\n",
    "        if self.context is None:\n",
    "            return self.data[idx], torch.tensor(self.labels.iloc[idx])\n",
    "        else:\n",
    "            return self.data[idx], torch.tensor(self.labels.iloc[idx]), self.context.iloc[idx]"
   ],
   "metadata": {
    "collapsed": false,
    "ExecuteTime": {
     "end_time": "2024-04-21T17:24:59.488Z",
     "start_time": "2024-04-21T17:24:59.460960Z"
    }
   },
   "id": "23e46798d9c1d0d1",
   "outputs": [],
   "execution_count": 10
  },
  {
   "cell_type": "markdown",
   "source": [
    "# 6. Dataloader part"
   ],
   "metadata": {
    "collapsed": false
   },
   "id": "3d48b4d00affba2b"
  },
  {
   "cell_type": "code",
   "source": [
    "batch_size = 32"
   ],
   "metadata": {
    "collapsed": false,
    "ExecuteTime": {
     "end_time": "2024-04-21T17:24:59.493789Z",
     "start_time": "2024-04-21T17:24:59.488993Z"
    }
   },
   "id": "cab82a0f63f84b3e",
   "outputs": [],
   "execution_count": 11
  },
  {
   "cell_type": "code",
   "source": [
    "def collate_fn(batch):\n",
    "    data_ids = []\n",
    "    labels = []\n",
    "    contexts = []\n",
    "\n",
    "    for dat in batch:\n",
    "\n",
    "        data_ids.append(dat[0])\n",
    "        labels.append(dat[1])\n",
    "\n",
    "        if len(dat) >= 3:\n",
    "            contexts.append(dat[2])\n",
    "\n",
    "    for i in range(len(data_ids)):\n",
    "        while len(data_ids[i]) < max_length:\n",
    "            data_ids[i].append(vocab[\"<pad>\"])\n",
    "\n",
    "    return torch.tensor(data_ids), torch.tensor(contexts), torch.tensor(labels)"
   ],
   "metadata": {
    "collapsed": false,
    "ExecuteTime": {
     "end_time": "2024-04-21T17:24:59.502420Z",
     "start_time": "2024-04-21T17:24:59.495438Z"
    }
   },
   "id": "285237bf0a0cec60",
   "outputs": [],
   "execution_count": 12
  },
  {
   "cell_type": "markdown",
   "source": [
    "# 7. Create model"
   ],
   "metadata": {
    "collapsed": false
   },
   "id": "d758415087f4b73e"
  },
  {
   "cell_type": "markdown",
   "source": [
    "## 7.1. lstm for wsd_1, clean and clean_corrected datasets"
   ],
   "metadata": {
    "collapsed": false
   },
   "id": "cac40074f8574adc"
  },
  {
   "cell_type": "code",
   "source": [
    "class ToneTagsLSTM(nn.Module):\n",
    "    def __init__(self, vocab_size, embedding, hidden_dim, output_size, num_layers, dropout):\n",
    "        super(ToneTagsLSTM, self).__init__()\n",
    "        \n",
    "        # output_size = 19\n",
    "\n",
    "        self.embedding = embedding\n",
    "\n",
    "        self.lstm = nn.LSTM(self.embedding.embedding_dim, hidden_dim, num_layers=num_layers, bidirectional=True, dropout=dropout, batch_first=True)\n",
    "\n",
    "        self.fc1 = nn.Linear(hidden_dim * max_length * 2, 1024)\n",
    "        self.fc2 = nn.Linear(1024, 512)\n",
    "        self.fc3 = nn.Linear(512, output_size)\n",
    "        # self.out = nn.Softmax(output_size, dim=1)\n",
    "\n",
    "\n",
    "    def forward(self, x):\n",
    "\n",
    "        embedded = self.embedding(x)\n",
    "        output, (hidden, cell) = self.lstm(embedded)\n",
    "\n",
    "\n",
    "        lstm_out = output.reshape(batch_size, -1)\n",
    "\n",
    "        fc1_out = self.fc1(lstm_out)\n",
    "\n",
    "\n",
    "        fc2_out = self.fc2(fc1_out)\n",
    "        out = self.fc3(fc2_out)\n",
    "        # out = self.out(fc3_out)\n",
    "\n",
    "        return out"
   ],
   "metadata": {
    "collapsed": false,
    "ExecuteTime": {
     "end_time": "2024-04-21T17:24:59.513391Z",
     "start_time": "2024-04-21T17:24:59.504415Z"
    }
   },
   "id": "b80ccda661e22f31",
   "outputs": [],
   "execution_count": 13
  },
  {
   "cell_type": "markdown",
   "source": [
    "## 7.2. parameters of this model"
   ],
   "metadata": {
    "collapsed": false
   },
   "id": "7081088a87e4b136"
  },
  {
   "cell_type": "code",
   "source": [
    "vocab_size = len(vocab)\n",
    "embedding = nn.Embedding.from_pretrained(embedding_tensor, freeze=True)\n",
    "hidden_dim = 30\n",
    "output_size = len(labels) # 19\n",
    "num_layers = 4\n",
    "dropout = 0.2\n",
    "device = torch.device(\"cuda\" if torch.cuda.is_available() else \"cpu\")\n",
    "lr = 5e-4\n",
    "\n",
    "n_epochs = 20\n",
    "\n",
    "\n",
    "criterion = nn.CrossEntropyLoss()"
   ],
   "metadata": {
    "collapsed": false,
    "ExecuteTime": {
     "end_time": "2024-04-21T17:24:59.542314Z",
     "start_time": "2024-04-21T17:24:59.517380Z"
    }
   },
   "id": "d0efae4d5f9679bc",
   "outputs": [],
   "execution_count": 14
  },
  {
   "cell_type": "markdown",
   "source": "# 8. function to export results",
   "metadata": {
    "collapsed": false
   },
   "id": "96cf31d099446742"
  },
  {
   "cell_type": "code",
   "source": [
    "def export_predictions(dir_name, epoch, train_predictions, train_tags, test_predictions, test_tags):\n",
    "\n",
    "    train_predictions = train_predictions\n",
    "    train_tags = train_tags\n",
    "    \n",
    "    test_predictions = test_predictions\n",
    "    test_tags = test_tags\n",
    "    \n",
    "    # export_time = int(datetime.datetime.now().timestamp())\n",
    "    file_path = f'../results/lstm/predictions_vs_tags/{dir_name}'\n",
    "    \n",
    "    if not os.path.exists(file_path):\n",
    "        os.makedirs(file_path)\n",
    "\n",
    "    with open(f'{file_path}/{epoch}.csv', 'w', newline='\\n') as csvfile:\n",
    "        writer = csv.writer(csvfile)\n",
    "    \n",
    "        writer.writerow(['train_predictions', 'train_tags', 'test_predictions', 'test_tags'])\n",
    "    \n",
    "        for row in zip(train_predictions, train_tags, test_predictions, test_tags):\n",
    "            writer.writerow(row)"
   ],
   "metadata": {
    "collapsed": false,
    "ExecuteTime": {
     "end_time": "2024-04-21T17:24:59.550487Z",
     "start_time": "2024-04-21T17:24:59.543311Z"
    }
   },
   "id": "d344dfc7b3b7c189",
   "outputs": [],
   "execution_count": 15
  },
  {
   "cell_type": "markdown",
   "source": [
    "# 9. wsd_1 dataset"
   ],
   "metadata": {
    "collapsed": false
   },
   "id": "96bc2ed98dbe8f17"
  },
  {
   "cell_type": "markdown",
   "source": [
    "## 9.1. upload dataset"
   ],
   "metadata": {
    "collapsed": false
   },
   "id": "5655512665aed631"
  },
  {
   "cell_type": "code",
   "source": [
    "dataset_wsd_1 = pd.read_csv(\"../datasets/tonetags_wsd_1.csv\", index_col=0, converters={\"text\": str_text_to_list})"
   ],
   "metadata": {
    "collapsed": false,
    "ExecuteTime": {
     "end_time": "2024-04-20T12:01:22.619564Z",
     "start_time": "2024-04-20T12:01:17.540232Z"
    }
   },
   "id": "4074872f85decba7",
   "outputs": [],
   "execution_count": 16
  },
  {
   "cell_type": "markdown",
   "source": [
    "## 9.2. encode labels"
   ],
   "metadata": {
    "collapsed": false
   },
   "id": "57e92483a0d469f1"
  },
  {
   "cell_type": "code",
   "source": [
    "dataset_wsd_1.tags = dataset_wsd_1.tags.apply(labels.index)"
   ],
   "metadata": {
    "collapsed": false,
    "ExecuteTime": {
     "end_time": "2024-04-20T12:01:22.657747Z",
     "start_time": "2024-04-20T12:01:22.620446Z"
    }
   },
   "id": "82b15ca4fc9615cc",
   "outputs": [],
   "execution_count": 17
  },
  {
   "cell_type": "markdown",
   "source": [
    "## 9.3. split"
   ],
   "metadata": {
    "collapsed": false
   },
   "id": "e33cb2340e138a36"
  },
  {
   "cell_type": "code",
   "source": [
    "train_wsd_1, test_wsd_1 = train_test_split(dataset_wsd_1, stratify=dataset_wsd_1['tags'], test_size=0.2, random_state=42)"
   ],
   "metadata": {
    "collapsed": false,
    "ExecuteTime": {
     "end_time": "2024-04-20T12:01:22.694883Z",
     "start_time": "2024-04-20T12:01:22.658744Z"
    }
   },
   "id": "3161f71e01893b01",
   "outputs": [],
   "execution_count": 18
  },
  {
   "cell_type": "markdown",
   "source": [
    "## 9.4. create datasets"
   ],
   "metadata": {
    "collapsed": false
   },
   "id": "87a4d853c40820b3"
  },
  {
   "cell_type": "code",
   "source": [
    "train_dataset_wsd_1, test_dataset_wsd_1 = myDataset(train_wsd_1), myDataset(test_wsd_1)"
   ],
   "metadata": {
    "collapsed": false,
    "ExecuteTime": {
     "end_time": "2024-04-20T12:01:26.111390Z",
     "start_time": "2024-04-20T12:01:22.695880Z"
    }
   },
   "id": "cd7a9d8076736b9c",
   "outputs": [],
   "execution_count": 19
  },
  {
   "cell_type": "markdown",
   "source": [
    "## 9.5. create dataloaders"
   ],
   "metadata": {
    "collapsed": false
   },
   "id": "69f41f0c5ad1df2b"
  },
  {
   "cell_type": "code",
   "source": [
    "train_dataloader_wsd_1 = DataLoader(train_dataset_wsd_1, batch_size=batch_size, shuffle=True, collate_fn=collate_fn, drop_last=True)\n",
    "\n",
    "test_dataloader_wsd_1 = DataLoader(test_dataset_wsd_1, batch_size=batch_size, shuffle=True, collate_fn=collate_fn, drop_last=True)"
   ],
   "metadata": {
    "collapsed": false,
    "ExecuteTime": {
     "end_time": "2024-04-20T12:01:26.115791Z",
     "start_time": "2024-04-20T12:01:26.111390Z"
    }
   },
   "id": "41bf6580a9e5deed",
   "outputs": [],
   "execution_count": 20
  },
  {
   "cell_type": "markdown",
   "source": [
    "## 9.6. create instance of model and optimizer"
   ],
   "metadata": {
    "collapsed": false
   },
   "id": "7f0559634f1c9b43"
  },
  {
   "cell_type": "code",
   "source": [
    "# train_dataloader_wsd_1\n",
    "# test_dataloader_wsd_1\n",
    "\n",
    "model_wsd_1 = ToneTagsLSTM(\n",
    "    vocab_size=vocab_size,\n",
    "    embedding=embedding,\n",
    "    hidden_dim=hidden_dim,\n",
    "    output_size=output_size,\n",
    "    num_layers=num_layers,\n",
    "    dropout=dropout\n",
    ").to(device)\n",
    "\n",
    "optimizer_wsd_1 = optim.Adam(model_wsd_1.parameters(), lr=lr)"
   ],
   "metadata": {
    "collapsed": false,
    "ExecuteTime": {
     "end_time": "2024-04-20T12:01:29.850403Z",
     "start_time": "2024-04-20T12:01:26.116781Z"
    }
   },
   "id": "815f82b866e750d0",
   "outputs": [],
   "execution_count": 21
  },
  {
   "cell_type": "markdown",
   "source": [
    "## 9.7. train and test model for wsd_1 dataloader"
   ],
   "metadata": {
    "collapsed": false
   },
   "id": "896756b354c43a26"
  },
  {
   "cell_type": "code",
   "source": [
    "%%time\n",
    "\n",
    "for ep in range(1, n_epochs + 1):\n",
    "\n",
    "    model_wsd_1.train()\n",
    "    epoch_losses_train = []\n",
    "    \n",
    "    train_predictions = []\n",
    "    train_tags = []\n",
    "    \n",
    "    test_predictions = []\n",
    "    test_tags = []\n",
    "\n",
    "    for tokens, contexts, tags in tqdm(train_dataloader_wsd_1, desc=f\"Epoch {ep} training...\"):\n",
    "        optimizer_wsd_1.zero_grad()\n",
    "\n",
    "        tokens = tokens.to(device)\n",
    "        tags = tags.to(device)\n",
    "\n",
    "        predictions = model_wsd_1(tokens)\n",
    "        \n",
    "        loss = criterion(predictions, tags)\n",
    "\n",
    "        loss.backward()\n",
    "        optimizer_wsd_1.step()\n",
    "\n",
    "        epoch_losses_train.append(loss.item())\n",
    "\n",
    "        train_predictions.extend(predictions.tolist())\n",
    "        train_tags.extend(tags.tolist())\n",
    "    \n",
    "    del tokens\n",
    "    del tags\n",
    "    \n",
    "    gc.collect()\n",
    "    torch.cuda.empty_cache()\n",
    "\n",
    "    print(f'[Train Epoch {ep}] Loss: {np.mean(epoch_losses_train)}')\n",
    "\n",
    "\n",
    "    model_wsd_1.eval()\n",
    "\n",
    "    with torch.no_grad():\n",
    "        for tokens, contexts, tags in tqdm(test_dataloader_wsd_1, desc=f\"Epoch {ep} testing...\"):\n",
    "            tokens = tokens.to(device)\n",
    "            tags = tags.to(device)\n",
    "\n",
    "            predictions = model_wsd_1(tokens)\n",
    "\n",
    "            test_predictions.extend(predictions.tolist())\n",
    "            test_tags.extend(tags.tolist())\n",
    "        \n",
    "        del tokens\n",
    "        del tags\n",
    "    \n",
    "        gc.collect()\n",
    "        torch.cuda.empty_cache()\n",
    "    \n",
    "    export_predictions('clean_wsd_1', epoch=ep, train_predictions=train_predictions, train_tags=train_tags, test_predictions=test_predictions, test_tags=test_tags)\n",
    "    \n",
    "    \n",
    "    del train_predictions, train_tags, test_predictions, test_tags\n",
    "    gc.collect()\n",
    "    torch.cuda.empty_cache()"
   ],
   "metadata": {
    "collapsed": false,
    "is_executing": true,
    "ExecuteTime": {
     "end_time": "2024-04-20T14:18:10.879906Z",
     "start_time": "2024-04-20T12:01:29.850403Z"
    }
   },
   "id": "d1951ad900a8b0c6",
   "outputs": [
    {
     "name": "stderr",
     "output_type": "stream",
     "text": [
      "training...: 100%|██████████| 2113/2113 [06:14<00:00,  5.65it/s]\n"
     ]
    },
    {
     "name": "stdout",
     "output_type": "stream",
     "text": [
      "[Train Epoch 1] Loss: 2.805278515849585\n"
     ]
    },
    {
     "name": "stderr",
     "output_type": "stream",
     "text": [
      "testing...: 100%|██████████| 528/528 [00:34<00:00, 15.18it/s]\n",
      "training...: 100%|██████████| 2113/2113 [06:03<00:00,  5.81it/s]\n"
     ]
    },
    {
     "name": "stdout",
     "output_type": "stream",
     "text": [
      "[Train Epoch 2] Loss: 2.66751756061043\n"
     ]
    },
    {
     "name": "stderr",
     "output_type": "stream",
     "text": [
      "testing...: 100%|██████████| 528/528 [00:28<00:00, 18.84it/s]\n",
      "training...: 100%|██████████| 2113/2113 [06:07<00:00,  5.75it/s]\n"
     ]
    },
    {
     "name": "stdout",
     "output_type": "stream",
     "text": [
      "[Train Epoch 3] Loss: 2.662090325660182\n"
     ]
    },
    {
     "name": "stderr",
     "output_type": "stream",
     "text": [
      "testing...: 100%|██████████| 528/528 [00:28<00:00, 18.84it/s]\n",
      "training...: 100%|██████████| 2113/2113 [06:08<00:00,  5.74it/s]\n"
     ]
    },
    {
     "name": "stdout",
     "output_type": "stream",
     "text": [
      "[Train Epoch 4] Loss: 2.6586376140312846\n"
     ]
    },
    {
     "name": "stderr",
     "output_type": "stream",
     "text": [
      "testing...: 100%|██████████| 528/528 [00:28<00:00, 18.51it/s]\n",
      "training...: 100%|██████████| 2113/2113 [06:15<00:00,  5.63it/s]\n"
     ]
    },
    {
     "name": "stdout",
     "output_type": "stream",
     "text": [
      "[Train Epoch 5] Loss: 2.657022865135637\n"
     ]
    },
    {
     "name": "stderr",
     "output_type": "stream",
     "text": [
      "testing...: 100%|██████████| 528/528 [00:28<00:00, 18.34it/s]\n",
      "training...: 100%|██████████| 2113/2113 [06:17<00:00,  5.59it/s]\n"
     ]
    },
    {
     "name": "stdout",
     "output_type": "stream",
     "text": [
      "[Train Epoch 6] Loss: 2.6562974638020433\n"
     ]
    },
    {
     "name": "stderr",
     "output_type": "stream",
     "text": [
      "testing...: 100%|██████████| 528/528 [00:28<00:00, 18.31it/s]\n",
      "training...: 100%|██████████| 2113/2113 [06:16<00:00,  5.61it/s]\n"
     ]
    },
    {
     "name": "stdout",
     "output_type": "stream",
     "text": [
      "[Train Epoch 7] Loss: 2.6559402564663035\n"
     ]
    },
    {
     "name": "stderr",
     "output_type": "stream",
     "text": [
      "testing...: 100%|██████████| 528/528 [00:29<00:00, 18.15it/s]\n",
      "training...: 100%|██████████| 2113/2113 [06:16<00:00,  5.61it/s]\n"
     ]
    },
    {
     "name": "stdout",
     "output_type": "stream",
     "text": [
      "[Train Epoch 8] Loss: 2.6558686480723\n"
     ]
    },
    {
     "name": "stderr",
     "output_type": "stream",
     "text": [
      "testing...: 100%|██████████| 528/528 [00:29<00:00, 18.13it/s]\n",
      "training...: 100%|██████████| 2113/2113 [06:17<00:00,  5.60it/s]\n"
     ]
    },
    {
     "name": "stdout",
     "output_type": "stream",
     "text": [
      "[Train Epoch 9] Loss: 2.65585996266287\n"
     ]
    },
    {
     "name": "stderr",
     "output_type": "stream",
     "text": [
      "testing...: 100%|██████████| 528/528 [00:28<00:00, 18.35it/s]\n",
      "training...: 100%|██████████| 2113/2113 [06:18<00:00,  5.58it/s]\n"
     ]
    },
    {
     "name": "stdout",
     "output_type": "stream",
     "text": [
      "[Train Epoch 10] Loss: 2.655735472960321\n"
     ]
    },
    {
     "name": "stderr",
     "output_type": "stream",
     "text": [
      "testing...: 100%|██████████| 528/528 [00:28<00:00, 18.52it/s]\n",
      "training...: 100%|██████████| 2113/2113 [06:17<00:00,  5.59it/s]\n"
     ]
    },
    {
     "name": "stdout",
     "output_type": "stream",
     "text": [
      "[Train Epoch 11] Loss: 2.655558586459108\n"
     ]
    },
    {
     "name": "stderr",
     "output_type": "stream",
     "text": [
      "testing...: 100%|██████████| 528/528 [00:29<00:00, 18.09it/s]\n",
      "training...: 100%|██████████| 2113/2113 [06:17<00:00,  5.59it/s]\n"
     ]
    },
    {
     "name": "stdout",
     "output_type": "stream",
     "text": [
      "[Train Epoch 12] Loss: 2.655555355904286\n"
     ]
    },
    {
     "name": "stderr",
     "output_type": "stream",
     "text": [
      "testing...: 100%|██████████| 528/528 [00:29<00:00, 18.19it/s]\n",
      "training...: 100%|██████████| 2113/2113 [06:17<00:00,  5.59it/s]\n"
     ]
    },
    {
     "name": "stdout",
     "output_type": "stream",
     "text": [
      "[Train Epoch 13] Loss: 2.655660432941023\n"
     ]
    },
    {
     "name": "stderr",
     "output_type": "stream",
     "text": [
      "testing...: 100%|██████████| 528/528 [00:28<00:00, 18.25it/s]\n",
      "training...: 100%|██████████| 2113/2113 [06:17<00:00,  5.60it/s]\n"
     ]
    },
    {
     "name": "stdout",
     "output_type": "stream",
     "text": [
      "[Train Epoch 14] Loss: 2.6554809091669993\n"
     ]
    },
    {
     "name": "stderr",
     "output_type": "stream",
     "text": [
      "testing...: 100%|██████████| 528/528 [00:28<00:00, 18.27it/s]\n",
      "training...: 100%|██████████| 2113/2113 [06:19<00:00,  5.56it/s]\n"
     ]
    },
    {
     "name": "stdout",
     "output_type": "stream",
     "text": [
      "[Train Epoch 15] Loss: 2.655359375042426\n"
     ]
    },
    {
     "name": "stderr",
     "output_type": "stream",
     "text": [
      "testing...: 100%|██████████| 528/528 [00:28<00:00, 18.23it/s]\n",
      "training...: 100%|██████████| 2113/2113 [06:19<00:00,  5.56it/s]\n"
     ]
    },
    {
     "name": "stdout",
     "output_type": "stream",
     "text": [
      "[Train Epoch 16] Loss: 2.655297502656712\n"
     ]
    },
    {
     "name": "stderr",
     "output_type": "stream",
     "text": [
      "testing...: 100%|██████████| 528/528 [00:29<00:00, 18.05it/s]\n",
      "training...: 100%|██████████| 2113/2113 [06:17<00:00,  5.60it/s]\n"
     ]
    },
    {
     "name": "stdout",
     "output_type": "stream",
     "text": [
      "[Train Epoch 17] Loss: 2.6553875470240422\n"
     ]
    },
    {
     "name": "stderr",
     "output_type": "stream",
     "text": [
      "testing...: 100%|██████████| 528/528 [00:29<00:00, 18.11it/s]\n",
      "training...: 100%|██████████| 2113/2113 [06:21<00:00,  5.54it/s]\n"
     ]
    },
    {
     "name": "stdout",
     "output_type": "stream",
     "text": [
      "[Train Epoch 18] Loss: 2.655260761033513\n"
     ]
    },
    {
     "name": "stderr",
     "output_type": "stream",
     "text": [
      "testing...: 100%|██████████| 528/528 [00:28<00:00, 18.22it/s]\n",
      "training...: 100%|██████████| 2113/2113 [06:16<00:00,  5.61it/s]\n"
     ]
    },
    {
     "name": "stdout",
     "output_type": "stream",
     "text": [
      "[Train Epoch 19] Loss: 2.655318316609951\n"
     ]
    },
    {
     "name": "stderr",
     "output_type": "stream",
     "text": [
      "testing...: 100%|██████████| 528/528 [00:29<00:00, 18.07it/s]\n",
      "training...: 100%|██████████| 2113/2113 [06:20<00:00,  5.55it/s]\n"
     ]
    },
    {
     "name": "stdout",
     "output_type": "stream",
     "text": [
      "[Train Epoch 20] Loss: 2.655146322146559\n"
     ]
    },
    {
     "name": "stderr",
     "output_type": "stream",
     "text": [
      "testing...: 100%|██████████| 528/528 [00:29<00:00, 18.09it/s]\n"
     ]
    },
    {
     "name": "stdout",
     "output_type": "stream",
     "text": [
      "CPU times: total: 2h 16min 29s\n",
      "Wall time: 2h 16min 41s\n"
     ]
    }
   ],
   "execution_count": 22
  },
  {
   "cell_type": "markdown",
   "source": [
    "## 9.8. delete some data"
   ],
   "metadata": {
    "collapsed": false
   },
   "id": "98390faf942e0209"
  },
  {
   "cell_type": "code",
   "source": [
    "del train_dataloader_wsd_1\n",
    "del test_dataloader_wsd_1\n",
    "del train_dataset_wsd_1\n",
    "del test_dataset_wsd_1\n",
    "del train_wsd_1\n",
    "del test_wsd_1\n",
    "del dataset_wsd_1\n",
    "\n",
    "del model_wsd_1\n",
    "del optimizer_wsd_1\n",
    "gc.collect()\n",
    "torch.cuda.empty_cache()"
   ],
   "metadata": {
    "collapsed": false,
    "is_executing": true,
    "ExecuteTime": {
     "end_time": "2024-04-20T14:18:23.853396Z",
     "start_time": "2024-04-20T14:18:10.880903Z"
    }
   },
   "id": "577d7b5f88f218d9",
   "outputs": [],
   "execution_count": 23
  },
  {
   "cell_type": "markdown",
   "source": [
    "# 10. clean dataset"
   ],
   "metadata": {
    "collapsed": false
   },
   "id": "148c13df5b4938cc"
  },
  {
   "cell_type": "markdown",
   "source": [
    "## 10.1. upload dataset"
   ],
   "metadata": {
    "collapsed": false
   },
   "id": "e99c9fae810ce8af"
  },
  {
   "cell_type": "code",
   "source": [
    "dataset_clean = pd.read_csv(\"../datasets/tonetags_dataset_tumblr_clean.csv\", converters={\"text\": str_text_to_list})"
   ],
   "metadata": {
    "collapsed": false,
    "is_executing": true,
    "ExecuteTime": {
     "end_time": "2024-04-20T14:18:25.150182Z",
     "start_time": "2024-04-20T14:18:23.856397Z"
    }
   },
   "id": "dfe3a8a7dc8f4c2f",
   "outputs": [],
   "execution_count": 24
  },
  {
   "cell_type": "markdown",
   "source": [
    "## 10.2. encode labels"
   ],
   "metadata": {
    "collapsed": false
   },
   "id": "9646187b3c79e8c6"
  },
  {
   "cell_type": "code",
   "source": [
    "dataset_clean.tags = dataset_clean.tags.apply(labels.index)"
   ],
   "metadata": {
    "collapsed": false,
    "is_executing": true,
    "ExecuteTime": {
     "end_time": "2024-04-20T14:18:25.183049Z",
     "start_time": "2024-04-20T14:18:25.151172Z"
    }
   },
   "id": "df7c64febf719511",
   "outputs": [],
   "execution_count": 25
  },
  {
   "cell_type": "markdown",
   "source": [
    "## 10.3. split"
   ],
   "metadata": {
    "collapsed": false
   },
   "id": "7926095dcb6f7387"
  },
  {
   "cell_type": "code",
   "source": [
    "train_clean, test_clean = train_test_split(dataset_clean, stratify=dataset_clean['tags'], test_size=0.2, random_state=42)"
   ],
   "metadata": {
    "collapsed": false,
    "is_executing": true,
    "ExecuteTime": {
     "end_time": "2024-04-20T14:18:25.217214Z",
     "start_time": "2024-04-20T14:18:25.184050Z"
    }
   },
   "id": "7bf71191bc71e567",
   "outputs": [],
   "execution_count": 26
  },
  {
   "cell_type": "markdown",
   "source": [
    "## 10.4. create datasets"
   ],
   "metadata": {
    "collapsed": false
   },
   "id": "78f4c3118a0f20a5"
  },
  {
   "cell_type": "code",
   "source": [
    "train_dataset_clean, test_dataset_clean = myDataset(train_clean), myDataset(test_clean)"
   ],
   "metadata": {
    "collapsed": false,
    "is_executing": true,
    "ExecuteTime": {
     "end_time": "2024-04-20T14:18:26.840128Z",
     "start_time": "2024-04-20T14:18:25.218214Z"
    }
   },
   "id": "1cb2c3dc5bcf5dd7",
   "outputs": [],
   "execution_count": 27
  },
  {
   "cell_type": "markdown",
   "source": [
    "## 10.5. create dataloaders"
   ],
   "metadata": {
    "collapsed": false
   },
   "id": "30b4d31ff5fb11f0"
  },
  {
   "cell_type": "code",
   "source": [
    "train_dataloader_clean = DataLoader(train_dataset_clean, batch_size=batch_size, shuffle=True, collate_fn=collate_fn, drop_last=True)\n",
    "\n",
    "test_dataloader_clean = DataLoader(test_dataset_clean, batch_size=batch_size, shuffle=True, collate_fn=collate_fn, drop_last=True)"
   ],
   "metadata": {
    "collapsed": false,
    "is_executing": true,
    "ExecuteTime": {
     "end_time": "2024-04-20T14:18:26.848542Z",
     "start_time": "2024-04-20T14:18:26.845037Z"
    }
   },
   "id": "605ad2cccdb7fa4c",
   "outputs": [],
   "execution_count": 28
  },
  {
   "cell_type": "markdown",
   "source": [
    "## 10.6. create instance of model and optimizer for clean dataloader"
   ],
   "metadata": {
    "collapsed": false
   },
   "id": "5aafceb28782949f"
  },
  {
   "cell_type": "code",
   "source": [
    "# train_dataloader_clean\n",
    "# test_dataloader_clean\n",
    "\n",
    "model_clean = ToneTagsLSTM(\n",
    "    vocab_size=vocab_size,\n",
    "    embedding=embedding,\n",
    "    hidden_dim=hidden_dim,\n",
    "    output_size=output_size,\n",
    "    num_layers=num_layers,\n",
    "    dropout=dropout\n",
    ").to(device)\n",
    "\n",
    "optimizer_clean = optim.Adam(model_clean.parameters(), lr=lr)"
   ],
   "metadata": {
    "collapsed": false,
    "is_executing": true,
    "ExecuteTime": {
     "end_time": "2024-04-20T14:18:28.213301Z",
     "start_time": "2024-04-20T14:18:26.849538Z"
    }
   },
   "id": "8671bbe1faeccfd6",
   "outputs": [],
   "execution_count": 29
  },
  {
   "cell_type": "markdown",
   "source": [
    "## 10.7. train and test model of clean dataloader"
   ],
   "metadata": {
    "collapsed": false
   },
   "id": "79a775b2c39136b3"
  },
  {
   "cell_type": "code",
   "source": [
    "%%time\n",
    "\n",
    "for ep in range(1, n_epochs + 1):\n",
    "\n",
    "    model_clean.train()\n",
    "    epoch_losses_train = []\n",
    "\n",
    "    train_predictions = []\n",
    "    train_tags = []\n",
    "\n",
    "    test_predictions = []\n",
    "    test_tags = []\n",
    "\n",
    "\n",
    "    for tokens, contexts, tags in tqdm(train_dataloader_clean, desc=f\"Epoch {ep} training...\"):\n",
    "        optimizer_clean.zero_grad()\n",
    "\n",
    "        tokens = tokens.to(device)\n",
    "        tags = tags.to(device)\n",
    "\n",
    "        predictions = model_clean(tokens)\n",
    "\n",
    "        train_predictions.extend(predictions.tolist())\n",
    "        train_tags.extend(tags.tolist())\n",
    "\n",
    "        loss = criterion(predictions, tags)\n",
    "\n",
    "        loss.backward()\n",
    "        optimizer_clean.step()\n",
    "\n",
    "        epoch_losses_train.append(loss.item())\n",
    "\n",
    "    del tokens\n",
    "    del tags\n",
    "\n",
    "    gc.collect()\n",
    "    torch.cuda.empty_cache()\n",
    "    \n",
    "    print(f'[Train Epoch {ep}] Loss: {np.mean(epoch_losses_train)}')\n",
    "\n",
    "    model_clean.eval()\n",
    "\n",
    "    with torch.no_grad():\n",
    "        for tokens, contexts, tags in tqdm(test_dataloader_clean, desc=f\"Epoch {ep} testing...\"):\n",
    "\n",
    "            tokens = tokens.to(device)\n",
    "            tags = tags.to(device)\n",
    "\n",
    "            predictions = model_clean(tokens)\n",
    "\n",
    "            test_predictions.extend(predictions.tolist())\n",
    "            test_tags.extend(tags.tolist())\n",
    "\n",
    "        del tokens\n",
    "        del tags\n",
    "    \n",
    "        gc.collect()\n",
    "        torch.cuda.empty_cache()\n",
    "\n",
    "    export_predictions('clean', epoch=ep, train_predictions=train_predictions, train_tags=train_tags, test_predictions=test_predictions, test_tags=test_tags)\n",
    "\n",
    "\n",
    "    del train_predictions, train_tags, test_predictions, test_tags\n",
    "    gc.collect()\n",
    "    torch.cuda.empty_cache()"
   ],
   "metadata": {
    "collapsed": false,
    "is_executing": true,
    "ExecuteTime": {
     "end_time": "2024-04-20T16:33:20.097303Z",
     "start_time": "2024-04-20T14:18:28.216298Z"
    }
   },
   "id": "d67077145c116a1f",
   "outputs": [
    {
     "name": "stderr",
     "output_type": "stream",
     "text": [
      "training...: 100%|██████████| 2131/2131 [06:48<00:00,  5.22it/s]\n"
     ]
    },
    {
     "name": "stdout",
     "output_type": "stream",
     "text": [
      "[Train Epoch 1] Loss: 2.9324233685228984\n"
     ]
    },
    {
     "name": "stderr",
     "output_type": "stream",
     "text": [
      "testing...: 100%|██████████| 532/532 [00:34<00:00, 15.23it/s]\n",
      "training...: 100%|██████████| 2131/2131 [06:05<00:00,  5.83it/s]\n"
     ]
    },
    {
     "name": "stdout",
     "output_type": "stream",
     "text": [
      "[Train Epoch 2] Loss: 2.668667636304772\n"
     ]
    },
    {
     "name": "stderr",
     "output_type": "stream",
     "text": [
      "testing...: 100%|██████████| 532/532 [00:28<00:00, 18.64it/s]\n",
      "training...: 100%|██████████| 2131/2131 [06:06<00:00,  5.82it/s]\n"
     ]
    },
    {
     "name": "stdout",
     "output_type": "stream",
     "text": [
      "[Train Epoch 3] Loss: 2.663657796712953\n"
     ]
    },
    {
     "name": "stderr",
     "output_type": "stream",
     "text": [
      "testing...: 100%|██████████| 532/532 [00:28<00:00, 18.47it/s]\n",
      "training...: 100%|██████████| 2131/2131 [06:09<00:00,  5.77it/s]\n"
     ]
    },
    {
     "name": "stdout",
     "output_type": "stream",
     "text": [
      "[Train Epoch 4] Loss: 2.658495580014462\n"
     ]
    },
    {
     "name": "stderr",
     "output_type": "stream",
     "text": [
      "testing...: 100%|██████████| 532/532 [00:28<00:00, 18.42it/s]\n",
      "training...: 100%|██████████| 2131/2131 [06:09<00:00,  5.77it/s]\n"
     ]
    },
    {
     "name": "stdout",
     "output_type": "stream",
     "text": [
      "[Train Epoch 5] Loss: 2.6569677045903592\n"
     ]
    },
    {
     "name": "stderr",
     "output_type": "stream",
     "text": [
      "testing...: 100%|██████████| 532/532 [00:28<00:00, 18.43it/s]\n",
      "training...: 100%|██████████| 2131/2131 [06:09<00:00,  5.77it/s]\n"
     ]
    },
    {
     "name": "stdout",
     "output_type": "stream",
     "text": [
      "[Train Epoch 6] Loss: 2.656304714994104\n"
     ]
    },
    {
     "name": "stderr",
     "output_type": "stream",
     "text": [
      "testing...: 100%|██████████| 532/532 [00:28<00:00, 18.39it/s]\n",
      "training...: 100%|██████████| 2131/2131 [06:09<00:00,  5.77it/s]\n"
     ]
    },
    {
     "name": "stdout",
     "output_type": "stream",
     "text": [
      "[Train Epoch 7] Loss: 2.6563027666969963\n"
     ]
    },
    {
     "name": "stderr",
     "output_type": "stream",
     "text": [
      "testing...: 100%|██████████| 532/532 [00:29<00:00, 18.30it/s]\n",
      "training...: 100%|██████████| 2131/2131 [06:08<00:00,  5.78it/s]\n"
     ]
    },
    {
     "name": "stdout",
     "output_type": "stream",
     "text": [
      "[Train Epoch 8] Loss: 2.6562280000402914\n"
     ]
    },
    {
     "name": "stderr",
     "output_type": "stream",
     "text": [
      "testing...: 100%|██████████| 532/532 [00:28<00:00, 18.44it/s]\n",
      "training...: 100%|██████████| 2131/2131 [06:10<00:00,  5.76it/s]\n"
     ]
    },
    {
     "name": "stdout",
     "output_type": "stream",
     "text": [
      "[Train Epoch 9] Loss: 2.6558438677678136\n"
     ]
    },
    {
     "name": "stderr",
     "output_type": "stream",
     "text": [
      "testing...: 100%|██████████| 532/532 [00:28<00:00, 18.35it/s]\n",
      "training...: 100%|██████████| 2131/2131 [06:10<00:00,  5.75it/s]\n"
     ]
    },
    {
     "name": "stdout",
     "output_type": "stream",
     "text": [
      "[Train Epoch 10] Loss: 2.656099052621635\n"
     ]
    },
    {
     "name": "stderr",
     "output_type": "stream",
     "text": [
      "testing...: 100%|██████████| 532/532 [00:29<00:00, 18.30it/s]\n",
      "training...: 100%|██████████| 2131/2131 [06:11<00:00,  5.73it/s]\n"
     ]
    },
    {
     "name": "stdout",
     "output_type": "stream",
     "text": [
      "[Train Epoch 11] Loss: 2.656040229242433\n"
     ]
    },
    {
     "name": "stderr",
     "output_type": "stream",
     "text": [
      "testing...: 100%|██████████| 532/532 [00:29<00:00, 18.31it/s]\n",
      "training...: 100%|██████████| 2131/2131 [06:08<00:00,  5.78it/s]\n"
     ]
    },
    {
     "name": "stdout",
     "output_type": "stream",
     "text": [
      "[Train Epoch 12] Loss: 2.6556100495149138\n"
     ]
    },
    {
     "name": "stderr",
     "output_type": "stream",
     "text": [
      "testing...: 100%|██████████| 532/532 [00:29<00:00, 18.22it/s]\n",
      "training...: 100%|██████████| 2131/2131 [06:09<00:00,  5.77it/s]\n"
     ]
    },
    {
     "name": "stdout",
     "output_type": "stream",
     "text": [
      "[Train Epoch 13] Loss: 2.6555823185588205\n"
     ]
    },
    {
     "name": "stderr",
     "output_type": "stream",
     "text": [
      "testing...: 100%|██████████| 532/532 [00:28<00:00, 18.40it/s]\n",
      "training...: 100%|██████████| 2131/2131 [06:10<00:00,  5.75it/s]\n"
     ]
    },
    {
     "name": "stdout",
     "output_type": "stream",
     "text": [
      "[Train Epoch 14] Loss: 2.6555437976795986\n"
     ]
    },
    {
     "name": "stderr",
     "output_type": "stream",
     "text": [
      "testing...: 100%|██████████| 532/532 [00:28<00:00, 18.39it/s]\n",
      "training...: 100%|██████████| 2131/2131 [06:09<00:00,  5.77it/s]\n"
     ]
    },
    {
     "name": "stdout",
     "output_type": "stream",
     "text": [
      "[Train Epoch 15] Loss: 2.6554465754834324\n"
     ]
    },
    {
     "name": "stderr",
     "output_type": "stream",
     "text": [
      "testing...: 100%|██████████| 532/532 [00:29<00:00, 18.31it/s]\n",
      "training...: 100%|██████████| 2131/2131 [06:10<00:00,  5.76it/s]\n"
     ]
    },
    {
     "name": "stdout",
     "output_type": "stream",
     "text": [
      "[Train Epoch 16] Loss: 2.6554870738607232\n"
     ]
    },
    {
     "name": "stderr",
     "output_type": "stream",
     "text": [
      "testing...: 100%|██████████| 532/532 [00:29<00:00, 18.17it/s]\n",
      "training...: 100%|██████████| 2131/2131 [06:10<00:00,  5.76it/s]\n"
     ]
    },
    {
     "name": "stdout",
     "output_type": "stream",
     "text": [
      "[Train Epoch 17] Loss: 2.6554272491458657\n"
     ]
    },
    {
     "name": "stderr",
     "output_type": "stream",
     "text": [
      "testing...: 100%|██████████| 532/532 [00:29<00:00, 18.31it/s]\n",
      "training...: 100%|██████████| 2131/2131 [06:08<00:00,  5.78it/s]\n"
     ]
    },
    {
     "name": "stdout",
     "output_type": "stream",
     "text": [
      "[Train Epoch 18] Loss: 2.655510802718744\n"
     ]
    },
    {
     "name": "stderr",
     "output_type": "stream",
     "text": [
      "testing...: 100%|██████████| 532/532 [00:29<00:00, 18.29it/s]\n",
      "training...: 100%|██████████| 2131/2131 [06:09<00:00,  5.77it/s]\n"
     ]
    },
    {
     "name": "stdout",
     "output_type": "stream",
     "text": [
      "[Train Epoch 19] Loss: 2.6553108075704444\n"
     ]
    },
    {
     "name": "stderr",
     "output_type": "stream",
     "text": [
      "testing...: 100%|██████████| 532/532 [00:28<00:00, 18.36it/s]\n",
      "training...: 100%|██████████| 2131/2131 [06:08<00:00,  5.79it/s]\n"
     ]
    },
    {
     "name": "stdout",
     "output_type": "stream",
     "text": [
      "[Train Epoch 20] Loss: 2.655403370702843\n"
     ]
    },
    {
     "name": "stderr",
     "output_type": "stream",
     "text": [
      "testing...: 100%|██████████| 532/532 [00:29<00:00, 18.29it/s]\n"
     ]
    },
    {
     "name": "stdout",
     "output_type": "stream",
     "text": [
      "CPU times: total: 2h 14min 42s\n",
      "Wall time: 2h 14min 51s\n"
     ]
    }
   ],
   "execution_count": 30
  },
  {
   "cell_type": "markdown",
   "source": [
    "## 10.8. delete some data"
   ],
   "metadata": {
    "collapsed": false
   },
   "id": "59b99f1ebaf97d00"
  },
  {
   "cell_type": "code",
   "source": [
    "del train_dataloader_clean\n",
    "del test_dataloader_clean\n",
    "del train_dataset_clean\n",
    "del test_dataset_clean\n",
    "del train_clean\n",
    "del test_clean\n",
    "del dataset_clean\n",
    "\n",
    "del model_clean\n",
    "del optimizer_clean\n",
    "gc.collect()\n",
    "torch.cuda.empty_cache()"
   ],
   "metadata": {
    "collapsed": false,
    "is_executing": true,
    "ExecuteTime": {
     "end_time": "2024-04-20T16:33:34.034771Z",
     "start_time": "2024-04-20T16:33:20.098302Z"
    }
   },
   "id": "724f20e5b5fe214",
   "outputs": [],
   "execution_count": 31
  },
  {
   "cell_type": "markdown",
   "source": [
    "# 11. clean_corrected dataset"
   ],
   "metadata": {
    "collapsed": false
   },
   "id": "8fd77bfdb93f112a"
  },
  {
   "cell_type": "markdown",
   "source": [
    "## 11.1. upload dataset"
   ],
   "metadata": {
    "collapsed": false
   },
   "id": "a3d980e28e65f0b4"
  },
  {
   "cell_type": "code",
   "source": [
    "dataset_clean_corrected = pd.read_csv(\"../datasets/tonetags_dataset_tumblr_clean_corrected_text.csv\", converters={\"text\": str_text_to_list})"
   ],
   "metadata": {
    "collapsed": false,
    "is_executing": true,
    "ExecuteTime": {
     "end_time": "2024-04-20T16:33:35.284962Z",
     "start_time": "2024-04-20T16:33:34.036769Z"
    }
   },
   "id": "6f130d1c0a0c49a8",
   "outputs": [],
   "execution_count": 32
  },
  {
   "cell_type": "markdown",
   "source": [
    "## 11.2. encode labels"
   ],
   "metadata": {
    "collapsed": false
   },
   "id": "b63155a31762ea77"
  },
  {
   "cell_type": "code",
   "source": [
    "dataset_clean_corrected.tags =dataset_clean_corrected.tags.apply(labels.index)"
   ],
   "metadata": {
    "collapsed": false,
    "is_executing": true,
    "ExecuteTime": {
     "end_time": "2024-04-20T16:33:35.313735Z",
     "start_time": "2024-04-20T16:33:35.285959Z"
    }
   },
   "id": "cedc3148bec2b596",
   "outputs": [],
   "execution_count": 33
  },
  {
   "cell_type": "markdown",
   "source": [
    "## 11.3. split"
   ],
   "metadata": {
    "collapsed": false
   },
   "id": "37b6a39e2fd33c8e"
  },
  {
   "cell_type": "code",
   "source": [
    "train_clean_corrected, test_clean_corrected = train_test_split(dataset_clean_corrected, stratify=dataset_clean_corrected['tags'], test_size=0.2, random_state=42)"
   ],
   "metadata": {
    "collapsed": false,
    "is_executing": true,
    "ExecuteTime": {
     "end_time": "2024-04-20T16:33:35.349665Z",
     "start_time": "2024-04-20T16:33:35.314717Z"
    }
   },
   "id": "74c02a17a8458504",
   "outputs": [],
   "execution_count": 34
  },
  {
   "cell_type": "markdown",
   "source": [
    "## 11.4. create datasets"
   ],
   "metadata": {
    "collapsed": false
   },
   "id": "3e8c19270cb61169"
  },
  {
   "cell_type": "code",
   "source": [
    "train_dataset_clean_corrected, test_dataset_clean_corrected = myDataset(train_clean_corrected), myDataset(test_clean_corrected)"
   ],
   "metadata": {
    "collapsed": false,
    "is_executing": true,
    "ExecuteTime": {
     "end_time": "2024-04-20T16:33:36.932523Z",
     "start_time": "2024-04-20T16:33:35.350630Z"
    }
   },
   "id": "1b79de00f647d176",
   "outputs": [],
   "execution_count": 35
  },
  {
   "cell_type": "markdown",
   "source": [
    "## 11.5. create dataloaders"
   ],
   "metadata": {
    "collapsed": false
   },
   "id": "2af42bfa2d1b4d3c"
  },
  {
   "cell_type": "code",
   "source": [
    "train_dataloader_clean_corrected = DataLoader(train_dataset_clean_corrected, batch_size=batch_size, shuffle=True, collate_fn=collate_fn, drop_last=True)\n",
    "\n",
    "test_dataloader_clean_corrected = DataLoader(test_dataset_clean_corrected, batch_size=batch_size, shuffle=True, collate_fn=collate_fn, drop_last=True)"
   ],
   "metadata": {
    "collapsed": false,
    "is_executing": true,
    "ExecuteTime": {
     "end_time": "2024-04-20T16:33:36.937153Z",
     "start_time": "2024-04-20T16:33:36.933523Z"
    }
   },
   "id": "55de8c2e95d9ccd3",
   "outputs": [],
   "execution_count": 36
  },
  {
   "cell_type": "markdown",
   "source": [
    "## 11.6. create instance of model and optimizer for clean_corrected data"
   ],
   "metadata": {
    "collapsed": false
   },
   "id": "c5ac149fa6a44677"
  },
  {
   "cell_type": "code",
   "source": [
    "# train_dataloader_clean_corrected\n",
    "# test_dataloader_clean_corrected\n",
    "\n",
    "model_clean_corrected = ToneTagsLSTM(\n",
    "    vocab_size=vocab_size,\n",
    "    embedding=embedding,\n",
    "    hidden_dim=hidden_dim,\n",
    "    output_size=output_size,\n",
    "    num_layers=num_layers,\n",
    "    dropout=dropout\n",
    ").to(device)\n",
    "\n",
    "optimizer_clean_corrected = optim.Adam(model_clean_corrected.parameters(), lr=lr)"
   ],
   "metadata": {
    "collapsed": false,
    "is_executing": true,
    "ExecuteTime": {
     "end_time": "2024-04-20T16:33:38.250974Z",
     "start_time": "2024-04-20T16:33:36.938154Z"
    }
   },
   "id": "309ea6046adce41f",
   "outputs": [],
   "execution_count": 37
  },
  {
   "cell_type": "markdown",
   "source": [
    "## 11.7. train and test for clean_corrected dataloader"
   ],
   "metadata": {
    "collapsed": false
   },
   "id": "4eaa9d7e7a2b8549"
  },
  {
   "cell_type": "code",
   "source": [
    "%%time\n",
    "\n",
    "for ep in range(1, n_epochs + 1):\n",
    "\n",
    "    model_clean_corrected.train()\n",
    "    epoch_losses_train = []\n",
    "\n",
    "    train_predictions = []\n",
    "    train_tags = []\n",
    "\n",
    "    test_predictions = []\n",
    "    test_tags = []\n",
    "\n",
    "\n",
    "    for tokens, contexts, tags in tqdm(train_dataloader_clean_corrected, desc=f\"Epoch {ep} training...\"):\n",
    "        optimizer_clean_corrected.zero_grad()\n",
    "\n",
    "        tokens = tokens.to(device)\n",
    "        tags = tags.to(device)\n",
    "\n",
    "        predictions = model_clean_corrected(tokens)\n",
    "\n",
    "        train_predictions.extend(predictions.tolist())\n",
    "        train_tags.extend(tags.tolist())\n",
    "\n",
    "        loss = criterion(predictions, tags)\n",
    "\n",
    "        loss.backward()\n",
    "        optimizer_clean_corrected.step()\n",
    "\n",
    "        epoch_losses_train.append(loss.item())\n",
    "\n",
    "    del tokens\n",
    "    del tags\n",
    "\n",
    "    gc.collect()\n",
    "    torch.cuda.empty_cache()\n",
    "\n",
    "    print(f'[Train Epoch {ep}] Loss: {np.mean(epoch_losses_train)}')\n",
    "\n",
    "\n",
    "    model_clean_corrected.eval()\n",
    "\n",
    "    with torch.no_grad():\n",
    "        for tokens, contexts, tags in tqdm(test_dataloader_clean_corrected, desc=f\"Epoch {ep} testing...\"):\n",
    "\n",
    "            tokens = tokens.to(device)\n",
    "            tags = tags.to(device)\n",
    "\n",
    "            predictions = model_clean_corrected(tokens)\n",
    "\n",
    "            test_predictions.extend(predictions.tolist())\n",
    "            test_tags.extend(tags.tolist())\n",
    "                \n",
    "        del tokens\n",
    "        del tags\n",
    "    \n",
    "        gc.collect()\n",
    "        torch.cuda.empty_cache()\n",
    "\n",
    "    export_predictions('clean_corrected', epoch=ep, train_predictions=train_predictions, train_tags=train_tags, test_predictions=test_predictions, test_tags=test_tags)\n",
    "\n",
    "\n",
    "    del train_predictions, train_tags, test_predictions, test_tags\n",
    "    gc.collect()\n",
    "    torch.cuda.empty_cache()"
   ],
   "metadata": {
    "collapsed": false,
    "is_executing": true,
    "ExecuteTime": {
     "end_time": "2024-04-20T18:48:07.661801Z",
     "start_time": "2024-04-20T16:33:38.251961Z"
    }
   },
   "id": "93a421a20aaa8cc7",
   "outputs": [
    {
     "name": "stderr",
     "output_type": "stream",
     "text": [
      "training...: 100%|██████████| 2127/2127 [06:36<00:00,  5.37it/s]\n"
     ]
    },
    {
     "name": "stdout",
     "output_type": "stream",
     "text": [
      "[Train Epoch 1] Loss: 2.890346392141467\n"
     ]
    },
    {
     "name": "stderr",
     "output_type": "stream",
     "text": [
      "testing...: 100%|██████████| 531/531 [00:34<00:00, 15.22it/s]\n",
      "training...: 100%|██████████| 2127/2127 [06:03<00:00,  5.85it/s]\n"
     ]
    },
    {
     "name": "stdout",
     "output_type": "stream",
     "text": [
      "[Train Epoch 2] Loss: 2.669441573206225\n"
     ]
    },
    {
     "name": "stderr",
     "output_type": "stream",
     "text": [
      "testing...: 100%|██████████| 531/531 [00:28<00:00, 18.92it/s]\n",
      "training...: 100%|██████████| 2127/2127 [06:04<00:00,  5.84it/s]\n"
     ]
    },
    {
     "name": "stdout",
     "output_type": "stream",
     "text": [
      "[Train Epoch 3] Loss: 2.6654624486115264\n"
     ]
    },
    {
     "name": "stderr",
     "output_type": "stream",
     "text": [
      "testing...: 100%|██████████| 531/531 [00:27<00:00, 18.97it/s]\n",
      "training...: 100%|██████████| 2127/2127 [06:09<00:00,  5.76it/s]\n"
     ]
    },
    {
     "name": "stdout",
     "output_type": "stream",
     "text": [
      "[Train Epoch 4] Loss: 2.659454311403132\n"
     ]
    },
    {
     "name": "stderr",
     "output_type": "stream",
     "text": [
      "testing...: 100%|██████████| 531/531 [00:31<00:00, 16.75it/s]\n",
      "training...: 100%|██████████| 2127/2127 [06:07<00:00,  5.79it/s]\n"
     ]
    },
    {
     "name": "stdout",
     "output_type": "stream",
     "text": [
      "[Train Epoch 5] Loss: 2.6571426220101597\n"
     ]
    },
    {
     "name": "stderr",
     "output_type": "stream",
     "text": [
      "testing...: 100%|██████████| 531/531 [00:29<00:00, 18.18it/s]\n",
      "training...: 100%|██████████| 2127/2127 [06:08<00:00,  5.78it/s]\n"
     ]
    },
    {
     "name": "stdout",
     "output_type": "stream",
     "text": [
      "[Train Epoch 6] Loss: 2.656355250201205\n"
     ]
    },
    {
     "name": "stderr",
     "output_type": "stream",
     "text": [
      "testing...: 100%|██████████| 531/531 [00:28<00:00, 18.43it/s]\n",
      "training...: 100%|██████████| 2127/2127 [06:10<00:00,  5.74it/s]\n"
     ]
    },
    {
     "name": "stdout",
     "output_type": "stream",
     "text": [
      "[Train Epoch 7] Loss: 2.6561366569059914\n"
     ]
    },
    {
     "name": "stderr",
     "output_type": "stream",
     "text": [
      "testing...: 100%|██████████| 531/531 [00:28<00:00, 18.34it/s]\n",
      "training...: 100%|██████████| 2127/2127 [06:07<00:00,  5.79it/s]\n"
     ]
    },
    {
     "name": "stdout",
     "output_type": "stream",
     "text": [
      "[Train Epoch 8] Loss: 2.6558452970722666\n"
     ]
    },
    {
     "name": "stderr",
     "output_type": "stream",
     "text": [
      "testing...: 100%|██████████| 531/531 [00:28<00:00, 18.42it/s]\n",
      "training...: 100%|██████████| 2127/2127 [06:08<00:00,  5.78it/s]\n"
     ]
    },
    {
     "name": "stdout",
     "output_type": "stream",
     "text": [
      "[Train Epoch 9] Loss: 2.655698408809244\n"
     ]
    },
    {
     "name": "stderr",
     "output_type": "stream",
     "text": [
      "testing...: 100%|██████████| 531/531 [00:28<00:00, 18.33it/s]\n",
      "training...: 100%|██████████| 2127/2127 [06:06<00:00,  5.80it/s]\n"
     ]
    },
    {
     "name": "stdout",
     "output_type": "stream",
     "text": [
      "[Train Epoch 10] Loss: 2.655714885135968\n"
     ]
    },
    {
     "name": "stderr",
     "output_type": "stream",
     "text": [
      "testing...: 100%|██████████| 531/531 [00:29<00:00, 18.28it/s]\n",
      "training...: 100%|██████████| 2127/2127 [06:08<00:00,  5.77it/s]\n"
     ]
    },
    {
     "name": "stdout",
     "output_type": "stream",
     "text": [
      "[Train Epoch 11] Loss: 2.6555357545432092\n"
     ]
    },
    {
     "name": "stderr",
     "output_type": "stream",
     "text": [
      "testing...: 100%|██████████| 531/531 [00:28<00:00, 18.39it/s]\n",
      "training...: 100%|██████████| 2127/2127 [06:07<00:00,  5.80it/s]\n"
     ]
    },
    {
     "name": "stdout",
     "output_type": "stream",
     "text": [
      "[Train Epoch 12] Loss: 2.655589084194813\n"
     ]
    },
    {
     "name": "stderr",
     "output_type": "stream",
     "text": [
      "testing...: 100%|██████████| 531/531 [00:28<00:00, 18.33it/s]\n",
      "training...: 100%|██████████| 2127/2127 [06:09<00:00,  5.76it/s]\n"
     ]
    },
    {
     "name": "stdout",
     "output_type": "stream",
     "text": [
      "[Train Epoch 13] Loss: 2.6555189022616594\n"
     ]
    },
    {
     "name": "stderr",
     "output_type": "stream",
     "text": [
      "testing...: 100%|██████████| 531/531 [00:29<00:00, 17.72it/s]\n",
      "training...: 100%|██████████| 2127/2127 [06:10<00:00,  5.74it/s]\n"
     ]
    },
    {
     "name": "stdout",
     "output_type": "stream",
     "text": [
      "[Train Epoch 14] Loss: 2.6552355753517958\n"
     ]
    },
    {
     "name": "stderr",
     "output_type": "stream",
     "text": [
      "testing...: 100%|██████████| 531/531 [00:28<00:00, 18.36it/s]\n",
      "training...: 100%|██████████| 2127/2127 [06:09<00:00,  5.76it/s]\n"
     ]
    },
    {
     "name": "stdout",
     "output_type": "stream",
     "text": [
      "[Train Epoch 15] Loss: 2.655410554748664\n"
     ]
    },
    {
     "name": "stderr",
     "output_type": "stream",
     "text": [
      "testing...: 100%|██████████| 531/531 [00:28<00:00, 18.33it/s]\n",
      "training...: 100%|██████████| 2127/2127 [06:10<00:00,  5.74it/s]\n"
     ]
    },
    {
     "name": "stdout",
     "output_type": "stream",
     "text": [
      "[Train Epoch 16] Loss: 2.6552791731089678\n"
     ]
    },
    {
     "name": "stderr",
     "output_type": "stream",
     "text": [
      "testing...: 100%|██████████| 531/531 [00:28<00:00, 18.37it/s]\n",
      "training...: 100%|██████████| 2127/2127 [06:08<00:00,  5.77it/s]\n"
     ]
    },
    {
     "name": "stdout",
     "output_type": "stream",
     "text": [
      "[Train Epoch 17] Loss: 2.6552592954783583\n"
     ]
    },
    {
     "name": "stderr",
     "output_type": "stream",
     "text": [
      "testing...: 100%|██████████| 531/531 [00:28<00:00, 18.32it/s]\n",
      "training...: 100%|██████████| 2127/2127 [06:07<00:00,  5.79it/s]\n"
     ]
    },
    {
     "name": "stdout",
     "output_type": "stream",
     "text": [
      "[Train Epoch 18] Loss: 2.655429122702415\n"
     ]
    },
    {
     "name": "stderr",
     "output_type": "stream",
     "text": [
      "testing...: 100%|██████████| 531/531 [00:29<00:00, 18.13it/s]\n",
      "training...: 100%|██████████| 2127/2127 [06:08<00:00,  5.77it/s]\n"
     ]
    },
    {
     "name": "stdout",
     "output_type": "stream",
     "text": [
      "[Train Epoch 19] Loss: 2.655268999013645\n"
     ]
    },
    {
     "name": "stderr",
     "output_type": "stream",
     "text": [
      "testing...: 100%|██████████| 531/531 [00:29<00:00, 18.25it/s]\n",
      "training...: 100%|██████████| 2127/2127 [06:09<00:00,  5.75it/s]\n"
     ]
    },
    {
     "name": "stdout",
     "output_type": "stream",
     "text": [
      "[Train Epoch 20] Loss: 2.655285018791769\n"
     ]
    },
    {
     "name": "stderr",
     "output_type": "stream",
     "text": [
      "testing...: 100%|██████████| 531/531 [00:29<00:00, 18.19it/s]\n"
     ]
    },
    {
     "name": "stdout",
     "output_type": "stream",
     "text": [
      "CPU times: total: 2h 14min 12s\n",
      "Wall time: 2h 14min 29s\n"
     ]
    }
   ],
   "execution_count": 38
  },
  {
   "cell_type": "markdown",
   "source": [
    "## 11.8. delete some data"
   ],
   "metadata": {
    "collapsed": false
   },
   "id": "d80203680b8490b"
  },
  {
   "cell_type": "code",
   "source": [
    "del train_dataloader_clean_corrected\n",
    "del test_dataloader_clean_corrected\n",
    "del train_dataset_clean_corrected\n",
    "del test_dataset_clean_corrected\n",
    "del train_clean_corrected\n",
    "del test_clean_corrected\n",
    "del dataset_clean_corrected\n",
    "\n",
    "del model_clean_corrected\n",
    "del optimizer_clean_corrected\n",
    "gc.collect()\n",
    "torch.cuda.empty_cache()"
   ],
   "metadata": {
    "collapsed": false,
    "is_executing": true,
    "ExecuteTime": {
     "end_time": "2024-04-20T18:48:23.492459Z",
     "start_time": "2024-04-20T18:48:07.661801Z"
    }
   },
   "id": "9578d39e4617cf61",
   "outputs": [],
   "execution_count": 39
  },
  {
   "cell_type": "markdown",
   "source": [
    "# 12. wsd_2 dataset (from tonetags_dataset_tumblr_clean with glove.6b.50d)"
   ],
   "metadata": {
    "collapsed": false
   },
   "id": "9dc4a5487fcea416"
  },
  {
   "cell_type": "markdown",
   "source": [
    "## 12.1. function to convert str of context to list when we upload dataset "
   ],
   "metadata": {
    "collapsed": false
   },
   "id": "ed3555d3b5b8569e"
  },
  {
   "cell_type": "code",
   "source": [
    "def str_context_to_list(value):\n",
    "    list_values = value.strip('[]').split(' ')\n",
    "    cleaned_list_values = []\n",
    "    for item in list_values:\n",
    "        item.strip()\n",
    "        # if '\\n' in item:\n",
    "        #     item.replace('\\n', '')\n",
    "        if item != \"\":\n",
    "            cleaned_list_values.append(float(item))\n",
    "    return cleaned_list_values"
   ],
   "metadata": {
    "collapsed": false,
    "is_executing": true,
    "ExecuteTime": {
     "end_time": "2024-04-20T18:48:23.497407Z",
     "start_time": "2024-04-20T18:48:23.493459Z"
    }
   },
   "id": "bcff7cc688c059c8",
   "outputs": [],
   "execution_count": 40
  },
  {
   "cell_type": "markdown",
   "source": [
    "## 12.2. upload dataset"
   ],
   "metadata": {
    "collapsed": false
   },
   "id": "5a67b67120fd563a"
  },
  {
   "cell_type": "code",
   "source": [
    "# dataset_wsd_2 = pd.read_csv(\"../datasets/tonetags_wsd_2.csv\", index_col=0, converters={\"text\": str_text_to_list, 'context': str_context_to_list})\n",
    "dataset_wsd_2 = pd.read_csv(\"../datasets/tonetags_wsd_2.csv\", index_col=0, converters={\"text\": str_text_to_list})"
   ],
   "metadata": {
    "collapsed": false,
    "is_executing": true,
    "ExecuteTime": {
     "end_time": "2024-04-20T18:48:25.310573Z",
     "start_time": "2024-04-20T18:48:23.498407Z"
    }
   },
   "id": "611509b133a6df7",
   "outputs": [],
   "execution_count": 41
  },
  {
   "cell_type": "code",
   "source": [
    "dataset_wsd_2 = dataset_wsd_2.dropna()"
   ],
   "metadata": {
    "collapsed": false,
    "is_executing": true,
    "ExecuteTime": {
     "end_time": "2024-04-20T18:48:25.343879Z",
     "start_time": "2024-04-20T18:48:25.311573Z"
    }
   },
   "id": "d71035816045f2cb",
   "outputs": [],
   "execution_count": 42
  },
  {
   "cell_type": "code",
   "source": [
    "dataset_wsd_2.context = dataset_wsd_2.context.apply(str_context_to_list)"
   ],
   "metadata": {
    "collapsed": false,
    "is_executing": true,
    "ExecuteTime": {
     "end_time": "2024-04-20T18:48:27.144729Z",
     "start_time": "2024-04-20T18:48:25.344880Z"
    }
   },
   "id": "46e5cbc3524d4834",
   "outputs": [],
   "execution_count": 43
  },
  {
   "cell_type": "markdown",
   "source": [
    "## 12.3. encode labels"
   ],
   "metadata": {
    "collapsed": false
   },
   "id": "79b215f80dde7b87"
  },
  {
   "cell_type": "code",
   "source": [
    "dataset_wsd_2.tags = dataset_wsd_2.tags.apply(labels.index)"
   ],
   "metadata": {
    "collapsed": false,
    "is_executing": true,
    "ExecuteTime": {
     "end_time": "2024-04-20T18:48:27.178179Z",
     "start_time": "2024-04-20T18:48:27.145730Z"
    }
   },
   "id": "b633e31f5438ce3d",
   "outputs": [],
   "execution_count": 44
  },
  {
   "cell_type": "markdown",
   "source": [
    "## 12.4. split"
   ],
   "metadata": {
    "collapsed": false
   },
   "id": "c61ace554e750cd6"
  },
  {
   "cell_type": "code",
   "source": [
    "train_wsd_2, test_wsd_2 = train_test_split(dataset_wsd_2, stratify=dataset_wsd_2['tags'], test_size=0.2, random_state=42)"
   ],
   "metadata": {
    "collapsed": false,
    "is_executing": true,
    "ExecuteTime": {
     "end_time": "2024-04-20T18:48:27.219496Z",
     "start_time": "2024-04-20T18:48:27.179178Z"
    }
   },
   "id": "1ccbcace0fb0b275",
   "outputs": [],
   "execution_count": 45
  },
  {
   "cell_type": "markdown",
   "source": [
    "## 12.5. create datasets"
   ],
   "metadata": {
    "collapsed": false
   },
   "id": "34bcb45136297960"
  },
  {
   "cell_type": "code",
   "source": [
    "train_dataset_wsd_2, test_dataset_wsd_2 = myDataset(train_wsd_2), myDataset(test_wsd_2)"
   ],
   "metadata": {
    "collapsed": false,
    "is_executing": true,
    "ExecuteTime": {
     "end_time": "2024-04-20T18:48:28.939412Z",
     "start_time": "2024-04-20T18:48:27.220496Z"
    }
   },
   "id": "50d4db0cb3f5c214",
   "outputs": [],
   "execution_count": 46
  },
  {
   "cell_type": "markdown",
   "source": [
    "## 12.6. create dataloaders"
   ],
   "metadata": {
    "collapsed": false
   },
   "id": "7b121332d4a3606"
  },
  {
   "cell_type": "code",
   "source": [
    "train_dataloader_wsd_2 = DataLoader(train_dataset_wsd_2, batch_size=batch_size, shuffle=True, collate_fn=collate_fn, drop_last=True)\n",
    "\n",
    "test_dataloader_wsd_2 = DataLoader(test_dataset_wsd_2, batch_size=batch_size, shuffle=True, collate_fn=collate_fn, drop_last=True)"
   ],
   "metadata": {
    "collapsed": false,
    "is_executing": true,
    "ExecuteTime": {
     "end_time": "2024-04-20T18:48:28.943739Z",
     "start_time": "2024-04-20T18:48:28.940406Z"
    }
   },
   "id": "da32fad1b818c2c9",
   "outputs": [],
   "execution_count": 47
  },
  {
   "cell_type": "markdown",
   "source": [
    "## 12.7. class of model for wsd_2 data"
   ],
   "metadata": {
    "collapsed": false
   },
   "id": "14bf0905b8ebeb61"
  },
  {
   "cell_type": "code",
   "source": [
    "class ToneTagsLSTM_wsd_2(nn.Module):\n",
    "    def __init__(self, vocab_size, embedding, hidden_dim, context_dim, output_size, num_layers, dropout):\n",
    "        super(ToneTagsLSTM_wsd_2, self).__init__()\n",
    "        \n",
    "        # output_size = 19\n",
    "\n",
    "        self.embedding = embedding\n",
    "\n",
    "        self.lstm = nn.LSTM(self.embedding.embedding_dim, hidden_dim, num_layers=num_layers, bidirectional=True, dropout=dropout, batch_first=True)\n",
    "\n",
    "        self.fc1 = nn.Linear(hidden_dim * max_length * 2 + context_dim, 1024)\n",
    "        self.fc2 = nn.Linear(1024, 512)\n",
    "        self.fc3 = nn.Linear(512, output_size)\n",
    "        # self.out = nn.Softmax(output_size, dim=1)\n",
    "\n",
    "\n",
    "    def forward(self, tokens, contexts):\n",
    "\n",
    "        embedded = self.embedding(tokens)\n",
    "        output, (hidden, cell) = self.lstm(embedded)\n",
    "\n",
    "        lstm_out = torch.cat((output.reshape(batch_size, -1), contexts), dim=1)\n",
    "\n",
    "        fc1_out = self.fc1(lstm_out)\n",
    "\n",
    "\n",
    "        fc2_out = self.fc2(fc1_out)\n",
    "        out = self.fc3(fc2_out)\n",
    "        # out = self.out(fc3_out)\n",
    "\n",
    "        return out"
   ],
   "metadata": {
    "collapsed": false,
    "is_executing": true,
    "ExecuteTime": {
     "end_time": "2024-04-20T18:48:28.950614Z",
     "start_time": "2024-04-20T18:48:28.944735Z"
    }
   },
   "id": "e686c792d6480866",
   "outputs": [],
   "execution_count": 48
  },
  {
   "cell_type": "markdown",
   "source": [
    "## 12.8. parameters for wsd_2"
   ],
   "metadata": {
    "collapsed": false
   },
   "id": "7cc5bd51fbda8fb7"
  },
  {
   "cell_type": "code",
   "source": [
    "# train_dataloader_wsd_2\n",
    "# test_dataloader_wsd_2\n",
    "\n",
    "vocab_size = len(vocab)\n",
    "embedding = nn.Embedding.from_pretrained(embedding_tensor, freeze=True)\n",
    "hidden_dim = 30 # 30\n",
    "context_dim = 50 # 50\n",
    "output_size = len(labels) # 19\n",
    "num_layers = 4\n",
    "dropout = 0.2\n",
    "device = torch.device(\"cuda\" if torch.cuda.is_available() else \"cpu\")\n",
    "lr = 5e-4\n",
    "\n",
    "criterion = nn.CrossEntropyLoss()"
   ],
   "metadata": {
    "collapsed": false,
    "is_executing": true,
    "ExecuteTime": {
     "end_time": "2024-04-20T18:48:28.956471Z",
     "start_time": "2024-04-20T18:48:28.951607Z"
    }
   },
   "id": "f0df28ad4db73e4f",
   "outputs": [],
   "execution_count": 49
  },
  {
   "cell_type": "markdown",
   "source": [
    "## 12.9. create instance of model and optimizer to wsd_2 data"
   ],
   "metadata": {
    "collapsed": false
   },
   "id": "186f980fea38dda"
  },
  {
   "cell_type": "code",
   "source": [
    "# train_dataloader_wsd_2\n",
    "# test_dataloader_wsd_2\n",
    "\n",
    "model_wsd_2 = ToneTagsLSTM_wsd_2(\n",
    "    vocab_size=vocab_size,\n",
    "    embedding=embedding,\n",
    "    hidden_dim=hidden_dim,\n",
    "    context_dim=context_dim,\n",
    "    output_size=output_size,\n",
    "    num_layers=num_layers,\n",
    "    dropout=dropout\n",
    ").to(device)\n",
    "\n",
    "optimizer_wsd_2 = optim.Adam(model_wsd_2.parameters(), lr=lr)"
   ],
   "metadata": {
    "collapsed": false,
    "is_executing": true,
    "ExecuteTime": {
     "end_time": "2024-04-20T18:48:30.794006Z",
     "start_time": "2024-04-20T18:48:28.956471Z"
    }
   },
   "id": "3ed0471ff0ed1dba",
   "outputs": [],
   "execution_count": 50
  },
  {
   "cell_type": "markdown",
   "source": [
    "## 12.10. train and test to wsd_2"
   ],
   "metadata": {
    "collapsed": false
   },
   "id": "94d2091ba8969719"
  },
  {
   "cell_type": "code",
   "source": [
    "%%time\n",
    "\n",
    "for ep in range(1, n_epochs + 1):\n",
    "\n",
    "    model_wsd_2.train()\n",
    "    epoch_losses_train = []\n",
    "\n",
    "    train_predictions = []\n",
    "    train_tags = []\n",
    "\n",
    "    test_predictions = []\n",
    "    test_tags = []\n",
    "\n",
    "\n",
    "    for tokens, contexts, tags in tqdm(train_dataloader_wsd_2, desc=f\"Epoch {ep} training...\"):\n",
    "        optimizer_wsd_2.zero_grad()\n",
    "\n",
    "        tokens = tokens.to(device)\n",
    "        contexts = contexts.to(device)\n",
    "        tags = tags.to(device)\n",
    "\n",
    "        predictions = model_wsd_2(tokens, contexts)\n",
    "\n",
    "        train_predictions.extend(predictions.tolist())\n",
    "        train_tags.extend(tags.tolist())\n",
    "\n",
    "        loss = criterion(predictions, tags)\n",
    "\n",
    "        loss.backward()\n",
    "        optimizer_wsd_2.step()\n",
    "\n",
    "        epoch_losses_train.append(loss.item())\n",
    "\n",
    "    del tokens\n",
    "    del contexts\n",
    "    del tags\n",
    "\n",
    "    gc.collect()\n",
    "    torch.cuda.empty_cache()\n",
    "\n",
    "    print(f'[Train Epoch {ep}] Loss: {np.mean(epoch_losses_train)}')\n",
    "\n",
    "\n",
    "    model_wsd_2.eval()\n",
    "\n",
    "    with torch.no_grad():\n",
    "        for tokens, contexts, tags in tqdm(test_dataloader_wsd_2, desc=f\"Epoch {ep} testing...\"):\n",
    "\n",
    "            tokens = tokens.to(device)\n",
    "            contexts = contexts.to(device)\n",
    "            tags = tags.to(device)\n",
    "\n",
    "            predictions = model_wsd_2(tokens, contexts)\n",
    "\n",
    "            test_predictions.extend(predictions.tolist())\n",
    "            test_tags.extend(tags.tolist())\n",
    "\n",
    "        del tokens\n",
    "        del contexts\n",
    "        del tags\n",
    "    \n",
    "        gc.collect()\n",
    "        torch.cuda.empty_cache()\n",
    "\n",
    "    export_predictions('clean_wsd_2_grove_6b_50d', epoch=ep, train_predictions=train_predictions, train_tags=train_tags, test_predictions=test_predictions, test_tags=test_tags)\n",
    "\n",
    "\n",
    "    del train_predictions, train_tags, test_predictions, test_tags\n",
    "    gc.collect()\n",
    "    torch.cuda.empty_cache()"
   ],
   "metadata": {
    "collapsed": false,
    "is_executing": true,
    "ExecuteTime": {
     "end_time": "2024-04-20T21:02:29.707180Z",
     "start_time": "2024-04-20T18:48:30.795008Z"
    }
   },
   "id": "a27bb6a3b5a4e015",
   "outputs": [
    {
     "name": "stderr",
     "output_type": "stream",
     "text": [
      "training...: 100%|██████████| 2088/2088 [06:29<00:00,  5.36it/s]\n"
     ]
    },
    {
     "name": "stdout",
     "output_type": "stream",
     "text": [
      "[Train Epoch 1] Loss: 2.767507827944226\n"
     ]
    },
    {
     "name": "stderr",
     "output_type": "stream",
     "text": [
      "testing...: 100%|██████████| 521/521 [00:35<00:00, 14.88it/s]\n",
      "training...: 100%|██████████| 2088/2088 [06:02<00:00,  5.76it/s]\n"
     ]
    },
    {
     "name": "stdout",
     "output_type": "stream",
     "text": [
      "[Train Epoch 2] Loss: 2.5141488100719633\n"
     ]
    },
    {
     "name": "stderr",
     "output_type": "stream",
     "text": [
      "testing...: 100%|██████████| 521/521 [00:28<00:00, 18.42it/s]\n",
      "training...: 100%|██████████| 2088/2088 [06:04<00:00,  5.73it/s]\n"
     ]
    },
    {
     "name": "stdout",
     "output_type": "stream",
     "text": [
      "[Train Epoch 3] Loss: 2.4816451814325378\n"
     ]
    },
    {
     "name": "stderr",
     "output_type": "stream",
     "text": [
      "testing...: 100%|██████████| 521/521 [00:29<00:00, 17.83it/s]\n",
      "training...: 100%|██████████| 2088/2088 [06:07<00:00,  5.68it/s]\n"
     ]
    },
    {
     "name": "stdout",
     "output_type": "stream",
     "text": [
      "[Train Epoch 4] Loss: 2.468050942338746\n"
     ]
    },
    {
     "name": "stderr",
     "output_type": "stream",
     "text": [
      "testing...: 100%|██████████| 521/521 [00:28<00:00, 18.02it/s]\n",
      "training...: 100%|██████████| 2088/2088 [06:07<00:00,  5.68it/s]\n"
     ]
    },
    {
     "name": "stdout",
     "output_type": "stream",
     "text": [
      "[Train Epoch 5] Loss: 2.4602553957495195\n"
     ]
    },
    {
     "name": "stderr",
     "output_type": "stream",
     "text": [
      "testing...: 100%|██████████| 521/521 [00:29<00:00, 17.95it/s]\n",
      "training...: 100%|██████████| 2088/2088 [06:06<00:00,  5.70it/s]\n"
     ]
    },
    {
     "name": "stdout",
     "output_type": "stream",
     "text": [
      "[Train Epoch 6] Loss: 2.4505234683267916\n"
     ]
    },
    {
     "name": "stderr",
     "output_type": "stream",
     "text": [
      "testing...: 100%|██████████| 521/521 [00:28<00:00, 18.00it/s]\n",
      "training...: 100%|██████████| 2088/2088 [06:07<00:00,  5.69it/s]\n"
     ]
    },
    {
     "name": "stdout",
     "output_type": "stream",
     "text": [
      "[Train Epoch 7] Loss: 2.4330518263395717\n"
     ]
    },
    {
     "name": "stderr",
     "output_type": "stream",
     "text": [
      "testing...: 100%|██████████| 521/521 [00:28<00:00, 18.03it/s]\n",
      "training...: 100%|██████████| 2088/2088 [06:07<00:00,  5.68it/s]\n"
     ]
    },
    {
     "name": "stdout",
     "output_type": "stream",
     "text": [
      "[Train Epoch 8] Loss: 2.4031816224828075\n"
     ]
    },
    {
     "name": "stderr",
     "output_type": "stream",
     "text": [
      "testing...: 100%|██████████| 521/521 [00:28<00:00, 18.07it/s]\n",
      "training...: 100%|██████████| 2088/2088 [06:09<00:00,  5.65it/s]\n"
     ]
    },
    {
     "name": "stdout",
     "output_type": "stream",
     "text": [
      "[Train Epoch 9] Loss: 2.3657538027028013\n"
     ]
    },
    {
     "name": "stderr",
     "output_type": "stream",
     "text": [
      "testing...: 100%|██████████| 521/521 [00:28<00:00, 17.97it/s]\n",
      "training...: 100%|██████████| 2088/2088 [06:07<00:00,  5.68it/s]\n"
     ]
    },
    {
     "name": "stdout",
     "output_type": "stream",
     "text": [
      "[Train Epoch 10] Loss: 2.3253698586504123\n"
     ]
    },
    {
     "name": "stderr",
     "output_type": "stream",
     "text": [
      "testing...: 100%|██████████| 521/521 [00:29<00:00, 17.77it/s]\n",
      "training...: 100%|██████████| 2088/2088 [06:08<00:00,  5.66it/s]\n"
     ]
    },
    {
     "name": "stdout",
     "output_type": "stream",
     "text": [
      "[Train Epoch 11] Loss: 2.2774917310910205\n"
     ]
    },
    {
     "name": "stderr",
     "output_type": "stream",
     "text": [
      "testing...: 100%|██████████| 521/521 [00:29<00:00, 17.60it/s]\n",
      "training...: 100%|██████████| 2088/2088 [06:05<00:00,  5.71it/s]\n"
     ]
    },
    {
     "name": "stdout",
     "output_type": "stream",
     "text": [
      "[Train Epoch 12] Loss: 2.2291325576803236\n"
     ]
    },
    {
     "name": "stderr",
     "output_type": "stream",
     "text": [
      "testing...: 100%|██████████| 521/521 [00:29<00:00, 17.78it/s]\n",
      "training...: 100%|██████████| 2088/2088 [06:07<00:00,  5.69it/s]\n"
     ]
    },
    {
     "name": "stdout",
     "output_type": "stream",
     "text": [
      "[Train Epoch 13] Loss: 2.1847436595922227\n"
     ]
    },
    {
     "name": "stderr",
     "output_type": "stream",
     "text": [
      "testing...: 100%|██████████| 521/521 [00:29<00:00, 17.78it/s]\n",
      "training...: 100%|██████████| 2088/2088 [06:06<00:00,  5.69it/s]\n"
     ]
    },
    {
     "name": "stdout",
     "output_type": "stream",
     "text": [
      "[Train Epoch 14] Loss: 2.1440634625853248\n"
     ]
    },
    {
     "name": "stderr",
     "output_type": "stream",
     "text": [
      "testing...: 100%|██████████| 521/521 [00:29<00:00, 17.77it/s]\n",
      "training...: 100%|██████████| 2088/2088 [06:06<00:00,  5.70it/s]\n"
     ]
    },
    {
     "name": "stdout",
     "output_type": "stream",
     "text": [
      "[Train Epoch 15] Loss: 2.102017056211201\n"
     ]
    },
    {
     "name": "stderr",
     "output_type": "stream",
     "text": [
      "testing...: 100%|██████████| 521/521 [00:29<00:00, 17.86it/s]\n",
      "training...: 100%|██████████| 2088/2088 [06:07<00:00,  5.68it/s]\n"
     ]
    },
    {
     "name": "stdout",
     "output_type": "stream",
     "text": [
      "[Train Epoch 16] Loss: 2.0684688228871173\n"
     ]
    },
    {
     "name": "stderr",
     "output_type": "stream",
     "text": [
      "testing...: 100%|██████████| 521/521 [00:29<00:00, 17.74it/s]\n",
      "training...: 100%|██████████| 2088/2088 [06:06<00:00,  5.70it/s]\n"
     ]
    },
    {
     "name": "stdout",
     "output_type": "stream",
     "text": [
      "[Train Epoch 17] Loss: 2.033398964395925\n"
     ]
    },
    {
     "name": "stderr",
     "output_type": "stream",
     "text": [
      "testing...: 100%|██████████| 521/521 [00:29<00:00, 17.78it/s]\n",
      "training...: 100%|██████████| 2088/2088 [06:08<00:00,  5.67it/s]\n"
     ]
    },
    {
     "name": "stdout",
     "output_type": "stream",
     "text": [
      "[Train Epoch 18] Loss: 2.003809565442732\n"
     ]
    },
    {
     "name": "stderr",
     "output_type": "stream",
     "text": [
      "testing...: 100%|██████████| 521/521 [00:28<00:00, 17.97it/s]\n",
      "training...: 100%|██████████| 2088/2088 [06:07<00:00,  5.69it/s]\n"
     ]
    },
    {
     "name": "stdout",
     "output_type": "stream",
     "text": [
      "[Train Epoch 19] Loss: 1.9773295355025835\n"
     ]
    },
    {
     "name": "stderr",
     "output_type": "stream",
     "text": [
      "testing...: 100%|██████████| 521/521 [00:29<00:00, 17.76it/s]\n",
      "training...: 100%|██████████| 2088/2088 [06:06<00:00,  5.69it/s]\n"
     ]
    },
    {
     "name": "stdout",
     "output_type": "stream",
     "text": [
      "[Train Epoch 20] Loss: 1.946366485508009\n"
     ]
    },
    {
     "name": "stderr",
     "output_type": "stream",
     "text": [
      "testing...: 100%|██████████| 521/521 [00:30<00:00, 16.91it/s]\n"
     ]
    },
    {
     "name": "stdout",
     "output_type": "stream",
     "text": [
      "CPU times: total: 2h 13min 43s\n",
      "Wall time: 2h 13min 58s\n"
     ]
    }
   ],
   "execution_count": 51
  },
  {
   "cell_type": "markdown",
   "source": [
    "## 12.11. delete some data"
   ],
   "metadata": {
    "collapsed": false
   },
   "id": "638e75cfa4913faf"
  },
  {
   "cell_type": "code",
   "source": [
    "del train_dataloader_wsd_2\n",
    "del test_dataloader_wsd_2\n",
    "del train_dataset_wsd_2\n",
    "del test_dataset_wsd_2\n",
    "del train_wsd_2\n",
    "del test_wsd_2\n",
    "del dataset_wsd_2\n",
    "\n",
    "del model_wsd_2\n",
    "del optimizer_wsd_2\n",
    "gc.collect()\n",
    "torch.cuda.empty_cache()"
   ],
   "metadata": {
    "collapsed": false,
    "is_executing": true,
    "ExecuteTime": {
     "end_time": "2024-04-20T21:02:45.290854Z",
     "start_time": "2024-04-20T21:02:29.708179Z"
    }
   },
   "id": "3cd31b1f01722b7e",
   "outputs": [],
   "execution_count": 52
  },
  {
   "cell_type": "markdown",
   "source": [
    "# 13. clean_corrected_wsd_1 dataset"
   ],
   "metadata": {
    "collapsed": false
   },
   "id": "e7496780db743b0e"
  },
  {
   "cell_type": "markdown",
   "source": [
    "## 13.1. upload dataset"
   ],
   "metadata": {
    "collapsed": false
   },
   "id": "f1485b8f37f3e90a"
  },
  {
   "cell_type": "code",
   "source": [
    "dataset_clean_corrected_wsd_1 = pd.read_csv(\"../datasets/tonetags_dataset_tumblr_clean_corrected_text_wsd_1.csv\", index_col=0, converters={\"text\": str_text_to_list})"
   ],
   "metadata": {
    "collapsed": false,
    "is_executing": true,
    "ExecuteTime": {
     "end_time": "2024-04-20T21:02:50.398864Z",
     "start_time": "2024-04-20T21:02:45.291456Z"
    }
   },
   "id": "7bf78859792a883e",
   "outputs": [],
   "execution_count": 53
  },
  {
   "cell_type": "markdown",
   "source": [
    "## 13.2. encode labels"
   ],
   "metadata": {
    "collapsed": false
   },
   "id": "6f44fa5d1046882c"
  },
  {
   "cell_type": "code",
   "source": [
    "dataset_clean_corrected_wsd_1.tags = dataset_clean_corrected_wsd_1.tags.apply(labels.index)"
   ],
   "metadata": {
    "collapsed": false,
    "is_executing": true,
    "ExecuteTime": {
     "end_time": "2024-04-20T21:02:50.427334Z",
     "start_time": "2024-04-20T21:02:50.399872Z"
    }
   },
   "id": "a924cd9888dcb6d7",
   "outputs": [],
   "execution_count": 54
  },
  {
   "cell_type": "markdown",
   "source": [
    "## 13.3. split"
   ],
   "metadata": {
    "collapsed": false
   },
   "id": "8b49715d650e1a6c"
  },
  {
   "cell_type": "code",
   "source": [
    "train_clean_corrected_wsd_1, test_clean_corrected_wsd_1 = train_test_split(dataset_clean_corrected_wsd_1, stratify=dataset_clean_corrected_wsd_1['tags'], test_size=0.2, random_state=42)"
   ],
   "metadata": {
    "collapsed": false,
    "is_executing": true,
    "ExecuteTime": {
     "end_time": "2024-04-20T21:02:50.462045Z",
     "start_time": "2024-04-20T21:02:50.428333Z"
    }
   },
   "id": "7b381918a1cfa51c",
   "outputs": [],
   "execution_count": 55
  },
  {
   "cell_type": "markdown",
   "source": [
    "## 13.4. create datasets"
   ],
   "metadata": {
    "collapsed": false
   },
   "id": "35c3b018d6b3a7db"
  },
  {
   "cell_type": "code",
   "source": [
    "train_dataset_clean_corrected_wsd_1, test_dataset_clean_corrected_wsd_1 = myDataset(train_clean_corrected_wsd_1), myDataset(test_clean_corrected_wsd_1)"
   ],
   "metadata": {
    "collapsed": false,
    "is_executing": true,
    "ExecuteTime": {
     "end_time": "2024-04-20T21:02:53.915156Z",
     "start_time": "2024-04-20T21:02:50.463046Z"
    }
   },
   "id": "74a63435522c78e0",
   "outputs": [],
   "execution_count": 56
  },
  {
   "cell_type": "markdown",
   "source": [
    "## 13.5. create dataloaders"
   ],
   "metadata": {
    "collapsed": false
   },
   "id": "7068afe9e8d705af"
  },
  {
   "cell_type": "code",
   "source": [
    "train_dataloader_clean_corrected_wsd_1 = DataLoader(train_dataset_clean_corrected_wsd_1, batch_size=batch_size, shuffle=True, collate_fn=collate_fn, drop_last=True)\n",
    "\n",
    "test_dataloader_clean_corrected_wsd_1 = DataLoader(test_dataset_clean_corrected_wsd_1, batch_size=batch_size, shuffle=True, collate_fn=collate_fn, drop_last=True)"
   ],
   "metadata": {
    "collapsed": false,
    "is_executing": true,
    "ExecuteTime": {
     "end_time": "2024-04-20T21:02:53.928156Z",
     "start_time": "2024-04-20T21:02:53.916156Z"
    }
   },
   "id": "c1054da3e0f32f74",
   "outputs": [],
   "execution_count": 57
  },
  {
   "cell_type": "markdown",
   "source": [
    "## 13.6. create instance of model and optimizer"
   ],
   "metadata": {
    "collapsed": false
   },
   "id": "d495c825d1eba8df"
  },
  {
   "cell_type": "code",
   "source": [
    "# train_dataloader_clean_corrected_wsd_1\n",
    "# test_dataloader_clean_corrected_wsd_1\n",
    "\n",
    "model_clean_corrected_wsd_1 = ToneTagsLSTM(\n",
    "    vocab_size=vocab_size,\n",
    "    embedding=embedding,\n",
    "    hidden_dim=hidden_dim,\n",
    "    output_size=output_size,\n",
    "    num_layers=num_layers,\n",
    "    dropout=dropout\n",
    ").to(device)\n",
    "\n",
    "optimizer_clean_corrected_wsd_1 = optim.Adam(model_clean_corrected_wsd_1.parameters(), lr=lr)"
   ],
   "metadata": {
    "collapsed": false,
    "is_executing": true,
    "ExecuteTime": {
     "end_time": "2024-04-20T21:02:55.318668Z",
     "start_time": "2024-04-20T21:02:53.929156Z"
    }
   },
   "id": "a5ac0cbf6c0a116a",
   "outputs": [],
   "execution_count": 58
  },
  {
   "cell_type": "markdown",
   "source": [
    "## 13.7. train and test model for clean_corrected_wsd_1 dataloader"
   ],
   "metadata": {
    "collapsed": false
   },
   "id": "384c077565f07e67"
  },
  {
   "cell_type": "code",
   "source": [
    "%%time\n",
    "\n",
    "for ep in range(1, n_epochs + 1):\n",
    "\n",
    "    model_clean_corrected_wsd_1.train()\n",
    "    epoch_losses_train = []\n",
    "\n",
    "    train_predictions = []\n",
    "    train_tags = []\n",
    "\n",
    "    test_predictions = []\n",
    "    test_tags = []\n",
    "\n",
    "    for tokens, contexts, tags in tqdm(train_dataloader_clean_corrected_wsd_1, desc=f\"Epoch {ep} training...\"):\n",
    "        optimizer_clean_corrected_wsd_1.zero_grad()\n",
    "\n",
    "        tokens = tokens.to(device)\n",
    "        tags = tags.to(device)\n",
    "\n",
    "        predictions = model_clean_corrected_wsd_1(tokens)\n",
    "\n",
    "        train_predictions.extend(predictions.tolist())\n",
    "        train_tags.extend(tags.tolist())\n",
    "\n",
    "        loss = criterion(predictions, tags)\n",
    "\n",
    "        loss.backward()\n",
    "        optimizer_clean_corrected_wsd_1.step()\n",
    "\n",
    "        epoch_losses_train.append(loss.item())\n",
    "\n",
    "    del tokens\n",
    "    del tags\n",
    "\n",
    "    gc.collect()\n",
    "    torch.cuda.empty_cache()\n",
    "\n",
    "    print(f'[Train Epoch {ep}] Loss: {np.mean(epoch_losses_train)}')\n",
    "\n",
    "\n",
    "    model_clean_corrected_wsd_1.eval()\n",
    "\n",
    "    with torch.no_grad():\n",
    "        for tokens, contexts, tags in tqdm(test_dataloader_clean_corrected_wsd_1, desc=f\"Epoch {ep} testing...\"):\n",
    "            tokens = tokens.to(device)\n",
    "            tags = tags.to(device)\n",
    "\n",
    "            predictions = model_clean_corrected_wsd_1(tokens)\n",
    "\n",
    "            test_predictions.extend(predictions.tolist())\n",
    "            test_tags.extend(tags.tolist())\n",
    "\n",
    "\n",
    "        del tokens\n",
    "        del tags\n",
    "\n",
    "        gc.collect()\n",
    "        torch.cuda.empty_cache()\n",
    "\n",
    "    export_predictions('clean_corrected_wsd_1', epoch=ep, train_predictions=train_predictions, train_tags=train_tags, test_predictions=test_predictions, test_tags=test_tags)\n",
    "\n",
    "\n",
    "    del train_predictions, train_tags, test_predictions, test_tags\n",
    "    gc.collect()\n",
    "    torch.cuda.empty_cache()"
   ],
   "metadata": {
    "collapsed": false,
    "is_executing": true,
    "ExecuteTime": {
     "end_time": "2024-04-20T23:16:43.723937Z",
     "start_time": "2024-04-20T21:02:55.319667Z"
    }
   },
   "id": "1977578e56371d51",
   "outputs": [
    {
     "name": "stderr",
     "output_type": "stream",
     "text": [
      "training...: 100%|██████████| 2108/2108 [06:27<00:00,  5.44it/s]\n"
     ]
    },
    {
     "name": "stdout",
     "output_type": "stream",
     "text": [
      "[Train Epoch 1] Loss: 2.8090018590442143\n"
     ]
    },
    {
     "name": "stderr",
     "output_type": "stream",
     "text": [
      "testing...: 100%|██████████| 527/527 [00:34<00:00, 15.15it/s]\n",
      "training...: 100%|██████████| 2108/2108 [05:58<00:00,  5.87it/s]\n"
     ]
    },
    {
     "name": "stdout",
     "output_type": "stream",
     "text": [
      "[Train Epoch 2] Loss: 2.667332948837606\n"
     ]
    },
    {
     "name": "stderr",
     "output_type": "stream",
     "text": [
      "testing...: 100%|██████████| 527/527 [00:28<00:00, 18.57it/s]\n",
      "training...: 100%|██████████| 2108/2108 [06:05<00:00,  5.78it/s]\n"
     ]
    },
    {
     "name": "stdout",
     "output_type": "stream",
     "text": [
      "[Train Epoch 3] Loss: 2.661266172972757\n"
     ]
    },
    {
     "name": "stderr",
     "output_type": "stream",
     "text": [
      "testing...: 100%|██████████| 527/527 [00:28<00:00, 18.38it/s]\n",
      "training...: 100%|██████████| 2108/2108 [06:04<00:00,  5.78it/s]\n"
     ]
    },
    {
     "name": "stdout",
     "output_type": "stream",
     "text": [
      "[Train Epoch 4] Loss: 2.657799835449378\n"
     ]
    },
    {
     "name": "stderr",
     "output_type": "stream",
     "text": [
      "testing...: 100%|██████████| 527/527 [00:28<00:00, 18.37it/s]\n",
      "training...: 100%|██████████| 2108/2108 [06:04<00:00,  5.78it/s]\n"
     ]
    },
    {
     "name": "stdout",
     "output_type": "stream",
     "text": [
      "[Train Epoch 5] Loss: 2.656422679179986\n"
     ]
    },
    {
     "name": "stderr",
     "output_type": "stream",
     "text": [
      "testing...: 100%|██████████| 527/527 [00:28<00:00, 18.27it/s]\n",
      "training...: 100%|██████████| 2108/2108 [06:05<00:00,  5.76it/s]\n"
     ]
    },
    {
     "name": "stdout",
     "output_type": "stream",
     "text": [
      "[Train Epoch 6] Loss: 2.6561248088697327\n"
     ]
    },
    {
     "name": "stderr",
     "output_type": "stream",
     "text": [
      "testing...: 100%|██████████| 527/527 [00:28<00:00, 18.48it/s]\n",
      "training...: 100%|██████████| 2108/2108 [06:06<00:00,  5.76it/s]\n"
     ]
    },
    {
     "name": "stdout",
     "output_type": "stream",
     "text": [
      "[Train Epoch 7] Loss: 2.6558852054362507\n"
     ]
    },
    {
     "name": "stderr",
     "output_type": "stream",
     "text": [
      "testing...: 100%|██████████| 527/527 [00:28<00:00, 18.23it/s]\n",
      "training...: 100%|██████████| 2108/2108 [06:09<00:00,  5.71it/s]\n"
     ]
    },
    {
     "name": "stdout",
     "output_type": "stream",
     "text": [
      "[Train Epoch 8] Loss: 2.655960283763495\n"
     ]
    },
    {
     "name": "stderr",
     "output_type": "stream",
     "text": [
      "testing...: 100%|██████████| 527/527 [00:28<00:00, 18.33it/s]\n",
      "training...: 100%|██████████| 2108/2108 [06:07<00:00,  5.74it/s]\n"
     ]
    },
    {
     "name": "stdout",
     "output_type": "stream",
     "text": [
      "[Train Epoch 9] Loss: 2.655698644707732\n"
     ]
    },
    {
     "name": "stderr",
     "output_type": "stream",
     "text": [
      "testing...: 100%|██████████| 527/527 [00:29<00:00, 18.02it/s]\n",
      "training...: 100%|██████████| 2108/2108 [06:08<00:00,  5.72it/s]\n"
     ]
    },
    {
     "name": "stdout",
     "output_type": "stream",
     "text": [
      "[Train Epoch 10] Loss: 2.6555731334993915\n"
     ]
    },
    {
     "name": "stderr",
     "output_type": "stream",
     "text": [
      "testing...: 100%|██████████| 527/527 [00:28<00:00, 18.36it/s]\n",
      "training...: 100%|██████████| 2108/2108 [06:07<00:00,  5.74it/s]\n"
     ]
    },
    {
     "name": "stdout",
     "output_type": "stream",
     "text": [
      "[Train Epoch 11] Loss: 2.655876872209263\n"
     ]
    },
    {
     "name": "stderr",
     "output_type": "stream",
     "text": [
      "testing...: 100%|██████████| 527/527 [00:29<00:00, 18.15it/s]\n",
      "training...: 100%|██████████| 2108/2108 [06:07<00:00,  5.74it/s]\n"
     ]
    },
    {
     "name": "stdout",
     "output_type": "stream",
     "text": [
      "[Train Epoch 12] Loss: 2.6555347925571606\n"
     ]
    },
    {
     "name": "stderr",
     "output_type": "stream",
     "text": [
      "testing...: 100%|██████████| 527/527 [00:28<00:00, 18.29it/s]\n",
      "training...: 100%|██████████| 2108/2108 [06:06<00:00,  5.76it/s]\n"
     ]
    },
    {
     "name": "stdout",
     "output_type": "stream",
     "text": [
      "[Train Epoch 13] Loss: 2.6554675830609433\n"
     ]
    },
    {
     "name": "stderr",
     "output_type": "stream",
     "text": [
      "testing...: 100%|██████████| 527/527 [00:29<00:00, 18.14it/s]\n",
      "training...: 100%|██████████| 2108/2108 [06:07<00:00,  5.73it/s]\n"
     ]
    },
    {
     "name": "stdout",
     "output_type": "stream",
     "text": [
      "[Train Epoch 14] Loss: 2.6555339380731167\n"
     ]
    },
    {
     "name": "stderr",
     "output_type": "stream",
     "text": [
      "testing...: 100%|██████████| 527/527 [00:29<00:00, 17.94it/s]\n",
      "training...: 100%|██████████| 2108/2108 [06:07<00:00,  5.74it/s]\n"
     ]
    },
    {
     "name": "stdout",
     "output_type": "stream",
     "text": [
      "[Train Epoch 15] Loss: 2.655467842968863\n"
     ]
    },
    {
     "name": "stderr",
     "output_type": "stream",
     "text": [
      "testing...: 100%|██████████| 527/527 [00:28<00:00, 18.30it/s]\n",
      "training...: 100%|██████████| 2108/2108 [06:06<00:00,  5.74it/s]\n"
     ]
    },
    {
     "name": "stdout",
     "output_type": "stream",
     "text": [
      "[Train Epoch 16] Loss: 2.655425106325457\n"
     ]
    },
    {
     "name": "stderr",
     "output_type": "stream",
     "text": [
      "testing...: 100%|██████████| 527/527 [00:28<00:00, 18.43it/s]\n",
      "training...: 100%|██████████| 2108/2108 [06:06<00:00,  5.75it/s]\n"
     ]
    },
    {
     "name": "stdout",
     "output_type": "stream",
     "text": [
      "[Train Epoch 17] Loss: 2.655214038361182\n"
     ]
    },
    {
     "name": "stderr",
     "output_type": "stream",
     "text": [
      "testing...: 100%|██████████| 527/527 [00:28<00:00, 18.23it/s]\n",
      "training...: 100%|██████████| 2108/2108 [06:05<00:00,  5.76it/s]\n"
     ]
    },
    {
     "name": "stdout",
     "output_type": "stream",
     "text": [
      "[Train Epoch 18] Loss: 2.6551138277976745\n"
     ]
    },
    {
     "name": "stderr",
     "output_type": "stream",
     "text": [
      "testing...: 100%|██████████| 527/527 [00:29<00:00, 17.73it/s]\n",
      "training...: 100%|██████████| 2108/2108 [06:06<00:00,  5.75it/s]\n"
     ]
    },
    {
     "name": "stdout",
     "output_type": "stream",
     "text": [
      "[Train Epoch 19] Loss: 2.655184167272904\n"
     ]
    },
    {
     "name": "stderr",
     "output_type": "stream",
     "text": [
      "testing...: 100%|██████████| 527/527 [00:28<00:00, 18.29it/s]\n",
      "training...: 100%|██████████| 2108/2108 [06:06<00:00,  5.76it/s]\n"
     ]
    },
    {
     "name": "stdout",
     "output_type": "stream",
     "text": [
      "[Train Epoch 20] Loss: 2.6551423164427392\n"
     ]
    },
    {
     "name": "stderr",
     "output_type": "stream",
     "text": [
      "testing...: 100%|██████████| 527/527 [00:29<00:00, 18.16it/s]\n"
     ]
    },
    {
     "name": "stdout",
     "output_type": "stream",
     "text": [
      "CPU times: total: 2h 13min 37s\n",
      "Wall time: 2h 13min 48s\n"
     ]
    }
   ],
   "execution_count": 59
  },
  {
   "cell_type": "markdown",
   "source": [
    "## 13.8. delete some data"
   ],
   "metadata": {
    "collapsed": false
   },
   "id": "44549f3e0bc876ce"
  },
  {
   "cell_type": "code",
   "source": [
    "del train_dataloader_clean_corrected_wsd_1\n",
    "del test_dataloader_clean_corrected_wsd_1\n",
    "del train_dataset_clean_corrected_wsd_1\n",
    "del test_dataset_clean_corrected_wsd_1\n",
    "del train_clean_corrected_wsd_1\n",
    "del test_clean_corrected_wsd_1\n",
    "del dataset_clean_corrected_wsd_1\n",
    "\n",
    "del model_clean_corrected_wsd_1\n",
    "del optimizer_clean_corrected_wsd_1\n",
    "gc.collect()\n",
    "torch.cuda.empty_cache()"
   ],
   "metadata": {
    "collapsed": false,
    "is_executing": true,
    "ExecuteTime": {
     "end_time": "2024-04-20T23:16:59.862598Z",
     "start_time": "2024-04-20T23:16:43.724937Z"
    }
   },
   "id": "3a6888009054e4d0",
   "outputs": [],
   "execution_count": 60
  },
  {
   "cell_type": "markdown",
   "source": [
    "# 14. clean_corrected_text_wsd_2 dataset (from tonetags_dataset_tumblr_clean with glove.twitter.27b.50d)"
   ],
   "metadata": {
    "collapsed": false
   },
   "id": "6b7e98d8bb7027c"
  },
  {
   "cell_type": "markdown",
   "source": [
    "## 14.1. upload dataset"
   ],
   "metadata": {
    "collapsed": false
   },
   "id": "2f11c37eff5901aa"
  },
  {
   "cell_type": "code",
   "source": [
    "def str_context_to_list(value):\n",
    "    list_values = value.strip('[]').split(' ')\n",
    "    cleaned_list_values = []\n",
    "    for item in list_values:\n",
    "        item.strip()\n",
    "        # if '\\n' in item:\n",
    "        #     item.replace('\\n', '')\n",
    "        if item != \"\":\n",
    "            cleaned_list_values.append(float(item))\n",
    "    return cleaned_list_values"
   ],
   "metadata": {
    "collapsed": false,
    "is_executing": true,
    "ExecuteTime": {
     "end_time": "2024-04-20T23:16:59.866848Z",
     "start_time": "2024-04-20T23:16:59.863598Z"
    }
   },
   "id": "bf087c93eb546b73",
   "outputs": [],
   "execution_count": 61
  },
  {
   "cell_type": "code",
   "source": [
    "dataset_clean_corrected_wsd_2 = pd.read_csv(\"../datasets/tonetags_dataset_tumblr_clean_corrected_text_wsd_2.csv\", index_col=0, converters={\"text\": str_text_to_list})"
   ],
   "metadata": {
    "collapsed": false,
    "is_executing": true,
    "ExecuteTime": {
     "end_time": "2024-04-20T23:17:01.721311Z",
     "start_time": "2024-04-20T23:16:59.867849Z"
    }
   },
   "id": "83535fd92e9ebb8c",
   "outputs": [],
   "execution_count": 62
  },
  {
   "cell_type": "code",
   "source": [
    "dataset_clean_corrected_wsd_2 = dataset_clean_corrected_wsd_2.dropna()"
   ],
   "metadata": {
    "collapsed": false,
    "is_executing": true,
    "ExecuteTime": {
     "end_time": "2024-04-20T23:17:01.755533Z",
     "start_time": "2024-04-20T23:17:01.722284Z"
    }
   },
   "id": "bed5fa810bad40d7",
   "outputs": [],
   "execution_count": 63
  },
  {
   "cell_type": "code",
   "source": [
    "dataset_clean_corrected_wsd_2.context = dataset_clean_corrected_wsd_2.context.apply(str_context_to_list)"
   ],
   "metadata": {
    "collapsed": false,
    "is_executing": true,
    "ExecuteTime": {
     "end_time": "2024-04-20T23:17:03.494400Z",
     "start_time": "2024-04-20T23:17:01.756535Z"
    }
   },
   "id": "c98e0f22dc763e66",
   "outputs": [],
   "execution_count": 64
  },
  {
   "cell_type": "markdown",
   "source": [
    "## 14.2. encode labels"
   ],
   "metadata": {
    "collapsed": false
   },
   "id": "328bc2e7190e8db"
  },
  {
   "cell_type": "code",
   "source": [
    "dataset_clean_corrected_wsd_2.tags = dataset_clean_corrected_wsd_2.tags.apply(labels.index)"
   ],
   "metadata": {
    "collapsed": false,
    "is_executing": true,
    "ExecuteTime": {
     "end_time": "2024-04-20T23:17:03.531595Z",
     "start_time": "2024-04-20T23:17:03.495381Z"
    }
   },
   "id": "b8a791a666a2c4bb",
   "outputs": [],
   "execution_count": 65
  },
  {
   "cell_type": "markdown",
   "source": [
    "## 14.3. split"
   ],
   "metadata": {
    "collapsed": false
   },
   "id": "36f26574d52d3b7"
  },
  {
   "cell_type": "code",
   "source": [
    "train_clean_corrected_wsd_2, test_clean_corrected_wsd_2 = train_test_split(dataset_clean_corrected_wsd_2, stratify=dataset_clean_corrected_wsd_2['tags'], test_size=0.2, random_state=42)"
   ],
   "metadata": {
    "collapsed": false,
    "is_executing": true,
    "ExecuteTime": {
     "end_time": "2024-04-20T23:17:03.572861Z",
     "start_time": "2024-04-20T23:17:03.532594Z"
    }
   },
   "id": "653c0d3d7964c190",
   "outputs": [],
   "execution_count": 66
  },
  {
   "cell_type": "markdown",
   "source": [
    "## 14.4. create datasets"
   ],
   "metadata": {
    "collapsed": false
   },
   "id": "4740dba85ed4493d"
  },
  {
   "cell_type": "code",
   "source": [
    "train_dataset_clean_corrected_wsd_2, test_dataset_clean_corrected_wsd_2 = myDataset(train_clean_corrected_wsd_2), myDataset(test_clean_corrected_wsd_2)"
   ],
   "metadata": {
    "collapsed": false,
    "is_executing": true,
    "ExecuteTime": {
     "end_time": "2024-04-20T23:17:05.347101Z",
     "start_time": "2024-04-20T23:17:03.573861Z"
    }
   },
   "id": "90aaa226e2daf018",
   "outputs": [],
   "execution_count": 67
  },
  {
   "cell_type": "markdown",
   "source": [
    "## 14.5. create dataloaders"
   ],
   "metadata": {
    "collapsed": false
   },
   "id": "8b9ca48746995da7"
  },
  {
   "cell_type": "code",
   "source": [
    "train_dataloader_clean_corrected_wsd_2 = DataLoader(train_dataset_clean_corrected_wsd_2, batch_size=batch_size, shuffle=True, collate_fn=collate_fn, drop_last=True)\n",
    "\n",
    "test_dataloader_clean_corrected_wsd_2 = DataLoader(test_dataset_clean_corrected_wsd_2, batch_size=batch_size, shuffle=True, collate_fn=collate_fn, drop_last=True)"
   ],
   "metadata": {
    "collapsed": false,
    "is_executing": true,
    "ExecuteTime": {
     "end_time": "2024-04-20T23:17:05.351727Z",
     "start_time": "2024-04-20T23:17:05.348100Z"
    }
   },
   "id": "2d504a6b04820511",
   "outputs": [],
   "execution_count": 68
  },
  {
   "cell_type": "code",
   "source": [
    "class ToneTagsLSTM_wsd_2(nn.Module):\n",
    "    def __init__(self, vocab_size, embedding, hidden_dim, context_dim, output_size, num_layers, dropout):\n",
    "        super(ToneTagsLSTM_wsd_2, self).__init__()\n",
    "\n",
    "        # output_size = 19\n",
    "\n",
    "        self.embedding = embedding\n",
    "\n",
    "        self.lstm = nn.LSTM(self.embedding.embedding_dim, hidden_dim, num_layers=num_layers, bidirectional=True, dropout=dropout, batch_first=True)\n",
    "\n",
    "        self.fc1 = nn.Linear(hidden_dim * max_length * 2 + context_dim, 1024)\n",
    "        self.fc2 = nn.Linear(1024, 512)\n",
    "        self.fc3 = nn.Linear(512, output_size)\n",
    "        # self.out = nn.Softmax(output_size, dim=1)\n",
    "\n",
    "\n",
    "    def forward(self, tokens, contexts):\n",
    "\n",
    "        embedded = self.embedding(tokens)\n",
    "        output, (hidden, cell) = self.lstm(embedded)\n",
    "\n",
    "        lstm_out = torch.cat((output.reshape(batch_size, -1), contexts), dim=1)\n",
    "\n",
    "        fc1_out = self.fc1(lstm_out)\n",
    "\n",
    "\n",
    "        fc2_out = self.fc2(fc1_out)\n",
    "        out = self.fc3(fc2_out)\n",
    "        # out = self.out(fc3_out)\n",
    "\n",
    "        return out"
   ],
   "metadata": {
    "collapsed": false,
    "is_executing": true,
    "ExecuteTime": {
     "end_time": "2024-04-20T23:17:05.363144Z",
     "start_time": "2024-04-20T23:17:05.352728Z"
    }
   },
   "id": "1caa353f19668e0c",
   "outputs": [],
   "execution_count": 69
  },
  {
   "cell_type": "markdown",
   "source": [
    "## 14.6. parameters for clean_corrected_wsd_2"
   ],
   "metadata": {
    "collapsed": false
   },
   "id": "d353d3cb28aec833"
  },
  {
   "cell_type": "code",
   "source": [
    "# train_dataloader_clean_corrected_wsd_2\n",
    "# test_dataloader_clean_corrected_wsd_2\n",
    "\n",
    "vocab_size = len(vocab)\n",
    "embedding = nn.Embedding.from_pretrained(embedding_tensor, freeze=True)\n",
    "hidden_dim = 30 # 30\n",
    "context_dim = 50 # 50\n",
    "output_size = len(labels) # 19\n",
    "num_layers = 4\n",
    "dropout = 0.2\n",
    "device = torch.device(\"cuda\" if torch.cuda.is_available() else \"cpu\")\n",
    "lr = 5e-4\n",
    "\n",
    "criterion = nn.CrossEntropyLoss()"
   ],
   "metadata": {
    "collapsed": false,
    "is_executing": true,
    "ExecuteTime": {
     "end_time": "2024-04-20T23:17:05.369104Z",
     "start_time": "2024-04-20T23:17:05.364146Z"
    }
   },
   "id": "12e68e887ece98a1",
   "outputs": [],
   "execution_count": 70
  },
  {
   "cell_type": "markdown",
   "source": [
    "## 14.7. create instance of model and optimizer to clean_corrected_wsd_2 data"
   ],
   "metadata": {
    "collapsed": false
   },
   "id": "1380c5badc42eb90"
  },
  {
   "cell_type": "code",
   "source": [
    "# train_dataloader_clean_corrected_wsd_2\n",
    "# test_dataloader_clean_corrected_wsd_2\n",
    "\n",
    "model_clean_corrected_wsd_2 = ToneTagsLSTM_wsd_2(\n",
    "    vocab_size=vocab_size,\n",
    "    embedding=embedding,\n",
    "    hidden_dim=hidden_dim,\n",
    "    context_dim=context_dim,\n",
    "    output_size=output_size,\n",
    "    num_layers=num_layers,\n",
    "    dropout=dropout\n",
    ").to(device)\n",
    "\n",
    "optimizer_clean_corrected_wsd_2 = optim.Adam(model_clean_corrected_wsd_2.parameters(), lr=lr)"
   ],
   "metadata": {
    "collapsed": false,
    "is_executing": true,
    "ExecuteTime": {
     "end_time": "2024-04-20T23:17:07.077924Z",
     "start_time": "2024-04-20T23:17:05.370109Z"
    }
   },
   "id": "c0295af915c761e7",
   "outputs": [],
   "execution_count": 71
  },
  {
   "cell_type": "markdown",
   "source": [
    "## 14.8. train and test to clean_corrected_wsd_2"
   ],
   "metadata": {
    "collapsed": false
   },
   "id": "412d10cac452c44c"
  },
  {
   "cell_type": "code",
   "source": [
    "%%time\n",
    "\n",
    "for ep in range(1, n_epochs + 1):\n",
    "\n",
    "    model_clean_corrected_wsd_2.train()\n",
    "    epoch_losses_train = []\n",
    "\n",
    "    train_predictions = []\n",
    "    train_tags = []\n",
    "\n",
    "    test_predictions = []\n",
    "    test_tags = []\n",
    "\n",
    "\n",
    "    for tokens, contexts, tags in tqdm(train_dataloader_clean_corrected_wsd_2, desc=f\"Epoch {ep} training...\"):\n",
    "        optimizer_clean_corrected_wsd_2.zero_grad()\n",
    "\n",
    "        tokens = tokens.to(device)\n",
    "        contexts = contexts.to(device)\n",
    "        tags = tags.to(device)\n",
    "\n",
    "        predictions = model_clean_corrected_wsd_2(tokens, contexts)\n",
    "\n",
    "        train_predictions.extend(predictions.tolist())\n",
    "        train_tags.extend(tags.tolist())\n",
    "\n",
    "        loss = criterion(predictions, tags)\n",
    "\n",
    "        loss.backward()\n",
    "        optimizer_clean_corrected_wsd_2.step()\n",
    "\n",
    "        epoch_losses_train.append(loss.item())\n",
    "\n",
    "    del tokens\n",
    "    del contexts\n",
    "    del tags\n",
    "\n",
    "    gc.collect()\n",
    "    torch.cuda.empty_cache()\n",
    "\n",
    "    print(f'[Train Epoch {ep}] Loss: {np.mean(epoch_losses_train)}')\n",
    "\n",
    "\n",
    "    model_clean_corrected_wsd_2.eval()\n",
    "\n",
    "    with torch.no_grad():\n",
    "        for tokens, contexts, tags in tqdm(test_dataloader_clean_corrected_wsd_2, desc=f\"Epoch {ep} testing...\"):\n",
    "\n",
    "            tokens = tokens.to(device)\n",
    "            contexts = contexts.to(device)\n",
    "            tags = tags.to(device)\n",
    "\n",
    "            predictions = model_clean_corrected_wsd_2(tokens, contexts)\n",
    "\n",
    "            test_predictions.extend(predictions.tolist())\n",
    "            test_tags.extend(tags.tolist())\n",
    "\n",
    "        del tokens\n",
    "        del contexts\n",
    "        del tags\n",
    "\n",
    "        gc.collect()\n",
    "        torch.cuda.empty_cache()\n",
    "\n",
    "    export_predictions('clean_corrected_wsd_2_grove_twitter_27b_50d', epoch=ep, train_predictions=train_predictions, train_tags=train_tags, test_predictions=test_predictions, test_tags=test_tags)\n",
    "\n",
    "\n",
    "    del train_predictions, train_tags, test_predictions, test_tags\n",
    "    gc.collect()\n",
    "    torch.cuda.empty_cache()"
   ],
   "metadata": {
    "collapsed": false,
    "is_executing": true,
    "ExecuteTime": {
     "end_time": "2024-04-21T01:31:44.026071Z",
     "start_time": "2024-04-20T23:17:07.078927Z"
    }
   },
   "id": "7e2facf954fe0c23",
   "outputs": [
    {
     "name": "stderr",
     "output_type": "stream",
     "text": [
      "training...: 100%|██████████| 2084/2084 [06:33<00:00,  5.29it/s]\n"
     ]
    },
    {
     "name": "stdout",
     "output_type": "stream",
     "text": [
      "[Train Epoch 1] Loss: 2.7682194369997037\n"
     ]
    },
    {
     "name": "stderr",
     "output_type": "stream",
     "text": [
      "testing...: 100%|██████████| 521/521 [00:35<00:00, 14.61it/s]\n",
      "training...: 100%|██████████| 2084/2084 [06:01<00:00,  5.77it/s]\n"
     ]
    },
    {
     "name": "stdout",
     "output_type": "stream",
     "text": [
      "[Train Epoch 2] Loss: 2.4662772797462806\n"
     ]
    },
    {
     "name": "stderr",
     "output_type": "stream",
     "text": [
      "testing...: 100%|██████████| 521/521 [00:28<00:00, 18.35it/s]\n",
      "training...: 100%|██████████| 2084/2084 [06:04<00:00,  5.72it/s]\n"
     ]
    },
    {
     "name": "stdout",
     "output_type": "stream",
     "text": [
      "[Train Epoch 3] Loss: 2.430239568344691\n"
     ]
    },
    {
     "name": "stderr",
     "output_type": "stream",
     "text": [
      "testing...: 100%|██████████| 521/521 [00:28<00:00, 18.05it/s]\n",
      "training...: 100%|██████████| 2084/2084 [06:06<00:00,  5.69it/s]\n"
     ]
    },
    {
     "name": "stdout",
     "output_type": "stream",
     "text": [
      "[Train Epoch 4] Loss: 2.4172535695407302\n"
     ]
    },
    {
     "name": "stderr",
     "output_type": "stream",
     "text": [
      "testing...: 100%|██████████| 521/521 [00:29<00:00, 17.47it/s]\n",
      "training...: 100%|██████████| 2084/2084 [06:10<00:00,  5.62it/s]\n"
     ]
    },
    {
     "name": "stdout",
     "output_type": "stream",
     "text": [
      "[Train Epoch 5] Loss: 2.4135968928831324\n"
     ]
    },
    {
     "name": "stderr",
     "output_type": "stream",
     "text": [
      "testing...: 100%|██████████| 521/521 [00:29<00:00, 17.90it/s]\n",
      "training...: 100%|██████████| 2084/2084 [06:06<00:00,  5.68it/s]\n"
     ]
    },
    {
     "name": "stdout",
     "output_type": "stream",
     "text": [
      "[Train Epoch 6] Loss: 2.4088925724981385\n"
     ]
    },
    {
     "name": "stderr",
     "output_type": "stream",
     "text": [
      "testing...: 100%|██████████| 521/521 [00:28<00:00, 17.98it/s]\n",
      "training...: 100%|██████████| 2084/2084 [06:07<00:00,  5.67it/s]\n"
     ]
    },
    {
     "name": "stdout",
     "output_type": "stream",
     "text": [
      "[Train Epoch 7] Loss: 2.405474543857483\n"
     ]
    },
    {
     "name": "stderr",
     "output_type": "stream",
     "text": [
      "testing...: 100%|██████████| 521/521 [00:29<00:00, 17.90it/s]\n",
      "training...: 100%|██████████| 2084/2084 [06:06<00:00,  5.69it/s]\n"
     ]
    },
    {
     "name": "stdout",
     "output_type": "stream",
     "text": [
      "[Train Epoch 8] Loss: 2.401792000442915\n"
     ]
    },
    {
     "name": "stderr",
     "output_type": "stream",
     "text": [
      "testing...: 100%|██████████| 521/521 [00:29<00:00, 17.91it/s]\n",
      "training...: 100%|██████████| 2084/2084 [06:07<00:00,  5.68it/s]\n"
     ]
    },
    {
     "name": "stdout",
     "output_type": "stream",
     "text": [
      "[Train Epoch 9] Loss: 2.3970668214639637\n"
     ]
    },
    {
     "name": "stderr",
     "output_type": "stream",
     "text": [
      "testing...: 100%|██████████| 521/521 [00:29<00:00, 17.93it/s]\n",
      "training...: 100%|██████████| 2084/2084 [06:07<00:00,  5.67it/s]\n"
     ]
    },
    {
     "name": "stdout",
     "output_type": "stream",
     "text": [
      "[Train Epoch 10] Loss: 2.38907526968308\n"
     ]
    },
    {
     "name": "stderr",
     "output_type": "stream",
     "text": [
      "testing...: 100%|██████████| 521/521 [00:29<00:00, 17.85it/s]\n",
      "training...: 100%|██████████| 2084/2084 [06:06<00:00,  5.69it/s]\n"
     ]
    },
    {
     "name": "stdout",
     "output_type": "stream",
     "text": [
      "[Train Epoch 11] Loss: 2.368809774546614\n"
     ]
    },
    {
     "name": "stderr",
     "output_type": "stream",
     "text": [
      "testing...: 100%|██████████| 521/521 [00:29<00:00, 17.47it/s]\n",
      "training...: 100%|██████████| 2084/2084 [06:12<00:00,  5.59it/s]\n"
     ]
    },
    {
     "name": "stdout",
     "output_type": "stream",
     "text": [
      "[Train Epoch 12] Loss: 2.3387055324386954\n"
     ]
    },
    {
     "name": "stderr",
     "output_type": "stream",
     "text": [
      "testing...: 100%|██████████| 521/521 [00:29<00:00, 17.78it/s]\n",
      "training...: 100%|██████████| 2084/2084 [06:13<00:00,  5.58it/s]\n"
     ]
    },
    {
     "name": "stdout",
     "output_type": "stream",
     "text": [
      "[Train Epoch 13] Loss: 2.3069427030557863\n"
     ]
    },
    {
     "name": "stderr",
     "output_type": "stream",
     "text": [
      "testing...: 100%|██████████| 521/521 [00:29<00:00, 17.78it/s]\n",
      "training...: 100%|██████████| 2084/2084 [06:11<00:00,  5.61it/s]\n"
     ]
    },
    {
     "name": "stdout",
     "output_type": "stream",
     "text": [
      "[Train Epoch 14] Loss: 2.2823664967020734\n"
     ]
    },
    {
     "name": "stderr",
     "output_type": "stream",
     "text": [
      "testing...: 100%|██████████| 521/521 [00:29<00:00, 17.57it/s]\n",
      "training...: 100%|██████████| 2084/2084 [06:11<00:00,  5.61it/s]\n"
     ]
    },
    {
     "name": "stdout",
     "output_type": "stream",
     "text": [
      "[Train Epoch 15] Loss: 2.2511108836834812\n"
     ]
    },
    {
     "name": "stderr",
     "output_type": "stream",
     "text": [
      "testing...: 100%|██████████| 521/521 [00:29<00:00, 17.58it/s]\n",
      "training...: 100%|██████████| 2084/2084 [06:11<00:00,  5.61it/s]\n"
     ]
    },
    {
     "name": "stdout",
     "output_type": "stream",
     "text": [
      "[Train Epoch 16] Loss: 2.22712613862444\n"
     ]
    },
    {
     "name": "stderr",
     "output_type": "stream",
     "text": [
      "testing...: 100%|██████████| 521/521 [00:29<00:00, 17.89it/s]\n",
      "training...: 100%|██████████| 2084/2084 [06:09<00:00,  5.64it/s]\n"
     ]
    },
    {
     "name": "stdout",
     "output_type": "stream",
     "text": [
      "[Train Epoch 17] Loss: 2.2023610246158607\n"
     ]
    },
    {
     "name": "stderr",
     "output_type": "stream",
     "text": [
      "testing...: 100%|██████████| 521/521 [00:29<00:00, 17.69it/s]\n",
      "training...: 100%|██████████| 2084/2084 [06:07<00:00,  5.67it/s]\n"
     ]
    },
    {
     "name": "stdout",
     "output_type": "stream",
     "text": [
      "[Train Epoch 18] Loss: 2.176966857429658\n"
     ]
    },
    {
     "name": "stderr",
     "output_type": "stream",
     "text": [
      "testing...: 100%|██████████| 521/521 [00:29<00:00, 17.81it/s]\n",
      "training...: 100%|██████████| 2084/2084 [06:09<00:00,  5.65it/s]\n"
     ]
    },
    {
     "name": "stdout",
     "output_type": "stream",
     "text": [
      "[Train Epoch 19] Loss: 2.163046132694508\n"
     ]
    },
    {
     "name": "stderr",
     "output_type": "stream",
     "text": [
      "testing...: 100%|██████████| 521/521 [00:29<00:00, 17.60it/s]\n",
      "training...: 100%|██████████| 2084/2084 [06:10<00:00,  5.62it/s]\n"
     ]
    },
    {
     "name": "stdout",
     "output_type": "stream",
     "text": [
      "[Train Epoch 20] Loss: 2.1386220577010264\n"
     ]
    },
    {
     "name": "stderr",
     "output_type": "stream",
     "text": [
      "testing...: 100%|██████████| 521/521 [00:29<00:00, 17.78it/s]\n"
     ]
    },
    {
     "name": "stdout",
     "output_type": "stream",
     "text": [
      "CPU times: total: 2h 14min 24s\n",
      "Wall time: 2h 14min 36s\n"
     ]
    }
   ],
   "execution_count": 72
  },
  {
   "cell_type": "markdown",
   "source": [
    "## 14.9. delete some data"
   ],
   "metadata": {
    "collapsed": false
   },
   "id": "cd2abcf89ce8e496"
  },
  {
   "cell_type": "code",
   "source": [
    "del train_dataloader_clean_corrected_wsd_2\n",
    "del test_dataloader_clean_corrected_wsd_2\n",
    "del train_dataset_clean_corrected_wsd_2\n",
    "del test_dataset_clean_corrected_wsd_2\n",
    "del train_clean_corrected_wsd_2\n",
    "del test_clean_corrected_wsd_2\n",
    "del dataset_clean_corrected_wsd_2\n",
    "\n",
    "del model_clean_corrected_wsd_2\n",
    "del optimizer_clean_corrected_wsd_2\n",
    "gc.collect()\n",
    "torch.cuda.empty_cache()"
   ],
   "metadata": {
    "collapsed": false,
    "is_executing": true,
    "ExecuteTime": {
     "end_time": "2024-04-21T01:32:00.306166Z",
     "start_time": "2024-04-21T01:31:44.027063Z"
    }
   },
   "id": "762ed2eb3ae4b15",
   "outputs": [],
   "execution_count": 73
  }
 ],
 "metadata": {
  "kernelspec": {
   "display_name": "Python 3",
   "language": "python",
   "name": "python3"
  },
  "language_info": {
   "codemirror_mode": {
    "name": "ipython",
    "version": 2
   },
   "file_extension": ".py",
   "mimetype": "text/x-python",
   "name": "python",
   "nbconvert_exporter": "python",
   "pygments_lexer": "ipython2",
   "version": "2.7.6"
  }
 },
 "nbformat": 4,
 "nbformat_minor": 5
}
