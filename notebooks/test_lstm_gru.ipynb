{
 "cells": [
  {
   "cell_type": "markdown",
   "source": [
    "imports"
   ],
   "metadata": {
    "collapsed": false
   },
   "id": "1ae10d82612724b0"
  },
  {
   "cell_type": "code",
   "execution_count": 292,
   "id": "initial_id",
   "metadata": {
    "collapsed": true,
    "ExecuteTime": {
     "end_time": "2024-04-16T23:24:40.312099Z",
     "start_time": "2024-04-16T23:24:40.308047Z"
    }
   },
   "outputs": [],
   "source": [
    "import pandas as pd\n",
    "import numpy as np\n",
    "import torch\n",
    "import torch.nn.functional as F\n",
    "import torch.nn as nn\n",
    "import torch.optim as optim\n",
    "import torchtext\n",
    "from torch.utils.data import DataLoader\n",
    "from sklearn.model_selection import train_test_split\n",
    "from torch.utils.data import Dataset\n",
    "\n",
    "from tqdm.auto import tqdm"
   ]
  },
  {
   "cell_type": "markdown",
   "source": [
    "upload datasets"
   ],
   "metadata": {
    "collapsed": false
   },
   "id": "5655512665aed631"
  },
  {
   "cell_type": "code",
   "outputs": [],
   "source": [
    "def str_text_to_list(value):\n",
    "    list_values = value.strip('[]').split(', ')\n",
    "    cleaned_list_values = [item[1:-1] for item in list_values]\n",
    "    return cleaned_list_values"
   ],
   "metadata": {
    "collapsed": false,
    "ExecuteTime": {
     "end_time": "2024-04-16T23:24:40.621221Z",
     "start_time": "2024-04-16T23:24:40.617307Z"
    }
   },
   "id": "52965d7484f14b07",
   "execution_count": 293
  },
  {
   "cell_type": "code",
   "outputs": [],
   "source": [
    "dataset_clean = pd.read_csv(\"../datasets/tonetags_dataset_tumblr_clean.csv\", converters={\"text\": str_text_to_list})"
   ],
   "metadata": {
    "collapsed": false,
    "ExecuteTime": {
     "end_time": "2024-04-16T23:24:42.024190Z",
     "start_time": "2024-04-16T23:24:40.638203Z"
    }
   },
   "id": "dfe3a8a7dc8f4c2f",
   "execution_count": 294
  },
  {
   "cell_type": "code",
   "outputs": [],
   "source": [
    "dataset_clean_corrected = pd.read_csv(\"../datasets/tonetags_dataset_tumblr_clean_corrected_text.csv\", converters={\"text\": str_text_to_list})"
   ],
   "metadata": {
    "collapsed": false,
    "ExecuteTime": {
     "end_time": "2024-04-16T23:24:43.313912Z",
     "start_time": "2024-04-16T23:24:42.025163Z"
    }
   },
   "id": "6f130d1c0a0c49a8",
   "execution_count": 295
  },
  {
   "cell_type": "code",
   "outputs": [],
   "source": [
    "dataset_wsd_1 = pd.read_csv(\"../datasets/tonetags_wsd_1.csv\", index_col=0, converters={\"text\": str_text_to_list})"
   ],
   "metadata": {
    "collapsed": false,
    "ExecuteTime": {
     "end_time": "2024-04-16T23:24:48.540926Z",
     "start_time": "2024-04-16T23:24:43.314912Z"
    }
   },
   "id": "4074872f85decba7",
   "execution_count": 296
  },
  {
   "cell_type": "code",
   "outputs": [],
   "source": [
    "def str_context_to_list(value):\n",
    "    list_values = value.strip('[]').split(' ')\n",
    "    cleaned_list_values = []\n",
    "    for item in list_values:\n",
    "        item.strip()\n",
    "        # if '\\n' in item:\n",
    "        #     item.replace('\\n', '')\n",
    "        if item != \"\":\n",
    "            cleaned_list_values.append(float(item))\n",
    "    return cleaned_list_values"
   ],
   "metadata": {
    "collapsed": false,
    "ExecuteTime": {
     "end_time": "2024-04-16T23:24:48.546799Z",
     "start_time": "2024-04-16T23:24:48.541927Z"
    }
   },
   "id": "bcff7cc688c059c8",
   "execution_count": 297
  },
  {
   "cell_type": "code",
   "outputs": [],
   "source": [
    "dataset_wsd_2 = pd.read_csv(\"../datasets/tonetags_wsd_2.csv\", index_col=0, converters={\"text\": str_text_to_list, 'context': str_context_to_list})"
   ],
   "metadata": {
    "collapsed": false,
    "ExecuteTime": {
     "end_time": "2024-04-16T23:24:53.451817Z",
     "start_time": "2024-04-16T23:24:48.547800Z"
    }
   },
   "id": "611509b133a6df7",
   "execution_count": 298
  },
  {
   "cell_type": "markdown",
   "source": [
    "encode labels"
   ],
   "metadata": {
    "collapsed": false
   },
   "id": "5d476474afb4476b"
  },
  {
   "cell_type": "code",
   "outputs": [],
   "source": [
    "labels = dataset_wsd_1.tags.unique().tolist()\n",
    "\n",
    "dataset_wsd_1.tags = dataset_wsd_1.tags.apply(labels.index)\n",
    "\n",
    "dataset_clean.tags = dataset_clean.tags.apply(labels.index)\n",
    "dataset_clean_corrected.tags =dataset_clean_corrected.tags.apply(labels.index)\n",
    "dataset_wsd_2.tags = dataset_wsd_2.tags.apply(labels.index)"
   ],
   "metadata": {
    "collapsed": false,
    "ExecuteTime": {
     "end_time": "2024-04-16T23:24:53.564888Z",
     "start_time": "2024-04-16T23:24:53.452818Z"
    }
   },
   "id": "72524725be4f9026",
   "execution_count": 299
  },
  {
   "cell_type": "markdown",
   "source": [
    "split data"
   ],
   "metadata": {
    "collapsed": false
   },
   "id": "b252961c6b3dfcd7"
  },
  {
   "cell_type": "code",
   "outputs": [],
   "source": [
    "train_clean, test_clean = train_test_split(dataset_clean, test_size=0.2, shuffle=False)"
   ],
   "metadata": {
    "collapsed": false,
    "ExecuteTime": {
     "end_time": "2024-04-16T23:24:53.661649Z",
     "start_time": "2024-04-16T23:24:53.565887Z"
    }
   },
   "id": "1a8bda304a0072e",
   "execution_count": 300
  },
  {
   "cell_type": "code",
   "outputs": [],
   "source": [
    "train_clean_corrected, test_clean_corrected = train_test_split(dataset_clean_corrected, test_size=0.2, shuffle=False)"
   ],
   "metadata": {
    "collapsed": false,
    "ExecuteTime": {
     "end_time": "2024-04-16T23:24:53.776766Z",
     "start_time": "2024-04-16T23:24:53.662649Z"
    }
   },
   "id": "b47475c7d3f274d3",
   "execution_count": 301
  },
  {
   "cell_type": "code",
   "outputs": [],
   "source": [
    "train_wsd_1, test_wsd_1 = train_test_split(dataset_wsd_1, test_size=0.2, shuffle=False)"
   ],
   "metadata": {
    "collapsed": false,
    "ExecuteTime": {
     "end_time": "2024-04-16T23:24:54.211033Z",
     "start_time": "2024-04-16T23:24:53.777766Z"
    }
   },
   "id": "24f986f7ee911c92",
   "execution_count": 302
  },
  {
   "cell_type": "code",
   "outputs": [],
   "source": [
    "train_wsd_2, test_wsd_2 = train_test_split(dataset_wsd_2, test_size=0.2, shuffle=False)"
   ],
   "metadata": {
    "collapsed": false,
    "ExecuteTime": {
     "end_time": "2024-04-16T23:24:54.226465Z",
     "start_time": "2024-04-16T23:24:54.214027Z"
    }
   },
   "id": "cad080aea0d0b004",
   "execution_count": 303
  },
  {
   "cell_type": "markdown",
   "source": [
    "create vocab and class of dataset"
   ],
   "metadata": {
    "collapsed": false
   },
   "id": "8188ccf16cebf9c"
  },
  {
   "cell_type": "code",
   "outputs": [],
   "source": [
    "glove_6b_50 = torchtext.vocab.GloVe(name='6B', dim=50)"
   ],
   "metadata": {
    "collapsed": false,
    "ExecuteTime": {
     "end_time": "2024-04-16T23:24:54.510061Z",
     "start_time": "2024-04-16T23:24:54.227467Z"
    }
   },
   "id": "28725b23c69c5bd1",
   "execution_count": 304
  },
  {
   "cell_type": "code",
   "outputs": [],
   "source": [
    "vocab = glove_6b_50.stoi\n",
    "vocab[\"<unk>\"] = len(vocab)\n",
    "vocab[\"<pad>\"] = len(vocab)"
   ],
   "metadata": {
    "collapsed": false,
    "ExecuteTime": {
     "end_time": "2024-04-16T23:24:54.523015Z",
     "start_time": "2024-04-16T23:24:54.511061Z"
    }
   },
   "id": "4b756329a6c171e1",
   "execution_count": 305
  },
  {
   "cell_type": "code",
   "outputs": [],
   "source": [
    "class myDataset(Dataset):\n",
    "    def __init__(self, dataset):\n",
    "        \n",
    "        max_length = 4096\n",
    "        \n",
    "        self.data = []\n",
    "        for sentence in dataset.text:\n",
    "            if len(sentence) > max_length:\n",
    "                continue\n",
    "            sentence_ids = []\n",
    "            for token in sentence:\n",
    "                try:\n",
    "                    sentence_ids.append(vocab[token])\n",
    "                except KeyError:\n",
    "                    sentence_ids.append(vocab[\"<unk>\"])\n",
    "            self.data.append(sentence_ids)\n",
    "        self.labels = dataset.tags\n",
    "        \n",
    "        self.context = None\n",
    "        \n",
    "        if 'context' in dataset.columns:\n",
    "            self.context = dataset.context\n",
    "\n",
    "    def __len__(self):\n",
    "        return len(self.data)\n",
    "\n",
    "    def __getitem__(self, idx):\n",
    "        if self.context is None:\n",
    "            return self.data[idx], torch.tensor(self.labels.iloc[idx])\n",
    "        else:\n",
    "            return self.data[idx], torch.tensor(self.labels.iloc[idx]), self.context.iloc[idx]"
   ],
   "metadata": {
    "collapsed": false,
    "ExecuteTime": {
     "end_time": "2024-04-16T23:24:54.535127Z",
     "start_time": "2024-04-16T23:24:54.524016Z"
    }
   },
   "id": "b2f58f26c0532422",
   "execution_count": 306
  },
  {
   "cell_type": "code",
   "outputs": [],
   "source": [
    "def collate_fn(batch):\n",
    "    max_length = 4096\n",
    "    \n",
    "    data_ids = []\n",
    "    labels = []\n",
    "    contexts = []\n",
    "    \n",
    "    for dat in batch:\n",
    "        \n",
    "        data_ids.append(dat[0])\n",
    "        labels.append(dat[1])\n",
    "        \n",
    "        if len(dat) >= 3:\n",
    "            contexts.append(dat[2])\n",
    "\n",
    "    for i in range(len(data_ids)):\n",
    "        while len(data_ids[i]) < max_length:\n",
    "            data_ids[i].append(vocab[\"<pad>\"])\n",
    "    \n",
    "    return torch.tensor(data_ids), torch.tensor(contexts), torch.tensor(labels)"
   ],
   "metadata": {
    "collapsed": false,
    "ExecuteTime": {
     "end_time": "2024-04-16T23:24:54.541185Z",
     "start_time": "2024-04-16T23:24:54.536128Z"
    }
   },
   "id": "4f3d664cf3663836",
   "execution_count": 307
  },
  {
   "cell_type": "markdown",
   "source": [
    "create datasets"
   ],
   "metadata": {
    "collapsed": false
   },
   "id": "c9c6f4bb64337408"
  },
  {
   "cell_type": "code",
   "outputs": [],
   "source": [
    "train_dataset_clean, test_dataset_clean = myDataset(train_clean), myDataset(test_clean)"
   ],
   "metadata": {
    "collapsed": false,
    "ExecuteTime": {
     "end_time": "2024-04-16T23:24:55.868649Z",
     "start_time": "2024-04-16T23:24:54.542186Z"
    }
   },
   "id": "d0ff0d6b48659e31",
   "execution_count": 308
  },
  {
   "cell_type": "code",
   "outputs": [],
   "source": [
    "train_dataset_clean_corrected, test_dataset_clean_corrected = myDataset(train_clean_corrected), myDataset(test_clean_corrected)"
   ],
   "metadata": {
    "collapsed": false,
    "ExecuteTime": {
     "end_time": "2024-04-16T23:24:57.235161Z",
     "start_time": "2024-04-16T23:24:55.870649Z"
    }
   },
   "id": "c821a4c1f6af313c",
   "execution_count": 309
  },
  {
   "cell_type": "code",
   "outputs": [],
   "source": [
    "train_dataset_wsd_1, test_dataset_wsd_1 = myDataset(train_wsd_1), myDataset(test_wsd_1)"
   ],
   "metadata": {
    "collapsed": false,
    "ExecuteTime": {
     "end_time": "2024-04-16T23:24:59.962889Z",
     "start_time": "2024-04-16T23:24:57.236162Z"
    }
   },
   "id": "1a113c43284edf4f",
   "execution_count": 310
  },
  {
   "cell_type": "code",
   "outputs": [],
   "source": [
    "train_dataset_wsd_2, test_dataset_wsd_2 = myDataset(train_wsd_2), myDataset(test_wsd_2)"
   ],
   "metadata": {
    "collapsed": false,
    "ExecuteTime": {
     "end_time": "2024-04-16T23:25:01.443444Z",
     "start_time": "2024-04-16T23:24:59.963889Z"
    }
   },
   "id": "6479ea21fdd87b6b",
   "execution_count": 311
  },
  {
   "cell_type": "markdown",
   "source": [
    "create dataloaders"
   ],
   "metadata": {
    "collapsed": false
   },
   "id": "2a94e111cdbeaf3a"
  },
  {
   "cell_type": "code",
   "outputs": [],
   "source": [
    "batch_size = 32"
   ],
   "metadata": {
    "collapsed": false,
    "ExecuteTime": {
     "end_time": "2024-04-16T23:25:01.448148Z",
     "start_time": "2024-04-16T23:25:01.444440Z"
    }
   },
   "id": "25323367511bcf8",
   "execution_count": 312
  },
  {
   "cell_type": "code",
   "outputs": [],
   "source": [
    "train_dataloader_clean = DataLoader(train_dataset_clean, batch_size=batch_size, shuffle=True, collate_fn=collate_fn)\n",
    "\n",
    "test_dataloader_clean = DataLoader(test_dataset_clean, batch_size=batch_size, shuffle=True, collate_fn=collate_fn)"
   ],
   "metadata": {
    "collapsed": false,
    "ExecuteTime": {
     "end_time": "2024-04-16T23:25:01.478690Z",
     "start_time": "2024-04-16T23:25:01.449148Z"
    }
   },
   "id": "748137b49dd6d976",
   "execution_count": 313
  },
  {
   "cell_type": "code",
   "outputs": [],
   "source": [
    "train_dataloader_clean_corrected = DataLoader(train_dataset_clean_corrected, batch_size=batch_size, shuffle=True, collate_fn=collate_fn)\n",
    "\n",
    "test_dataloader_clean_corrected = DataLoader(test_dataset_clean_corrected, batch_size=batch_size, shuffle=True, collate_fn=collate_fn)"
   ],
   "metadata": {
    "collapsed": false,
    "ExecuteTime": {
     "end_time": "2024-04-16T23:25:01.502463Z",
     "start_time": "2024-04-16T23:25:01.479691Z"
    }
   },
   "id": "fa82dc1271d2623d",
   "execution_count": 314
  },
  {
   "cell_type": "code",
   "outputs": [],
   "source": [
    "train_dataloader_wsd_1 = DataLoader(train_dataset_wsd_1, batch_size=batch_size, shuffle=True, collate_fn=collate_fn)\n",
    "\n",
    "test_dataloader_wsd_1 = DataLoader(test_dataset_wsd_1, batch_size=batch_size, shuffle=True, collate_fn=collate_fn)"
   ],
   "metadata": {
    "collapsed": false,
    "ExecuteTime": {
     "end_time": "2024-04-16T23:25:01.566217Z",
     "start_time": "2024-04-16T23:25:01.503465Z"
    }
   },
   "id": "f2db8dec30ab50d6",
   "execution_count": 315
  },
  {
   "cell_type": "code",
   "outputs": [],
   "source": [
    "train_dataloader_wsd_2 = DataLoader(train_dataset_wsd_2, batch_size=batch_size, shuffle=True, collate_fn=collate_fn)\n",
    "\n",
    "test_dataloader_wsd_2 = DataLoader(test_dataset_wsd_2, batch_size=batch_size, shuffle=True, collate_fn=collate_fn)"
   ],
   "metadata": {
    "collapsed": false,
    "ExecuteTime": {
     "end_time": "2024-04-16T23:25:01.608735Z",
     "start_time": "2024-04-16T23:25:01.567218Z"
    }
   },
   "id": "18d08e0b0f36e190",
   "execution_count": 316
  },
  {
   "cell_type": "markdown",
   "source": [
    "tokens embedding"
   ],
   "metadata": {
    "collapsed": false
   },
   "id": "b76cad10dfaef4ad"
  },
  {
   "cell_type": "code",
   "outputs": [],
   "source": [
    "embedding_vector = glove_6b_50.vectors.numpy()\n",
    "embedding_vector = np.append(embedding_vector, np.zeros(50)).reshape(-1, 50) # vector for unknown value in vocab\n",
    "embedding_vector = np.append(embedding_vector, np.ones(50)).reshape(-1, 50) # vector for padding value in vocab"
   ],
   "metadata": {
    "collapsed": false,
    "ExecuteTime": {
     "end_time": "2024-04-16T23:25:01.709115Z",
     "start_time": "2024-04-16T23:25:01.609735Z"
    }
   },
   "id": "632d6073f5a2c194",
   "execution_count": 317
  },
  {
   "cell_type": "code",
   "outputs": [],
   "source": [
    "embedding_tensor = torch.tensor(embedding_vector, dtype=torch.float)"
   ],
   "metadata": {
    "collapsed": false,
    "ExecuteTime": {
     "end_time": "2024-04-16T23:25:01.736779Z",
     "start_time": "2024-04-16T23:25:01.710116Z"
    }
   },
   "id": "a46f8bc36e198147",
   "execution_count": 318
  },
  {
   "cell_type": "code",
   "outputs": [
    {
     "data": {
      "text/plain": "Embedding(400002, 50)"
     },
     "execution_count": 319,
     "metadata": {},
     "output_type": "execute_result"
    }
   ],
   "source": [
    "nn.Embedding.from_pretrained(embedding_tensor, freeze=True)"
   ],
   "metadata": {
    "collapsed": false,
    "ExecuteTime": {
     "end_time": "2024-04-16T23:25:01.743544Z",
     "start_time": "2024-04-16T23:25:01.737772Z"
    }
   },
   "id": "b26faa7622ad3b2f",
   "execution_count": 319
  },
  {
   "cell_type": "markdown",
   "source": [
    "model"
   ],
   "metadata": {
    "collapsed": false
   },
   "id": "b7c0c50761fd6bfd"
  },
  {
   "cell_type": "code",
   "outputs": [],
   "source": [
    "class ToneTagsLSTM(nn.Module):\n",
    "    def __init__(self, vocab_size, embedding, hidden_dim, output_size, num_layers, dropout):\n",
    "        super(ToneTagsLSTM, self).__init__()\n",
    "        # vocab_size = 400002\n",
    "        # embedding_dim = 50\n",
    "        # hidden_dim_lstm = 30\n",
    "        # fc1 = 30 - 25\n",
    "        # fc2 = 25 - 20\n",
    "        # fc3 = 20 - 19\n",
    "        # output_size = 19\n",
    "        \n",
    "        self.embedding = embedding\n",
    "        \n",
    "        self.lstm = nn.LSTM(self.embedding.embedding_dim, hidden_dim, num_layers=num_layers, bidirectional=True, dropout=dropout, batch_first=True)\n",
    "        \n",
    "        self.fc1 = nn.Linear(hidden_dim, 25)\n",
    "        self.fc2 = nn.Linear(25, 20)\n",
    "        self.fc3 = nn.Linear(20, output_size)\n",
    "        # self.out = nn.Softmax(output_size, dim=1)\n",
    "        \n",
    "\n",
    "    def forward(self, x):\n",
    "        \n",
    "        embedded = self.embedding(x)\n",
    "        output, (hidden, cell) = self.lstm(embedded)\n",
    "\n",
    "\n",
    "        # print(hidden[-1].shape)\n",
    "\n",
    "        fc1_out = self.fc1(hidden[-1])\n",
    "        \n",
    "        \n",
    "        fc2_out = self.fc2(fc1_out)\n",
    "        out = self.fc3(fc2_out)\n",
    "        # out = self.out(fc3_out)\n",
    "        \n",
    "        return out"
   ],
   "metadata": {
    "collapsed": false,
    "ExecuteTime": {
     "end_time": "2024-04-16T23:25:01.752188Z",
     "start_time": "2024-04-16T23:25:01.744537Z"
    }
   },
   "id": "41a85d078d9b360b",
   "execution_count": 320
  },
  {
   "cell_type": "markdown",
   "source": [
    "parameters"
   ],
   "metadata": {
    "collapsed": false
   },
   "id": "86263f192401ab06"
  },
  {
   "cell_type": "code",
   "outputs": [],
   "source": [
    "vocab_size = len(vocab) # 4000002\n",
    "embedding = nn.Embedding.from_pretrained(embedding_tensor, freeze=True)\n",
    "hidden_dim = 30 # 30\n",
    "output_size = len(labels) # 19\n",
    "num_layers = 4\n",
    "dropout = 0.2\n",
    "device = torch.device(\"cuda\" if torch.cuda.is_available() else \"cpu\")\n",
    "lr = 5e-4\n",
    "\n",
    "criterion = nn.CrossEntropyLoss()"
   ],
   "metadata": {
    "collapsed": false,
    "ExecuteTime": {
     "end_time": "2024-04-16T23:25:01.762080Z",
     "start_time": "2024-04-16T23:25:01.757176Z"
    }
   },
   "id": "800512fbba8392b7",
   "execution_count": 321
  },
  {
   "cell_type": "markdown",
   "source": [
    "accuracy function"
   ],
   "metadata": {
    "collapsed": false
   },
   "id": "16a66b7c22e2d724"
  },
  {
   "cell_type": "code",
   "outputs": [],
   "source": [
    "def get_accuracy(prediction, label):\n",
    "    batch_size, _ = prediction.shape\n",
    "    predicted_classes = prediction.argmax(dim=-1)\n",
    "    correct_predictions = predicted_classes.eq(label).sum()\n",
    "    accuracy = correct_predictions / batch_size\n",
    "    return accuracy"
   ],
   "metadata": {
    "collapsed": false,
    "ExecuteTime": {
     "end_time": "2024-04-16T23:25:01.768327Z",
     "start_time": "2024-04-16T23:25:01.763081Z"
    }
   },
   "id": "5d8a218049f7d3bc",
   "execution_count": 322
  },
  {
   "cell_type": "markdown",
   "source": [
    "train and test `train_dataloader_wsd_1`"
   ],
   "metadata": {
    "collapsed": false
   },
   "id": "7885c5ed134e8e8"
  },
  {
   "cell_type": "code",
   "outputs": [],
   "source": [
    "# train_dataloader_wsd_1\n",
    "# test_dataloader_wsd_1\n",
    "\n",
    "model_wsd_1 = ToneTagsLSTM(\n",
    "    vocab_size=vocab_size,\n",
    "    embedding=embedding,\n",
    "    hidden_dim=hidden_dim,\n",
    "    output_size=output_size,\n",
    "    num_layers=num_layers,\n",
    "    dropout=dropout\n",
    ").to(device)\n",
    "\n",
    "optimizer_wsd_1 = optim.Adam(model_wsd_1.parameters(), lr=lr)"
   ],
   "metadata": {
    "collapsed": false,
    "ExecuteTime": {
     "end_time": "2024-04-16T23:25:01.794578Z",
     "start_time": "2024-04-16T23:25:01.769326Z"
    }
   },
   "id": "863e8aca70919120",
   "execution_count": 323
  },
  {
   "cell_type": "code",
   "outputs": [
    {
     "data": {
      "text/plain": "training...:   0%|          | 0/2113 [00:00<?, ?it/s]",
      "application/vnd.jupyter.widget-view+json": {
       "version_major": 2,
       "version_minor": 0,
       "model_id": "ff100cd6160f4515a8c48f41bc984d11"
      }
     },
     "metadata": {},
     "output_type": "display_data"
    },
    {
     "name": "stdout",
     "output_type": "stream",
     "text": [
      "[Train Epoch 1] Loss: 2.379364491073204, Accuracy: 0.21823237103644108\n"
     ]
    },
    {
     "data": {
      "text/plain": "testing...:   0%|          | 0/530 [00:00<?, ?it/s]",
      "application/vnd.jupyter.widget-view+json": {
       "version_major": 2,
       "version_minor": 0,
       "model_id": "5c093b304abd4285913ff9333a96769f"
      }
     },
     "metadata": {},
     "output_type": "display_data"
    },
    {
     "name": "stdout",
     "output_type": "stream",
     "text": [
      "[Test Epoch 1] Loss: 6.908232303835311, Accuracy: 0.0026533018867924527\n"
     ]
    },
    {
     "data": {
      "text/plain": "training...:   0%|          | 0/2113 [00:00<?, ?it/s]",
      "application/vnd.jupyter.widget-view+json": {
       "version_major": 2,
       "version_minor": 0,
       "model_id": "41b91a2e85a34ae69c9cadd3788b0a5f"
      }
     },
     "metadata": {},
     "output_type": "display_data"
    },
    {
     "name": "stdout",
     "output_type": "stream",
     "text": [
      "[Train Epoch 2] Loss: 2.3255429054062566, Accuracy: 0.2388192143871273\n"
     ]
    },
    {
     "data": {
      "text/plain": "testing...:   0%|          | 0/530 [00:00<?, ?it/s]",
      "application/vnd.jupyter.widget-view+json": {
       "version_major": 2,
       "version_minor": 0,
       "model_id": "647eca88223d4d43a43706183a70e791"
      }
     },
     "metadata": {},
     "output_type": "display_data"
    },
    {
     "name": "stdout",
     "output_type": "stream",
     "text": [
      "[Test Epoch 2] Loss: 6.747853927792243, Accuracy: 0.003714622641509434\n"
     ]
    },
    {
     "data": {
      "text/plain": "training...:   0%|          | 0/2113 [00:00<?, ?it/s]",
      "application/vnd.jupyter.widget-view+json": {
       "version_major": 2,
       "version_minor": 0,
       "model_id": "79189b7b64e54cd38a4d06d83f7a40e8"
      }
     },
     "metadata": {},
     "output_type": "display_data"
    },
    {
     "name": "stdout",
     "output_type": "stream",
     "text": [
      "[Train Epoch 3] Loss: 2.3370723191788003, Accuracy: 0.22923568386180784\n"
     ]
    },
    {
     "data": {
      "text/plain": "testing...:   0%|          | 0/530 [00:00<?, ?it/s]",
      "application/vnd.jupyter.widget-view+json": {
       "version_major": 2,
       "version_minor": 0,
       "model_id": "1fa69383675445b3b13128550d805442"
      }
     },
     "metadata": {},
     "output_type": "display_data"
    },
    {
     "name": "stdout",
     "output_type": "stream",
     "text": [
      "[Test Epoch 3] Loss: 6.932549027676853, Accuracy: 0.028360849056603774\n"
     ]
    },
    {
     "data": {
      "text/plain": "training...:   0%|          | 0/2113 [00:00<?, ?it/s]",
      "application/vnd.jupyter.widget-view+json": {
       "version_major": 2,
       "version_minor": 0,
       "model_id": "e027e9d2bb71404c91807aaa5efda49d"
      }
     },
     "metadata": {},
     "output_type": "display_data"
    },
    {
     "name": "stdout",
     "output_type": "stream",
     "text": [
      "[Train Epoch 4] Loss: 2.2940096190006205, Accuracy: 0.2555608140085187\n"
     ]
    },
    {
     "data": {
      "text/plain": "testing...:   0%|          | 0/530 [00:00<?, ?it/s]",
      "application/vnd.jupyter.widget-view+json": {
       "version_major": 2,
       "version_minor": 0,
       "model_id": "5bcf3698546f46c6965c05741f9eddb6"
      }
     },
     "metadata": {},
     "output_type": "display_data"
    },
    {
     "name": "stdout",
     "output_type": "stream",
     "text": [
      "[Test Epoch 4] Loss: 7.0684436690132575, Accuracy: 0.002712264150943396\n"
     ]
    },
    {
     "data": {
      "text/plain": "training...:   0%|          | 0/2113 [00:00<?, ?it/s]",
      "application/vnd.jupyter.widget-view+json": {
       "version_major": 2,
       "version_minor": 0,
       "model_id": "e8d4a08cbc3a447381cc428f533da490"
      }
     },
     "metadata": {},
     "output_type": "display_data"
    },
    {
     "name": "stdout",
     "output_type": "stream",
     "text": [
      "[Train Epoch 5] Loss: 2.2320500707603776, Accuracy: 0.2811316848083294\n"
     ]
    },
    {
     "data": {
      "text/plain": "testing...:   0%|          | 0/530 [00:00<?, ?it/s]",
      "application/vnd.jupyter.widget-view+json": {
       "version_major": 2,
       "version_minor": 0,
       "model_id": "7c21ce9f21ac4b84abcf9626fed65f76"
      }
     },
     "metadata": {},
     "output_type": "display_data"
    },
    {
     "name": "stdout",
     "output_type": "stream",
     "text": [
      "[Test Epoch 5] Loss: 6.795463668175463, Accuracy: 0.0034787735849056605\n"
     ]
    },
    {
     "data": {
      "text/plain": "training...:   0%|          | 0/2113 [00:00<?, ?it/s]",
      "application/vnd.jupyter.widget-view+json": {
       "version_major": 2,
       "version_minor": 0,
       "model_id": "3c0f3d37549a4201b5e3c1e736386211"
      }
     },
     "metadata": {},
     "output_type": "display_data"
    },
    {
     "name": "stdout",
     "output_type": "stream",
     "text": [
      "[Train Epoch 6] Loss: 2.236062711976571, Accuracy: 0.27750828206341693\n"
     ]
    },
    {
     "data": {
      "text/plain": "testing...:   0%|          | 0/530 [00:00<?, ?it/s]",
      "application/vnd.jupyter.widget-view+json": {
       "version_major": 2,
       "version_minor": 0,
       "model_id": "42532479a934453bad6af9a8ccb4489f"
      }
     },
     "metadata": {},
     "output_type": "display_data"
    },
    {
     "name": "stdout",
     "output_type": "stream",
     "text": [
      "[Test Epoch 6] Loss: 6.869930267333984, Accuracy: 0.0034787735849056605\n"
     ]
    },
    {
     "data": {
      "text/plain": "training...:   0%|          | 0/2113 [00:00<?, ?it/s]",
      "application/vnd.jupyter.widget-view+json": {
       "version_major": 2,
       "version_minor": 0,
       "model_id": "e26d69776f4b4a7d8106622104c75a76"
      }
     },
     "metadata": {},
     "output_type": "display_data"
    },
    {
     "name": "stdout",
     "output_type": "stream",
     "text": [
      "[Train Epoch 7] Loss: 2.1577895475799194, Accuracy: 0.315309985802177\n"
     ]
    },
    {
     "data": {
      "text/plain": "testing...:   0%|          | 0/530 [00:00<?, ?it/s]",
      "application/vnd.jupyter.widget-view+json": {
       "version_major": 2,
       "version_minor": 0,
       "model_id": "ad397dcd366d414eb615feb16c123ece"
      }
     },
     "metadata": {},
     "output_type": "display_data"
    },
    {
     "name": "stdout",
     "output_type": "stream",
     "text": [
      "[Test Epoch 7] Loss: 6.7946558736405285, Accuracy: 0.017452830188679245\n"
     ]
    },
    {
     "data": {
      "text/plain": "training...:   0%|          | 0/2113 [00:00<?, ?it/s]",
      "application/vnd.jupyter.widget-view+json": {
       "version_major": 2,
       "version_minor": 0,
       "model_id": "ec0773f287f547d1a4d8d47cdbc8cdb5"
      }
     },
     "metadata": {},
     "output_type": "display_data"
    },
    {
     "name": "stdout",
     "output_type": "stream",
     "text": [
      "[Train Epoch 8] Loss: 2.0552145713773657, Accuracy: 0.3581844533838145\n"
     ]
    },
    {
     "data": {
      "text/plain": "testing...:   0%|          | 0/530 [00:00<?, ?it/s]",
      "application/vnd.jupyter.widget-view+json": {
       "version_major": 2,
       "version_minor": 0,
       "model_id": "2cddced777694e9bbdb441825cb6cf17"
      }
     },
     "metadata": {},
     "output_type": "display_data"
    },
    {
     "name": "stdout",
     "output_type": "stream",
     "text": [
      "[Test Epoch 8] Loss: 6.979341743577201, Accuracy: 0.0751829863367778\n"
     ]
    },
    {
     "data": {
      "text/plain": "training...:   0%|          | 0/2113 [00:00<?, ?it/s]",
      "application/vnd.jupyter.widget-view+json": {
       "version_major": 2,
       "version_minor": 0,
       "model_id": "92eb54b98bc24e84a27fba667a7bbcd1"
      }
     },
     "metadata": {},
     "output_type": "display_data"
    },
    {
     "name": "stdout",
     "output_type": "stream",
     "text": [
      "[Train Epoch 9] Loss: 1.9763773792003265, Accuracy: 0.3919338618078561\n"
     ]
    },
    {
     "data": {
      "text/plain": "testing...:   0%|          | 0/530 [00:00<?, ?it/s]",
      "application/vnd.jupyter.widget-view+json": {
       "version_major": 2,
       "version_minor": 0,
       "model_id": "ef4820f4a25342b1a14c50c55faea0e7"
      }
     },
     "metadata": {},
     "output_type": "display_data"
    },
    {
     "name": "stdout",
     "output_type": "stream",
     "text": [
      "[Test Epoch 9] Loss: 7.019781984473174, Accuracy: 0.04150943396226415\n"
     ]
    },
    {
     "data": {
      "text/plain": "training...:   0%|          | 0/2113 [00:00<?, ?it/s]",
      "application/vnd.jupyter.widget-view+json": {
       "version_major": 2,
       "version_minor": 0,
       "model_id": "c9ae6871bfef444b91dfacf82e3312a9"
      }
     },
     "metadata": {},
     "output_type": "display_data"
    },
    {
     "name": "stdout",
     "output_type": "stream",
     "text": [
      "[Train Epoch 10] Loss: 1.9320867353432336, Accuracy: 0.41379259346900144\n"
     ]
    },
    {
     "data": {
      "text/plain": "testing...:   0%|          | 0/530 [00:00<?, ?it/s]",
      "application/vnd.jupyter.widget-view+json": {
       "version_major": 2,
       "version_minor": 0,
       "model_id": "e217339bd4b74ff49e07ca45d77f318d"
      }
     },
     "metadata": {},
     "output_type": "display_data"
    },
    {
     "name": "stdout",
     "output_type": "stream",
     "text": [
      "[Test Epoch 10] Loss: 6.702115203749459, Accuracy: 0.11028383213956401\n"
     ]
    },
    {
     "data": {
      "text/plain": "training...:   0%|          | 0/2113 [00:00<?, ?it/s]",
      "application/vnd.jupyter.widget-view+json": {
       "version_major": 2,
       "version_minor": 0,
       "model_id": "9f973c796ec445528de0985465be40fc"
      }
     },
     "metadata": {},
     "output_type": "display_data"
    },
    {
     "name": "stdout",
     "output_type": "stream",
     "text": [
      "[Train Epoch 11] Loss: 1.9047893686171566, Accuracy: 0.419959772834832\n"
     ]
    },
    {
     "data": {
      "text/plain": "testing...:   0%|          | 0/530 [00:00<?, ?it/s]",
      "application/vnd.jupyter.widget-view+json": {
       "version_major": 2,
       "version_minor": 0,
       "model_id": "c8528444ab314c8aa9852814d1dcbf40"
      }
     },
     "metadata": {},
     "output_type": "display_data"
    },
    {
     "name": "stdout",
     "output_type": "stream",
     "text": [
      "[Test Epoch 11] Loss: 6.723415740930809, Accuracy: 0.09077342225695556\n"
     ]
    },
    {
     "data": {
      "text/plain": "training...:   0%|          | 0/2113 [00:00<?, ?it/s]",
      "application/vnd.jupyter.widget-view+json": {
       "version_major": 2,
       "version_minor": 0,
       "model_id": "9f82ace258e246f78e7edb8c5afc746d"
      }
     },
     "metadata": {},
     "output_type": "display_data"
    },
    {
     "name": "stdout",
     "output_type": "stream",
     "text": [
      "[Train Epoch 12] Loss: 1.8470548380058747, Accuracy: 0.43835778513961193\n"
     ]
    },
    {
     "data": {
      "text/plain": "testing...:   0%|          | 0/530 [00:00<?, ?it/s]",
      "application/vnd.jupyter.widget-view+json": {
       "version_major": 2,
       "version_minor": 0,
       "model_id": "8e85634453714d74a29ec2ad8045595f"
      }
     },
     "metadata": {},
     "output_type": "display_data"
    },
    {
     "name": "stdout",
     "output_type": "stream",
     "text": [
      "[Test Epoch 12] Loss: 6.6107680293748965, Accuracy: 0.08816688353160643\n"
     ]
    },
    {
     "data": {
      "text/plain": "training...:   0%|          | 0/2113 [00:00<?, ?it/s]",
      "application/vnd.jupyter.widget-view+json": {
       "version_major": 2,
       "version_minor": 0,
       "model_id": "356e7b32c3b14390aeffa2bd947d0be1"
      }
     },
     "metadata": {},
     "output_type": "display_data"
    },
    {
     "name": "stdout",
     "output_type": "stream",
     "text": [
      "[Train Epoch 13] Loss: 1.8424293587008078, Accuracy: 0.4414783483199243\n"
     ]
    },
    {
     "data": {
      "text/plain": "testing...:   0%|          | 0/530 [00:00<?, ?it/s]",
      "application/vnd.jupyter.widget-view+json": {
       "version_major": 2,
       "version_minor": 0,
       "model_id": "6f3b15cb59a34a0aa67d27006661b295"
      }
     },
     "metadata": {},
     "output_type": "display_data"
    },
    {
     "name": "stdout",
     "output_type": "stream",
     "text": [
      "[Test Epoch 13] Loss: 6.813638563875882, Accuracy: 0.12049650291226945\n"
     ]
    },
    {
     "data": {
      "text/plain": "training...:   0%|          | 0/2113 [00:00<?, ?it/s]",
      "application/vnd.jupyter.widget-view+json": {
       "version_major": 2,
       "version_minor": 0,
       "model_id": "e243967499c24b82a49dbead8f465a82"
      }
     },
     "metadata": {},
     "output_type": "display_data"
    },
    {
     "name": "stdout",
     "output_type": "stream",
     "text": [
      "[Train Epoch 14] Loss: 1.80312192630088, Accuracy: 0.4569332702318978\n"
     ]
    },
    {
     "data": {
      "text/plain": "testing...:   0%|          | 0/530 [00:00<?, ?it/s]",
      "application/vnd.jupyter.widget-view+json": {
       "version_major": 2,
       "version_minor": 0,
       "model_id": "f9f9224c93694466af6c9a9b314e4698"
      }
     },
     "metadata": {},
     "output_type": "display_data"
    },
    {
     "name": "stdout",
     "output_type": "stream",
     "text": [
      "[Test Epoch 14] Loss: 6.998109395548982, Accuracy: 0.11032449577074006\n"
     ]
    },
    {
     "data": {
      "text/plain": "training...:   0%|          | 0/2113 [00:00<?, ?it/s]",
      "application/vnd.jupyter.widget-view+json": {
       "version_major": 2,
       "version_minor": 0,
       "model_id": "f3179bd7df7e4554a4c8e63802b74b63"
      }
     },
     "metadata": {},
     "output_type": "display_data"
    },
    {
     "name": "stdout",
     "output_type": "stream",
     "text": [
      "[Train Epoch 15] Loss: 1.7887831622821937, Accuracy: 0.460320042593469\n"
     ]
    },
    {
     "data": {
      "text/plain": "testing...:   0%|          | 0/530 [00:00<?, ?it/s]",
      "application/vnd.jupyter.widget-view+json": {
       "version_major": 2,
       "version_minor": 0,
       "model_id": "4ada4508c08f4414b31426f6ffd53d8e"
      }
     },
     "metadata": {},
     "output_type": "display_data"
    },
    {
     "name": "stdout",
     "output_type": "stream",
     "text": [
      "[Test Epoch 15] Loss: 6.76451625284159, Accuracy: 0.1045644925169225\n"
     ]
    },
    {
     "data": {
      "text/plain": "training...:   0%|          | 0/2113 [00:00<?, ?it/s]",
      "application/vnd.jupyter.widget-view+json": {
       "version_major": 2,
       "version_minor": 0,
       "model_id": "55f4d5783eb24cc7adc1db88f5d361c8"
      }
     },
     "metadata": {},
     "output_type": "display_data"
    },
    {
     "name": "stdout",
     "output_type": "stream",
     "text": [
      "[Train Epoch 16] Loss: 1.7480864914083898, Accuracy: 0.4725656649313772\n"
     ]
    },
    {
     "data": {
      "text/plain": "testing...:   0%|          | 0/530 [00:00<?, ?it/s]",
      "application/vnd.jupyter.widget-view+json": {
       "version_major": 2,
       "version_minor": 0,
       "model_id": "306d48a215ff482c84cffdf45078afa5"
      }
     },
     "metadata": {},
     "output_type": "display_data"
    },
    {
     "name": "stdout",
     "output_type": "stream",
     "text": [
      "[Test Epoch 16] Loss: 7.129097997917319, Accuracy: 0.10313719908864993\n"
     ]
    },
    {
     "data": {
      "text/plain": "training...:   0%|          | 0/2113 [00:00<?, ?it/s]",
      "application/vnd.jupyter.widget-view+json": {
       "version_major": 2,
       "version_minor": 0,
       "model_id": "0e6fe2ca22934c17a72ce2a12b79d99a"
      }
     },
     "metadata": {},
     "output_type": "display_data"
    },
    {
     "name": "stdout",
     "output_type": "stream",
     "text": [
      "[Train Epoch 17] Loss: 1.724709026575427, Accuracy: 0.48096604353999056\n"
     ]
    },
    {
     "data": {
      "text/plain": "testing...:   0%|          | 0/530 [00:00<?, ?it/s]",
      "application/vnd.jupyter.widget-view+json": {
       "version_major": 2,
       "version_minor": 0,
       "model_id": "f22414f5a358446981852e3771abbbff"
      }
     },
     "metadata": {},
     "output_type": "display_data"
    },
    {
     "name": "stdout",
     "output_type": "stream",
     "text": [
      "[Test Epoch 17] Loss: 7.2280067848709395, Accuracy: 0.09959946323959333\n"
     ]
    },
    {
     "data": {
      "text/plain": "training...:   0%|          | 0/2113 [00:00<?, ?it/s]",
      "application/vnd.jupyter.widget-view+json": {
       "version_major": 2,
       "version_minor": 0,
       "model_id": "749d38c05e61436fa4b4aa2c59276273"
      }
     },
     "metadata": {},
     "output_type": "display_data"
    },
    {
     "name": "stdout",
     "output_type": "stream",
     "text": [
      "[Train Epoch 18] Loss: 1.7031994118115883, Accuracy: 0.48979531471840987\n"
     ]
    },
    {
     "data": {
      "text/plain": "testing...:   0%|          | 0/530 [00:00<?, ?it/s]",
      "application/vnd.jupyter.widget-view+json": {
       "version_major": 2,
       "version_minor": 0,
       "model_id": "3331e419492f43a386f89324ff089410"
      }
     },
     "metadata": {},
     "output_type": "display_data"
    },
    {
     "name": "stdout",
     "output_type": "stream",
     "text": [
      "[Test Epoch 18] Loss: 7.073609010228571, Accuracy: 0.11267688679245283\n"
     ]
    },
    {
     "data": {
      "text/plain": "training...:   0%|          | 0/2113 [00:00<?, ?it/s]",
      "application/vnd.jupyter.widget-view+json": {
       "version_major": 2,
       "version_minor": 0,
       "model_id": "85b055b043974e2e82a488dbab6cea67"
      }
     },
     "metadata": {},
     "output_type": "display_data"
    },
    {
     "name": "stdout",
     "output_type": "stream",
     "text": [
      "[Train Epoch 19] Loss: 1.6933164855512013, Accuracy: 0.49263487931850447\n"
     ]
    },
    {
     "data": {
      "text/plain": "testing...:   0%|          | 0/530 [00:00<?, ?it/s]",
      "application/vnd.jupyter.widget-view+json": {
       "version_major": 2,
       "version_minor": 0,
       "model_id": "1122dc26f9634ba78cfb214ce3872814"
      }
     },
     "metadata": {},
     "output_type": "display_data"
    },
    {
     "name": "stdout",
     "output_type": "stream",
     "text": [
      "[Test Epoch 19] Loss: 6.817184558904396, Accuracy: 0.1248820754716981\n"
     ]
    },
    {
     "data": {
      "text/plain": "training...:   0%|          | 0/2113 [00:00<?, ?it/s]",
      "application/vnd.jupyter.widget-view+json": {
       "version_major": 2,
       "version_minor": 0,
       "model_id": "447a376ad19442cf98485dd3eed5c91d"
      }
     },
     "metadata": {},
     "output_type": "display_data"
    },
    {
     "name": "stdout",
     "output_type": "stream",
     "text": [
      "[Train Epoch 20] Loss: 1.6621024412562708, Accuracy: 0.5012866777094179\n"
     ]
    },
    {
     "data": {
      "text/plain": "testing...:   0%|          | 0/530 [00:00<?, ?it/s]",
      "application/vnd.jupyter.widget-view+json": {
       "version_major": 2,
       "version_minor": 0,
       "model_id": "036cf887215441468b5579119bfa416c"
      }
     },
     "metadata": {},
     "output_type": "display_data"
    },
    {
     "name": "stdout",
     "output_type": "stream",
     "text": [
      "[Test Epoch 20] Loss: 7.059619648951404, Accuracy: 0.12750691282299328\n",
      "\n",
      "CPU times: total: 1h 20min 45s\n",
      "Wall time: 1h 20min 28s\n"
     ]
    }
   ],
   "source": [
    "%%time\n",
    "\n",
    "n_epochs = 20\n",
    "\n",
    "for ep in range(1, n_epochs + 1):\n",
    "    \n",
    "    model_wsd_1.train()\n",
    "    epoch_losses_train = []\n",
    "    epoch_accuracies_train = []\n",
    "    \n",
    "    \n",
    "    for tokens, contexts, tags in tqdm(train_dataloader_wsd_1, desc=\"training...\"):\n",
    "        optimizer_wsd_1.zero_grad()\n",
    "        \n",
    "        tokens = tokens.to(device)\n",
    "        tags = tags.to(device)\n",
    "        \n",
    "        predictions = model_wsd_1(tokens)\n",
    "        \n",
    "        loss = criterion(predictions, tags)\n",
    "        accuracy = get_accuracy(predictions, tags)\n",
    "        \n",
    "        loss.backward()\n",
    "        optimizer_wsd_1.step()\n",
    "        \n",
    "        epoch_losses_train.append(loss.item())\n",
    "        epoch_accuracies_train.append(accuracy.item())\n",
    "        \n",
    "    print(f'[Train Epoch {ep}] Loss: {np.mean(epoch_losses_train)}, Accuracy: {np.mean(epoch_accuracies_train)}')\n",
    "\n",
    "\n",
    "    model_wsd_1.eval()\n",
    "    epoch_losses_test = []\n",
    "    epoch_accuracies_test = []\n",
    "    \n",
    "    with torch.no_grad():\n",
    "        for tokens, contexts, tags in tqdm(test_dataloader_wsd_1, desc=\"testing...\"):\n",
    "            optimizer_wsd_1.zero_grad()\n",
    "    \n",
    "            tokens = tokens.to(device)\n",
    "            tags = tags.to(device)\n",
    "    \n",
    "            predictions = model_wsd_1(tokens)\n",
    "    \n",
    "            loss = criterion(predictions, tags)\n",
    "            accuracy = get_accuracy(predictions, tags)\n",
    "    \n",
    "            epoch_losses_test.append(loss.item())\n",
    "            epoch_accuracies_test.append(accuracy.item())\n",
    "    \n",
    "        print(f'[Test Epoch {ep}] Loss: {np.mean(epoch_losses_test)}, Accuracy: {np.mean(epoch_accuracies_test)}\\n')"
   ],
   "metadata": {
    "collapsed": false,
    "ExecuteTime": {
     "end_time": "2024-04-17T00:45:30.659414Z",
     "start_time": "2024-04-16T23:25:01.795579Z"
    }
   },
   "id": "f8f793894f135c1c",
   "execution_count": 324
  },
  {
   "cell_type": "markdown",
   "source": [
    "train and test `train_dataloader_clean`"
   ],
   "metadata": {
    "collapsed": false
   },
   "id": "c53171f959194ed4"
  },
  {
   "cell_type": "code",
   "outputs": [],
   "source": [
    "# train_dataloader_clean\n",
    "# test_dataloader_clean\n",
    "\n",
    "model_clean = ToneTagsLSTM(\n",
    "    vocab_size=vocab_size,\n",
    "    embedding=embedding,\n",
    "    hidden_dim=hidden_dim,\n",
    "    output_size=output_size,\n",
    "    num_layers=num_layers,\n",
    "    dropout=dropout\n",
    ").to(device)\n",
    "\n",
    "optimizer_clean = optim.Adam(model_clean.parameters(), lr=lr)"
   ],
   "metadata": {
    "collapsed": false,
    "ExecuteTime": {
     "end_time": "2024-04-17T00:45:30.671459Z",
     "start_time": "2024-04-17T00:45:30.660414Z"
    }
   },
   "id": "d5e02ae2e02728c",
   "execution_count": 325
  },
  {
   "cell_type": "code",
   "outputs": [
    {
     "data": {
      "text/plain": "training...:   0%|          | 0/2132 [00:00<?, ?it/s]",
      "application/vnd.jupyter.widget-view+json": {
       "version_major": 2,
       "version_minor": 0,
       "model_id": "5157c0aed4aa41b89d79bede86adb414"
      }
     },
     "metadata": {},
     "output_type": "display_data"
    },
    {
     "name": "stdout",
     "output_type": "stream",
     "text": [
      "[Train Epoch 1] Loss: 2.243861869005504, Accuracy: 0.2783780878804638\n"
     ]
    },
    {
     "data": {
      "text/plain": "testing...:   0%|          | 0/534 [00:00<?, ?it/s]",
      "application/vnd.jupyter.widget-view+json": {
       "version_major": 2,
       "version_minor": 0,
       "model_id": "8c3594e8041b4fd1ac2d2f7f592ecf7e"
      }
     },
     "metadata": {},
     "output_type": "display_data"
    },
    {
     "name": "stdout",
     "output_type": "stream",
     "text": [
      "[Test Epoch 1] Loss: 6.458495038725464, Accuracy: 0.003920880149812734\n"
     ]
    },
    {
     "data": {
      "text/plain": "training...:   0%|          | 0/2132 [00:00<?, ?it/s]",
      "application/vnd.jupyter.widget-view+json": {
       "version_major": 2,
       "version_minor": 0,
       "model_id": "9e1db51d596949dcbc6014cf6accc2a8"
      }
     },
     "metadata": {},
     "output_type": "display_data"
    },
    {
     "name": "stdout",
     "output_type": "stream",
     "text": [
      "[Train Epoch 2] Loss: 1.9818801017684293, Accuracy: 0.3831261726162671\n"
     ]
    },
    {
     "data": {
      "text/plain": "testing...:   0%|          | 0/534 [00:00<?, ?it/s]",
      "application/vnd.jupyter.widget-view+json": {
       "version_major": 2,
       "version_minor": 0,
       "model_id": "7b30f9cf08da45ea99c0e5ffa6a4e945"
      }
     },
     "metadata": {},
     "output_type": "display_data"
    },
    {
     "name": "stdout",
     "output_type": "stream",
     "text": [
      "[Test Epoch 2] Loss: 6.666136007407185, Accuracy: 0.12611189138576778\n"
     ]
    },
    {
     "data": {
      "text/plain": "training...:   0%|          | 0/2132 [00:00<?, ?it/s]",
      "application/vnd.jupyter.widget-view+json": {
       "version_major": 2,
       "version_minor": 0,
       "model_id": "e8c0c707e0f24134b8111747bd834c6f"
      }
     },
     "metadata": {},
     "output_type": "display_data"
    },
    {
     "name": "stdout",
     "output_type": "stream",
     "text": [
      "[Train Epoch 3] Loss: 1.8509055806592973, Accuracy: 0.44090838024417184\n"
     ]
    },
    {
     "data": {
      "text/plain": "testing...:   0%|          | 0/534 [00:00<?, ?it/s]",
      "application/vnd.jupyter.widget-view+json": {
       "version_major": 2,
       "version_minor": 0,
       "model_id": "37e0fccb06104bbe94acfefc3d746e64"
      }
     },
     "metadata": {},
     "output_type": "display_data"
    },
    {
     "name": "stdout",
     "output_type": "stream",
     "text": [
      "[Test Epoch 3] Loss: 6.795352591110972, Accuracy: 0.13453885767790263\n"
     ]
    },
    {
     "data": {
      "text/plain": "training...:   0%|          | 0/2132 [00:00<?, ?it/s]",
      "application/vnd.jupyter.widget-view+json": {
       "version_major": 2,
       "version_minor": 0,
       "model_id": "0fa2a86b8cd0484b933e1551a0d41c3c"
      }
     },
     "metadata": {},
     "output_type": "display_data"
    },
    {
     "name": "stdout",
     "output_type": "stream",
     "text": [
      "[Train Epoch 4] Loss: 1.743016006044107, Accuracy: 0.47870153222254025\n"
     ]
    },
    {
     "data": {
      "text/plain": "testing...:   0%|          | 0/534 [00:00<?, ?it/s]",
      "application/vnd.jupyter.widget-view+json": {
       "version_major": 2,
       "version_minor": 0,
       "model_id": "1fe689d8a5424e59a7276ca10dc72791"
      }
     },
     "metadata": {},
     "output_type": "display_data"
    },
    {
     "name": "stdout",
     "output_type": "stream",
     "text": [
      "[Test Epoch 4] Loss: 6.789622264854917, Accuracy: 0.11013576779026217\n"
     ]
    },
    {
     "data": {
      "text/plain": "training...:   0%|          | 0/2132 [00:00<?, ?it/s]",
      "application/vnd.jupyter.widget-view+json": {
       "version_major": 2,
       "version_minor": 0,
       "model_id": "26349f4b65014535a4686c8ffcf28f5c"
      }
     },
     "metadata": {},
     "output_type": "display_data"
    },
    {
     "name": "stdout",
     "output_type": "stream",
     "text": [
      "[Train Epoch 5] Loss: 1.677518411045003, Accuracy: 0.49682223265658626\n"
     ]
    },
    {
     "data": {
      "text/plain": "testing...:   0%|          | 0/534 [00:00<?, ?it/s]",
      "application/vnd.jupyter.widget-view+json": {
       "version_major": 2,
       "version_minor": 0,
       "model_id": "fdb972dd11664c098f232df4962c7312"
      }
     },
     "metadata": {},
     "output_type": "display_data"
    },
    {
     "name": "stdout",
     "output_type": "stream",
     "text": [
      "[Test Epoch 5] Loss: 6.788666859101713, Accuracy: 0.12482443820224719\n"
     ]
    },
    {
     "data": {
      "text/plain": "training...:   0%|          | 0/2132 [00:00<?, ?it/s]",
      "application/vnd.jupyter.widget-view+json": {
       "version_major": 2,
       "version_minor": 0,
       "model_id": "cdb3c1eb348b4fe6a66244a79adf0e01"
      }
     },
     "metadata": {},
     "output_type": "display_data"
    },
    {
     "name": "stdout",
     "output_type": "stream",
     "text": [
      "[Train Epoch 6] Loss: 1.6258040501912585, Accuracy: 0.510138172299844\n"
     ]
    },
    {
     "data": {
      "text/plain": "testing...:   0%|          | 0/534 [00:00<?, ?it/s]",
      "application/vnd.jupyter.widget-view+json": {
       "version_major": 2,
       "version_minor": 0,
       "model_id": "b82f56074ac64e07b099bf78fc649c27"
      }
     },
     "metadata": {},
     "output_type": "display_data"
    },
    {
     "name": "stdout",
     "output_type": "stream",
     "text": [
      "[Test Epoch 6] Loss: 6.788777148678955, Accuracy: 0.13401217228464418\n"
     ]
    },
    {
     "data": {
      "text/plain": "training...:   0%|          | 0/2132 [00:00<?, ?it/s]",
      "application/vnd.jupyter.widget-view+json": {
       "version_major": 2,
       "version_minor": 0,
       "model_id": "6674ed2c75cf4becae964f64148b79b2"
      }
     },
     "metadata": {},
     "output_type": "display_data"
    },
    {
     "name": "stdout",
     "output_type": "stream",
     "text": [
      "[Train Epoch 7] Loss: 1.5860455974405299, Accuracy: 0.5211626407297199\n"
     ]
    },
    {
     "data": {
      "text/plain": "testing...:   0%|          | 0/534 [00:00<?, ?it/s]",
      "application/vnd.jupyter.widget-view+json": {
       "version_major": 2,
       "version_minor": 0,
       "model_id": "6b22eb225e1a466c8e63ca9ee32090a8"
      }
     },
     "metadata": {},
     "output_type": "display_data"
    },
    {
     "name": "stdout",
     "output_type": "stream",
     "text": [
      "[Test Epoch 7] Loss: 6.816744447200932, Accuracy: 0.11569522471910113\n"
     ]
    },
    {
     "data": {
      "text/plain": "training...:   0%|          | 0/2132 [00:00<?, ?it/s]",
      "application/vnd.jupyter.widget-view+json": {
       "version_major": 2,
       "version_minor": 0,
       "model_id": "bbdb121f1776412d8a9fb7082c43815a"
      }
     },
     "metadata": {},
     "output_type": "display_data"
    },
    {
     "name": "stdout",
     "output_type": "stream",
     "text": [
      "[Train Epoch 8] Loss: 1.5565487722854006, Accuracy: 0.527938359925492\n"
     ]
    },
    {
     "data": {
      "text/plain": "testing...:   0%|          | 0/534 [00:00<?, ?it/s]",
      "application/vnd.jupyter.widget-view+json": {
       "version_major": 2,
       "version_minor": 0,
       "model_id": "b815c1535c9c449890ad98840552cc98"
      }
     },
     "metadata": {},
     "output_type": "display_data"
    },
    {
     "name": "stdout",
     "output_type": "stream",
     "text": [
      "[Test Epoch 8] Loss: 6.9661714432391335, Accuracy: 0.13775749063670412\n"
     ]
    },
    {
     "data": {
      "text/plain": "training...:   0%|          | 0/2132 [00:00<?, ?it/s]",
      "application/vnd.jupyter.widget-view+json": {
       "version_major": 2,
       "version_minor": 0,
       "model_id": "3046bb9b0248419b80db0bdc878e0a20"
      }
     },
     "metadata": {},
     "output_type": "display_data"
    },
    {
     "name": "stdout",
     "output_type": "stream",
     "text": [
      "[Train Epoch 9] Loss: 1.53049247553939, Accuracy: 0.5368042526728217\n"
     ]
    },
    {
     "data": {
      "text/plain": "testing...:   0%|          | 0/534 [00:00<?, ?it/s]",
      "application/vnd.jupyter.widget-view+json": {
       "version_major": 2,
       "version_minor": 0,
       "model_id": "e4cfaea638524e1a83a15ce2dc5bfa61"
      }
     },
     "metadata": {},
     "output_type": "display_data"
    },
    {
     "name": "stdout",
     "output_type": "stream",
     "text": [
      "[Test Epoch 9] Loss: 6.91945893934157, Accuracy: 0.14501404494382023\n"
     ]
    },
    {
     "data": {
      "text/plain": "training...:   0%|          | 0/2132 [00:00<?, ?it/s]",
      "application/vnd.jupyter.widget-view+json": {
       "version_major": 2,
       "version_minor": 0,
       "model_id": "a20df84a5b6d447b86d18205d165143e"
      }
     },
     "metadata": {},
     "output_type": "display_data"
    },
    {
     "name": "stdout",
     "output_type": "stream",
     "text": [
      "[Train Epoch 10] Loss: 1.5088589794752074, Accuracy: 0.5417956535409136\n"
     ]
    },
    {
     "data": {
      "text/plain": "testing...:   0%|          | 0/534 [00:00<?, ?it/s]",
      "application/vnd.jupyter.widget-view+json": {
       "version_major": 2,
       "version_minor": 0,
       "model_id": "d4c38172aa4b460e84fa1303816e2344"
      }
     },
     "metadata": {},
     "output_type": "display_data"
    },
    {
     "name": "stdout",
     "output_type": "stream",
     "text": [
      "[Test Epoch 10] Loss: 6.956076131777817, Accuracy: 0.12312734082397003\n"
     ]
    },
    {
     "data": {
      "text/plain": "training...:   0%|          | 0/2132 [00:00<?, ?it/s]",
      "application/vnd.jupyter.widget-view+json": {
       "version_major": 2,
       "version_minor": 0,
       "model_id": "42d6e797e6294ab39affaa49b771f3ce"
      }
     },
     "metadata": {},
     "output_type": "display_data"
    },
    {
     "name": "stdout",
     "output_type": "stream",
     "text": [
      "[Train Epoch 11] Loss: 1.4875155275523326, Accuracy: 0.5489446529192504\n"
     ]
    },
    {
     "data": {
      "text/plain": "testing...:   0%|          | 0/534 [00:00<?, ?it/s]",
      "application/vnd.jupyter.widget-view+json": {
       "version_major": 2,
       "version_minor": 0,
       "model_id": "0029ea1f2ca04fedaf8627393a3ea853"
      }
     },
     "metadata": {},
     "output_type": "display_data"
    },
    {
     "name": "stdout",
     "output_type": "stream",
     "text": [
      "[Test Epoch 11] Loss: 6.990546791741018, Accuracy: 0.12453183520599251\n"
     ]
    },
    {
     "data": {
      "text/plain": "training...:   0%|          | 0/2132 [00:00<?, ?it/s]",
      "application/vnd.jupyter.widget-view+json": {
       "version_major": 2,
       "version_minor": 0,
       "model_id": "74a744d55f32408eb02bce6b3c11a941"
      }
     },
     "metadata": {},
     "output_type": "display_data"
    },
    {
     "name": "stdout",
     "output_type": "stream",
     "text": [
      "[Train Epoch 12] Loss: 1.4824939988847075, Accuracy: 0.5502052063901697\n"
     ]
    },
    {
     "data": {
      "text/plain": "testing...:   0%|          | 0/534 [00:00<?, ?it/s]",
      "application/vnd.jupyter.widget-view+json": {
       "version_major": 2,
       "version_minor": 0,
       "model_id": "a964558a3ce74bbfb89a5f02064fa695"
      }
     },
     "metadata": {},
     "output_type": "display_data"
    },
    {
     "name": "stdout",
     "output_type": "stream",
     "text": [
      "[Test Epoch 12] Loss: 7.0236830113085915, Accuracy: 0.11949906367041198\n"
     ]
    },
    {
     "data": {
      "text/plain": "training...:   0%|          | 0/2132 [00:00<?, ?it/s]",
      "application/vnd.jupyter.widget-view+json": {
       "version_major": 2,
       "version_minor": 0,
       "model_id": "6ec92a2f4057410d9509efba96a8cc1a"
      }
     },
     "metadata": {},
     "output_type": "display_data"
    },
    {
     "name": "stdout",
     "output_type": "stream",
     "text": [
      "[Train Epoch 13] Loss: 1.4512792555632779, Accuracy: 0.5587926047660173\n"
     ]
    },
    {
     "data": {
      "text/plain": "testing...:   0%|          | 0/534 [00:00<?, ?it/s]",
      "application/vnd.jupyter.widget-view+json": {
       "version_major": 2,
       "version_minor": 0,
       "model_id": "bc815e1153a34d08b8dbc2b729ee751f"
      }
     },
     "metadata": {},
     "output_type": "display_data"
    },
    {
     "name": "stdout",
     "output_type": "stream",
     "text": [
      "[Test Epoch 13] Loss: 7.039220765288849, Accuracy: 0.11856273408239701\n"
     ]
    },
    {
     "data": {
      "text/plain": "training...:   0%|          | 0/2132 [00:00<?, ?it/s]",
      "application/vnd.jupyter.widget-view+json": {
       "version_major": 2,
       "version_minor": 0,
       "model_id": "1b23ed5dc1b84b3b9257e1f756eb0679"
      }
     },
     "metadata": {},
     "output_type": "display_data"
    },
    {
     "name": "stdout",
     "output_type": "stream",
     "text": [
      "[Train Epoch 14] Loss: 1.4397639191899916, Accuracy: 0.5617133755565361\n"
     ]
    },
    {
     "data": {
      "text/plain": "testing...:   0%|          | 0/534 [00:00<?, ?it/s]",
      "application/vnd.jupyter.widget-view+json": {
       "version_major": 2,
       "version_minor": 0,
       "model_id": "e86bc5c42e654ba29bcc7e101d7c670b"
      }
     },
     "metadata": {},
     "output_type": "display_data"
    },
    {
     "name": "stdout",
     "output_type": "stream",
     "text": [
      "[Test Epoch 14] Loss: 7.237489979811822, Accuracy: 0.11101357677902622\n"
     ]
    },
    {
     "data": {
      "text/plain": "training...:   0%|          | 0/2132 [00:00<?, ?it/s]",
      "application/vnd.jupyter.widget-view+json": {
       "version_major": 2,
       "version_minor": 0,
       "model_id": "e12238dfa3a6487daee79657f7d7d24d"
      }
     },
     "metadata": {},
     "output_type": "display_data"
    },
    {
     "name": "stdout",
     "output_type": "stream",
     "text": [
      "[Train Epoch 15] Loss: 1.4225014401477452, Accuracy: 0.5679604440340406\n"
     ]
    },
    {
     "data": {
      "text/plain": "testing...:   0%|          | 0/534 [00:00<?, ?it/s]",
      "application/vnd.jupyter.widget-view+json": {
       "version_major": 2,
       "version_minor": 0,
       "model_id": "23cabbce1726402dae9fef477b2de6ac"
      }
     },
     "metadata": {},
     "output_type": "display_data"
    },
    {
     "name": "stdout",
     "output_type": "stream",
     "text": [
      "[Test Epoch 15] Loss: 7.1255100322573375, Accuracy: 0.1237125468164794\n"
     ]
    },
    {
     "data": {
      "text/plain": "training...:   0%|          | 0/2132 [00:00<?, ?it/s]",
      "application/vnd.jupyter.widget-view+json": {
       "version_major": 2,
       "version_minor": 0,
       "model_id": "26af4d0e4b144344beb0d3e802d12950"
      }
     },
     "metadata": {},
     "output_type": "display_data"
    },
    {
     "name": "stdout",
     "output_type": "stream",
     "text": [
      "[Train Epoch 16] Loss: 1.4099246992906085, Accuracy: 0.5708890322169489\n"
     ]
    },
    {
     "data": {
      "text/plain": "testing...:   0%|          | 0/534 [00:00<?, ?it/s]",
      "application/vnd.jupyter.widget-view+json": {
       "version_major": 2,
       "version_minor": 0,
       "model_id": "dc2d13ba00f64361bb203c27b2ca450d"
      }
     },
     "metadata": {},
     "output_type": "display_data"
    },
    {
     "name": "stdout",
     "output_type": "stream",
     "text": [
      "[Test Epoch 16] Loss: 7.014002293013455, Accuracy: 0.12453183520599251\n"
     ]
    },
    {
     "data": {
      "text/plain": "training...:   0%|          | 0/2132 [00:00<?, ?it/s]",
      "application/vnd.jupyter.widget-view+json": {
       "version_major": 2,
       "version_minor": 0,
       "model_id": "e8845cf2356d4e0b933cbaf9ea39c553"
      }
     },
     "metadata": {},
     "output_type": "display_data"
    },
    {
     "name": "stdout",
     "output_type": "stream",
     "text": [
      "[Train Epoch 17] Loss: 1.3931861426995797, Accuracy: 0.5751358270924714\n"
     ]
    },
    {
     "data": {
      "text/plain": "testing...:   0%|          | 0/534 [00:00<?, ?it/s]",
      "application/vnd.jupyter.widget-view+json": {
       "version_major": 2,
       "version_minor": 0,
       "model_id": "bdd068e33e2948c2bcc9d82b65c42494"
      }
     },
     "metadata": {},
     "output_type": "display_data"
    },
    {
     "name": "stdout",
     "output_type": "stream",
     "text": [
      "[Test Epoch 17] Loss: 7.05055341202668, Accuracy: 0.12997425093632958\n"
     ]
    },
    {
     "data": {
      "text/plain": "training...:   0%|          | 0/2132 [00:00<?, ?it/s]",
      "application/vnd.jupyter.widget-view+json": {
       "version_major": 2,
       "version_minor": 0,
       "model_id": "d2762ed80abd42fd875442a3d3ec5e97"
      }
     },
     "metadata": {},
     "output_type": "display_data"
    },
    {
     "name": "stdout",
     "output_type": "stream",
     "text": [
      "[Train Epoch 18] Loss: 1.379810903158465, Accuracy: 0.579153963425817\n"
     ]
    },
    {
     "data": {
      "text/plain": "testing...:   0%|          | 0/534 [00:00<?, ?it/s]",
      "application/vnd.jupyter.widget-view+json": {
       "version_major": 2,
       "version_minor": 0,
       "model_id": "25759165f62243c1a5ac24b0b8955ba6"
      }
     },
     "metadata": {},
     "output_type": "display_data"
    },
    {
     "name": "stdout",
     "output_type": "stream",
     "text": [
      "[Test Epoch 18] Loss: 7.013806927586428, Accuracy: 0.13881086142322097\n"
     ]
    },
    {
     "data": {
      "text/plain": "training...:   0%|          | 0/2132 [00:00<?, ?it/s]",
      "application/vnd.jupyter.widget-view+json": {
       "version_major": 2,
       "version_minor": 0,
       "model_id": "cd9b0aa3ae8c4e0089bba7913392d323"
      }
     },
     "metadata": {},
     "output_type": "display_data"
    },
    {
     "name": "stdout",
     "output_type": "stream",
     "text": [
      "[Train Epoch 19] Loss: 1.3682932549245361, Accuracy: 0.583941135101202\n"
     ]
    },
    {
     "data": {
      "text/plain": "testing...:   0%|          | 0/534 [00:00<?, ?it/s]",
      "application/vnd.jupyter.widget-view+json": {
       "version_major": 2,
       "version_minor": 0,
       "model_id": "f54b4846d4464428a8dfc624dd50c6c3"
      }
     },
     "metadata": {},
     "output_type": "display_data"
    },
    {
     "name": "stdout",
     "output_type": "stream",
     "text": [
      "[Test Epoch 19] Loss: 6.97753054550971, Accuracy: 0.1346558988764045\n"
     ]
    },
    {
     "data": {
      "text/plain": "training...:   0%|          | 0/2132 [00:00<?, ?it/s]",
      "application/vnd.jupyter.widget-view+json": {
       "version_major": 2,
       "version_minor": 0,
       "model_id": "921e324ef4b54713ace0ca7e0f64e57c"
      }
     },
     "metadata": {},
     "output_type": "display_data"
    },
    {
     "name": "stdout",
     "output_type": "stream",
     "text": [
      "[Train Epoch 20] Loss: 1.3589751783611628, Accuracy: 0.5857645403488939\n"
     ]
    },
    {
     "data": {
      "text/plain": "testing...:   0%|          | 0/534 [00:00<?, ?it/s]",
      "application/vnd.jupyter.widget-view+json": {
       "version_major": 2,
       "version_minor": 0,
       "model_id": "b795dfd2fdd24bc29eabcb8d4e75ce0b"
      }
     },
     "metadata": {},
     "output_type": "display_data"
    },
    {
     "name": "stdout",
     "output_type": "stream",
     "text": [
      "[Test Epoch 20] Loss: 6.732687687605955, Accuracy: 0.12265917602996254\n",
      "\n",
      "CPU times: total: 1h 21min 47s\n",
      "Wall time: 1h 21min 31s\n"
     ]
    }
   ],
   "source": [
    "%%time\n",
    "\n",
    "n_epochs = 20\n",
    "\n",
    "for ep in range(1, n_epochs + 1):\n",
    "\n",
    "    model_clean.train()\n",
    "    epoch_losses_train = []\n",
    "    epoch_accuracies_train = []\n",
    "\n",
    "\n",
    "    for tokens, contexts, tags in tqdm(train_dataloader_clean, desc=\"training...\"):\n",
    "        optimizer_clean.zero_grad()\n",
    "\n",
    "        tokens = tokens.to(device)\n",
    "        tags = tags.to(device)\n",
    "\n",
    "        predictions = model_clean(tokens)\n",
    "\n",
    "        loss = criterion(predictions, tags)\n",
    "        accuracy = get_accuracy(predictions, tags)\n",
    "\n",
    "        loss.backward()\n",
    "        optimizer_clean.step()\n",
    "\n",
    "        epoch_losses_train.append(loss.item())\n",
    "        epoch_accuracies_train.append(accuracy.item())\n",
    "\n",
    "    print(f'[Train Epoch {ep}] Loss: {np.mean(epoch_losses_train)}, Accuracy: {np.mean(epoch_accuracies_train)}')\n",
    "\n",
    "\n",
    "    model_clean.eval()\n",
    "    epoch_losses_test = []\n",
    "    epoch_accuracies_test = []\n",
    "\n",
    "    with torch.no_grad():\n",
    "        for tokens, contexts, tags in tqdm(test_dataloader_clean, desc=\"testing...\"):\n",
    "            optimizer_clean.zero_grad()\n",
    "\n",
    "            tokens = tokens.to(device)\n",
    "            tags = tags.to(device)\n",
    "\n",
    "            predictions = model_clean(tokens)\n",
    "\n",
    "            loss = criterion(predictions, tags)\n",
    "            accuracy = get_accuracy(predictions, tags)\n",
    "\n",
    "            epoch_losses_test.append(loss.item())\n",
    "            epoch_accuracies_test.append(accuracy.item())\n",
    "\n",
    "        print(f'[Test Epoch {ep}] Loss: {np.mean(epoch_losses_test)}, Accuracy: {np.mean(epoch_accuracies_test)}\\n')"
   ],
   "metadata": {
    "collapsed": false,
    "ExecuteTime": {
     "end_time": "2024-04-17T02:07:02.660968Z",
     "start_time": "2024-04-17T00:45:30.672460Z"
    }
   },
   "id": "e0f25783a736c254",
   "execution_count": 326
  },
  {
   "cell_type": "markdown",
   "source": [
    "train and test `train_dataloader_clean_corrected`"
   ],
   "metadata": {
    "collapsed": false
   },
   "id": "c6e859d1e38bd144"
  },
  {
   "cell_type": "code",
   "outputs": [],
   "source": [
    "# train_dataloader_clean_corrected\n",
    "# test_dataloader_clean_corrected\n",
    "\n",
    "model_clean_corrected = ToneTagsLSTM(\n",
    "    vocab_size=vocab_size,\n",
    "    embedding=embedding,\n",
    "    hidden_dim=hidden_dim,\n",
    "    output_size=output_size,\n",
    "    num_layers=num_layers,\n",
    "    dropout=dropout\n",
    ").to(device)\n",
    "\n",
    "optimizer_clean_corrected = optim.Adam(model_clean_corrected.parameters(), lr=lr)"
   ],
   "metadata": {
    "collapsed": false,
    "ExecuteTime": {
     "end_time": "2024-04-17T02:07:02.672151Z",
     "start_time": "2024-04-17T02:07:02.661971Z"
    }
   },
   "id": "35f69b80f23dd843",
   "execution_count": 327
  },
  {
   "cell_type": "code",
   "outputs": [
    {
     "data": {
      "text/plain": "training...:   0%|          | 0/2128 [00:00<?, ?it/s]",
      "application/vnd.jupyter.widget-view+json": {
       "version_major": 2,
       "version_minor": 0,
       "model_id": "20ff52866b8248449bfa1da072b9e2bb"
      }
     },
     "metadata": {},
     "output_type": "display_data"
    },
    {
     "name": "stdout",
     "output_type": "stream",
     "text": [
      "[Train Epoch 1] Loss: 2.275204872614459, Accuracy: 0.26903195488721804\n"
     ]
    },
    {
     "data": {
      "text/plain": "testing...:   0%|          | 0/532 [00:00<?, ?it/s]",
      "application/vnd.jupyter.widget-view+json": {
       "version_major": 2,
       "version_minor": 0,
       "model_id": "301e371e48e543808c8e7b8dcf751f9e"
      }
     },
     "metadata": {},
     "output_type": "display_data"
    },
    {
     "name": "stdout",
     "output_type": "stream",
     "text": [
      "[Test Epoch 1] Loss: 6.545017553451366, Accuracy: 0.04387922932330827\n"
     ]
    },
    {
     "data": {
      "text/plain": "training...:   0%|          | 0/2128 [00:00<?, ?it/s]",
      "application/vnd.jupyter.widget-view+json": {
       "version_major": 2,
       "version_minor": 0,
       "model_id": "e8ebb09cfe42435fbb770e3a43b840c4"
      }
     },
     "metadata": {},
     "output_type": "display_data"
    },
    {
     "name": "stdout",
     "output_type": "stream",
     "text": [
      "[Train Epoch 2] Loss: 2.098785322299577, Accuracy: 0.33774377349624063\n"
     ]
    },
    {
     "data": {
      "text/plain": "testing...:   0%|          | 0/532 [00:00<?, ?it/s]",
      "application/vnd.jupyter.widget-view+json": {
       "version_major": 2,
       "version_minor": 0,
       "model_id": "15b52a1abfc54a9dba5e38011d10e237"
      }
     },
     "metadata": {},
     "output_type": "display_data"
    },
    {
     "name": "stdout",
     "output_type": "stream",
     "text": [
      "[Test Epoch 2] Loss: 6.355222253871143, Accuracy: 0.06314614661654136\n"
     ]
    },
    {
     "data": {
      "text/plain": "training...:   0%|          | 0/2128 [00:00<?, ?it/s]",
      "application/vnd.jupyter.widget-view+json": {
       "version_major": 2,
       "version_minor": 0,
       "model_id": "1379643b7ded462180939ef19e770cda"
      }
     },
     "metadata": {},
     "output_type": "display_data"
    },
    {
     "name": "stdout",
     "output_type": "stream",
     "text": [
      "[Train Epoch 3] Loss: 1.9677480381486334, Accuracy: 0.3924165883458647\n"
     ]
    },
    {
     "data": {
      "text/plain": "testing...:   0%|          | 0/532 [00:00<?, ?it/s]",
      "application/vnd.jupyter.widget-view+json": {
       "version_major": 2,
       "version_minor": 0,
       "model_id": "a5463305046543519d5a9486cea3a91c"
      }
     },
     "metadata": {},
     "output_type": "display_data"
    },
    {
     "name": "stdout",
     "output_type": "stream",
     "text": [
      "[Test Epoch 3] Loss: 6.447038882657101, Accuracy: 0.09528508772583384\n"
     ]
    },
    {
     "data": {
      "text/plain": "training...:   0%|          | 0/2128 [00:00<?, ?it/s]",
      "application/vnd.jupyter.widget-view+json": {
       "version_major": 2,
       "version_minor": 0,
       "model_id": "210dbb9dfdcb4ec59b6410a23d1891af"
      }
     },
     "metadata": {},
     "output_type": "display_data"
    },
    {
     "name": "stdout",
     "output_type": "stream",
     "text": [
      "[Train Epoch 4] Loss: 1.8743875746972354, Accuracy: 0.4291735197368421\n"
     ]
    },
    {
     "data": {
      "text/plain": "testing...:   0%|          | 0/532 [00:00<?, ?it/s]",
      "application/vnd.jupyter.widget-view+json": {
       "version_major": 2,
       "version_minor": 0,
       "model_id": "512cd40f28704efc88d00a5efb366844"
      }
     },
     "metadata": {},
     "output_type": "display_data"
    },
    {
     "name": "stdout",
     "output_type": "stream",
     "text": [
      "[Test Epoch 4] Loss: 6.360899602560172, Accuracy: 0.14257910402309626\n"
     ]
    },
    {
     "data": {
      "text/plain": "training...:   0%|          | 0/2128 [00:00<?, ?it/s]",
      "application/vnd.jupyter.widget-view+json": {
       "version_major": 2,
       "version_minor": 0,
       "model_id": "6cc8651fd6e04e7e9e7e269f0ef4dec3"
      }
     },
     "metadata": {},
     "output_type": "display_data"
    },
    {
     "name": "stdout",
     "output_type": "stream",
     "text": [
      "[Train Epoch 5] Loss: 1.7679126655921005, Accuracy: 0.471187734962406\n"
     ]
    },
    {
     "data": {
      "text/plain": "testing...:   0%|          | 0/532 [00:00<?, ?it/s]",
      "application/vnd.jupyter.widget-view+json": {
       "version_major": 2,
       "version_minor": 0,
       "model_id": "b539f0e945de486e9428783803f12be8"
      }
     },
     "metadata": {},
     "output_type": "display_data"
    },
    {
     "name": "stdout",
     "output_type": "stream",
     "text": [
      "[Test Epoch 5] Loss: 6.377052185230685, Accuracy: 0.11854244987795451\n"
     ]
    },
    {
     "data": {
      "text/plain": "training...:   0%|          | 0/2128 [00:00<?, ?it/s]",
      "application/vnd.jupyter.widget-view+json": {
       "version_major": 2,
       "version_minor": 0,
       "model_id": "fa45974f00cf45d6a953f6cda331c75c"
      }
     },
     "metadata": {},
     "output_type": "display_data"
    },
    {
     "name": "stdout",
     "output_type": "stream",
     "text": [
      "[Train Epoch 6] Loss: 1.6966345108261234, Accuracy: 0.49161477913533835\n"
     ]
    },
    {
     "data": {
      "text/plain": "testing...:   0%|          | 0/532 [00:00<?, ?it/s]",
      "application/vnd.jupyter.widget-view+json": {
       "version_major": 2,
       "version_minor": 0,
       "model_id": "7bce5d58f5ba4e4ab20db8c84db94c35"
      }
     },
     "metadata": {},
     "output_type": "display_data"
    },
    {
     "name": "stdout",
     "output_type": "stream",
     "text": [
      "[Test Epoch 6] Loss: 6.868366763107758, Accuracy: 0.11202615915440527\n"
     ]
    },
    {
     "data": {
      "text/plain": "training...:   0%|          | 0/2128 [00:00<?, ?it/s]",
      "application/vnd.jupyter.widget-view+json": {
       "version_major": 2,
       "version_minor": 0,
       "model_id": "43bdc07aba8e435ea48d1475e18abbeb"
      }
     },
     "metadata": {},
     "output_type": "display_data"
    },
    {
     "name": "stdout",
     "output_type": "stream",
     "text": [
      "[Train Epoch 7] Loss: 1.6403488671841253, Accuracy: 0.5050810620300752\n"
     ]
    },
    {
     "data": {
      "text/plain": "testing...:   0%|          | 0/532 [00:00<?, ?it/s]",
      "application/vnd.jupyter.widget-view+json": {
       "version_major": 2,
       "version_minor": 0,
       "model_id": "5b6348d505c84c3fba49cd7daa9fb727"
      }
     },
     "metadata": {},
     "output_type": "display_data"
    },
    {
     "name": "stdout",
     "output_type": "stream",
     "text": [
      "[Test Epoch 7] Loss: 6.874265659124331, Accuracy: 0.1258497807316314\n"
     ]
    },
    {
     "data": {
      "text/plain": "training...:   0%|          | 0/2128 [00:00<?, ?it/s]",
      "application/vnd.jupyter.widget-view+json": {
       "version_major": 2,
       "version_minor": 0,
       "model_id": "70fcab33731c4400b6a35e83893cf72c"
      }
     },
     "metadata": {},
     "output_type": "display_data"
    },
    {
     "name": "stdout",
     "output_type": "stream",
     "text": [
      "[Train Epoch 8] Loss: 1.5989356216015225, Accuracy: 0.516359257518797\n"
     ]
    },
    {
     "data": {
      "text/plain": "testing...:   0%|          | 0/532 [00:00<?, ?it/s]",
      "application/vnd.jupyter.widget-view+json": {
       "version_major": 2,
       "version_minor": 0,
       "model_id": "2bae57a577934324845ce10b5e3e0520"
      }
     },
     "metadata": {},
     "output_type": "display_data"
    },
    {
     "name": "stdout",
     "output_type": "stream",
     "text": [
      "[Test Epoch 8] Loss: 6.801830726458614, Accuracy: 0.10857221178878519\n"
     ]
    },
    {
     "data": {
      "text/plain": "training...:   0%|          | 0/2128 [00:00<?, ?it/s]",
      "application/vnd.jupyter.widget-view+json": {
       "version_major": 2,
       "version_minor": 0,
       "model_id": "267c0a651bf9489290c39a69ee83238a"
      }
     },
     "metadata": {},
     "output_type": "display_data"
    },
    {
     "name": "stdout",
     "output_type": "stream",
     "text": [
      "[Train Epoch 9] Loss: 1.5644743985083318, Accuracy: 0.5254640507518797\n"
     ]
    },
    {
     "data": {
      "text/plain": "testing...:   0%|          | 0/532 [00:00<?, ?it/s]",
      "application/vnd.jupyter.widget-view+json": {
       "version_major": 2,
       "version_minor": 0,
       "model_id": "a11bfdae788747e7868c09baba7f111b"
      }
     },
     "metadata": {},
     "output_type": "display_data"
    },
    {
     "name": "stdout",
     "output_type": "stream",
     "text": [
      "[Test Epoch 9] Loss: 6.7187232684372065, Accuracy: 0.11644345239028894\n"
     ]
    },
    {
     "data": {
      "text/plain": "training...:   0%|          | 0/2128 [00:00<?, ?it/s]",
      "application/vnd.jupyter.widget-view+json": {
       "version_major": 2,
       "version_minor": 0,
       "model_id": "29f53a3f7d074cb892ee8e87018ef350"
      }
     },
     "metadata": {},
     "output_type": "display_data"
    },
    {
     "name": "stdout",
     "output_type": "stream",
     "text": [
      "[Train Epoch 10] Loss: 1.536321195507688, Accuracy: 0.534421992481203\n"
     ]
    },
    {
     "data": {
      "text/plain": "testing...:   0%|          | 0/532 [00:00<?, ?it/s]",
      "application/vnd.jupyter.widget-view+json": {
       "version_major": 2,
       "version_minor": 0,
       "model_id": "54be0c9ccd74454fab4955c4cb9228b2"
      }
     },
     "metadata": {},
     "output_type": "display_data"
    },
    {
     "name": "stdout",
     "output_type": "stream",
     "text": [
      "[Test Epoch 10] Loss: 6.855708142868559, Accuracy: 0.13018875314216866\n"
     ]
    },
    {
     "data": {
      "text/plain": "training...:   0%|          | 0/2128 [00:00<?, ?it/s]",
      "application/vnd.jupyter.widget-view+json": {
       "version_major": 2,
       "version_minor": 0,
       "model_id": "f0398073cb8147258c916fbbf4a0b9b1"
      }
     },
     "metadata": {},
     "output_type": "display_data"
    },
    {
     "name": "stdout",
     "output_type": "stream",
     "text": [
      "[Train Epoch 11] Loss: 1.5163253140460728, Accuracy: 0.5406191259398496\n"
     ]
    },
    {
     "data": {
      "text/plain": "testing...:   0%|          | 0/532 [00:00<?, ?it/s]",
      "application/vnd.jupyter.widget-view+json": {
       "version_major": 2,
       "version_minor": 0,
       "model_id": "1958adce5adc4608a88d31a6c3624c3b"
      }
     },
     "metadata": {},
     "output_type": "display_data"
    },
    {
     "name": "stdout",
     "output_type": "stream",
     "text": [
      "[Test Epoch 11] Loss: 7.0794996345849865, Accuracy: 0.12289708648297124\n"
     ]
    },
    {
     "data": {
      "text/plain": "training...:   0%|          | 0/2128 [00:00<?, ?it/s]",
      "application/vnd.jupyter.widget-view+json": {
       "version_major": 2,
       "version_minor": 0,
       "model_id": "c7ed3a9b0ffc4d0e9ff6376dcbe9c3e1"
      }
     },
     "metadata": {},
     "output_type": "display_data"
    },
    {
     "name": "stdout",
     "output_type": "stream",
     "text": [
      "[Train Epoch 12] Loss: 1.4961105667446788, Accuracy: 0.5452890037593985\n"
     ]
    },
    {
     "data": {
      "text/plain": "testing...:   0%|          | 0/532 [00:00<?, ?it/s]",
      "application/vnd.jupyter.widget-view+json": {
       "version_major": 2,
       "version_minor": 0,
       "model_id": "7a54892ac6674743a15dfaae6c79de42"
      }
     },
     "metadata": {},
     "output_type": "display_data"
    },
    {
     "name": "stdout",
     "output_type": "stream",
     "text": [
      "[Test Epoch 12] Loss: 7.186793034238026, Accuracy: 0.13999843359329647\n"
     ]
    },
    {
     "data": {
      "text/plain": "training...:   0%|          | 0/2128 [00:00<?, ?it/s]",
      "application/vnd.jupyter.widget-view+json": {
       "version_major": 2,
       "version_minor": 0,
       "model_id": "4128c4067f804f528ba46232dce6cfc0"
      }
     },
     "metadata": {},
     "output_type": "display_data"
    },
    {
     "name": "stdout",
     "output_type": "stream",
     "text": [
      "[Train Epoch 13] Loss: 1.474646195097077, Accuracy: 0.5516036184210527\n"
     ]
    },
    {
     "data": {
      "text/plain": "testing...:   0%|          | 0/532 [00:00<?, ?it/s]",
      "application/vnd.jupyter.widget-view+json": {
       "version_major": 2,
       "version_minor": 0,
       "model_id": "c77768f373464ff9b4036d8130f6dd37"
      }
     },
     "metadata": {},
     "output_type": "display_data"
    },
    {
     "name": "stdout",
     "output_type": "stream",
     "text": [
      "[Test Epoch 13] Loss: 6.506217432201357, Accuracy: 0.1143718671711876\n"
     ]
    },
    {
     "data": {
      "text/plain": "training...:   0%|          | 0/2128 [00:00<?, ?it/s]",
      "application/vnd.jupyter.widget-view+json": {
       "version_major": 2,
       "version_minor": 0,
       "model_id": "4f4948a513d7403fb4b67ae6c9b1e4fd"
      }
     },
     "metadata": {},
     "output_type": "display_data"
    },
    {
     "name": "stdout",
     "output_type": "stream",
     "text": [
      "[Train Epoch 14] Loss: 1.4668213883064742, Accuracy: 0.5568315319548872\n"
     ]
    },
    {
     "data": {
      "text/plain": "testing...:   0%|          | 0/532 [00:00<?, ?it/s]",
      "application/vnd.jupyter.widget-view+json": {
       "version_major": 2,
       "version_minor": 0,
       "model_id": "c72ef343015f45a68a96e6c71fe7a640"
      }
     },
     "metadata": {},
     "output_type": "display_data"
    },
    {
     "name": "stdout",
     "output_type": "stream",
     "text": [
      "[Test Epoch 14] Loss: 6.781559067561214, Accuracy: 0.12473370930305998\n"
     ]
    },
    {
     "data": {
      "text/plain": "training...:   0%|          | 0/2128 [00:00<?, ?it/s]",
      "application/vnd.jupyter.widget-view+json": {
       "version_major": 2,
       "version_minor": 0,
       "model_id": "e90f9b6db3d8457aa65b3e37c2cd526d"
      }
     },
     "metadata": {},
     "output_type": "display_data"
    },
    {
     "name": "stdout",
     "output_type": "stream",
     "text": [
      "[Train Epoch 15] Loss: 1.4397065966649163, Accuracy: 0.5639978853383458\n"
     ]
    },
    {
     "data": {
      "text/plain": "testing...:   0%|          | 0/532 [00:00<?, ?it/s]",
      "application/vnd.jupyter.widget-view+json": {
       "version_major": 2,
       "version_minor": 0,
       "model_id": "17734f88ab7a4c2eace565a464ba3932"
      }
     },
     "metadata": {},
     "output_type": "display_data"
    },
    {
     "name": "stdout",
     "output_type": "stream",
     "text": [
      "[Test Epoch 15] Loss: 6.7911185178541595, Accuracy: 0.1337758458982733\n"
     ]
    },
    {
     "data": {
      "text/plain": "training...:   0%|          | 0/2128 [00:00<?, ?it/s]",
      "application/vnd.jupyter.widget-view+json": {
       "version_major": 2,
       "version_minor": 0,
       "model_id": "8921871a6bc7498b86f76fb63d6bdcb8"
      }
     },
     "metadata": {},
     "output_type": "display_data"
    },
    {
     "name": "stdout",
     "output_type": "stream",
     "text": [
      "[Train Epoch 16] Loss: 1.4267115220987707, Accuracy: 0.568359375\n"
     ]
    },
    {
     "data": {
      "text/plain": "testing...:   0%|          | 0/532 [00:00<?, ?it/s]",
      "application/vnd.jupyter.widget-view+json": {
       "version_major": 2,
       "version_minor": 0,
       "model_id": "d4b988247dbf4fe398219d07aad20eb7"
      }
     },
     "metadata": {},
     "output_type": "display_data"
    },
    {
     "name": "stdout",
     "output_type": "stream",
     "text": [
      "[Test Epoch 16] Loss: 6.973604271286412, Accuracy: 0.13335682958700604\n"
     ]
    },
    {
     "data": {
      "text/plain": "training...:   0%|          | 0/2128 [00:00<?, ?it/s]",
      "application/vnd.jupyter.widget-view+json": {
       "version_major": 2,
       "version_minor": 0,
       "model_id": "6f28a5a9e0724a609a35454442bf16c2"
      }
     },
     "metadata": {},
     "output_type": "display_data"
    },
    {
     "name": "stdout",
     "output_type": "stream",
     "text": [
      "[Train Epoch 17] Loss: 1.4119728872818607, Accuracy: 0.5712670347744361\n"
     ]
    },
    {
     "data": {
      "text/plain": "testing...:   0%|          | 0/532 [00:00<?, ?it/s]",
      "application/vnd.jupyter.widget-view+json": {
       "version_major": 2,
       "version_minor": 0,
       "model_id": "3694e5ba1023412bb100d808e16e376e"
      }
     },
     "metadata": {},
     "output_type": "display_data"
    },
    {
     "name": "stdout",
     "output_type": "stream",
     "text": [
      "[Test Epoch 17] Loss: 6.748978704438174, Accuracy: 0.12936638472111603\n"
     ]
    },
    {
     "data": {
      "text/plain": "training...:   0%|          | 0/2128 [00:00<?, ?it/s]",
      "application/vnd.jupyter.widget-view+json": {
       "version_major": 2,
       "version_minor": 0,
       "model_id": "e25d702df8aa4a0882ac483a03e51200"
      }
     },
     "metadata": {},
     "output_type": "display_data"
    },
    {
     "name": "stdout",
     "output_type": "stream",
     "text": [
      "[Train Epoch 18] Loss: 1.3947443830661643, Accuracy: 0.5767299107142857\n"
     ]
    },
    {
     "data": {
      "text/plain": "testing...:   0%|          | 0/532 [00:00<?, ?it/s]",
      "application/vnd.jupyter.widget-view+json": {
       "version_major": 2,
       "version_minor": 0,
       "model_id": "d4be1c1e71114d348028d197f74baae2"
      }
     },
     "metadata": {},
     "output_type": "display_data"
    },
    {
     "name": "stdout",
     "output_type": "stream",
     "text": [
      "[Test Epoch 18] Loss: 7.03416201136166, Accuracy: 0.11896538221858498\n"
     ]
    },
    {
     "data": {
      "text/plain": "training...:   0%|          | 0/2128 [00:00<?, ?it/s]",
      "application/vnd.jupyter.widget-view+json": {
       "version_major": 2,
       "version_minor": 0,
       "model_id": "437ba0d2c5b64c8e8c28fa24fdc70dcb"
      }
     },
     "metadata": {},
     "output_type": "display_data"
    },
    {
     "name": "stdout",
     "output_type": "stream",
     "text": [
      "[Train Epoch 19] Loss: 1.38211640744309, Accuracy: 0.5796082001879699\n"
     ]
    },
    {
     "data": {
      "text/plain": "testing...:   0%|          | 0/532 [00:00<?, ?it/s]",
      "application/vnd.jupyter.widget-view+json": {
       "version_major": 2,
       "version_minor": 0,
       "model_id": "243793805c034152ba6ebdeb784272dd"
      }
     },
     "metadata": {},
     "output_type": "display_data"
    },
    {
     "name": "stdout",
     "output_type": "stream",
     "text": [
      "[Test Epoch 19] Loss: 7.0642170314502, Accuracy: 0.13270285088372857\n"
     ]
    },
    {
     "data": {
      "text/plain": "training...:   0%|          | 0/2128 [00:00<?, ?it/s]",
      "application/vnd.jupyter.widget-view+json": {
       "version_major": 2,
       "version_minor": 0,
       "model_id": "5de00a656b4a484c8e0db796ba3337f3"
      }
     },
     "metadata": {},
     "output_type": "display_data"
    },
    {
     "name": "stdout",
     "output_type": "stream",
     "text": [
      "[Train Epoch 20] Loss: 1.3681867054892929, Accuracy: 0.5844249295112782\n"
     ]
    },
    {
     "data": {
      "text/plain": "testing...:   0%|          | 0/532 [00:00<?, ?it/s]",
      "application/vnd.jupyter.widget-view+json": {
       "version_major": 2,
       "version_minor": 0,
       "model_id": "8c28402c7ac14f7996764b04d3ad9a95"
      }
     },
     "metadata": {},
     "output_type": "display_data"
    },
    {
     "name": "stdout",
     "output_type": "stream",
     "text": [
      "[Test Epoch 20] Loss: 7.046278788631124, Accuracy: 0.1322564223319068\n",
      "\n",
      "CPU times: total: 1h 20min 58s\n",
      "Wall time: 1h 20min 47s\n"
     ]
    }
   ],
   "source": [
    "%%time\n",
    "\n",
    "n_epochs = 20\n",
    "\n",
    "for ep in range(1, n_epochs + 1):\n",
    "\n",
    "    model_clean_corrected.train()\n",
    "    epoch_losses_train = []\n",
    "    epoch_accuracies_train = []\n",
    "\n",
    "\n",
    "    for tokens, contexts, tags in tqdm(train_dataloader_clean_corrected, desc=\"training...\"):\n",
    "        optimizer_clean_corrected.zero_grad()\n",
    "\n",
    "        tokens = tokens.to(device)\n",
    "        tags = tags.to(device)\n",
    "\n",
    "        predictions = model_clean_corrected(tokens)\n",
    "\n",
    "        loss = criterion(predictions, tags)\n",
    "        accuracy = get_accuracy(predictions, tags)\n",
    "\n",
    "        loss.backward()\n",
    "        optimizer_clean_corrected.step()\n",
    "\n",
    "        epoch_losses_train.append(loss.item())\n",
    "        epoch_accuracies_train.append(accuracy.item())\n",
    "\n",
    "    print(f'[Train Epoch {ep}] Loss: {np.mean(epoch_losses_train)}, Accuracy: {np.mean(epoch_accuracies_train)}')\n",
    "\n",
    "\n",
    "    model_clean_corrected.eval()\n",
    "    epoch_losses_test = []\n",
    "    epoch_accuracies_test = []\n",
    "\n",
    "    with torch.no_grad():\n",
    "        for tokens, contexts, tags in tqdm(test_dataloader_clean_corrected, desc=\"testing...\"):\n",
    "            optimizer_clean.zero_grad()\n",
    "\n",
    "            tokens = tokens.to(device)\n",
    "            tags = tags.to(device)\n",
    "\n",
    "            predictions = model_clean_corrected(tokens)\n",
    "\n",
    "            loss = criterion(predictions, tags)\n",
    "            accuracy = get_accuracy(predictions, tags)\n",
    "\n",
    "            epoch_losses_test.append(loss.item())\n",
    "            epoch_accuracies_test.append(accuracy.item())\n",
    "\n",
    "        print(f'[Test Epoch {ep}] Loss: {np.mean(epoch_losses_test)}, Accuracy: {np.mean(epoch_accuracies_test)}\\n')"
   ],
   "metadata": {
    "collapsed": false,
    "ExecuteTime": {
     "end_time": "2024-04-17T03:27:49.769287Z",
     "start_time": "2024-04-17T02:07:02.674150Z"
    }
   },
   "id": "d83377e75c15465",
   "execution_count": 328
  },
  {
   "cell_type": "markdown",
   "source": [
    "train and test `train_dataloader_wsd_2`"
   ],
   "metadata": {
    "collapsed": false
   },
   "id": "14bf0905b8ebeb61"
  },
  {
   "cell_type": "code",
   "outputs": [],
   "source": [
    "# train_dataloader_wsd_2\n",
    "# test_dataloader_wsd_2\n",
    "\n",
    "vocab_size = len(vocab) # 4000002\n",
    "embedding = nn.Embedding.from_pretrained(embedding_tensor, freeze=True)\n",
    "hidden_dim = 30 # 30\n",
    "context_dim = 50 # 50\n",
    "output_size = len(labels) # 19\n",
    "num_layers = 4\n",
    "dropout = 0.2\n",
    "device = torch.device(\"cuda\" if torch.cuda.is_available() else \"cpu\")\n",
    "lr = 5e-4\n",
    "\n",
    "criterion = nn.CrossEntropyLoss()"
   ],
   "metadata": {
    "collapsed": false,
    "ExecuteTime": {
     "end_time": "2024-04-17T03:27:49.775654Z",
     "start_time": "2024-04-17T03:27:49.770279Z"
    }
   },
   "id": "f0df28ad4db73e4f",
   "execution_count": 329
  },
  {
   "cell_type": "code",
   "outputs": [],
   "source": [
    "class ToneTagsLSTM_wsd_2(nn.Module):\n",
    "    def __init__(self, vocab_size, embedding, hidden_dim, context_dim, output_size, num_layers, dropout):\n",
    "        super(ToneTagsLSTM_wsd_2, self).__init__()\n",
    "        # vocab_size = 400002\n",
    "        # embedding_dim = 50\n",
    "        # hidden_dim_lstm = 30\n",
    "        # fc1 = 30 + 50 - 60\n",
    "        # fc2 = 60 - 30\n",
    "        # fc3 = 30 - 19\n",
    "        # output_size = 19\n",
    "\n",
    "        self.embedding = embedding\n",
    "\n",
    "        self.lstm = nn.LSTM(self.embedding.embedding_dim, hidden_dim, num_layers=num_layers, bidirectional=True, dropout=dropout, batch_first=True)\n",
    "\n",
    "        self.fc1 = nn.Linear(hidden_dim + context_dim, 60)\n",
    "        self.fc2 = nn.Linear(60, 30)\n",
    "        self.fc3 = nn.Linear(30, output_size)\n",
    "        # self.out = nn.Softmax(output_size, dim=1)\n",
    "\n",
    "\n",
    "    def forward(self, tokens, contexts):\n",
    "\n",
    "        embedded = self.embedding(tokens)\n",
    "        output, (hidden, cell) = self.lstm(embedded)\n",
    "\n",
    "        lstm_out = torch.cat((hidden[-1], contexts), dim=1)\n",
    "\n",
    "        fc1_out = self.fc1(lstm_out)\n",
    "\n",
    "\n",
    "        fc2_out = self.fc2(fc1_out)\n",
    "        out = self.fc3(fc2_out)\n",
    "        # out = self.out(fc3_out)\n",
    "\n",
    "        return out"
   ],
   "metadata": {
    "collapsed": false,
    "ExecuteTime": {
     "end_time": "2024-04-17T03:27:49.784986Z",
     "start_time": "2024-04-17T03:27:49.777653Z"
    }
   },
   "id": "e686c792d6480866",
   "execution_count": 330
  },
  {
   "cell_type": "code",
   "outputs": [],
   "source": [
    "# train_dataloader_wsd_2\n",
    "# test_dataloader_wsd_2\n",
    "\n",
    "model_wsd_2 = ToneTagsLSTM_wsd_2(\n",
    "    vocab_size=vocab_size,\n",
    "    embedding=embedding,\n",
    "    hidden_dim=hidden_dim,\n",
    "    context_dim=context_dim,\n",
    "    output_size=output_size,\n",
    "    num_layers=num_layers,\n",
    "    dropout=dropout\n",
    ").to(device)\n",
    "\n",
    "optimizer_wsd_2 = optim.Adam(model_wsd_2.parameters(), lr=lr)"
   ],
   "metadata": {
    "collapsed": false,
    "ExecuteTime": {
     "end_time": "2024-04-17T03:27:49.820503Z",
     "start_time": "2024-04-17T03:27:49.786984Z"
    }
   },
   "id": "3ed0471ff0ed1dba",
   "execution_count": 331
  },
  {
   "cell_type": "code",
   "outputs": [
    {
     "data": {
      "text/plain": "training...:   0%|          | 0/2132 [00:00<?, ?it/s]",
      "application/vnd.jupyter.widget-view+json": {
       "version_major": 2,
       "version_minor": 0,
       "model_id": "175e60a0bbe047a3b935db6816c199da"
      }
     },
     "metadata": {},
     "output_type": "display_data"
    },
    {
     "ename": "ValueError",
     "evalue": "expected sequence of length 50 at dim 1 (got 0)",
     "output_type": "error",
     "traceback": [
      "\u001B[1;31m---------------------------------------------------------------------------\u001B[0m",
      "\u001B[1;31mValueError\u001B[0m                                Traceback (most recent call last)",
      "File \u001B[1;32m<timed exec>:10\u001B[0m\n",
      "File \u001B[1;32mE:\\_Inno\\AdditionalReps\\advanced-machine-learning-project-iu-2024\\venv\\Lib\\site-packages\\tqdm\\notebook.py:250\u001B[0m, in \u001B[0;36mtqdm_notebook.__iter__\u001B[1;34m(self)\u001B[0m\n\u001B[0;32m    248\u001B[0m \u001B[38;5;28;01mtry\u001B[39;00m:\n\u001B[0;32m    249\u001B[0m     it \u001B[38;5;241m=\u001B[39m \u001B[38;5;28msuper\u001B[39m(tqdm_notebook, \u001B[38;5;28mself\u001B[39m)\u001B[38;5;241m.\u001B[39m\u001B[38;5;21m__iter__\u001B[39m()\n\u001B[1;32m--> 250\u001B[0m \u001B[43m    \u001B[49m\u001B[38;5;28;43;01mfor\u001B[39;49;00m\u001B[43m \u001B[49m\u001B[43mobj\u001B[49m\u001B[43m \u001B[49m\u001B[38;5;129;43;01min\u001B[39;49;00m\u001B[43m \u001B[49m\u001B[43mit\u001B[49m\u001B[43m:\u001B[49m\n\u001B[0;32m    251\u001B[0m \u001B[43m        \u001B[49m\u001B[38;5;66;43;03m# return super(tqdm...) will not catch exception\u001B[39;49;00m\n\u001B[0;32m    252\u001B[0m \u001B[43m        \u001B[49m\u001B[38;5;28;43;01myield\u001B[39;49;00m\u001B[43m \u001B[49m\u001B[43mobj\u001B[49m\n\u001B[0;32m    253\u001B[0m \u001B[38;5;66;03m# NB: except ... [ as ...] breaks IPython async KeyboardInterrupt\u001B[39;00m\n",
      "File \u001B[1;32mE:\\_Inno\\AdditionalReps\\advanced-machine-learning-project-iu-2024\\venv\\Lib\\site-packages\\tqdm\\std.py:1181\u001B[0m, in \u001B[0;36mtqdm.__iter__\u001B[1;34m(self)\u001B[0m\n\u001B[0;32m   1178\u001B[0m time \u001B[38;5;241m=\u001B[39m \u001B[38;5;28mself\u001B[39m\u001B[38;5;241m.\u001B[39m_time\n\u001B[0;32m   1180\u001B[0m \u001B[38;5;28;01mtry\u001B[39;00m:\n\u001B[1;32m-> 1181\u001B[0m \u001B[43m    \u001B[49m\u001B[38;5;28;43;01mfor\u001B[39;49;00m\u001B[43m \u001B[49m\u001B[43mobj\u001B[49m\u001B[43m \u001B[49m\u001B[38;5;129;43;01min\u001B[39;49;00m\u001B[43m \u001B[49m\u001B[43miterable\u001B[49m\u001B[43m:\u001B[49m\n\u001B[0;32m   1182\u001B[0m \u001B[43m        \u001B[49m\u001B[38;5;28;43;01myield\u001B[39;49;00m\u001B[43m \u001B[49m\u001B[43mobj\u001B[49m\n\u001B[0;32m   1183\u001B[0m \u001B[43m        \u001B[49m\u001B[38;5;66;43;03m# Update and possibly print the progressbar.\u001B[39;49;00m\n\u001B[0;32m   1184\u001B[0m \u001B[43m        \u001B[49m\u001B[38;5;66;43;03m# Note: does not call self.update(1) for speed optimisation.\u001B[39;49;00m\n",
      "File \u001B[1;32mE:\\_Inno\\AdditionalReps\\advanced-machine-learning-project-iu-2024\\venv\\Lib\\site-packages\\torch\\utils\\data\\dataloader.py:631\u001B[0m, in \u001B[0;36m_BaseDataLoaderIter.__next__\u001B[1;34m(self)\u001B[0m\n\u001B[0;32m    628\u001B[0m \u001B[38;5;28;01mif\u001B[39;00m \u001B[38;5;28mself\u001B[39m\u001B[38;5;241m.\u001B[39m_sampler_iter \u001B[38;5;129;01mis\u001B[39;00m \u001B[38;5;28;01mNone\u001B[39;00m:\n\u001B[0;32m    629\u001B[0m     \u001B[38;5;66;03m# TODO(https://github.com/pytorch/pytorch/issues/76750)\u001B[39;00m\n\u001B[0;32m    630\u001B[0m     \u001B[38;5;28mself\u001B[39m\u001B[38;5;241m.\u001B[39m_reset()  \u001B[38;5;66;03m# type: ignore[call-arg]\u001B[39;00m\n\u001B[1;32m--> 631\u001B[0m data \u001B[38;5;241m=\u001B[39m \u001B[38;5;28;43mself\u001B[39;49m\u001B[38;5;241;43m.\u001B[39;49m\u001B[43m_next_data\u001B[49m\u001B[43m(\u001B[49m\u001B[43m)\u001B[49m\n\u001B[0;32m    632\u001B[0m \u001B[38;5;28mself\u001B[39m\u001B[38;5;241m.\u001B[39m_num_yielded \u001B[38;5;241m+\u001B[39m\u001B[38;5;241m=\u001B[39m \u001B[38;5;241m1\u001B[39m\n\u001B[0;32m    633\u001B[0m \u001B[38;5;28;01mif\u001B[39;00m \u001B[38;5;28mself\u001B[39m\u001B[38;5;241m.\u001B[39m_dataset_kind \u001B[38;5;241m==\u001B[39m _DatasetKind\u001B[38;5;241m.\u001B[39mIterable \u001B[38;5;129;01mand\u001B[39;00m \\\n\u001B[0;32m    634\u001B[0m         \u001B[38;5;28mself\u001B[39m\u001B[38;5;241m.\u001B[39m_IterableDataset_len_called \u001B[38;5;129;01mis\u001B[39;00m \u001B[38;5;129;01mnot\u001B[39;00m \u001B[38;5;28;01mNone\u001B[39;00m \u001B[38;5;129;01mand\u001B[39;00m \\\n\u001B[0;32m    635\u001B[0m         \u001B[38;5;28mself\u001B[39m\u001B[38;5;241m.\u001B[39m_num_yielded \u001B[38;5;241m>\u001B[39m \u001B[38;5;28mself\u001B[39m\u001B[38;5;241m.\u001B[39m_IterableDataset_len_called:\n",
      "File \u001B[1;32mE:\\_Inno\\AdditionalReps\\advanced-machine-learning-project-iu-2024\\venv\\Lib\\site-packages\\torch\\utils\\data\\dataloader.py:675\u001B[0m, in \u001B[0;36m_SingleProcessDataLoaderIter._next_data\u001B[1;34m(self)\u001B[0m\n\u001B[0;32m    673\u001B[0m \u001B[38;5;28;01mdef\u001B[39;00m \u001B[38;5;21m_next_data\u001B[39m(\u001B[38;5;28mself\u001B[39m):\n\u001B[0;32m    674\u001B[0m     index \u001B[38;5;241m=\u001B[39m \u001B[38;5;28mself\u001B[39m\u001B[38;5;241m.\u001B[39m_next_index()  \u001B[38;5;66;03m# may raise StopIteration\u001B[39;00m\n\u001B[1;32m--> 675\u001B[0m     data \u001B[38;5;241m=\u001B[39m \u001B[38;5;28;43mself\u001B[39;49m\u001B[38;5;241;43m.\u001B[39;49m\u001B[43m_dataset_fetcher\u001B[49m\u001B[38;5;241;43m.\u001B[39;49m\u001B[43mfetch\u001B[49m\u001B[43m(\u001B[49m\u001B[43mindex\u001B[49m\u001B[43m)\u001B[49m  \u001B[38;5;66;03m# may raise StopIteration\u001B[39;00m\n\u001B[0;32m    676\u001B[0m     \u001B[38;5;28;01mif\u001B[39;00m \u001B[38;5;28mself\u001B[39m\u001B[38;5;241m.\u001B[39m_pin_memory:\n\u001B[0;32m    677\u001B[0m         data \u001B[38;5;241m=\u001B[39m _utils\u001B[38;5;241m.\u001B[39mpin_memory\u001B[38;5;241m.\u001B[39mpin_memory(data, \u001B[38;5;28mself\u001B[39m\u001B[38;5;241m.\u001B[39m_pin_memory_device)\n",
      "File \u001B[1;32mE:\\_Inno\\AdditionalReps\\advanced-machine-learning-project-iu-2024\\venv\\Lib\\site-packages\\torch\\utils\\data\\_utils\\fetch.py:54\u001B[0m, in \u001B[0;36m_MapDatasetFetcher.fetch\u001B[1;34m(self, possibly_batched_index)\u001B[0m\n\u001B[0;32m     52\u001B[0m \u001B[38;5;28;01melse\u001B[39;00m:\n\u001B[0;32m     53\u001B[0m     data \u001B[38;5;241m=\u001B[39m \u001B[38;5;28mself\u001B[39m\u001B[38;5;241m.\u001B[39mdataset[possibly_batched_index]\n\u001B[1;32m---> 54\u001B[0m \u001B[38;5;28;01mreturn\u001B[39;00m \u001B[38;5;28;43mself\u001B[39;49m\u001B[38;5;241;43m.\u001B[39;49m\u001B[43mcollate_fn\u001B[49m\u001B[43m(\u001B[49m\u001B[43mdata\u001B[49m\u001B[43m)\u001B[49m\n",
      "Cell \u001B[1;32mIn[307], line 20\u001B[0m, in \u001B[0;36mcollate_fn\u001B[1;34m(batch)\u001B[0m\n\u001B[0;32m     17\u001B[0m     \u001B[38;5;28;01mwhile\u001B[39;00m \u001B[38;5;28mlen\u001B[39m(data_ids[i]) \u001B[38;5;241m<\u001B[39m max_length:\n\u001B[0;32m     18\u001B[0m         data_ids[i]\u001B[38;5;241m.\u001B[39mappend(vocab[\u001B[38;5;124m\"\u001B[39m\u001B[38;5;124m<pad>\u001B[39m\u001B[38;5;124m\"\u001B[39m])\n\u001B[1;32m---> 20\u001B[0m \u001B[38;5;28;01mreturn\u001B[39;00m torch\u001B[38;5;241m.\u001B[39mtensor(data_ids), \u001B[43mtorch\u001B[49m\u001B[38;5;241;43m.\u001B[39;49m\u001B[43mtensor\u001B[49m\u001B[43m(\u001B[49m\u001B[43mcontexts\u001B[49m\u001B[43m)\u001B[49m, torch\u001B[38;5;241m.\u001B[39mtensor(labels)\n",
      "\u001B[1;31mValueError\u001B[0m: expected sequence of length 50 at dim 1 (got 0)"
     ]
    }
   ],
   "source": [
    "%%time\n",
    "\n",
    "n_epochs = 20\n",
    "\n",
    "for ep in range(1, n_epochs + 1):\n",
    "\n",
    "    model_wsd_2.train()\n",
    "    epoch_losses_train = []\n",
    "    epoch_accuracies_train = []\n",
    "\n",
    "\n",
    "    for tokens, contexts, tags in tqdm(train_dataloader_wsd_2, desc=\"training...\"):\n",
    "        optimizer_wsd_2.zero_grad()\n",
    "\n",
    "        tokens = tokens.to(device)\n",
    "        contexts = contexts.to(device)\n",
    "        tags = tags.to(device)\n",
    "\n",
    "        predictions = model_wsd_2(tokens, contexts)\n",
    "\n",
    "        loss = criterion(predictions, tags)\n",
    "        accuracy = get_accuracy(predictions, tags)\n",
    "\n",
    "        loss.backward()\n",
    "        optimizer_wsd_2.step()\n",
    "\n",
    "        epoch_losses_train.append(loss.item())\n",
    "        epoch_accuracies_train.append(accuracy.item())\n",
    "\n",
    "    print(f'[Train Epoch {ep}] Loss: {np.mean(epoch_losses_train)}, Accuracy: {np.mean(epoch_accuracies_train)}')\n",
    "\n",
    "\n",
    "    model_wsd_2.eval()\n",
    "    epoch_losses_test = []\n",
    "    epoch_accuracies_test = []\n",
    "\n",
    "    with torch.no_grad():\n",
    "        for tokens, contexts, tags in tqdm(test_dataloader_wsd_2, desc=\"testing...\"):\n",
    "            optimizer_wsd_2.zero_grad()\n",
    "\n",
    "            tokens = tokens.to(device)\n",
    "            contexts = contexts.to(device)\n",
    "            tags = tags.to(device)\n",
    "\n",
    "            predictions = model_wsd_2(tokens, contexts)\n",
    "\n",
    "            loss = criterion(predictions, tags)\n",
    "            accuracy = get_accuracy(predictions, tags)\n",
    "\n",
    "            epoch_losses_test.append(loss.item())\n",
    "            epoch_accuracies_test.append(accuracy.item())\n",
    "\n",
    "        print(f'[Test Epoch {ep}] Loss: {np.mean(epoch_losses_test)}, Accuracy: {np.mean(epoch_accuracies_test)}\\n')"
   ],
   "metadata": {
    "collapsed": false,
    "ExecuteTime": {
     "end_time": "2024-04-17T03:27:49.972790Z",
     "start_time": "2024-04-17T03:27:49.821503Z"
    }
   },
   "id": "a27bb6a3b5a4e015",
   "execution_count": 332
  },
  {
   "cell_type": "code",
   "outputs": [],
   "source": [],
   "metadata": {
    "collapsed": false,
    "ExecuteTime": {
     "end_time": "2024-04-17T03:27:49.977885Z",
     "start_time": "2024-04-17T03:27:49.974785Z"
    }
   },
   "id": "3cd31b1f01722b7e",
   "execution_count": 332
  }
 ],
 "metadata": {
  "kernelspec": {
   "display_name": "Python 3",
   "language": "python",
   "name": "python3"
  },
  "language_info": {
   "codemirror_mode": {
    "name": "ipython",
    "version": 2
   },
   "file_extension": ".py",
   "mimetype": "text/x-python",
   "name": "python",
   "nbconvert_exporter": "python",
   "pygments_lexer": "ipython2",
   "version": "2.7.6"
  }
 },
 "nbformat": 4,
 "nbformat_minor": 5
}
